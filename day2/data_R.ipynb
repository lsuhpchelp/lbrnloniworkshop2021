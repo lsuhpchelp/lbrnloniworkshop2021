{
  "nbformat": 4,
  "nbformat_minor": 0,
  "metadata": {
    "colab": {
      "name": "data_R.ipynb",
      "provenance": [],
      "collapsed_sections": [],
      "include_colab_link": true
    },
    "language_info": {
      "codemirror_mode": "r",
      "file_extension": ".r",
      "mimetype": "text/x-r-source",
      "name": "R",
      "pygments_lexer": "r",
      "version": "3.3.1"
    },
    "kernelspec": {
      "display_name": "R",
      "language": "R",
      "name": "ir"
    }
  },
  "cells": [
    {
      "cell_type": "markdown",
      "metadata": {
        "id": "view-in-github",
        "colab_type": "text"
      },
      "source": [
        "<a href=\"https://colab.research.google.com/github/lsuhpchelp/lbrnloniworkshop2021/blob/main/day2/data_R.ipynb\" target=\"_parent\"><img src=\"https://colab.research.google.com/assets/colab-badge.svg\" alt=\"Open In Colab\"/></a>"
      ]
    },
    {
      "cell_type": "markdown",
      "metadata": {
        "id": "CcCXs04t4N5Q"
      },
      "source": [
        "Data Analysis in R\n",
        "==="
      ]
    },
    {
      "cell_type": "markdown",
      "metadata": {
        "id": "kixwkd8RbYtx"
      },
      "source": [
        "# Outline\n",
        "\n",
        "\n",
        "*   **Data acquisition and inspection**\n",
        "\n",
        "*   **Preprocess the dataset**\n",
        "\n",
        "*   **Data analysis**\n",
        "\n",
        "\n",
        "\n",
        "\n"
      ]
    },
    {
      "cell_type": "markdown",
      "metadata": {
        "id": "puJbML3jdoSt"
      },
      "source": [
        "##Review: working directory\n",
        "*  R works best if you have a dedicated folder for each separate project - the working directory. Put all data files in the working directory (or in its sub-directories).\n",
        "* The \"project\" in RStudio is the working directory “Pro”. If you are interested to learn more about RStudio, please visit the [Introduction to RStudio](http://www.hpc.lsu.edu/training/weekly-materials/2020-Spring/HPC_Intro_RStudio_Spring2020.pdf) tutorial from LSU HPC. "
      ]
    },
    {
      "cell_type": "markdown",
      "metadata": {
        "id": "VU3C0_JyeOol"
      },
      "source": [
        "Show current working folder:"
      ]
    },
    {
      "cell_type": "code",
      "metadata": {
        "id": "XGU0JFFCeJQm"
      },
      "source": [
        "getwd()"
      ],
      "execution_count": null,
      "outputs": []
    },
    {
      "cell_type": "markdown",
      "metadata": {
        "id": "6pgrV21teZwS"
      },
      "source": [
        "Let us create a new folder called \"data\":"
      ]
    },
    {
      "cell_type": "code",
      "metadata": {
        "id": "QkJsZAP0eWLA"
      },
      "source": [
        "dir.create(\"data\")  "
      ],
      "execution_count": null,
      "outputs": []
    },
    {
      "cell_type": "markdown",
      "metadata": {
        "id": "8n42BV9Begfu"
      },
      "source": [
        "Go to this new folder:"
      ]
    },
    {
      "cell_type": "code",
      "metadata": {
        "id": "X_a7c3y7etuh"
      },
      "source": [
        "setwd(\"data\")"
      ],
      "execution_count": null,
      "outputs": []
    },
    {
      "cell_type": "markdown",
      "metadata": {
        "id": "tOgijiMHexJp"
      },
      "source": [
        "Show current working folder:"
      ]
    },
    {
      "cell_type": "code",
      "metadata": {
        "id": "Q0JBu8ws4N5W"
      },
      "source": [
        "getwd()"
      ],
      "execution_count": null,
      "outputs": []
    },
    {
      "cell_type": "markdown",
      "metadata": {
        "id": "nLmxtiJBfE5F"
      },
      "source": [
        "##Case Study: Forbes Global 2000 list\n",
        "*   The `forbes` dataset consists of 2000 rows (observations) on 8 variables describing companies’ rank, name, country, category, sales, profits, assets and market value. \n",
        "http://www.hpc.lsu.edu/training/weekly-materials/Downloads/Forbes2000.csv.zip\n",
        "> * **`rank`** the ranking of the company\n",
        "> * **`name`** the name of the company\n",
        "> * **`country`** the country the company is situated in\n",
        "> * **`category`** the products the company produces\n",
        "> * **`sales`** the amount of sales of the company in billion USD\n",
        "> * **`profits`** the profit of the company in billion USD\n",
        "> * **`assets`** the assets of the company in billion USD\n",
        "> * **`marketvalue`** the market value of the company in billion USD\n",
        "\n",
        "*  First 10 lines of the raw data\n",
        "\n",
        ">rank | name| country| category | sales | profits | assets | marketvalue\n",
        ">--- | --- | --- | --- | --- | --- | --- | ---\n",
        ">1 | Citigroup | United States | Banking | 94.71 | 17.85 | 1264.03 | 255.3\n",
        ">2 | General Electric | United States | Conglomerates | 134.19 | 15.59 | 626.93 | 328.54\n",
        ">3 | American Intl Group | United States | Insurance | 76.66 | 6.46 | 647.66 |194.87\n",
        ">4 | ExxonMobil | United States | Oil & gas operations | 222.88 | 20.96 | 166.99 | 277.02\n",
        ">5 | BP | United Kingdom | Oil & gas operations | 232.57 | 10.27 | 177.57 | 173.54\n",
        ">6 | Bank of America | United States | Banking | 49.01 | 10.81 | 736.45 | 117.55\n",
        ">7 | HSBC Group | United Kingdom | Banking | 44.33 | 6.66 | 757.6 | 177.96\n",
        ">8 | Toyota Motor | Japan | Consumer durables | 135.82 | 7.99 | 171.71 | 115.4\n",
        ">9 | Fannie Mae | United States | Diversified financials | 53.13 | 6.48 | 1019.17 | 76.84\n",
        ">10 | Wal-Mart Stores | United States | Retailing | 256.33 | 9.05 | 104.91 | 243.74\n"
      ]
    },
    {
      "cell_type": "markdown",
      "metadata": {
        "id": "DOEy_8Iif2HB"
      },
      "source": [
        "# Step by step Data Analysis in R\n",
        "\n",
        "\n",
        "1. Get data\n",
        "2. Read data\n",
        "3. Inspect data\n",
        "4. Preprocess data (missing and dubious values, discard columns not needed etc.)\n",
        "5. Analyze data\n",
        "6. Generate report\n",
        "\n",
        "\n",
        "\n",
        "\n",
        "\n"
      ]
    },
    {
      "cell_type": "markdown",
      "metadata": {
        "id": "bbBzk3yTqcfB"
      },
      "source": [
        "## 1. Getting Data\n",
        "* Downloading files from internet\n",
        "> * Manually download the file to the working directory \n",
        "> * or with R function `download.file()`\n",
        "* Unzip with the `unzip()` function"
      ]
    },
    {
      "cell_type": "code",
      "metadata": {
        "id": "e2O1lDvA4N5f"
      },
      "source": [
        "download.file(\"http://www.hpc.lsu.edu/training/weekly-materials/Downloads/Forbes2000.csv.zip\",\"Forbes2000.csv.zip\")\n",
        "unzip(\"Forbes2000.csv.zip\",\"Forbes2000.csv\")\n",
        "list.files()   # List files in current folder"
      ],
      "execution_count": null,
      "outputs": []
    },
    {
      "cell_type": "markdown",
      "metadata": {
        "id": "VtLFhkTYj-ys"
      },
      "source": [
        "##2. Reading data\n",
        "* R understands many different data formats and has lots of ways of reading/writing them (csv, xml, excel, sql, json etc.)\n",
        "\n",
        ">Input | Output | Purpose\n",
        ">--- | --- | ---\n",
        ">read.table (read.csv) | write.table (write.csv) | for reading/writing tabular data\n",
        ">readLines | writeLines | for reading/writing lines of a text file\n",
        ">source | dump | for reading/writing in R code files\n",
        ">dget | dput | for reading/writing in R code files\n",
        ">load | save | for reading in/saving workspaces\n",
        "\n",
        "* ` read.csv()` is identical to `read.table()` except that the default separator is a comma."
      ]
    },
    {
      "cell_type": "code",
      "metadata": {
        "id": "SkbNLI6tm2Zg"
      },
      "source": [
        "forbes <- read.csv(\"Forbes2000.csv\",header=T,stringsAsFactors = FALSE,na.strings =\"NA\",sep=\",\")"
      ],
      "execution_count": null,
      "outputs": []
    },
    {
      "cell_type": "markdown",
      "metadata": {
        "id": "aPYzMpU4Vm_V"
      },
      "source": [
        "* **Note: Changes since R 4.0.0** \n",
        "> * R now uses a `stringsAsFactors = FALSE` default, and hence by default no longer converts strings to factors in calls to `data.frame()` and `read.table()`.\n",
        "* It is a good practice to specify some options rather than using the default."
      ]
    },
    {
      "cell_type": "markdown",
      "metadata": {
        "id": "Sc_uz3ZMWydg"
      },
      "source": [
        "* Tips: Use `fread()` to import big dataset (>10GB)"
      ]
    },
    {
      "cell_type": "code",
      "metadata": {
        "id": "ra8LzxiQ7tsx"
      },
      "source": [
        "# Download a dummy data called \"Forbes_big\", which has 2000,000 rows\n",
        "download.file(\"http://www.hpc.lsu.edu/training/weekly-materials/Downloads/Forbes_big.csv.zip\",\"Forbes_big.csv.zip\")\n",
        "unzip(\"Forbes_big.csv.zip\",\"Forbes_big.csv\")\n",
        "list.files()  \n",
        "# install package \"data.table\"\n",
        "install.packages(\"data.table\")\n",
        "library(data.table)\n",
        "# Compare the loading speed between read.csv and "
      ],
      "execution_count": null,
      "outputs": []
    },
    {
      "cell_type": "code",
      "metadata": {
        "id": "8nPL-ZLE9Nw1"
      },
      "source": [
        "# Compare the reading speed between read.csv() and fread()\n",
        "t1 <- system.time({\n",
        "test1<-read.csv(\"Forbes_big.csv\",header=T,stringsAsFactors = FALSE,na.strings =\"NA\",sep=\",\")\n",
        "})\n",
        "print(\"read.csv():\")\n",
        "print(t1)\n",
        "\n",
        "t2 <- system.time({\n",
        "test2<-fread(\"Forbes_big.csv\",data.table=FALSE,header=T)\n",
        "})\n",
        "print(\"fread():\")\n",
        "print(t2)"
      ],
      "execution_count": null,
      "outputs": []
    },
    {
      "cell_type": "markdown",
      "metadata": {
        "id": "EEwIeB106UgF"
      },
      "source": [
        "* Tips: Find out R version used on any platforms (e.g. Colab)"
      ]
    },
    {
      "cell_type": "code",
      "metadata": {
        "id": "_c0U-J48mJxL"
      },
      "source": [
        "version"
      ],
      "execution_count": null,
      "outputs": []
    },
    {
      "cell_type": "markdown",
      "metadata": {
        "id": "oVFmKLiI4N5n"
      },
      "source": [
        "###Quiz\n",
        "* After importing the raw data, the R data object used for carrying the data is a:\n",
        "\n",
        "a) vector\n",
        "\n",
        "b) matrix\n",
        "\n",
        "c) array\n",
        "\n",
        "d) list\n",
        "\n",
        "e) dataframe"
      ]
    },
    {
      "cell_type": "markdown",
      "metadata": {
        "id": "8RtebkNBoRsL"
      },
      "source": [
        "##3. Inspecting data\n",
        "* `class()`: check object class\n",
        "* `dim()`: dimension of the data\n",
        "* `head()`: print on screen the first few lines of data, may use n as argument\n",
        "* `tail()`: print the last few lines of data"
      ]
    },
    {
      "cell_type": "code",
      "metadata": {
        "id": "y1WHb5fP4N5p"
      },
      "source": [
        "class(forbes)\n",
        "dim(forbes)"
      ],
      "execution_count": null,
      "outputs": []
    },
    {
      "cell_type": "code",
      "metadata": {
        "id": "pU2Aym1jBioN"
      },
      "source": [
        "head(forbes,n=50)"
      ],
      "execution_count": null,
      "outputs": []
    },
    {
      "cell_type": "markdown",
      "metadata": {
        "id": "duCMSII14N5z"
      },
      "source": [
        "* `str()` (structure) displays the structure of the “forbes” dataframe.\n"
      ]
    },
    {
      "cell_type": "code",
      "metadata": {
        "id": "XTrcFrWe4N50"
      },
      "source": [
        "str(forbes)"
      ],
      "execution_count": null,
      "outputs": []
    },
    {
      "cell_type": "markdown",
      "metadata": {
        "id": "eMTGCn5u4N59"
      },
      "source": [
        "* `summary()` has statistical summary of the “Forbes” dataframe. **Note: there are missing values (NAs) in the profits.**\n",
        "\n",
        "\n",
        "\n",
        "\n",
        "\n"
      ]
    },
    {
      "cell_type": "code",
      "metadata": {
        "id": "lww1Z3Q-4N5-"
      },
      "source": [
        "summary(forbes)"
      ],
      "execution_count": null,
      "outputs": []
    },
    {
      "cell_type": "markdown",
      "metadata": {
        "id": "kao1Zy6iqGG_"
      },
      "source": [
        "##4. Preprocess data \n"
      ]
    },
    {
      "cell_type": "markdown",
      "metadata": {
        "id": "gERvlv4cxSif"
      },
      "source": [
        "### 4.1 Preprocessing - missing values\n",
        "* Missing values are denoted in R by NA or NaN for undefined mathematical operations.\n",
        "> * `is.na(x)` is used to test objects \"x\" if there are NAs\n",
        "> * Which one is NA? `which(is.na(x))`"
      ]
    },
    {
      "cell_type": "code",
      "metadata": {
        "id": "iKV7Qu9i4N6E"
      },
      "source": [
        "is.na(forbes$profits)  #don't run this command line as you will get a very long list"
      ],
      "execution_count": null,
      "outputs": []
    },
    {
      "cell_type": "code",
      "metadata": {
        "id": "SGlBLdCZsZCB"
      },
      "source": [
        "which(is.na(forbes$profits))\n",
        "miss<-which(is.na(forbes$profits))  # save those rows with missing value"
      ],
      "execution_count": null,
      "outputs": []
    },
    {
      "cell_type": "markdown",
      "metadata": {
        "id": "rLH9I8W44N6P"
      },
      "source": [
        "* more about missing value inspection\n",
        "> * How many NAs? `table(is.na(x))`\n",
        "> * list of observations with missing values on profits `x[is.na(x),]`\n",
        "\n"
      ]
    },
    {
      "cell_type": "code",
      "metadata": {
        "id": "D-kdpDZS4N6R"
      },
      "source": [
        "table(is.na(forbes$profits))\n",
        "forbes[is.na(forbes$profits),]"
      ],
      "execution_count": null,
      "outputs": []
    },
    {
      "cell_type": "markdown",
      "metadata": {
        "id": "_aMsG0vktTSC"
      },
      "source": [
        "* remember many R functions also have a logical “`na.rm`” option\n",
        "> * `na.rm=TRUE` means the NA values should be discarded\n"
      ]
    },
    {
      "cell_type": "code",
      "metadata": {
        "id": "dbFa1Akztear"
      },
      "source": [
        "mean(forbes$profits)  # will get NA\n",
        "mean(forbes$profits,na.rm=T)"
      ],
      "execution_count": null,
      "outputs": []
    },
    {
      "cell_type": "markdown",
      "metadata": {
        "id": "HRQfa3cXt0-5"
      },
      "source": [
        "* **Note: Not all missing values are marked with “NA” in the raw data!**\n"
      ]
    },
    {
      "cell_type": "markdown",
      "metadata": {
        "id": "8QqhU2X5uBjh"
      },
      "source": [
        "* The simplest way to deal with the missing values is to remove them. \n",
        "> * If a column (variable) has a high percentage of the missing value, remove the whole column or just don’t use it for the analysis.\n",
        "> * If a row (observation) has a missing value, remove the row with `na.omit()`. e.g. \n"
      ]
    },
    {
      "cell_type": "code",
      "metadata": {
        "id": "yV26wnrUuOjq"
      },
      "source": [
        "forbes2 <- na.omit(forbes)\n",
        "dim(forbes2)"
      ],
      "execution_count": null,
      "outputs": []
    },
    {
      "cell_type": "markdown",
      "metadata": {
        "id": "RnVQ-jx2uf-J"
      },
      "source": [
        "* Alternatively, the missing values can be replaced by basic statistics e.g. \n",
        "> * replace by mean \n"
      ]
    },
    {
      "cell_type": "code",
      "metadata": {
        "id": "tbWXSnm_umwo"
      },
      "source": [
        "for(i in 1:nrow(forbes)){\n",
        "  if(is.na(forbes$profits[i])==TRUE){\n",
        "  forbes$profits[i] <- mean(forbes$profits, na.rm = TRUE)\n",
        "  }\n",
        "}\n",
        "dim(forbes)\n",
        "forbes[miss,]"
      ],
      "execution_count": null,
      "outputs": []
    },
    {
      "cell_type": "markdown",
      "metadata": {
        "id": "ciXJvSGhuysS"
      },
      "source": [
        "* or use advanced statistical techniques. List of popular R Packages:\n",
        "> * MICE\n",
        "> * Amelia (named after Amelia Earhart, the first female pilot to fly solo across the Atlantic Ocean. History says, she got mysteriously disappeared (missing) while flying over the Pacific Ocean in 1937, hence this package was named to solve missing value problems.)\n",
        "> * missForest (non parametric imputation method)\n",
        "> * Hmisc\n",
        "> * mi"
      ]
    },
    {
      "cell_type": "markdown",
      "metadata": {
        "id": "nkNPSPoKvWdZ"
      },
      "source": [
        "###4.2 Preprocessing - subsetting data\n",
        "* At most occasions we do not need all of the raw data\n",
        "* There are a number of methods of extracting a subset of R objects\n",
        "* Subsetting data can be done either by row or by column \n"
      ]
    },
    {
      "cell_type": "markdown",
      "metadata": {
        "id": "MoPex-0DvrTA"
      },
      "source": [
        "#### 4.2.1 Subsetting by row: use conditions\n",
        "Find all companies with negative profit:\n"
      ]
    },
    {
      "cell_type": "code",
      "metadata": {
        "id": "T9WIn_YSv443"
      },
      "source": [
        "forbes[forbes$profits < 0,c(\"name\",\"sales\",\"profits\",\"assets\")]"
      ],
      "execution_count": null,
      "outputs": []
    },
    {
      "cell_type": "markdown",
      "metadata": {
        "id": "O1i26j1_wZ7x"
      },
      "source": [
        "Find three companies with largest sale volumne:\n"
      ]
    },
    {
      "cell_type": "code",
      "metadata": {
        "id": "ew8W4085we18"
      },
      "source": [
        "companies <- forbes$name  # or companies <- forbes[,\"name\"] \n",
        "order_sales <- order(forbes$sales, decreasing=T)\n",
        "#company names\n",
        "companies[order_sales[1:3]]\n",
        "#company sales\n",
        "head(sort(forbes$sales,decreasing=T),n=3)"
      ],
      "execution_count": null,
      "outputs": []
    },
    {
      "cell_type": "markdown",
      "metadata": {
        "id": "qPOuTabFw5RA"
      },
      "source": [
        "####4.2.2 Subsetting by row: use `subset()` function\n",
        "Find the business category to which most of the Bermuda island companies belong.\n"
      ]
    },
    {
      "cell_type": "code",
      "metadata": {
        "id": "8Mn7AE7Rw_uB"
      },
      "source": [
        "Bermudacomp <- subset(forbes, country == \"Bermuda\")\n",
        "table(Bermudacomp[,\"category\"]) #frequency table of categories"
      ],
      "execution_count": null,
      "outputs": []
    },
    {
      "cell_type": "markdown",
      "metadata": {
        "id": "B4b0rfY-xgJ4"
      },
      "source": [
        "####4.2.3 Subsetting by column\n",
        "Create another dataframe with only numeric variables"
      ]
    },
    {
      "cell_type": "code",
      "metadata": {
        "id": "tw_SDfhqxvjD"
      },
      "source": [
        "#use data.frame function\n",
        "forbes3 <- data.frame(sales=forbes$sales,profits=forbes$profits,\n",
        "           assets=forbes$assets, mvalue=forbes$marketvalue)\n",
        "str(forbes3)\n",
        "\n",
        "#use subset() function\n",
        "forbes4 <- subset(forbes,select=c(sales,profits,assets,marketvalue))\n",
        "str(forbes4)\n",
        "\n",
        "#or simply use indexing\n",
        "forbes5 <- forbes[,c(5:8)]\n",
        "str(forbes5)"
      ],
      "execution_count": null,
      "outputs": []
    },
    {
      "cell_type": "markdown",
      "metadata": {
        "id": "r1R3wV1IyEQC"
      },
      "source": [
        "### 4.3 Preprocessing – Factors\n",
        "* factors are variables in R which take on a limited number of different values; such variables are often referred to as categorical variables\n",
        "\n",
        "\n",
        "Convert characters to (unordered) factors:"
      ]
    },
    {
      "cell_type": "code",
      "metadata": {
        "id": "nioNugIYyMoh"
      },
      "source": [
        "forbes$country<-factor(forbes$country)\n",
        "str(forbes)"
      ],
      "execution_count": null,
      "outputs": []
    },
    {
      "cell_type": "markdown",
      "metadata": {
        "id": "V8RCDhbMyhI8"
      },
      "source": [
        "* Small classes could be merged into a larger class. Why?\n",
        "> * For better model performance. E.g. Classification and Regression Trees tend to split using the variables with many categories.\n",
        "> * Actual needs: Some categories have just a few subjects"
      ]
    },
    {
      "cell_type": "code",
      "metadata": {
        "id": "v5dHXoPMyruY"
      },
      "source": [
        "table(forbes$country)"
      ],
      "execution_count": null,
      "outputs": []
    },
    {
      "cell_type": "markdown",
      "metadata": {
        "id": "MbNTKIxHzJDi"
      },
      "source": [
        "* Merge small classes into a larger classes\n",
        "\n",
        "Merge all South American countries to \"Venezuela\""
      ]
    },
    {
      "cell_type": "code",
      "metadata": {
        "id": "5W8TxPeBzjHB"
      },
      "source": [
        " forbes$country[(forbes$country==\"Bahamas\")|(forbes$country==\"Bermuda\")|(forbes$country==\"Brazil\")|(forbes$country==\"Cayman Islands\")|(forbes$country==\"Chile\")|(forbes$country==\"Panama/ United Kingdom\")|(forbes$country==\"Peru\")]<-\"Venezuela\""
      ],
      "execution_count": null,
      "outputs": []
    },
    {
      "cell_type": "markdown",
      "metadata": {
        "id": "yDJPSXm6zq7z"
      },
      "source": [
        "Merge small classes into a larger classes"
      ]
    },
    {
      "cell_type": "code",
      "metadata": {
        "id": "n-TKo6aQz1mg"
      },
      "source": [
        "forbes$country[(forbes$country==\"Austria\")|(forbes$country==\"Belgium\")|(forbes$country==\"Czech Republic\")|(forbes$country==\"Denmark\")|(forbes$country==\"Finland\")|(forbes$country==\"France\")|(forbes$country==\"Germany\")|(forbes$country==\"Greece\")|(forbes$country==\"Hungary\")|(forbes$country==\"Ireland\")|(forbes$country==\"Italy\")|(forbes$country==\"Luxembourg\")|(forbes$country==\"Netherlands\")|(forbes$country==\"Norway\")|(forbes$country==\"Poland\")|(forbes$country==\"Portugal\")|(forbes$country==\"Russia\")|(forbes$country==\"Spain\")|(forbes$country==\"Sweden\")|(forbes$country==\"Switzerland\")|(forbes$country==\"Turkey\")|(forbes$country==\"France/ United Kingdom\")|(forbes$country==\"United Kingdom/ Netherlands\")|(forbes$country==\"Netherlands/ United Kingdom\")]<-\"United Kingdom\"\n",
        "forbes$country[(forbes$country==\"China\")|(forbes$country==\"Hong Kong/China\")|(forbes$country==\"Indonesia\")|(forbes$country==\"Japan\")|(forbes$country==\"Kong/China\")|(forbes$country==\"Korea\")|(forbes$country==\"Malaysia\")|(forbes$country==\"Philippines\")|(forbes$country==\"Singapore\")|(forbes$country==\"South Korea\")|(forbes$country==\"Taiwan\")]<-\"Thailand\"\n",
        "forbes$country[(forbes$country==\"Africa\")|(forbes$country==\"Australia\")|(forbes$country==\"India\")|(forbes$country==\"Australia/ United Kingdom\")|(forbes$country==\"Islands\")|(forbes$country==\"Israel\")|(forbes$country==\"Jordan\")|(forbes$country==\"Liberia\")|(forbes$country==\"Mexico\")|(forbes$country==\"New Zealand\")|(forbes$country==\"Pakistan\")|(forbes$country==\"South Africa\")|(forbes$country==\"United Kingdom/ Australia\")]<-\"United Kingdom/ South Africa\""
      ],
      "execution_count": null,
      "outputs": []
    },
    {
      "cell_type": "markdown",
      "metadata": {
        "id": "H6ZanpW70XSj"
      },
      "source": [
        "* Drop those levels with zero counts\n",
        "\n",
        "Use `droplevels()` function:\n"
      ]
    },
    {
      "cell_type": "code",
      "metadata": {
        "id": "bXODV7KY0ni4"
      },
      "source": [
        "forbes$country<-droplevels(forbes$country)"
      ],
      "execution_count": null,
      "outputs": []
    },
    {
      "cell_type": "markdown",
      "metadata": {
        "id": "_kyU02Vm0yvh"
      },
      "source": [
        "Now we can check the new frequency tables:"
      ]
    },
    {
      "cell_type": "code",
      "metadata": {
        "id": "mjjqV7Ui02oH"
      },
      "source": [
        "table(forbes$country)"
      ],
      "execution_count": null,
      "outputs": []
    },
    {
      "cell_type": "markdown",
      "metadata": {
        "id": "hPwB5uT409eQ"
      },
      "source": [
        "* Rename each class"
      ]
    },
    {
      "cell_type": "code",
      "metadata": {
        "id": "CHdjaHLq1AYT"
      },
      "source": [
        "levels(forbes$country)<-c(\"Canada\",\"East/Southeast Asia\",\"Europe\",\"Other\",\"United States\",\"Latin America\")\n",
        "levels(forbes$country)\n",
        "table(forbes$country)"
      ],
      "execution_count": null,
      "outputs": []
    },
    {
      "cell_type": "markdown",
      "metadata": {
        "id": "7XZclPFj1ZB7"
      },
      "source": [
        "###4.4 Export the cleaned dataset (Important for the next session)\n",
        "* Save forbes to Forbes2000_clean.csv"
      ]
    },
    {
      "cell_type": "code",
      "metadata": {
        "id": "1hyWWnp51kWL"
      },
      "source": [
        "write.csv(forbes,\"Forbes2000_clean.csv\",row.names=FALSE)\n",
        "list.files()"
      ],
      "execution_count": null,
      "outputs": []
    },
    {
      "cell_type": "markdown",
      "metadata": {
        "id": "uaA8QINn4Qna"
      },
      "source": [
        ""
      ]
    },
    {
      "cell_type": "markdown",
      "metadata": {
        "id": "IK3T1KxJ1w0J"
      },
      "source": [
        "##Quiz\n",
        "1. Find all German companies with negative profit\n"
      ]
    },
    {
      "cell_type": "code",
      "metadata": {
        "id": "VxvxYUGf18v-"
      },
      "source": [
        "forbes <- read.csv(\"Forbes2000.csv\",header=T,stringsAsFactors = FALSE,na.strings =\"NA\",sep=\",\") #reload raw data \n",
        "forbes <- na.omit(forbes)  # omit NAs\n",
        "# finish lines below:\n",
        "Germanycomp <- subset(    ,    ) #get a subset of Germany company\n",
        "Germanycomp[       ,c(\"name\",\"sales\",\"profits\",\"assets\")]"
      ],
      "execution_count": null,
      "outputs": []
    },
    {
      "cell_type": "markdown",
      "metadata": {
        "id": "Notp57M92aJS"
      },
      "source": [
        "2. Arbitrarily merge the classes of category to three classes: industry, services and finance"
      ]
    },
    {
      "cell_type": "code",
      "metadata": {
        "id": "UGWRofhu2fgK"
      },
      "source": [
        "# factorize the values in the \"category\" \n",
        "forbes$category=factor(forbes$category)\n",
        "str(forbes)\n",
        "table(forbes$category)\n"
      ],
      "execution_count": null,
      "outputs": []
    },
    {
      "cell_type": "code",
      "metadata": {
        "id": "nEcGe-w-reh0"
      },
      "source": [
        "# arbitrarily define \"Industry\"\n",
        "forbes$category[(forbes$category==\"Aerospace & defense\")|(forbes$category==\"Chemicals\")|(forbes$category==\"Conglomerates\")|(forbes$category==\"Construction\")|(forbes$category==\"Consumer durables\")|(forbes$category==\"Drugs & biotechnology\")|(forbes$category==\"Food markets\")|(forbes$category==\"Food drink & tobacco\")|(forbes$category==\"Food markets\")|(forbes$category==\"Household & personal products\")|(forbes$category==\"Materials\")|(forbes$category==\"Semiconductors\")|(forbes$category==\"Technology hardware & equipment\")|(forbes$category==\"Utilities\")]<-\"Industry\"\n",
        "# arbitrarily define \"Cervices\" and \"Finance\"\n",
        "# finish lines below\n",
        "#forbes$category[    ]<-\"Services\"\n",
        "#forbes$category[    ]<-\"Finance\"\n",
        "# drop levels with 0 count\n",
        "#forbes$category<-droplevels()\n",
        "table(forbes$category)"
      ],
      "execution_count": null,
      "outputs": []
    },
    {
      "cell_type": "markdown",
      "metadata": {
        "id": "iYwuM_C04K56"
      },
      "source": [
        "# We will be back at 10:20 AM"
      ]
    },
    {
      "cell_type": "markdown",
      "metadata": {
        "id": "3k8ejtrGWKHv"
      },
      "source": [
        "##Solution \n",
        "1. Find all German companies with negative profit\n"
      ]
    },
    {
      "cell_type": "code",
      "metadata": {
        "id": "XyUxuKBRWSg4"
      },
      "source": [
        "forbes <- read.csv(\"Forbes2000.csv\",header=T,stringsAsFactors = FALSE,na.strings =\"NA\",sep=\",\") #reload raw data \n",
        "forbes <- na.omit(forbes)  # omit NAs\n",
        "Germanycomp <- subset(forbes, country == \"Germany\")\n",
        "Germanycomp[Germanycomp$profits < 0,c(\"name\",\"sales\",\"profits\",\"assets\")]"
      ],
      "execution_count": null,
      "outputs": []
    },
    {
      "cell_type": "markdown",
      "metadata": {
        "id": "zreO0WEd2gpD"
      },
      "source": [
        "## 5. Data analysis\n"
      ]
    },
    {
      "cell_type": "markdown",
      "metadata": {
        "id": "Io-6rNFc2_6s"
      },
      "source": [
        "###5.1 Two common questions:\n",
        "* Which statistical model should I use for my data analysis?\n",
        "* How to choose the right R packages for my data analysis?\n"
      ]
    },
    {
      "cell_type": "markdown",
      "metadata": {
        "id": "EyUGpmqm3c5B"
      },
      "source": [
        "#### Which statistical model should I use for my data analysis?\n",
        "* This is not a statistics workshop…\n",
        "* If you need to learn more about the data mining and data analysis, collaborate with statisticians on your campus\n",
        "> * e.g.: LSU https://www.lsu.edu/agriculture/exst/consulting.php\n",
        "* Coursera or any open courses provided by your institution\n"
      ]
    },
    {
      "cell_type": "markdown",
      "metadata": {
        "id": "5FYfkxB73Wpo"
      },
      "source": [
        "####How to choose the right R packages for my data analysis?\n",
        "* The most popular packages are most frequently mentioned\n",
        "* CRAN task views \n",
        "https://cran.r-project.org/web/views/\n",
        "* RDocumentation https://www.rdocumentation.org\n",
        "> *  a website, an R package and an API\n",
        "> * supports taskview \n",
        "> * searchs all 19,766 CRAN, Bioconductor and GitHub packages\n",
        "\n",
        "\n"
      ]
    },
    {
      "cell_type": "markdown",
      "metadata": {
        "id": "Osw6lYbu4UUL"
      },
      "source": [
        "###5.2 Import the cleaned dataset (Optional)\n",
        "* Subsetting by column\n",
        "Create a dataframe with the clean data"
      ]
    },
    {
      "cell_type": "code",
      "metadata": {
        "id": "9ghM_DIK4ffD"
      },
      "source": [
        "forbes_clean <- read.csv(\"Forbes2000_clean.csv\",header=T,stringsAsFactors = T,na.strings =\"NA\",sep=\",\")\n",
        "str(forbes_clean)\n",
        "summary(forbes_clean)\n",
        "dim(forbes_clean)"
      ],
      "execution_count": null,
      "outputs": []
    },
    {
      "cell_type": "markdown",
      "metadata": {
        "id": "Bcf3wU_IA_hZ"
      },
      "source": [
        "###5.3 Extract Variables \n",
        "* Create another data frame with only numeric variables + country"
      ]
    },
    {
      "cell_type": "code",
      "metadata": {
        "id": "jFDVjnz4CVBT"
      },
      "source": [
        "forbes_clean <- forbes_clean[,c(3, 5:8)]\n",
        "str(forbes_clean)\n"
      ],
      "execution_count": null,
      "outputs": []
    },
    {
      "cell_type": "markdown",
      "metadata": {
        "id": "yS8zt-Bq46lR"
      },
      "source": [
        "###5.4 Training Set and Test Set\n",
        "* Dataset could be randomly split into two parts: training set and test set. \n"
      ]
    },
    {
      "cell_type": "code",
      "metadata": {
        "id": "yFDob7OX5DB4"
      },
      "source": [
        "set.seed(1) #set random seed reproducible\n",
        "indx <- sample(1:2000,size=2000,replace=F)\n",
        "forbes.train <- forbes_clean[indx[1:1600],]\n",
        "forbes.test <- forbes_clean[indx[1601:2000],]"
      ],
      "execution_count": null,
      "outputs": []
    },
    {
      "cell_type": "markdown",
      "metadata": {
        "id": "6QDlUXDC5fda"
      },
      "source": [
        "###5.5 Roadmap of generalizations of linear models\n",
        "* Roadmap of generalizations of linear models:\n",
        "> https://drive.google.com/open?id=1HrnpinlmyZl9_GL9xX24a5Nv6PUumovI\n"
      ]
    },
    {
      "cell_type": "markdown",
      "metadata": {
        "id": "JnaICTq67sOy"
      },
      "source": [
        "* Explanation of Acronyms\n",
        "\n",
        ">Models | Acronym | R function\n",
        ">--- | --- | ---\n",
        ">Linear Models | LM | lm, aov\n",
        ">MultivariateLMs | MLM | manova\n",
        ">Generalized LMs | GLM | glm\n",
        ">Linear Mixed Models | LMM | lme, aov\n",
        ">Non-linear Models | NLM | nls\n",
        ">Non-linear Mixed Models | NLMM | nlme\n",
        ">Generalized LMMs | GLMM | glmmPQL\n",
        ">Generalized Additive Models | GAM | gam\n"
      ]
    },
    {
      "cell_type": "markdown",
      "metadata": {
        "id": "ttmFlPAl9S-e"
      },
      "source": [
        "* Symbol Meanings in Model Formulae\n",
        "\n",
        ">Symbol | Example | Meaning\n",
        ">--- | --- | ---\n",
        ">+ | +X | Include variable X in the model\n",
        ">- | -X | Exclude variable X in the model\n",
        ">: | X:Z | Include the interaction between X and Z\n",
        ">\\* | X\\*Z | Include X and Z and the interactions\n",
        ">\\| | NLM | Conditioning: include X given Z\n",
        ">^ | NLMM | Include A, B and C and all the interactions up to three way\n",
        ">/ | GLMM | As is: include a new variable consisting of these variables multiplied\n",
        "\n",
        "\n"
      ]
    },
    {
      "cell_type": "markdown",
      "metadata": {
        "id": "TJb-oJhc-vBk"
      },
      "source": [
        "* Model Formulae\n",
        "> * General form: response ~ term1 + term2\n",
        "\n",
        "> Example | Meaning\n",
        ">--- | --- \n",
        ">y ~ x | Simple regression\n",
        ">y ~ -1 +  x | LM through the origin\n",
        ">y ~ x + x^2 | Quadratic regression\n",
        ">y ~ x1 + x2 + x3 | Multiple regression\n",
        ">y ~ . | All variables included\n",
        ">y ~ . - x1 | All variables except X1\n",
        ">y ~ A + B + A : B | Add interaction\n",
        ">y ~ A \\* B | Same above\n",
        ">y ~ (A+B)^2 | Same above\n",
        "\n",
        "\n",
        "\n",
        "\n"
      ]
    },
    {
      "cell_type": "markdown",
      "metadata": {
        "id": "UgXvQ1jVAQza"
      },
      "source": [
        "###5.6 A Multiple linear regression example\n",
        "* marketvalue ~ profits + sales + assets + country\n"
      ]
    },
    {
      "cell_type": "code",
      "metadata": {
        "id": "WKhQvh03AX46"
      },
      "source": [
        "lm <- lm(marketvalue ~ ., data = forbes.train)\n",
        "summary(lm)\n"
      ],
      "execution_count": null,
      "outputs": []
    },
    {
      "cell_type": "markdown",
      "metadata": {
        "id": "MGvRGagqC7Y1"
      },
      "source": [
        "* R has created a n-1 variables each with two levels. These n-1 new variables contain the same information as the single variable. This recoding creates a table called contrast matrix.\n"
      ]
    },
    {
      "cell_type": "code",
      "metadata": {
        "id": "iJzmijc6C9H6"
      },
      "source": [
        "contrasts(forbes.train$country)\n"
      ],
      "execution_count": null,
      "outputs": []
    },
    {
      "cell_type": "markdown",
      "metadata": {
        "id": "CfogXLmSC_Uh"
      },
      "source": [
        "* The decision to code dummy variables is arbitrary, and has no effect on the regression computation, but does alter the interpretation of the coefficients.\n"
      ]
    },
    {
      "cell_type": "markdown",
      "metadata": {
        "id": "9tFPA_8LDHDb"
      },
      "source": [
        "###5.7 A Stepwise regression example\n",
        "* The function `regsubsets()` in the leaps library allow us to do the stepwise regression\n"
      ]
    },
    {
      "cell_type": "code",
      "metadata": {
        "id": "ryhD1VVGDQwT"
      },
      "source": [
        "install.packages(\"leaps\")\n",
        "library(leaps)\n",
        "bwd <- regsubsets(marketvalue ~ ., data = forbes.train,nvmax =3,method =\"backward\")\n",
        "summary(bwd)"
      ],
      "execution_count": null,
      "outputs": []
    },
    {
      "cell_type": "markdown",
      "metadata": {
        "id": "kVwCNQi9Dg_J"
      },
      "source": [
        "An asterisk indicates that a given variable is included in the corresponding model.\n"
      ]
    },
    {
      "cell_type": "markdown",
      "metadata": {
        "id": "gEIVHum8DjHg"
      },
      "source": [
        "###5.8 A Regression tree example\n",
        "* The function `rpart() `in the rpart library allow us to grow a regression tree\n"
      ]
    },
    {
      "cell_type": "code",
      "metadata": {
        "id": "7klSPLUGDu7N"
      },
      "source": [
        "install.packages(\"rpart\")\n",
        "library(rpart)\n",
        "rpart <- rpart(marketvalue ~ ., data = forbes.train,control = rpart.control(xval = 10, minbucket = 50))\n",
        "par(mfrow=c(1,1),xpd=NA,cex=1.5)\n",
        "plot(rpart,uniform=T)\n",
        "text(rpart,use.n=T)\n"
      ],
      "execution_count": null,
      "outputs": []
    },
    {
      "cell_type": "markdown",
      "metadata": {
        "id": "A04hazCMEP-L"
      },
      "source": [
        "###5.9 A Bagging tree example\n",
        "* The function `randomForest()` in the randomForest library allow us to grow a regression tree\n"
      ]
    },
    {
      "cell_type": "code",
      "metadata": {
        "id": "_S4FGTrOEX8i"
      },
      "source": [
        "install.packages(\"randomForest\")\n",
        "library(randomForest)\n",
        "bag <- randomForest(marketvalue ~ ., data = forbes.train, importance =TRUE)\n",
        "importance(bag)\n",
        "varImpPlot(bag)"
      ],
      "execution_count": null,
      "outputs": []
    },
    {
      "cell_type": "markdown",
      "metadata": {
        "id": "DcKx_akHE4Ci"
      },
      "source": [
        "### 5.10 The predictive results in terms of the MAD and RMSE values \n",
        "* MAD:\n",
        "\n",
        "$MAD = \\frac{1}{N}\\times\\sum_{i=1}^N|y_i-\\hat{y_i}|$\n",
        "\n",
        "\n",
        "* RMSE:\n",
        "\n",
        "$RMSE = \\sqrt{\\sum_{i=1}^N(y_i-\\hat{y_i})^2/N}$\n",
        "\n",
        ">Model | Package | RMSE | MAD\n",
        ">--- | --- | --- | ---\n",
        ">MLR |  | 14.41041 | 6.436288\n",
        ">Backward | leaps | 14.41041 | 6.436288\n",
        ">Pruned tree | rpart | 17.85625 | 5.899107\n",
        ">Bagging tree | randomForest | 11.69301 | 4.944942\n",
        "\n",
        "* Bagging tree example for calculating RMSE and MAD"
      ]
    },
    {
      "cell_type": "code",
      "metadata": {
        "id": "ha-DCQGeIMRh"
      },
      "source": [
        "forbes_clean2 <- forbes_clean[,c(2:5)]  # create a new dataframe with only numeric variables included\n",
        "set.seed(2) \n",
        "indx <- sample(1:2000,size=2000,replace=F)\n",
        "forbes.train <- forbes_clean2[indx[1:1600],]\n",
        "forbes.test <- forbes_clean2[indx[1601:2000],]\n",
        "bag <- randomForest(marketvalue ~ ., data = forbes.train, importance =TRUE)\n",
        "# RMSE and MAD \n",
        "bag.yhat <- predict(bag, newdata = forbes.test) \n",
        "bag.y <- forbes.test[\"marketvalue\"] \n",
        "bag.rmse <- sqrt(mean(data.matrix((bag.y - bag.yhat)^2)))\n",
        "bag.rmse\n",
        "bag.abs = abs(bag.y - bag.yhat) \n",
        "bag.mad = (sum(bag.abs))/400 \n",
        "bag.mad "
      ],
      "execution_count": null,
      "outputs": []
    },
    {
      "cell_type": "markdown",
      "metadata": {
        "id": "ZSws0mVIGF-K"
      },
      "source": [
        "##Quiz\n",
        "1. Use the `lm()` function to perform a multiple linear regression with profits as the response and all other numeric variables as the predictors. Use the `summary()` function to print the results. \n"
      ]
    },
    {
      "cell_type": "code",
      "metadata": {
        "id": "PUWzXPyhGVFk"
      },
      "source": [
        "forbes_clean2 <- forbes_clean[,c(2:5)]  # create a new dataframe with only numeric variables included\n",
        "set.seed(3) \n",
        "indx <- sample(1:2000,size=2000,replace=F)\n",
        "forbes.train <- forbes_clean2[indx[1:1600],]\n",
        "forbes.test <- forbes_clean2[indx[1601:2000],]\n",
        "str(forbes.train)"
      ],
      "execution_count": null,
      "outputs": []
    },
    {
      "cell_type": "code",
      "metadata": {
        "id": "ByWA1lihE0OS"
      },
      "source": [
        "#finish lines below\n",
        "lm <- lm(   profits ~  , data=forbes.train     )\n",
        "summary(lm)"
      ],
      "execution_count": null,
      "outputs": []
    },
    {
      "cell_type": "markdown",
      "metadata": {
        "id": "Q-wuqsgJEN2m"
      },
      "source": [
        "# we will be back at 11:10 AM"
      ]
    },
    {
      "cell_type": "markdown",
      "metadata": {
        "id": "Hm4KasWEGWi4"
      },
      "source": [
        "2. Comment on the output. For instance:  Is there a relationship between the predictors and the response? \n"
      ]
    },
    {
      "cell_type": "markdown",
      "metadata": {
        "id": "lmB6_YXLGaNJ"
      },
      "source": [
        "3. Which predictors appear to have a statistically significant relationship to the response? \n"
      ]
    },
    {
      "cell_type": "markdown",
      "metadata": {
        "id": "icDSRv30GdJi"
      },
      "source": [
        "4. What does the coefficient for the sales variable suggest?\n"
      ]
    },
    {
      "cell_type": "markdown",
      "metadata": {
        "id": "dSlz-hHPabLC"
      },
      "source": [
        "##Solution 2\n",
        "1. Use the `lm()` function to perform a multiple linear regression with profits as the response and all other numeric variables as the predictors. Use the `summary()` function to print the results. \n"
      ]
    },
    {
      "cell_type": "code",
      "metadata": {
        "id": "c4xDOVzWapb_"
      },
      "source": [
        "lm <- lm(profits ~ ., data = forbes.train)\n",
        "summary(lm)"
      ],
      "execution_count": null,
      "outputs": []
    },
    {
      "cell_type": "markdown",
      "metadata": {
        "id": "DEcOcoR7FqcV"
      },
      "source": [
        "##6. Generate report with R Markdown\n",
        "### 6.1 How R Markdown works\n",
        "* Weaves R code and human readable texts together into a plain text file that has the extension `.Rmd`\n",
        "* The `rmarkdown` package can convert `.Rmd` into documents of two types of output formats: documents, and presentations. All available formats are listed below:\n",
        "> * beamer_presentation\n",
        "> * context_document\n",
        "> * github_document\n",
        "> * html_document\n",
        "> * ioslides_presentation\n",
        "> * latex_document\n",
        "> * md_document\n",
        "> * odt_document\n",
        "> * pdf_document\n",
        "> * powerpoint_presentation\n",
        "> * rtf_document\n",
        "> * slidy_presentation\n",
        "> * word_document\n",
        "\n",
        "* Also helps make your research reproducible\n",
        "\n"
      ]
    },
    {
      "cell_type": "markdown",
      "metadata": {
        "id": "-k6w3wvEVkgW"
      },
      "source": [
        "### 6.2 How `.Rmd` file looks like\n",
        "[A typical R Markdown file](https://drive.google.com/file/d/1jqdwhcAM8OHLx2TGR8UAZZGttN7yty2N/view?usp=sharing)\n",
        "\n",
        "The file above contains three types of content:\n",
        "* An (optional) YAML header surrounded by ---s\n",
        "* R code chunks surrounded by ```s\n",
        "* text mixed with simple text formatting\n"
      ]
    },
    {
      "cell_type": "markdown",
      "metadata": {
        "id": "uUXfteNZke33"
      },
      "source": [
        "### 6.3 Installation\n",
        "* R Markdown is free and open source."
      ]
    },
    {
      "cell_type": "code",
      "metadata": {
        "id": "QnXs5mtlLlXq"
      },
      "source": [
        "install.packages(\"rmarkdown\")"
      ],
      "execution_count": null,
      "outputs": []
    },
    {
      "cell_type": "markdown",
      "metadata": {
        "id": "HvSUoSJNn1V2"
      },
      "source": [
        "### 6.4 Convert today's training material to `.Rmd`\n",
        "\n",
        "\n",
        "**Conversion script below is developed by JJ Allaire, Yihui Xie, Jonathan McPherson, Javier Luraschi, Kevin Ushey, Aron Atkins, Hadley Wickham, Joe Cheng, Winston Chang, Richard Iannone.\n",
        "https://github.com/rstudio/rmarkdown/blob/master/R/jupyter.R**"
      ]
    },
    {
      "cell_type": "code",
      "metadata": {
        "id": "PdUyuEpchyFF"
      },
      "source": [
        "getwd()\n",
        "# Download conversion script\n",
        "download.file(\"https://raw.githubusercontent.com/rstudio/rmarkdown/master/R/jupyter.R\",\"jupyter.R\")\n",
        "# Download today's training material\n",
        "download.file(\"https://raw.githubusercontent.com/lsuhpchelp/lbrnloniworkshop2020/master/day4/data_R.ipynb\",\"data_R.ipynb\")\n",
        "list.files()\n",
        "source(\"jupyter.R\")\n",
        "convert_ipynb(\"data_R.ipynb\",output = xfun::with_ext(\"data_R.ipynb\", \"Rmd\"))\n",
        "list.files()"
      ],
      "execution_count": null,
      "outputs": []
    },
    {
      "cell_type": "markdown",
      "metadata": {
        "id": "Hk8Rg-0rjb7q"
      },
      "source": [
        "### 6.5 Render `.Rmd` file\n",
        "Note: If you do not select a format, R Markdown renders the file to its default format, which you can set in the output field of a .Rmd file’s header.\n",
        "\n"
      ]
    },
    {
      "cell_type": "markdown",
      "metadata": {
        "id": "pdm5nXODOlzn"
      },
      "source": [
        "## Quiz\n",
        "Why can't we render this new `.Rmd` file directly in the Colab? e.g.: \n",
        "\n",
        "render(\"data_R.Rmd\", output_format = \"html_document\")"
      ]
    },
    {
      "cell_type": "markdown",
      "metadata": {
        "id": "u08lQbZ4mImA"
      },
      "source": [
        "###6.6 Cheatsheet and reference guide\n",
        "* [Cheatsheet](https://rstudio.com/wp-content/uploads/2016/03/rmarkdown-cheatsheet-2.0.pdf)\n",
        "* [Reference guide](https://rstudio.com/wp-content/uploads/2015/03/rmarkdown-reference.pdf)"
      ]
    },
    {
      "cell_type": "markdown",
      "metadata": {
        "id": "WPJq6HZYNMEu"
      },
      "source": [
        "#Take-home message\n",
        "* Get the data \n",
        "* Read and inspect the data\n",
        "* Preprocess the data\n",
        "> *  missing values, discard rows, columns not needed etc.\n",
        "* Analyze the data\n",
        "> * choose the right model and R package\n",
        "> * common R functions and syntax for regressions\n",
        "* Generate the report\n",
        "> * R Markdown basics\n"
      ]
    },
    {
      "cell_type": "markdown",
      "metadata": {
        "id": "eaTOsvmeNp-1"
      },
      "source": [
        "# Getting Help\n",
        "* Documentation: http://www.hpc.lsu.edu/docs\n",
        "* Contact us\n",
        "> * Email ticket system: sys-help@loni.org\n",
        "> * Telephone Help Desk: 225-578-0900"
      ]
    }
  ]
}