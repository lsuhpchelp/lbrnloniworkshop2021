{
  "nbformat": 4,
  "nbformat_minor": 0,
  "metadata": {
    "colab": {
      "name": "data_R_practice.ipynb",
      "provenance": [],
      "collapsed_sections": [],
      "include_colab_link": true
    },
    "language_info": {
      "codemirror_mode": "r",
      "file_extension": ".r",
      "mimetype": "text/x-r-source",
      "name": "R",
      "pygments_lexer": "r",
      "version": "3.3.1"
    },
    "kernelspec": {
      "display_name": "R",
      "language": "R",
      "name": "ir"
    }
  },
  "cells": [
    {
      "cell_type": "markdown",
      "metadata": {
        "id": "view-in-github",
        "colab_type": "text"
      },
      "source": [
        "<a href=\"https://colab.research.google.com/github/lsuhpchelp/lbrnloniworkshop2021/blob/main/day2/data_R_practice.ipynb\" target=\"_parent\"><img src=\"https://colab.research.google.com/assets/colab-badge.svg\" alt=\"Open In Colab\"/></a>"
      ]
    },
    {
      "cell_type": "markdown",
      "metadata": {
        "id": "CcCXs04t4N5Q"
      },
      "source": [
        "Practice session\n",
        "===\n",
        "Data Analysis in R"
      ]
    },
    {
      "cell_type": "markdown",
      "metadata": {
        "id": "puJbML3jdoSt"
      },
      "source": [
        "##Warming up: review working folder basics\n",
        "*  R works best if you have a dedicated folder for each separate project - the working folder. Put all data files in the working folder (or in subfolders).\n"
      ]
    },
    {
      "cell_type": "markdown",
      "metadata": {
        "id": "VU3C0_JyeOol"
      },
      "source": [
        "Show current working folder path:"
      ]
    },
    {
      "cell_type": "code",
      "metadata": {
        "id": "XGU0JFFCeJQm"
      },
      "source": [
        ""
      ],
      "execution_count": null,
      "outputs": []
    },
    {
      "cell_type": "markdown",
      "metadata": {
        "id": "6pgrV21teZwS"
      },
      "source": [
        "Create a new folder called \"data\":"
      ]
    },
    {
      "cell_type": "code",
      "metadata": {
        "id": "QkJsZAP0eWLA"
      },
      "source": [
        ""
      ],
      "execution_count": null,
      "outputs": []
    },
    {
      "cell_type": "markdown",
      "metadata": {
        "id": "8n42BV9Begfu"
      },
      "source": [
        "Go to the new folder:"
      ]
    },
    {
      "cell_type": "code",
      "metadata": {
        "id": "X_a7c3y7etuh"
      },
      "source": [
        ""
      ],
      "execution_count": null,
      "outputs": []
    },
    {
      "cell_type": "markdown",
      "metadata": {
        "id": "tOgijiMHexJp"
      },
      "source": [
        "Show current working folder:"
      ]
    },
    {
      "cell_type": "code",
      "metadata": {
        "id": "Q0JBu8ws4N5W"
      },
      "source": [
        ""
      ],
      "execution_count": null,
      "outputs": []
    },
    {
      "cell_type": "markdown",
      "metadata": {
        "id": "nLmxtiJBfE5F"
      },
      "source": [
        "##Case Study: 2019 Forbes Global list\n",
        "*   The `forbes` dataset consists of 2000 rows (observations) on 8 variables describing companies’ rank, name, country, category, sales, profits, assets and market value. \n",
        "http://www.hpc.lsu.edu/training/weekly-materials/Downloads/Forbes2000_2019.csv.zip\n",
        "> * **`rank`** the ranking of the company\n",
        "> * **`name`** the name of the company\n",
        "> * **`country`** the country the company is situated in\n",
        "> * **`category`** the products the company produces\n",
        "> * **`sales`** the amount of sales of the company in billion USD\n",
        "> * **`profits`** the profit of the company in billion USD\n",
        "> * **`assets`** the assets of the company in billion USD\n",
        "> * **`marketvalue`** the market value of the company in billion USD\n"
      ]
    },
    {
      "cell_type": "markdown",
      "metadata": {
        "id": "DOEy_8Iif2HB"
      },
      "source": [
        "# Step by step Data Analysis in R\n",
        "\n",
        "\n",
        "1. Get data\n",
        "2. Read data\n",
        "3. Inspect data\n",
        "4. Preprocess data (missing and dubious values, discard columns not needed etc.)\n",
        "5. Analyze data\n",
        "6. Generate report\n",
        "\n",
        "\n",
        "\n",
        "\n",
        "\n"
      ]
    },
    {
      "cell_type": "markdown",
      "metadata": {
        "id": "bbBzk3yTqcfB"
      },
      "source": [
        "## 1. Getting Data\n"
      ]
    },
    {
      "cell_type": "markdown",
      "metadata": {
        "id": "xpY9oZ1EuN6Q"
      },
      "source": [
        "Raw data \n",
        "* http://www.hpc.lsu.edu/training/weekly-materials/Downloads/Forbes2000_2019.csv.zip"
      ]
    },
    {
      "cell_type": "markdown",
      "metadata": {
        "id": "nffrOrxAuoPn"
      },
      "source": [
        "* Choose one of the following to download the raw data file from internet, then upload to the colab\n",
        "> * Manually download the file to the working directory \n",
        "> * or with R function `download.file()`\n"
      ]
    },
    {
      "cell_type": "code",
      "metadata": {
        "id": "IBlf23TbkMHo"
      },
      "source": [
        "# Download in R: Fill the blanks with the link provided above, do not leave spaces (blanks) in the quotes \"\"\n",
        " download.file(\"   \", \"Forbes2000_2019.csv.zip\")\n",
        "list.files() # List files in current folder"
      ],
      "execution_count": null,
      "outputs": []
    },
    {
      "cell_type": "markdown",
      "metadata": {
        "id": "LcccqyNKuwPa"
      },
      "source": [
        "* Unzip with the `unzip()` function"
      ]
    },
    {
      "cell_type": "code",
      "metadata": {
        "id": "rFEkbC74usdx"
      },
      "source": [
        "# Fill the blanks in the unzip command, do not leave spaces (blanks) in the quotes \"\"\n",
        "unzip(\"   \",\"Forbes2000_2019.csv\")\n",
        "list.files()   # List files in current folder"
      ],
      "execution_count": null,
      "outputs": []
    },
    {
      "cell_type": "markdown",
      "metadata": {
        "id": "VtLFhkTYj-ys"
      },
      "source": [
        "##2. Reading data\n",
        "* R understands many different data formats and has lots of ways of reading/writing them (csv, xml, excel, sql, json etc.)\n",
        "\n",
        ">Input | Output | Purpose\n",
        ">--- | --- | ---\n",
        ">read.table (read.csv) | write.table (write.csv) | for reading/writing tabular data\n",
        ">readLines | writeLines | for reading/writing lines of a text file\n",
        ">source | dump | for reading/writing in R code files\n",
        ">dget | dput | for reading/writing in R code files\n",
        ">load | save | for reading in/saving workspaces\n",
        "\n",
        "* ` read.csv()` is identical to `read.table()` except that the default separator is a comma."
      ]
    },
    {
      "cell_type": "code",
      "metadata": {
        "id": "SkbNLI6tm2Zg"
      },
      "source": [
        "# Fill the blank in the read.csv command, do not leave spaces (blanks) in the quotes \"\"\n",
        " forbes <- read.csv(\"     \",header=T,stringsAsFactors = FALSE,na.strings =\"?\",sep=\",\")"
      ],
      "execution_count": null,
      "outputs": []
    },
    {
      "cell_type": "markdown",
      "metadata": {
        "id": "HRQfa3cXt0-5"
      },
      "source": [
        "* **Remember in the morning class: Not all missing values are marked with “NA” in the raw data!**\n"
      ]
    },
    {
      "cell_type": "markdown",
      "metadata": {
        "id": "k_hvzlsl9dfX"
      },
      "source": [
        "* Note: in this raw data, missing values are denoted by \"?\" (rather than \"NA\"), so in the `read.csv()` function, set `na.strings =\"?\"`"
      ]
    },
    {
      "cell_type": "markdown",
      "metadata": {
        "id": "8RtebkNBoRsL"
      },
      "source": [
        "##3. Inspecting data\n",
        "* `class()`: check object class\n",
        "* `dim()`: dimension of the data\n",
        "* `head()`: print on screen the first few lines of data, may use n as argument\n",
        "* `tail()`: print the last few lines of data"
      ]
    },
    {
      "cell_type": "code",
      "metadata": {
        "id": "y1WHb5fP4N5p"
      },
      "source": [
        "#  Inspecting data:\n",
        "# 1. What class the R data object \"forbes\" is?\n",
        "\n",
        "# 2. How many observations (rows) does \"forbes\" have? "
      ],
      "execution_count": null,
      "outputs": []
    },
    {
      "cell_type": "code",
      "metadata": {
        "id": "ok_DXtgm-Hwl"
      },
      "source": [
        "# List the first 10 rows of \"forbes\"\n"
      ],
      "execution_count": null,
      "outputs": []
    },
    {
      "cell_type": "code",
      "metadata": {
        "id": "lww1Z3Q-4N5-"
      },
      "source": [
        "# Use summary() command to tell which columns have missing values, and how many:\n"
      ],
      "execution_count": null,
      "outputs": []
    },
    {
      "cell_type": "markdown",
      "metadata": {
        "id": "kao1Zy6iqGG_"
      },
      "source": [
        "##4. Preprocess data \n"
      ]
    },
    {
      "cell_type": "markdown",
      "metadata": {
        "id": "gERvlv4cxSif"
      },
      "source": [
        "### 4.1 Preprocessing - missing values\n",
        "* Missing values are denoted in R by NA or NaN for undefined mathematical operations.\n",
        "> * `is.na(x)` is used to test objects \"x\" if there are NAs\n",
        "> * Which one is NA? `which(is.na(x))`"
      ]
    },
    {
      "cell_type": "code",
      "metadata": {
        "id": "SGlBLdCZsZCB"
      },
      "source": [
        "# Fill the blank to find out which ones are NAs on sales\n",
        "which( )"
      ],
      "execution_count": null,
      "outputs": []
    },
    {
      "cell_type": "markdown",
      "metadata": {
        "id": "rLH9I8W44N6P"
      },
      "source": [
        "* more about missing value inspection\n",
        "> * How many NAs? `table(is.na(x))`\n",
        "> * list of observations with missing values on profits `x(is.na(x),)`\n",
        "\n"
      ]
    },
    {
      "cell_type": "code",
      "metadata": {
        "id": "D-kdpDZS4N6R"
      },
      "source": [
        "# Fill the blank to find out how many NAs on assets\n",
        "\n",
        "# Fill the blank to find out observations with missing values on profits\n"
      ],
      "execution_count": null,
      "outputs": []
    },
    {
      "cell_type": "markdown",
      "metadata": {
        "id": "_aMsG0vktTSC"
      },
      "source": [
        "* remember many R functions also have a logical “`na.rm`” option\n",
        "> * `na.rm=TRUE` means the NA values should be discarded\n"
      ]
    },
    {
      "cell_type": "code",
      "metadata": {
        "id": "dbFa1Akztear"
      },
      "source": [
        "# Calculate the mean value of profits\n",
        " mean(forbes$profits)  # will get NA\n",
        " # so add na.rm=TRUE in the mean() below to get the mean profits\n",
        " mean(forbes$profits,   )"
      ],
      "execution_count": null,
      "outputs": []
    },
    {
      "cell_type": "markdown",
      "metadata": {
        "id": "8QqhU2X5uBjh"
      },
      "source": [
        "* The simplest way to deal with the missing values is to remove them. \n",
        "> * If a column (variable) has a high percentage of the missing value, remove the whole column or just don’t use it for the analysis.\n",
        "> * If a row (observation) has a missing value, remove the row with `na.omit()`. e.g. \n"
      ]
    },
    {
      "cell_type": "code",
      "metadata": {
        "id": "yV26wnrUuOjq"
      },
      "source": [
        "# remove the observations which have missing values, save it to object \"forbes2\"\n",
        "\n",
        "# How many oberservations \"forbes2\" have now?\n"
      ],
      "execution_count": null,
      "outputs": []
    },
    {
      "cell_type": "markdown",
      "metadata": {
        "id": "RnVQ-jx2uf-J"
      },
      "source": [
        "* Alternatively, the missing values can be replaced by basic statistics e.g. \n",
        "> * replace by mean \n"
      ]
    },
    {
      "cell_type": "code",
      "metadata": {
        "id": "tbWXSnm_umwo"
      },
      "source": [
        "# replace missing values in \"profits\" by mean of profits\n",
        "for(i in 1:nrow(forbes)){\n",
        "  if(is.na(forbes$profits[i])==TRUE){\n",
        "  forbes$profits[i] <- mean(forbes$profits, na.rm = TRUE)\n",
        "  }\n",
        "}\n"
      ],
      "execution_count": null,
      "outputs": []
    },
    {
      "cell_type": "code",
      "metadata": {
        "id": "Xl-tFc4hFvWn"
      },
      "source": [
        "# now, write two for loops to replace missing values in \"sales\" and \"assets\", respectively:\n",
        "# For loop 1\n",
        "for(i in 1:nrow(forbes)){\n",
        "  \n",
        "  \n",
        "}\n",
        "# For loop 2 \n",
        "for(i in 1:nrow(forbes)){\n",
        "\n",
        "\n",
        "\n",
        "}\n",
        "# use dim() and summary() to confirm your replacements work\n",
        "dim(forbes)\n",
        "summary(forbes)"
      ],
      "execution_count": null,
      "outputs": []
    },
    {
      "cell_type": "code",
      "metadata": {
        "id": "KvHPYIm6GSrL"
      },
      "source": [
        "summary(forbes)"
      ],
      "execution_count": null,
      "outputs": []
    },
    {
      "cell_type": "markdown",
      "metadata": {
        "id": "nkNPSPoKvWdZ"
      },
      "source": [
        "###4.2 Preprocessing - subsetting data\n",
        "* At most occasions we do not need all of the raw data\n",
        "* There are a number of methods of extracting a subset of R objects\n",
        "* Subsetting data can be done either by row or by column \n"
      ]
    },
    {
      "cell_type": "markdown",
      "metadata": {
        "id": "MoPex-0DvrTA"
      },
      "source": [
        "#### 4.2.1 Subsetting by row: use conditions\n",
        "Fill the blanks to find all companies with negative profit:\n"
      ]
    },
    {
      "cell_type": "code",
      "metadata": {
        "id": "T9WIn_YSv443"
      },
      "source": [
        "forbes[        ,c(\"name\",\"sales\",\"profits\",\"assets\")]"
      ],
      "execution_count": null,
      "outputs": []
    },
    {
      "cell_type": "markdown",
      "metadata": {
        "id": "iN6Aecr72Xsh"
      },
      "source": [
        "Fill the blanks to find the number of companies in each country with profits above 5 billion US dollars. Note the unit is in billion USD, so \"5\" already means 5 billion. "
      ]
    },
    {
      "cell_type": "code",
      "metadata": {
        "id": "GdKNAiOO2ZZ7"
      },
      "source": [
        " forbes3 <- forbes[     > 5,c(\"name\",\"country\",\"profits\")]\n",
        "table(     )"
      ],
      "execution_count": null,
      "outputs": []
    },
    {
      "cell_type": "markdown",
      "metadata": {
        "id": "O1i26j1_wZ7x"
      },
      "source": [
        "Find three companies with largest sale volumne:\n"
      ]
    },
    {
      "cell_type": "code",
      "metadata": {
        "id": "ew8W4085we18"
      },
      "source": [
        "companies <- forbes$name  # or companies <- forbes[,\"name\"] \n",
        "order_sales <- order(forbes$sales, decreasing=T)\n",
        "#company names\n",
        "companies[        ]\n",
        "#company sales\n",
        "head(sort(          ,decreasing=T),n=3)"
      ],
      "execution_count": null,
      "outputs": []
    },
    {
      "cell_type": "markdown",
      "metadata": {
        "id": "64W1m4j62C_K"
      },
      "source": [
        "Fill the blanks below to find first 50 companies in the Forbes dataset with the highest profit\n"
      ]
    },
    {
      "cell_type": "code",
      "metadata": {
        "id": "wdNpeHhL2I8I"
      },
      "source": [
        "companies <- forbes$name   \n",
        "order_profit <- order(    ,      )   # order() returns the indices of the vector in sorted order\n",
        "companies[order_profit[   ]]\n",
        "head(   (    ,decreasing=T),   )"
      ],
      "execution_count": null,
      "outputs": []
    },
    {
      "cell_type": "markdown",
      "metadata": {
        "id": "qPOuTabFw5RA"
      },
      "source": [
        "####4.2.2 Subsetting by row: use `subset()` function\n",
        "Fill the blanks below to find all German companies with negative profit\n"
      ]
    },
    {
      "cell_type": "code",
      "metadata": {
        "id": "8Mn7AE7Rw_uB"
      },
      "source": [
        "Germanycomp <- subset(    ,    )\n",
        "Germanycomp[       ,c(\"name\",\"sales\",\"profits\",\"assets\")]"
      ],
      "execution_count": null,
      "outputs": []
    },
    {
      "cell_type": "markdown",
      "metadata": {
        "id": "3k8ejtrGWKHv"
      },
      "source": [
        "##Solution\n",
        "Find all German companies with negative profit"
      ]
    },
    {
      "cell_type": "code",
      "metadata": {
        "id": "XyUxuKBRWSg4"
      },
      "source": [
        "Germanycomp <- subset(forbes, country == \"Germany\")\n",
        "Germanycomp[Germanycomp$profits < 0,c(\"name\",\"sales\",\"profits\",\"assets\")]"
      ],
      "execution_count": null,
      "outputs": []
    },
    {
      "cell_type": "markdown",
      "metadata": {
        "id": "wercZnudXaK-"
      },
      "source": [
        "Find the number of companies in each country with profits above 5 billion US dollars"
      ]
    },
    {
      "cell_type": "code",
      "metadata": {
        "id": "5KAik9JcXmEZ"
      },
      "source": [
        "forbes3 <- forbes[forbes$profits > 5,c(\"name\",\"country\",\"profits\")]\n",
        "table(forbes3[,\"country\"])"
      ],
      "execution_count": null,
      "outputs": []
    },
    {
      "cell_type": "markdown",
      "metadata": {
        "id": "JPKhOyPtXWMa"
      },
      "source": [
        "Find first 50 companies in the Forbes dataset with the highest profit\n"
      ]
    },
    {
      "cell_type": "code",
      "metadata": {
        "id": "5NhsCOrpXfbz"
      },
      "source": [
        "companies <- forbes$name   \n",
        "order_profit <- order(forbes$profits, decreasing=T)   # order() returns the indices of the vector in sorted order\n",
        "companies[order_profit[1:50]]\n",
        "head(sort(forbes$profits,decreasing=T),n=50)"
      ],
      "execution_count": null,
      "outputs": []
    },
    {
      "cell_type": "markdown",
      "metadata": {
        "id": "B4b0rfY-xgJ4"
      },
      "source": [
        "####4.2.3 Subsetting by column\n",
        "Create another dataframe with only numeric variables (i.e. only keep columns of sales, profits, assets and marketvalue)"
      ]
    },
    {
      "cell_type": "code",
      "metadata": {
        "id": "tw_SDfhqxvjD"
      },
      "source": [
        "#use data.frame function\n",
        "forbes3 <- data.frame(sales=forbes$sales,profits=forbes$profits,\n",
        "           assets=forbes$assets, mvalue=forbes$marketvalue)\n",
        "str(forbes3)\n",
        "\n",
        "\n",
        "# or use subset() function\n",
        "# Fill the blank below\n",
        "forbes4 <- subset( ,        )\n",
        "str(forbes4)\n",
        "\n",
        "#or simply use indexing\n",
        "# Fill the blank below\n",
        "forbes5 <- forbes[ ,    ]\n",
        "str(forbes5)"
      ],
      "execution_count": null,
      "outputs": []
    },
    {
      "cell_type": "markdown",
      "metadata": {
        "id": "r1R3wV1IyEQC"
      },
      "source": [
        "### 4.3 Preprocessing – Factors \n",
        "**Note: there is no questions in this section**\n",
        "* factors are variables in R which take on a limited number of different values; such variables are often referred to as categorical variables\n",
        "\n",
        "\n",
        "Convert characters to (unordered) factors:"
      ]
    },
    {
      "cell_type": "code",
      "metadata": {
        "id": "nioNugIYyMoh"
      },
      "source": [
        "forbes$country<-factor(forbes$country)\n",
        "str(forbes)\n",
        "summary(forbes)"
      ],
      "execution_count": null,
      "outputs": []
    },
    {
      "cell_type": "markdown",
      "metadata": {
        "id": "V8RCDhbMyhI8"
      },
      "source": [
        "* Small classes could be merged into a larger class. Why?\n",
        "> * For better model performance. E.g. Classification and Regression Trees tend to split using the variables with many categories.\n",
        "> * Actual needs\n",
        "Some categories have just a few subjects"
      ]
    },
    {
      "cell_type": "code",
      "metadata": {
        "id": "v5dHXoPMyruY"
      },
      "source": [
        "table(forbes$country)"
      ],
      "execution_count": null,
      "outputs": []
    },
    {
      "cell_type": "markdown",
      "metadata": {
        "id": "MbNTKIxHzJDi"
      },
      "source": [
        "* Merge small classes into a larger classes\n",
        "\n",
        "Merge all South American countries to \"Venezuela\""
      ]
    },
    {
      "cell_type": "code",
      "metadata": {
        "id": "5W8TxPeBzjHB"
      },
      "source": [
        "forbes$country[(forbes$country==\"Bermuda\")|(forbes$country==\"Brazil\")|(forbes$country==\"Chile\")|(forbes$country==\"Panama/ United Kingdom\")|(forbes$country==\"Peru\")]<-\"Venezuela\""
      ],
      "execution_count": null,
      "outputs": []
    },
    {
      "cell_type": "markdown",
      "metadata": {
        "id": "yDJPSXm6zq7z"
      },
      "source": [
        "Merge small classes into a larger classes"
      ]
    },
    {
      "cell_type": "code",
      "metadata": {
        "id": "n-TKo6aQz1mg"
      },
      "source": [
        "forbes$country[(forbes$country==\"Austria\")|(forbes$country==\"Belgium\")|(forbes$country==\"Czech Republic\")|(forbes$country==\"Denmark\")|(forbes$country==\"Finland\")|(forbes$country==\"France\")|(forbes$country==\"Germany\")|(forbes$country==\"Greece\")|(forbes$country==\"Hungary\")|(forbes$country==\"Ireland\")|(forbes$country==\"Italy\")|(forbes$country==\"Luxembourg\")|(forbes$country==\"Netherlands\")|(forbes$country==\"Norway\")|(forbes$country==\"Poland\")|(forbes$country==\"Portugal\")|(forbes$country==\"Russia\")|(forbes$country==\"Spain\")|(forbes$country==\"Sweden\")|(forbes$country==\"Switzerland\")|(forbes$country==\"Turkey\")|(forbes$country==\"France/ United Kingdom\")|(forbes$country==\"United Kingdom/ Netherlands\")|(forbes$country==\"Netherlands/ United Kingdom\")]<-\"United Kingdom\"\n",
        "forbes$country[(forbes$country==\"China\")|(forbes$country==\"Hong Kong/China\")|(forbes$country==\"Indonesia\")|(forbes$country==\"Japan\")|(forbes$country==\"Kong/China\")|(forbes$country==\"Korea\")|(forbes$country==\"Malaysia\")|(forbes$country==\"Philippines\")|(forbes$country==\"Singapore\")|(forbes$country==\"South Korea\")|(forbes$country==\"Taiwan\")]<-\"Thailand\"\n",
        "forbes$country[(forbes$country==\"Australia\")|(forbes$country==\"India\")|(forbes$country==\"Islands\")|(forbes$country==\"Israel\")|(forbes$country==\"Jordan\")|(forbes$country==\"Liberia\")|(forbes$country==\"Mexico\")|(forbes$country==\"New Zealand\")|(forbes$country==\"Pakistan\")|(forbes$country==\"South Africa\")|(forbes$country==\"United Kingdom/ Australia\")]<-\"United Kingdom/ South Africa\""
      ],
      "execution_count": null,
      "outputs": []
    },
    {
      "cell_type": "markdown",
      "metadata": {
        "id": "H6ZanpW70XSj"
      },
      "source": [
        "* Drop those levels with zero counts\n",
        "\n",
        "Use `droplevels()` function:\n"
      ]
    },
    {
      "cell_type": "code",
      "metadata": {
        "id": "bXODV7KY0ni4"
      },
      "source": [
        "forbes$country<-droplevels(forbes$country)"
      ],
      "execution_count": null,
      "outputs": []
    },
    {
      "cell_type": "markdown",
      "metadata": {
        "id": "_kyU02Vm0yvh"
      },
      "source": [
        "Now we can check the new frequency tables:"
      ]
    },
    {
      "cell_type": "code",
      "metadata": {
        "id": "mjjqV7Ui02oH"
      },
      "source": [
        "table(forbes$country)"
      ],
      "execution_count": null,
      "outputs": []
    },
    {
      "cell_type": "markdown",
      "metadata": {
        "id": "hPwB5uT409eQ"
      },
      "source": [
        "* Rename each class"
      ]
    },
    {
      "cell_type": "code",
      "metadata": {
        "id": "CHdjaHLq1AYT"
      },
      "source": [
        "levels(forbes$country)<-c(\"Canada\",\"East/Southeast Asia\",\"Europe\",\"Other\",\"United States\",\"Latin America\")\n",
        "levels(forbes$country)"
      ],
      "execution_count": null,
      "outputs": []
    },
    {
      "cell_type": "markdown",
      "metadata": {
        "id": "7XZclPFj1ZB7"
      },
      "source": [
        "###4.4 Export the cleaned dataset (Important!)\n",
        "* Save forbes to Forbes2000_clean.csv"
      ]
    },
    {
      "cell_type": "code",
      "metadata": {
        "id": "1hyWWnp51kWL"
      },
      "source": [
        "# Fill the blank below:\n",
        "write.csv(        ,\"Forbes2000_2019_clean.csv\",row.names=FALSE)\n",
        "list.files()"
      ],
      "execution_count": null,
      "outputs": []
    },
    {
      "cell_type": "markdown",
      "metadata": {
        "id": "zreO0WEd2gpD"
      },
      "source": [
        "## 5. Data analysis\n"
      ]
    },
    {
      "cell_type": "markdown",
      "metadata": {
        "id": "Osw6lYbu4UUL"
      },
      "source": [
        "###5.2 Import the cleaned dataset (Optional)\n",
        "* Subsetting by column\n",
        "Create a dataframe with the clean data"
      ]
    },
    {
      "cell_type": "code",
      "metadata": {
        "id": "9ghM_DIK4ffD"
      },
      "source": [
        "forbes_clean <- read.csv(\"Forbes2000_2019_clean.csv\",header=T,stringsAsFactors = T,na.strings =\"?\",sep=\",\")\n",
        "str(forbes_clean)"
      ],
      "execution_count": null,
      "outputs": []
    },
    {
      "cell_type": "markdown",
      "metadata": {
        "id": "Bcf3wU_IA_hZ"
      },
      "source": [
        "###5.3 Extract Variables \n",
        "* Create another data frame with only numeric variables + country\n",
        "\n",
        "Hint: Refer to 4.2.3 Subsetting by column"
      ]
    },
    {
      "cell_type": "code",
      "metadata": {
        "id": "jFDVjnz4CVBT"
      },
      "source": [
        "# Fill the blank below:\n",
        " forbes_clean <- forbes_clean[,        ]\n",
        "str(forbes_clean)"
      ],
      "execution_count": null,
      "outputs": []
    },
    {
      "cell_type": "markdown",
      "metadata": {
        "id": "yS8zt-Bq46lR"
      },
      "source": [
        "###5.4 Training Set and Test Set\n",
        "* Dataset could be randomly split into two parts: training set and test set. \n"
      ]
    },
    {
      "cell_type": "code",
      "metadata": {
        "id": "yFDob7OX5DB4"
      },
      "source": [
        "set.seed(1) #set random seed reproducible\n",
        "indx <- sample(1:2000,size=2000,replace=F)\n",
        "forbes.train <- forbes_clean[indx[1:1600],]\n",
        "forbes.test <- forbes_clean[indx[1601:2000],]"
      ],
      "execution_count": null,
      "outputs": []
    },
    {
      "cell_type": "markdown",
      "metadata": {
        "id": "ZSws0mVIGF-K"
      },
      "source": [
        "##Exercise \n",
        "1. Use the `lm()` function to perform a multiple linear regression with profits as the response and all other numeric variables as the predictors. Use the `summary()` function to print the results. \n"
      ]
    },
    {
      "cell_type": "code",
      "metadata": {
        "id": "PUWzXPyhGVFk"
      },
      "source": [
        "forbes_clean2 <- forbes_clean[,       ]  # create a new dataframe with only numeric variables included\n",
        "set.seed(3) \n",
        "indx <- sample(1:2000,size=2000,replace=F)\n",
        "forbes.train <- forbes_clean2[indx[1:1600],]\n",
        "forbes.test <- forbes_clean2[indx[1601:2000],]\n",
        "str(forbes.train)"
      ],
      "execution_count": null,
      "outputs": []
    },
    {
      "cell_type": "code",
      "metadata": {
        "id": "ByWA1lihE0OS"
      },
      "source": [
        "lm <- lm(   profits ~  , data=forbes.train     )\n",
        "summary(lm)"
      ],
      "execution_count": null,
      "outputs": []
    },
    {
      "cell_type": "markdown",
      "metadata": {
        "id": "Hm4KasWEGWi4"
      },
      "source": [
        "2. Comment on the output. For instance:  Is there a relationship between the predictors and the response? \n"
      ]
    },
    {
      "cell_type": "markdown",
      "metadata": {
        "id": "lmB6_YXLGaNJ"
      },
      "source": [
        "3. Which predictors appear to have a statistically significant relationship to the response? \n"
      ]
    },
    {
      "cell_type": "markdown",
      "metadata": {
        "id": "icDSRv30GdJi"
      },
      "source": [
        "4. What does the coefficient for the sales variable suggest?\n"
      ]
    },
    {
      "cell_type": "markdown",
      "metadata": {
        "id": "AmWkvi88Nlwn"
      },
      "source": [
        "### Bonus questions:"
      ]
    },
    {
      "cell_type": "markdown",
      "metadata": {
        "id": "jkDB5eTjGf8E"
      },
      "source": [
        "5. Use the ^ symbols to fit linear regression models with interaction effects. \u000bDo any interactions appear to be statistically significant? \n"
      ]
    },
    {
      "cell_type": "code",
      "metadata": {
        "id": "z-T8BBllGj-j"
      },
      "source": [
        "lm2 <- lm(  profits ~     , data = forbes.train)\n",
        "summary(lm2)"
      ],
      "execution_count": null,
      "outputs": []
    },
    {
      "cell_type": "markdown",
      "metadata": {
        "id": "a6oifEd2HvRe"
      },
      "source": [
        "6. Compare two models you just fitted with MAD and RMSE. Which model has better predictive results in terms of MAD and RMSE?"
      ]
    },
    {
      "cell_type": "code",
      "metadata": {
        "id": "9u2ee0WGH-nw"
      },
      "source": [
        "# MLR model without interactions \n",
        "lm.yhat <-  \n",
        "lm.y <-  \n",
        "lm.rmse <- \n",
        "lm.rmse\n",
        "lm.abs = abs(    )\n",
        "lm.mad = (sum( ))/395 \n",
        "lm.mad\n",
        "\n",
        "# MLR model with all interactions\n",
        "lm2.yhat <-  \n",
        "lm2.y <-  \n",
        "lm2.rmse <- \n",
        "lm2.rmse\n",
        "lm2.abs = abs(   ) \n",
        "lm2.mad = (sum(   ))/395 \n",
        "lm2.mad"
      ],
      "execution_count": null,
      "outputs": []
    },
    {
      "cell_type": "markdown",
      "metadata": {
        "id": "dSlz-hHPabLC"
      },
      "source": [
        "##Solution \n",
        "1. Use the `lm()` function to perform a multiple linear regression with profits as the response and all other numeric variables as the predictors. Use the `summary()` function to print the results. \n"
      ]
    },
    {
      "cell_type": "code",
      "metadata": {
        "id": "c4xDOVzWapb_"
      },
      "source": [
        "lm <- lm(profits ~ ., data = forbes.train)\n",
        "summary(lm)"
      ],
      "execution_count": null,
      "outputs": []
    },
    {
      "cell_type": "markdown",
      "metadata": {
        "id": "vagC3fDwafbd"
      },
      "source": [
        "5. Use the ^ symbols to fit linear regression models with interaction effects. \u000bDo any interactions appear to be statistically significant? \n"
      ]
    },
    {
      "cell_type": "code",
      "metadata": {
        "id": "vDOcdzeGalnx"
      },
      "source": [
        "lm2 <- lm(profits ~ (sales + assets + marketvalue)^3, data = forbes.train)\n",
        "summary(lm2)"
      ],
      "execution_count": null,
      "outputs": []
    },
    {
      "cell_type": "markdown",
      "metadata": {
        "id": "AGqtQnlpahAD"
      },
      "source": [
        "6. Compare two models you just fitted with MAD and RMSE. Which model has better predictive results in terms of MAD and RMSE?"
      ]
    },
    {
      "cell_type": "code",
      "metadata": {
        "id": "11_anmUiajcg"
      },
      "source": [
        "# MLR model without interactions \n",
        "lm.yhat <- predict(lm, newdata = forbes.test) \n",
        "lm.y <- forbes.test[\"profits\"] \n",
        "lm.rmse <- sqrt(mean(data.matrix((lm.y - lm.yhat)^2)))\n",
        "lm.rmse\n",
        "lm.abs = abs(lm.y - lm.yhat) \n",
        "lm.mad = (sum(lm.abs))/400 \n",
        "lm.mad\n",
        "\n",
        "# MLR model with all interactions\n",
        "lm2.yhat <- predict(lm2, newdata = forbes.test) \n",
        "lm2.y <- forbes.test[\"profits\"] \n",
        "lm2.rmse <- sqrt(mean(data.matrix((lm2.y - lm2.yhat)^2)))\n",
        "lm2.rmse\n",
        "lm2.abs = abs(lm2.y - lm2.yhat) \n",
        "lm2.mad = (sum(lm2.abs))/400 \n",
        "lm2.mad"
      ],
      "execution_count": null,
      "outputs": []
    }
  ]
}