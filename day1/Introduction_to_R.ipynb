{
  "nbformat": 4,
  "nbformat_minor": 0,
  "metadata": {
    "colab": {
      "name": "Introduction_to_R.ipynb",
      "private_outputs": true,
      "provenance": [],
      "collapsed_sections": [
        "zQLKMs59rpvi",
        "QJGFuLmZsrCT",
        "nOe0m3Gdteds",
        "xYFRMtbvJXIb",
        "RUe1W-Y-DTE2",
        "30bP-0GhLuwQ",
        "n1qNNxzhnFxc",
        "Ln_66oqI681p",
        "-1OjjS0p6_lt"
      ],
      "toc_visible": true
    },
    "language_info": {
      "codemirror_mode": "r",
      "file_extension": ".r",
      "mimetype": "text/x-r-source",
      "name": "R",
      "pygments_lexer": "r",
      "version": "3.3.1"
    },
    "kernelspec": {
      "display_name": "R",
      "language": "R",
      "name": "ir"
    }
  },
  "cells": [
      {
   "cell_type": "markdown",
   "metadata": {
    "colab_type": "text",
    "id": "view-in-github"
   },
   "source": [
    "<a href=\"https://colab.research.google.com/github/lsuhpchelp/lbrnloniworkshop2021/blob/main/day1/Introduction_to_R.ipynb\" target=\"_parent\"><img src=\"https://colab.research.google.com/assets/colab-badge.svg\" alt=\"Open In Colab\"/></a>"
   ]
  },
    {
      "cell_type": "markdown",
      "metadata": {
        "id": "SWzsE9omeSN1"
      },
      "source": [
        "# Introduction to R"
      ]
    },
    {
      "cell_type": "markdown",
      "metadata": {
        "id": "THVk8YtgfLvF"
      },
      "source": [
        "**DO NOT CHANGE THE RUNTIME BECAUSE YOU WON'T BE ABLE TO CHANGE IT BACK!**"
      ]
    },
    {
      "cell_type": "code",
      "metadata": {
        "id": "be6urrizhGk9"
      },
      "source": [
        "#@title Run this segment first { display-mode: \"form\" }\n",
        "install.packages(\"gcookbook\")\n",
        "install.packages(\"doParallel\")\n",
        "install.packages(\"plyr\")\n",
        "library(gcookbook)\n",
        "library(datasets)\n",
        "library(ggplot2)\n",
        "library(lubridate)"
      ],
      "execution_count": null,
      "outputs": []
    },
    {
      "cell_type": "markdown",
      "metadata": {
        "id": "zQLKMs59rpvi"
      },
      "source": [
        "# Outline\n",
        "\n",
        "* Introduction\n",
        "* How to run R codes\n",
        "* Basic syntax\n",
        "* Data classes and objects\n",
        "* Data management\n",
        "* Flow control structures\n",
        "* Useful functions\n",
        "* Managing R packages\n",
        "* File operations\n",
        "* Graphics\n",
        "* Parallel processing\n",
        "\n",
        "\n",
        "\n"
      ]
    },
    {
      "cell_type": "markdown",
      "metadata": {
        "id": "lW8M-lb-5Sqm"
      },
      "source": [
        "# Introduction"
      ]
    },
    {
      "cell_type": "markdown",
      "metadata": {
        "id": "QJGFuLmZsrCT"
      },
      "source": [
        "## What is R\n",
        "\n",
        "* R is a programming language for statistical computing\n",
        "  * Importing, storing, exporting and manipulating data\n",
        "  * Conducting statistical analyses\n",
        "  * Displaying the results by tables, graphs, etc.\n",
        "* R is also a software environment for the development and implementation of new algorithms.\n",
        "  * Many graphical user interface to R both free and commercial (e.g. Rstudio and Microsoft R Open).\n",
        "* R is being used by many disciplines\n",
        "  * [A collection of repositories of R codes categorized by discipline](https://github.com/lsuhpchelp/r_collection)\n"
      ]
    },
    {
      "cell_type": "markdown",
      "metadata": {
        "id": "OIeuD2OxtFph"
      },
      "source": [
        "## History of R\n",
        "\n",
        "* R is a dialect of the S language\n",
        "  * S was created in 1976 at the Bell Labs as an internal statistical analysis environment\n",
        "  * Goal of S was “to turn ideas into software, quickly and faithfully\".\n",
        "  * Most well known implementation is S-plus (most recent stable release was in 2010). S-Plus integrates S with a nice GUI interface and full customer support.\n",
        "* R was created by Ross Ihaka and Robert Gentleman at the University of Auckland, New Zealand.\n",
        "* The R core group was formed in 1997, who controls the source code of R (written in C)\n",
        "* The first stable version R 1.0.0 was released in 2000\n",
        "* Latest stable version is 4.1.0 released on May 18, 2021"
      ]
    },
    {
      "cell_type": "code",
      "metadata": {
        "id": "vt-DUyoENrHF"
      },
      "source": [
        "version"
      ],
      "execution_count": null,
      "outputs": []
    },
    {
      "cell_type": "markdown",
      "metadata": {
        "id": "nOe0m3Gdteds"
      },
      "source": [
        "## Features of R\n",
        "\n",
        "* Designed for statistical analysis, with rich data analysis functionalities and sophisticated graphical capabilities\n",
        "* Available on most platform/OS\n",
        "* Active development and (very) active community\n",
        "  * [CRAN](https://cran.r-project.org/): The Comprehensive R Archive Network\n",
        "  * Source code and binaries, user contributed packages and documentation\n",
        "  * More than 17,000 packages available on CRAN (as of May 2021)\n",
        "    * Compared to 6,000 four years ago\n",
        "* Free to use"
      ]
    },
    {
      "cell_type": "markdown",
      "metadata": {
        "id": "3xIyLZSX5ZYA"
      },
      "source": [
        "# How to Run R Codes"
      ]
    },
    {
      "cell_type": "markdown",
      "metadata": {
        "id": "v_4TM4yIDHwM"
      },
      "source": [
        "There are (at least) three options to run R codes:\n",
        "* Google Colaboratory\n",
        "* Rstudio (or Microsoft R Open or any other IDE)\n",
        "* HPC clusters"
      ]
    },
    {
      "cell_type": "markdown",
      "metadata": {
        "id": "xYFRMtbvJXIb"
      },
      "source": [
        "## Google Colaboratory\n",
        "\n",
        "This is what we are using right now. It is the most convenient - browser-based and no setup is needed. The only thing you need is a Google account. In the meanwhile, we don't have much control on the environment. For instance, we can't choose which version to use and have very limited control on where the data is stored."
      ]
    },
    {
      "cell_type": "markdown",
      "metadata": {
        "id": "RUe1W-Y-DTE2"
      },
      "source": [
        "## Rstudio (or Microsoft R Open or any other IDE that supports R)\n",
        "\n",
        "![Rstudio screen shot](https://support.rstudio.com/hc/article_attachments/115020357707/Screen_Shot_2017-08-24_at_1.22.05_PM.png)\n",
        "\n",
        "Rstudio is an intergrated development environment (IDE) for R.\n",
        "\n",
        "* Free to use: [Rstudio website](https://www.rstudio.com/)\n",
        "* Its user interface is similar to IDEs, dividing the screen into panes\n",
        "  * Source code editor\n",
        "  * Console\n",
        "  * Workspace\n",
        "  * Others (help message, plot etc.)\n",
        "* Rstudio in a desktop environment is better suited for code development and/or a limited number of small jobs.\n",
        "\n",
        "Rstudio also provides a collection of very useful cheat sheets about how to use R [here](https://www.rstudio.com/resources/cheatsheets/)."
      ]
    },
    {
      "cell_type": "markdown",
      "metadata": {
        "id": "30bP-0GhLuwQ"
      },
      "source": [
        "## HPC Clusters\n",
        "\n",
        "The HPC clusters are good for resource‐demanding workloads, e.g. resource-intense tasks or many small tasks."
      ]
    },
    {
      "cell_type": "markdown",
      "metadata": {
        "id": "2-a6403H6Pf_"
      },
      "source": [
        "# Basic Syntax"
      ]
    },
    {
      "cell_type": "markdown",
      "metadata": {
        "id": "aMZx_TR9Dw2p"
      },
      "source": [
        "## Assignment\n",
        "\n",
        "For new users, the biggest difference from other languages is perhaps the assignment operator: **R uses \"<-\" instead of \"=\"**. "
      ]
    },
    {
      "cell_type": "code",
      "metadata": {
        "id": "Eu1cJEhrD_aT",
        "cellView": "both"
      },
      "source": [
        "x <- 2*4"
      ],
      "execution_count": null,
      "outputs": []
    },
    {
      "cell_type": "markdown",
      "metadata": {
        "id": "TFi6rURhD4uB"
      },
      "source": [
        "The content of the object \"x\" can be viewed by typing its name at the R prompt."
      ]
    },
    {
      "cell_type": "code",
      "metadata": {
        "id": "toTMccSpEClz"
      },
      "source": [
        "x"
      ],
      "execution_count": null,
      "outputs": []
    },
    {
      "cell_type": "code",
      "metadata": {
        "id": "lEFCvCPYPLXU"
      },
      "source": [
        "# What happens if we run this?\n",
        "y"
      ],
      "execution_count": null,
      "outputs": []
    },
    {
      "cell_type": "markdown",
      "metadata": {
        "id": "xuOcTBQhY29q"
      },
      "source": [
        "Actually, \"=\" works too:"
      ]
    },
    {
      "cell_type": "code",
      "metadata": {
        "id": "yKI9d3beMFkM"
      },
      "source": [
        "y = 2 * 4\n",
        "y"
      ],
      "execution_count": null,
      "outputs": []
    },
    {
      "cell_type": "markdown",
      "metadata": {
        "id": "uiXEWIdZNLcF"
      },
      "source": [
        "There are some subtle differences between ```<-``` and ```=```, which are explained [here](https://renkun.me/2014/01/28/difference-between-assignment-operators-in-r/) if you are interested. \n",
        "\n",
        "The R convention is to use ```<-``` for assignment."
      ]
    },
    {
      "cell_type": "markdown",
      "metadata": {
        "id": "VmiULzr8sFGu"
      },
      "source": [
        "## Comment"
      ]
    },
    {
      "cell_type": "markdown",
      "metadata": {
        "id": "pnhHTCtQsI5z"
      },
      "source": [
        "In R, any line staring with \"#\" will be interpreted as a comment."
      ]
    },
    {
      "cell_type": "code",
      "metadata": {
        "id": "oSwNxd-2sO_C"
      },
      "source": [
        "# z <- 2*4\n",
        "# Nothing will happen."
      ],
      "execution_count": null,
      "outputs": []
    },
    {
      "cell_type": "markdown",
      "metadata": {
        "id": "aj5qv2UPaTSd"
      },
      "source": [
        "## Legal R Names\n",
        "\n",
        "Names for R objects can be any combination of letters, numbers, underscores (_) and periods (.), but must not start with a number or an underscore."
      ]
    },
    {
      "cell_type": "markdown",
      "metadata": {
        "id": "xVbejwVyb1Ol"
      },
      "source": [
        "These are legal names:"
      ]
    },
    {
      "cell_type": "code",
      "metadata": {
        "id": "YSN3PuAFVJu1"
      },
      "source": [
        "# This is legal.\n",
        "num.Cats.2 <- 4\n",
        "num.Cats.2\n",
        "\n",
        "# This is legal too.\n",
        "num_Cats <- 5\n",
        "num_Cats"
      ],
      "execution_count": null,
      "outputs": []
    },
    {
      "cell_type": "markdown",
      "metadata": {
        "id": "sHxhm98ScLSp"
      },
      "source": [
        "These are not:"
      ]
    },
    {
      "cell_type": "code",
      "metadata": {
        "id": "kj6l6SZCbF4b"
      },
      "source": [
        "# Illegal to start with \"_\"\n",
        "_num.cats <- 5"
      ],
      "execution_count": null,
      "outputs": []
    },
    {
      "cell_type": "code",
      "metadata": {
        "id": "0LO-G6EPbVrX"
      },
      "source": [
        "# \"-\" is not allowed.\n",
        "num-cats <- 5"
      ],
      "execution_count": null,
      "outputs": []
    },
    {
      "cell_type": "code",
      "metadata": {
        "id": "_zRGup_2bM-o"
      },
      "source": [
        "# Start with a number.\n",
        "2cats <- 3"
      ],
      "execution_count": null,
      "outputs": []
    },
    {
      "cell_type": "markdown",
      "metadata": {
        "id": "ss3qglkYVg46"
      },
      "source": [
        "R is case sensitive, e.g. X and x are different in R."
      ]
    },
    {
      "cell_type": "code",
      "metadata": {
        "id": "QKKCqeEnaokZ",
        "cellView": "code"
      },
      "source": [
        "# The cat function prints to screen.\n",
        "x <- 4\n",
        "cat(\"The value of x is:\",x)\n",
        "cat(\"The value of X is:\",X)"
      ],
      "execution_count": null,
      "outputs": []
    },
    {
      "cell_type": "markdown",
      "metadata": {
        "id": "wkGt0NWQdUwj"
      },
      "source": [
        "## Arithematic operations\n",
        "\n",
        "Basic arithematic operators: +, -, *, /, ^"
      ]
    },
    {
      "cell_type": "code",
      "metadata": {
        "id": "DXcHNQF9dmci"
      },
      "source": [
        "1 + 2*4^(3/5)"
      ],
      "execution_count": null,
      "outputs": []
    },
    {
      "cell_type": "markdown",
      "metadata": {
        "id": "88HfwU_QWEJO"
      },
      "source": [
        "Scientific notation: 1e-2"
      ]
    },
    {
      "cell_type": "code",
      "metadata": {
        "id": "I_wfRTY7WHUh"
      },
      "source": [
        "1e2 + 1e-2"
      ],
      "execution_count": null,
      "outputs": []
    },
    {
      "cell_type": "markdown",
      "metadata": {
        "id": "SZd-QycYr8Pu"
      },
      "source": [
        "## Comparisons and logical operations"
      ]
    },
    {
      "cell_type": "markdown",
      "metadata": {
        "id": "fqU6sXBLsJi0"
      },
      "source": [
        "Comparisons that will return a logical value:\n",
        "* Less than: ```<```\n",
        "* Less than or equal to: <=\n",
        "* Greater than: >\n",
        "* Greater than or equal to: >=\n",
        "* Equal to: ==\n",
        "* Not equal to: ```!=```"
      ]
    },
    {
      "cell_type": "code",
      "metadata": {
        "id": "Axk5EW6KsPRF"
      },
      "source": [
        "# This statement is false.\n",
        "1 > 2"
      ],
      "execution_count": null,
      "outputs": []
    },
    {
      "cell_type": "code",
      "metadata": {
        "id": "Jczs9X8YsSvH"
      },
      "source": [
        "# This will reture a TRUE value.\n",
        "1 != 2"
      ],
      "execution_count": null,
      "outputs": []
    },
    {
      "cell_type": "markdown",
      "metadata": {
        "id": "boUXHSI_sf0N"
      },
      "source": [
        "Other logical operations:\n",
        "* NOT: !\n",
        "* AND (elementwise): &\n",
        "* OR (elementwise): |"
      ]
    },
    {
      "cell_type": "code",
      "metadata": {
        "id": "xEQeIUZpsmrn"
      },
      "source": [
        "# The negation of 1 < 2\n",
        "! 1 < 2"
      ],
      "execution_count": null,
      "outputs": []
    },
    {
      "cell_type": "code",
      "metadata": {
        "id": "Ob7o4faBszo3"
      },
      "source": [
        "# Assign initial values for a and b.\n",
        "a <- 4\n",
        "b <- 5\n",
        "# Logical experessions.\n",
        "cat(\"a < 10 is\", a < 10, \"\\n\")\n",
        "cat(\"b < 3 is\", b < 3, \"\\n\")\n"
      ],
      "execution_count": null,
      "outputs": []
    },
    {
      "cell_type": "code",
      "metadata": {
        "id": "o_iRGk5JOerE"
      },
      "source": [
        "# Are both expressions TRUE?\n",
        "cat(\"a < 10 & b < 3 is\", a < 10 & b < 3, \"\\n\") \n"
      ],
      "execution_count": null,
      "outputs": []
    },
    {
      "cell_type": "code",
      "metadata": {
        "id": "DV2A8TucOkBQ"
      },
      "source": [
        "# Are one of the expressions TRUE?\n",
        "cat(\"a < 10 | b < 3 is\", a < 10 | b < 3)"
      ],
      "execution_count": null,
      "outputs": []
    },
    {
      "cell_type": "markdown",
      "metadata": {
        "id": "8Y51nnhBst0y"
      },
      "source": [
        "## Getting help"
      ]
    },
    {
      "cell_type": "markdown",
      "metadata": {
        "id": "KlrtggX9dxfA"
      },
      "source": [
        "Getting help is straightforward in R. \n",
        "\n",
        "For information about specific functions or objects, use **?\\<name of funciton>**. "
      ]
    },
    {
      "cell_type": "code",
      "metadata": {
        "id": "OowbAimHd1ft"
      },
      "source": [
        "?class"
      ],
      "execution_count": null,
      "outputs": []
    },
    {
      "cell_type": "markdown",
      "metadata": {
        "id": "Hdxaxob7s5V2"
      },
      "source": [
        "For a keyword search, use **??\\<keyword>**"
      ]
    },
    {
      "cell_type": "code",
      "metadata": {
        "id": "YyQSzEjCs4d1"
      },
      "source": [
        "??assignment"
      ],
      "execution_count": null,
      "outputs": []
    },
    {
      "cell_type": "markdown",
      "metadata": {
        "id": "a3ye6Yqt6r_d"
      },
      "source": [
        "# Data Classes And Objects"
      ]
    },
    {
      "cell_type": "markdown",
      "metadata": {
        "id": "fA2WGM3oGiae"
      },
      "source": [
        "## Atomic Date Types\n",
        "\n",
        "R has five atomic data classes:\n",
        "\n"
      ]
    },
    {
      "cell_type": "markdown",
      "metadata": {
        "id": "fd3ruUJvdWuQ"
      },
      "source": [
        "* Numeric (double)\n",
        "  * Numbers in R are treated as numeric unless specified otherwise."
      ]
    },
    {
      "cell_type": "code",
      "metadata": {
        "id": "i2elyxrhWhPy"
      },
      "source": [
        "# The class() function reveals the class of a R object.\n",
        "class(9.3)\n",
        "class(3)"
      ],
      "execution_count": null,
      "outputs": []
    },
    {
      "cell_type": "markdown",
      "metadata": {
        "id": "McaKmgZMWl51"
      },
      "source": [
        "* Integer"
      ]
    },
    {
      "cell_type": "code",
      "metadata": {
        "id": "cvk20CBhWnj-"
      },
      "source": [
        "# The as.integer() function \"casts\" an object into integer.\n",
        "class(as.integer(3))"
      ],
      "execution_count": null,
      "outputs": []
    },
    {
      "cell_type": "markdown",
      "metadata": {
        "id": "yYB1TMMEWrcJ"
      },
      "source": [
        "* Complex"
      ]
    },
    {
      "cell_type": "code",
      "metadata": {
        "id": "SAoGwy9MWtM_"
      },
      "source": [
        "class(3+2i)"
      ],
      "execution_count": null,
      "outputs": []
    },
    {
      "cell_type": "markdown",
      "metadata": {
        "id": "lKY4G4AnW_8x"
      },
      "source": [
        "* Character"
      ]
    },
    {
      "cell_type": "code",
      "metadata": {
        "id": "ZSwPOLdTXCL6"
      },
      "source": [
        "# Both are categorized as characters.\n",
        "class(\"a\")\n",
        "class(\"a cat\")"
      ],
      "execution_count": null,
      "outputs": []
    },
    {
      "cell_type": "code",
      "metadata": {
        "id": "baRXOq36PyA5"
      },
      "source": [
        "# What about this?\n",
        "class(a)"
      ],
      "execution_count": null,
      "outputs": []
    },
    {
      "cell_type": "markdown",
      "metadata": {
        "id": "MTbSNbhBXTL_"
      },
      "source": [
        "* Logical (T, TRUE, F, FALSE)\n",
        "  * Note that they must be upper case\n",
        "\n"
      ]
    },
    {
      "cell_type": "code",
      "metadata": {
        "id": "xkfyJst0g9ju"
      },
      "source": [
        "class(TRUE)\n",
        "class(T)\n",
        "class(True)"
      ],
      "execution_count": null,
      "outputs": []
    },
    {
      "cell_type": "markdown",
      "metadata": {
        "id": "XXmfAfbU0WrM"
      },
      "source": [
        "`NA` is a logical constant R uses to denote a missing value."
      ]
    },
    {
      "cell_type": "code",
      "metadata": {
        "id": "zw4fxljF0j7R"
      },
      "source": [
        "class(NA)"
      ],
      "execution_count": null,
      "outputs": []
    },
    {
      "cell_type": "markdown",
      "metadata": {
        "id": "lqirzoNChx7X"
      },
      "source": [
        "The **is.\\<type>()** functions, which return logical values, can be used to check for the data classes too. "
      ]
    },
    {
      "cell_type": "code",
      "metadata": {
        "id": "MA3mzcUQnb7Y"
      },
      "source": [
        "a <- 3\n",
        "# Is a numeric?\n",
        "is.numeric(a)\n",
        "# Is a integer?\n",
        "is.integer(a)\n",
        "# Is a logical?\n",
        "is.logical(a)"
      ],
      "execution_count": null,
      "outputs": []
    },
    {
      "cell_type": "markdown",
      "metadata": {
        "id": "HTcdbbaHiDx9"
      },
      "source": [
        "## Derivative Data Types\n",
        "\n",
        "There are many derivative data types which are built using the atomic ones. For exmple, the \"Date\" type."
      ]
    },
    {
      "cell_type": "code",
      "metadata": {
        "id": "B0xwwtZKiLCc"
      },
      "source": [
        "# The function today() returns the date of today.\n",
        "mydate <- today()\n",
        "mydate\n",
        "class(mydate)"
      ],
      "execution_count": null,
      "outputs": []
    },
    {
      "cell_type": "markdown",
      "metadata": {
        "id": "_HQcqdnMjDM6"
      },
      "source": [
        "## Data Objects\n",
        "\n",
        "Now let's look at the data objects in R. They are:\n",
        "\n",
        "* Vectors: elements of same class, one dimension\n",
        "* Matrices: elements of same class, two dimensions\n",
        "* Arrays: elements of same class, 2+ dimensions\n",
        "* Lists: elements can be any objects\n",
        "* Data frames: “datasets” where columns are variables and rows are observations"
      ]
    },
    {
      "cell_type": "markdown",
      "metadata": {
        "id": "f_kFtIRtjW8S"
      },
      "source": [
        "### Vectors\n",
        "\n"
      ]
    },
    {
      "cell_type": "markdown",
      "metadata": {
        "id": "GpbKM_HNeirE"
      },
      "source": [
        "Vectors are one-dimentional arrays that contain elements of the **same** data type."
      ]
    },
    {
      "cell_type": "markdown",
      "metadata": {
        "id": "SPX6G_1fcc4J"
      },
      "source": [
        "Vectors can be constructed by \n",
        "* The **c()** funtion (concatenate):"
      ]
    },
    {
      "cell_type": "code",
      "metadata": {
        "id": "CUfcZG3CAK9f"
      },
      "source": [
        "myvec <- c(1,2,3)\n",
        "myvec"
      ],
      "execution_count": null,
      "outputs": []
    },
    {
      "cell_type": "code",
      "metadata": {
        "id": "lFXK6epPKIyV"
      },
      "source": [
        "# myvec is a numeric vector, so class() will report \"numeric\".\n",
        "class(myvec)\n",
        "is.vector(myvec)"
      ],
      "execution_count": null,
      "outputs": []
    },
    {
      "cell_type": "code",
      "metadata": {
        "id": "s676HbyOAQER"
      },
      "source": [
        "# Of course you can have a character vector, a logical vector, etc.\n",
        "myvec <- c(\"a\",\"b\",\"c\")\n",
        "myvec\n",
        "class(myvec)\n",
        "is.vector(myvec)"
      ],
      "execution_count": null,
      "outputs": []
    },
    {
      "cell_type": "markdown",
      "metadata": {
        "id": "2is8Y5wgcsiO"
      },
      "source": [
        "* The **vector()** function\n",
        "  * The vector will be initiated to the default values."
      ]
    },
    {
      "cell_type": "code",
      "metadata": {
        "id": "xs233Ouie3MU"
      },
      "source": [
        "myvec <- vector(\"logical\", length = 10)\n",
        "myvec"
      ],
      "execution_count": null,
      "outputs": []
    },
    {
      "cell_type": "markdown",
      "metadata": {
        "id": "fNSEYjM-cybd"
      },
      "source": [
        "* The **seq()** and **rep()** functions, or the \":\" operator"
      ]
    },
    {
      "cell_type": "code",
      "metadata": {
        "id": "mLvAqfzaongH"
      },
      "source": [
        "myvec <- seq(from=2,to=10,by=2)\n",
        "myvec"
      ],
      "execution_count": null,
      "outputs": []
    },
    {
      "cell_type": "code",
      "metadata": {
        "id": "yLtdeD_WRrIh"
      },
      "source": [
        "# When calling a function in R, the argument names are optional, so the code below does exactly the same thing.\n",
        "myvec <- seq(2,10,2)\n",
        "myvec"
      ],
      "execution_count": null,
      "outputs": []
    },
    {
      "cell_type": "code",
      "metadata": {
        "id": "ANI4qAC6oplD"
      },
      "source": [
        "myvec <- seq(from=2,to=10,length=5)\n",
        "myvec"
      ],
      "execution_count": null,
      "outputs": []
    },
    {
      "cell_type": "code",
      "metadata": {
        "id": "FKNxx9Q9R7wK"
      },
      "source": [
        "# Without the argument names, the order of arguments is very important!!!\n",
        "# In the example below, the \"5\" will be treated as the \"by\" argument instead of \"length\".\n",
        "myvec <- seq(2,10,5)\n",
        "myvec"
      ],
      "execution_count": null,
      "outputs": []
    },
    {
      "cell_type": "code",
      "metadata": {
        "id": "fpWDtEAJorFK"
      },
      "source": [
        "# Repeat the element \"5\" six times.\n",
        "myvec <- rep(5,6)\n",
        "myvec"
      ],
      "execution_count": null,
      "outputs": []
    },
    {
      "cell_type": "code",
      "metadata": {
        "id": "bQTIhhr-fHbK"
      },
      "source": [
        "# A INTEGER sequence from 1 to 15.\n",
        "myvec <- 1:15\n",
        "myvec\n",
        "class(myvec)"
      ],
      "execution_count": null,
      "outputs": []
    },
    {
      "cell_type": "markdown",
      "metadata": {
        "id": "UZ5rhMVif3_l"
      },
      "source": [
        "* Or a combination of all of them"
      ]
    },
    {
      "cell_type": "code",
      "metadata": {
        "id": "z5940hpBf84c"
      },
      "source": [
        "# How many elements would myvec end up with?\n",
        "myvec <- c(1,8:10,rep(2:4,3))\n",
        "myvec"
      ],
      "execution_count": null,
      "outputs": []
    },
    {
      "cell_type": "markdown",
      "metadata": {
        "id": "699QJqLcgSuA"
      },
      "source": [
        "You can convert an object to a different type using the **as.\\<TYPE>()** functions.\n",
        "\n",
        "Note: the output will be an object of the specified type, while the input remains untouched."
      ]
    },
    {
      "cell_type": "code",
      "metadata": {
        "id": "3M78WQu8gfV0"
      },
      "source": [
        "# myvec is an integer vector.\n",
        "myvec <- 1:3\n",
        "myvec"
      ],
      "execution_count": null,
      "outputs": []
    },
    {
      "cell_type": "code",
      "metadata": {
        "id": "8GWFhYnKh0WM"
      },
      "source": [
        "# The output of as.character(myvec) is a character vector.\n",
        "as.character(myvec)"
      ],
      "execution_count": null,
      "outputs": []
    },
    {
      "cell_type": "code",
      "metadata": {
        "id": "7-VBvonlh3jg"
      },
      "source": [
        "# myvec is still an integer vector.\n",
        "myvec"
      ],
      "execution_count": null,
      "outputs": []
    },
    {
      "cell_type": "markdown",
      "metadata": {
        "id": "mldhHejUp6vN"
      },
      "source": [
        "When converting to logical values, a numeric/integer \"0\" will be FALSE while all non-zeroes will be TRUE."
      ]
    },
    {
      "cell_type": "code",
      "metadata": {
        "id": "1n7dmSZ8qE72"
      },
      "source": [
        "as.logical(0:3)"
      ],
      "execution_count": null,
      "outputs": []
    },
    {
      "cell_type": "markdown",
      "metadata": {
        "id": "3sHvzlJcgeMY"
      },
      "source": [
        "Coercion will occur when mixed objects are passed to the **c()** function, as if an **as.\\<Type>()** function is explicitly called."
      ]
    },
    {
      "cell_type": "code",
      "metadata": {
        "id": "8t53vPtSAQGd"
      },
      "source": [
        "# Which data type would myvec be?\n",
        "myvec <- c(1e3,\"a\")\n",
        "myvec\n",
        "class(myvec)"
      ],
      "execution_count": null,
      "outputs": []
    },
    {
      "cell_type": "markdown",
      "metadata": {
        "id": "fNKo3ZSEphjc"
      },
      "source": [
        "How about this one?"
      ]
    },
    {
      "cell_type": "code",
      "metadata": {
        "id": "MvkIhdRNr79q"
      },
      "source": [
        "c(1.7,\"a\")"
      ],
      "execution_count": null,
      "outputs": []
    },
    {
      "cell_type": "markdown",
      "metadata": {
        "id": "rpuZSD3MplcP"
      },
      "source": [
        "And this one?"
      ]
    },
    {
      "cell_type": "code",
      "metadata": {
        "id": "SdTJOA57rrWH"
      },
      "source": [
        "c(T,2)"
      ],
      "execution_count": null,
      "outputs": []
    },
    {
      "cell_type": "markdown",
      "metadata": {
        "id": "Ez8HiMOoMhfA"
      },
      "source": [
        "Coercion hierarchy in R:\n",
        "\n",
        "logical < integer < numeric < character"
      ]
    },
    {
      "cell_type": "markdown",
      "metadata": {
        "id": "Qc7agGbzoIwp"
      },
      "source": [
        "Caution: type coercion may happen **without you being aware of it and may have unintended results**."
      ]
    },
    {
      "cell_type": "markdown",
      "metadata": {
        "id": "2eI7whmShOZc"
      },
      "source": [
        "One can use the [\\<index>] operator to access individual element in a vector. Note that in R the indices start from 1."
      ]
    },
    {
      "cell_type": "code",
      "metadata": {
        "id": "SMkjHhcIhYZr"
      },
      "source": [
        "myvec <- 1:10\n",
        "# myvec[4] points to the 4th element in the vector.\n",
        "myvec[4]"
      ],
      "execution_count": null,
      "outputs": []
    },
    {
      "cell_type": "markdown",
      "metadata": {
        "id": "cjWS9E1_qijG"
      },
      "source": [
        "For multiple elements with multiple indices, use the **c()** function (the indices need to be passed as a vector themselves)."
      ]
    },
    {
      "cell_type": "code",
      "metadata": {
        "id": "0Y9hNAIgqh-N"
      },
      "source": [
        "# This will not work:\n",
        "myvec[1,4]"
      ],
      "execution_count": null,
      "outputs": []
    },
    {
      "cell_type": "code",
      "metadata": {
        "id": "BV_0w_3204t6"
      },
      "source": [
        "# But this will:\n",
        "myvec[c(1,4)]"
      ],
      "execution_count": null,
      "outputs": []
    },
    {
      "cell_type": "markdown",
      "metadata": {
        "id": "RhFb7_QJrWc2"
      },
      "source": [
        "Negative indices will drop the corresponding elements from the vector."
      ]
    },
    {
      "cell_type": "code",
      "metadata": {
        "id": "rXhbIOw3rbh-"
      },
      "source": [
        "# Drop element 2 through 6.\n",
        "myvec[-6:-2]"
      ],
      "execution_count": null,
      "outputs": []
    },
    {
      "cell_type": "markdown",
      "metadata": {
        "id": "1J2tOhUIrNac"
      },
      "source": [
        "Logical values can be used to access individual elements too."
      ]
    },
    {
      "cell_type": "code",
      "metadata": {
        "id": "0Oub6edFrUYI"
      },
      "source": [
        "# What output do you expect to see?\n",
        "myvec[c(T,F)]"
      ],
      "execution_count": null,
      "outputs": []
    },
    {
      "cell_type": "markdown",
      "metadata": {
        "id": "CtYnVRNuBUGA"
      },
      "source": [
        "**Important:** Lots of R operations process objects in a vectorized way\n",
        "* More efficient, concise, and easier to read."
      ]
    },
    {
      "cell_type": "code",
      "metadata": {
        "id": "1FAlkls2Ba3G"
      },
      "source": [
        "# vec1: 1 2 3 4\n",
        "# vec2: 4 3 2 1\n",
        "vec1 <- 1:4\n",
        "vec2 <- 4:1"
      ],
      "execution_count": null,
      "outputs": []
    },
    {
      "cell_type": "code",
      "metadata": {
        "id": "wRXPJis8ig0R"
      },
      "source": [
        "# Element-wise addition\n",
        "vec1 + vec2"
      ],
      "execution_count": null,
      "outputs": []
    },
    {
      "cell_type": "code",
      "metadata": {
        "id": "KTncXEdzipxM"
      },
      "source": [
        "# Element-wise comparison\n",
        "# The result will be a logical vector with four elements.\n",
        "vec1 > 2"
      ],
      "execution_count": null,
      "outputs": []
    },
    {
      "cell_type": "code",
      "metadata": {
        "id": "Ox4ry-10irS5"
      },
      "source": [
        "# Element-wise comparison\n",
        "vec1 > vec2"
      ],
      "execution_count": null,
      "outputs": []
    },
    {
      "cell_type": "code",
      "metadata": {
        "id": "pfX6Giq3afoc"
      },
      "source": [
        "vec1[3] > 2"
      ],
      "execution_count": null,
      "outputs": []
    },
    {
      "cell_type": "code",
      "metadata": {
        "id": "dBUPBHF7isXg"
      },
      "source": [
        "# Equivalent to \"show all vec1 elements that are greater than their counterparts in vec2\".\n",
        "vec1[vec1 > 1]"
      ],
      "execution_count": null,
      "outputs": []
    },
    {
      "cell_type": "markdown",
      "metadata": {
        "id": "mfNsIgsEWSX_"
      },
      "source": [
        "Sometimes R takes it to the extreme."
      ]
    },
    {
      "cell_type": "code",
      "metadata": {
        "id": "TGy8vQDwWR1-"
      },
      "source": [
        "# vec1: 1 2 3 4 5 \n",
        "# vec2: 4 3 2 1\n",
        "vec1 <- 1:8\n",
        "vec2 <- 4:1\n",
        "# Now vec1 and vec2 are of different length. Would this end up with an error? \n",
        "vec1+vec2"
      ],
      "execution_count": null,
      "outputs": []
    },
    {
      "cell_type": "markdown",
      "metadata": {
        "id": "VKld5NEAAoih"
      },
      "source": [
        "### Matrices\n"
      ]
    },
    {
      "cell_type": "markdown",
      "metadata": {
        "id": "KhSI7T6UCPpk"
      },
      "source": [
        "Matrices are two-dimensional arrays that contain elements of the same type. "
      ]
    },
    {
      "cell_type": "markdown",
      "metadata": {
        "id": "oko-tFFqltHz"
      },
      "source": [
        "Assigning an \"dim\" attribute to a vector turns it into a matrix."
      ]
    },
    {
      "cell_type": "code",
      "metadata": {
        "id": "Qme15v9SlyJ2"
      },
      "source": [
        "# \"mymat\" is a what?\n",
        "mymat <- 1:12\n",
        "mymat\n",
        "dim(mymat)"
      ],
      "execution_count": null,
      "outputs": []
    },
    {
      "cell_type": "code",
      "metadata": {
        "id": "PIekM5Sssifx"
      },
      "source": [
        "# Assign a \"dim\" attribut to mymat turns it into a matrix.\n",
        "dim(mymat) <- c(3,4)\n",
        "mymat"
      ],
      "execution_count": null,
      "outputs": []
    },
    {
      "cell_type": "code",
      "metadata": {
        "id": "DI4BbePTOp1z"
      },
      "source": [
        "# Note the dual purposes of the dim() function.\n",
        "# It displays the dimensions of a data object.\n",
        "dim(mymat)\n",
        "# It also provides a handle to assign values to dimensions.\n",
        "dim(mymat) <- c(2,6)\n",
        "mymat"
      ],
      "execution_count": null,
      "outputs": []
    },
    {
      "cell_type": "markdown",
      "metadata": {
        "id": "bgyIhpASOfSf"
      },
      "source": [
        "Actually, matrices are merely vectors with a \"dimension\" attribute. "
      ]
    },
    {
      "cell_type": "markdown",
      "metadata": {
        "id": "fvrNbJrMlmV2"
      },
      "source": [
        "R matrices can be constructed by using the **matrix()** function as well."
      ]
    },
    {
      "cell_type": "code",
      "metadata": {
        "id": "GkZiv9n5lqA6"
      },
      "source": [
        "matrix(1:12,nrow=3,ncol=4)"
      ],
      "execution_count": null,
      "outputs": []
    },
    {
      "cell_type": "markdown",
      "metadata": {
        "id": "1-AqG09RmBmO"
      },
      "source": [
        "The **matrix()** fucntion construct matrices column‐wise by default. You can use the \"byrow=T\" option to switch to row-wise.\n"
      ]
    },
    {
      "cell_type": "code",
      "metadata": {
        "id": "XUMg5yZkmFVq"
      },
      "source": [
        "matrix(1:12,nrow=3,ncol=4,byrow=T)"
      ],
      "execution_count": null,
      "outputs": []
    },
    {
      "cell_type": "markdown",
      "metadata": {
        "id": "Uvl_J9sSlyVs"
      },
      "source": [
        "Or by using the **cbind()** or **rbind()** functions."
      ]
    },
    {
      "cell_type": "code",
      "metadata": {
        "id": "h-iS3R5ZmBa6"
      },
      "source": [
        "# Treat each argument as a column and bind them should-by-should into a matrix.\n",
        "cbind(1:3,4:6,7:9,10:12)"
      ],
      "execution_count": null,
      "outputs": []
    },
    {
      "cell_type": "code",
      "metadata": {
        "id": "putr3gbKsvZb"
      },
      "source": [
        "# Treat each argument as a row and bind them row-by-row into a matrix.\n",
        "rbind(1:3,4:6,7:9,10:12)"
      ],
      "execution_count": null,
      "outputs": []
    },
    {
      "cell_type": "markdown",
      "metadata": {
        "id": "8EjvH1f7mFkK"
      },
      "source": [
        "• One can use [\\<index>,\\<index>] to access individual elements."
      ]
    },
    {
      "cell_type": "code",
      "metadata": {
        "id": "M6stfeDhm5G4"
      },
      "source": [
        "# What is the output?\n",
        "mymat[3,4]"
      ],
      "execution_count": null,
      "outputs": []
    },
    {
      "cell_type": "markdown",
      "metadata": {
        "id": "li5JUqAwCYNj"
      },
      "source": [
        "### Arrays"
      ]
    },
    {
      "cell_type": "markdown",
      "metadata": {
        "id": "JxDOrW-pCaIq"
      },
      "source": [
        "Arrays consist of elements of same class with a number of dimensions. Vectors and matrices are arrays of 1 and 2 dimensions."
      ]
    },
    {
      "cell_type": "code",
      "metadata": {
        "id": "Qzhr0Nw4nH27"
      },
      "source": [
        "# myarray will be a three-dimensional array\n",
        "myarray <- array(data = 1:12,dim = c(2,2,3))\n",
        "myarray"
      ],
      "execution_count": null,
      "outputs": []
    },
    {
      "cell_type": "code",
      "metadata": {
        "id": "lhtQ3RRudPTC"
      },
      "source": [
        "dim(myarray)"
      ],
      "execution_count": null,
      "outputs": []
    },
    {
      "cell_type": "code",
      "metadata": {
        "id": "fDd8W02PPmTm"
      },
      "source": [
        "# Access an element using the indices.\n",
        "myarray[1,1,2]"
      ],
      "execution_count": null,
      "outputs": []
    },
    {
      "cell_type": "code",
      "metadata": {
        "id": "924DTVCldU-V"
      },
      "source": [
        "myarray[3,4]"
      ],
      "execution_count": null,
      "outputs": []
    },
    {
      "cell_type": "code",
      "metadata": {
        "id": "ppFTx28SPnp6"
      },
      "source": [
        "# Actually, it's fine to treat it as a one-dimensional vector.\n",
        "myarray[5]"
      ],
      "execution_count": null,
      "outputs": []
    },
    {
      "cell_type": "code",
      "metadata": {
        "id": "aHTHnrrvth-0"
      },
      "source": [
        "dim(myarray)\n",
        "# Mold myarray into a matrix.\n",
        "dim(myarray) <- c(3,4)\n",
        "# Then you won't be able to access its element using three indices.\n",
        "myarray[1,1,2]"
      ],
      "execution_count": null,
      "outputs": []
    },
    {
      "cell_type": "markdown",
      "metadata": {
        "id": "vhIuKcVJCi4v"
      },
      "source": [
        "### Lists"
      ]
    },
    {
      "cell_type": "markdown",
      "metadata": {
        "id": "OJ0yD7ucClYs"
      },
      "source": [
        "Lists are an ordered collection of objects, which can be of **different types or classes**."
      ]
    },
    {
      "cell_type": "markdown",
      "metadata": {
        "id": "HTzfaqMknnJ2"
      },
      "source": [
        "Lists can be constructed by using the **list()** function.\n"
      ]
    },
    {
      "cell_type": "code",
      "metadata": {
        "id": "S8Usv5C_nvQX"
      },
      "source": [
        "# Mixing numeric, logical and character.\n",
        "list(1,F,\"a\")"
      ],
      "execution_count": null,
      "outputs": []
    },
    {
      "cell_type": "markdown",
      "metadata": {
        "id": "aK6s7l1Mn-AY"
      },
      "source": [
        "Members of a list do not have to be of atomic types, i.e. they can be vectors, matrices and even lists."
      ]
    },
    {
      "cell_type": "code",
      "metadata": {
        "id": "2GcZ0WG0n9Vl"
      },
      "source": [
        "# Mixing numeric, vector (integer), matrix (integer), list\n",
        "mylist <- list(1,1:5,matrix(1:6,2,3),list(1,F,\"a\"))\n",
        "mylist"
      ],
      "execution_count": null,
      "outputs": []
    },
    {
      "cell_type": "markdown",
      "metadata": {
        "id": "rzJ2Bx4UnuIO"
      },
      "source": [
        "Lists can be indexed using the `[[ ]]` operator."
      ]
    },
    {
      "cell_type": "code",
      "metadata": {
        "id": "lMXnv97wocWl"
      },
      "source": [
        "# The second element in mylist.\n",
        "mylist[[2]]"
      ],
      "execution_count": null,
      "outputs": []
    },
    {
      "cell_type": "markdown",
      "metadata": {
        "id": "p16bwsSL6aOc"
      },
      "source": [
        "The indices can be nested."
      ]
    },
    {
      "cell_type": "code",
      "metadata": {
        "id": "zMIyVhqM6Y2v"
      },
      "source": [
        "# The second element of the fourth element (a list) in my list.\n",
        "mylist[[4]][[2]]"
      ],
      "execution_count": null,
      "outputs": []
    },
    {
      "cell_type": "code",
      "metadata": {
        "id": "Y-pPRXWqQVie"
      },
      "source": [
        "# The [1,3] element of the third element (a matrix) in my list.\n",
        "mylist[[3]][1,3]"
      ],
      "execution_count": null,
      "outputs": []
    },
    {
      "cell_type": "markdown",
      "metadata": {
        "id": "YL7uvFvXo3rR"
      },
      "source": [
        "Elements of R objects can have names."
      ]
    },
    {
      "cell_type": "markdown",
      "metadata": {
        "id": "_dDKckUGqxTv"
      },
      "source": [
        "Names can be specified when an object is created."
      ]
    },
    {
      "cell_type": "code",
      "metadata": {
        "id": "XerI2_7Mq1N9"
      },
      "source": [
        "list(inst=\"LSU\",location=\"Baton Rouge\",state=\"LA\")"
      ],
      "execution_count": null,
      "outputs": []
    },
    {
      "cell_type": "markdown",
      "metadata": {
        "id": "V-mAptaDrGSF"
      },
      "source": [
        "Or they can be specified later when the **names()** function."
      ]
    },
    {
      "cell_type": "code",
      "metadata": {
        "id": "VVxgGiDno7kw"
      },
      "source": [
        "names(mylist) <- c(\"num\",\"vec\",\"mat\",\"lst\")\n",
        "mylist"
      ],
      "execution_count": null,
      "outputs": []
    },
    {
      "cell_type": "markdown",
      "metadata": {
        "id": "kHj7ByHqpEoM"
      },
      "source": [
        "Names can be used to access elements in a data object using the `$` operator. When there are many elements, this could be more convenient than using the indices."
      ]
    },
    {
      "cell_type": "code",
      "metadata": {
        "id": "6yRq-skdpes_"
      },
      "source": [
        "# This is equivalent to mylist[[4]]\n",
        "mylist$lst"
      ],
      "execution_count": null,
      "outputs": []
    },
    {
      "cell_type": "markdown",
      "metadata": {
        "id": "kNKYP4SbpkJm"
      },
      "source": [
        " Indexing operations by names and indices can be nested and mixed."
      ]
    },
    {
      "cell_type": "code",
      "metadata": {
        "id": "HmOCuFmDpEFY"
      },
      "source": [
        "names(mylist$lst) <- c(\"c1\",\"c2\",\"c3\")\n",
        "mylist"
      ],
      "execution_count": null,
      "outputs": []
    },
    {
      "cell_type": "code",
      "metadata": {
        "id": "jsg8P3KCQ58u"
      },
      "source": [
        "# The \"c2\" element of the \"lst\" element in the list \"mylist\".\n",
        "mylist$lst$c2\n",
        "# The same thing.\n",
        "mylist$lst[[2]]\n",
        "# Again, the same thing.\n",
        "mylist[[4]][[2]]"
      ],
      "execution_count": null,
      "outputs": []
    },
    {
      "cell_type": "markdown",
      "metadata": {
        "id": "iJPzTbBHCsVo"
      },
      "source": [
        "### Data frames"
      ]
    },
    {
      "cell_type": "markdown",
      "metadata": {
        "id": "TpXO9HkvCuKv"
      },
      "source": [
        "Data frames are used to store tabular data.\n",
        "* They are a special type of **lists**, where each element is a R vector (\"column\" or \"variable\") and has to be of the same length.\n",
        "* The elements (columns) can be of different classes.\n",
        "* Data frames have special attributes such as row.names.\n",
        "* Data frames can be created by reading data files, using functions such as **read.table()** or **read.csv()**.\n"
      ]
    },
    {
      "cell_type": "markdown",
      "metadata": {
        "id": "H3ReBPXnJ12R"
      },
      "source": [
        "Data frames can be created directly by calling the **data.frame()** function."
      ]
    },
    {
      "cell_type": "code",
      "metadata": {
        "id": "oJNtp7X2J6nu"
      },
      "source": [
        "# Create a dataframe with three rows and two columns (variables).\n",
        "mydf <- data.frame(c(31,40,50), c(\"M\",\"F\",\"M\"))\n",
        "mydf\n",
        "is.vector(mydf[[2]])"
      ],
      "execution_count": null,
      "outputs": []
    },
    {
      "cell_type": "markdown",
      "metadata": {
        "id": "21fJg0nOKCQ6"
      },
      "source": [
        "We usually name the columns so that it's more meanful."
      ]
    },
    {
      "cell_type": "code",
      "metadata": {
        "id": "17B_Kr9yKBVI"
      },
      "source": [
        "# Name the columns\n",
        "colnames(mydf) <- c(\"age\",\"sex\")\n",
        "mydf"
      ],
      "execution_count": null,
      "outputs": []
    },
    {
      "cell_type": "markdown",
      "metadata": {
        "id": "1yM746_VKccW"
      },
      "source": [
        "Row names can be specified as well."
      ]
    },
    {
      "cell_type": "code",
      "metadata": {
        "id": "Xp5vrwERKfEd"
      },
      "source": [
        "# Name the rows\n",
        "rownames(mydf) <- c(\"obs1\",\"obs2\",\"obs3\")\n",
        "mydf"
      ],
      "execution_count": null,
      "outputs": []
    },
    {
      "cell_type": "markdown",
      "metadata": {
        "id": "rEbhKOExMal6"
      },
      "source": [
        "To access individual elements in a data frame, there are a few options:"
      ]
    },
    {
      "cell_type": "markdown",
      "metadata": {
        "id": "xRgdLN_aKtQ8"
      },
      "source": [
        "* Numeric indices"
      ]
    },
    {
      "cell_type": "code",
      "metadata": {
        "id": "4cGXFHP2KwIG"
      },
      "source": [
        "# First row, second column\n",
        "mydf[1,2]"
      ],
      "execution_count": null,
      "outputs": []
    },
    {
      "cell_type": "markdown",
      "metadata": {
        "id": "3sWGcKObLA5Y"
      },
      "source": [
        "* Row and column names"
      ]
    },
    {
      "cell_type": "code",
      "metadata": {
        "id": "8bHbKVsCLDtj"
      },
      "source": [
        "# Sex of the observation #1 (same element as above)\n",
        "mydf[\"obs1\",\"sex\"]"
      ],
      "execution_count": null,
      "outputs": []
    },
    {
      "cell_type": "markdown",
      "metadata": {
        "id": "MeKU0OXBLIjJ"
      },
      "source": [
        "* Or a mix of indices and names"
      ]
    },
    {
      "cell_type": "code",
      "metadata": {
        "id": "MstNHSCrLH_o"
      },
      "source": [
        "mydf[\"obs1\",2]"
      ],
      "execution_count": null,
      "outputs": []
    },
    {
      "cell_type": "markdown",
      "metadata": {
        "id": "PsXKfQlXLWs2"
      },
      "source": [
        "Since data frames are lists, both `[[ ]]` and `$` operators work."
      ]
    },
    {
      "cell_type": "code",
      "metadata": {
        "id": "TfBrE6PeLdf9"
      },
      "source": [
        "mydf[[2]]"
      ],
      "execution_count": null,
      "outputs": []
    },
    {
      "cell_type": "code",
      "metadata": {
        "id": "HRI_YmX8LgF9"
      },
      "source": [
        "mydf$sex"
      ],
      "execution_count": null,
      "outputs": []
    },
    {
      "cell_type": "markdown",
      "metadata": {
        "id": "NBZf5ysyLkx2"
      },
      "source": [
        "You could select rows by leaving the other index blank:"
      ]
    },
    {
      "cell_type": "code",
      "metadata": {
        "id": "4Inl8zwxL6O7"
      },
      "source": [
        "# The first two rows\n",
        "mydf[1:2,]"
      ],
      "execution_count": null,
      "outputs": []
    },
    {
      "cell_type": "markdown",
      "metadata": {
        "id": "K6HhjQlJMAjd"
      },
      "source": [
        "And vice versa:"
      ]
    },
    {
      "cell_type": "code",
      "metadata": {
        "id": "XiA_kAQ6MB8T"
      },
      "source": [
        "# The \"sex\" column\n",
        "mydf[,\"sex\"]"
      ],
      "execution_count": null,
      "outputs": []
    },
    {
      "cell_type": "markdown",
      "metadata": {
        "id": "15tZZUY7MH5N"
      },
      "source": [
        "We can subset a data frame like this:"
      ]
    },
    {
      "cell_type": "code",
      "metadata": {
        "id": "GAI5DLeLMHU8"
      },
      "source": [
        "# Both columns for obs 1 and 3\n",
        "mydf[c(1,3),]"
      ],
      "execution_count": null,
      "outputs": []
    },
    {
      "cell_type": "markdown",
      "metadata": {
        "id": "VB0wM1JC51i_"
      },
      "source": [
        "Or using a vector of logical values:"
      ]
    },
    {
      "cell_type": "code",
      "metadata": {
        "id": "PnLyzVSr57CH"
      },
      "source": [
        "# This gives us a logical vector.\n",
        "mydf$sex == \"M\""
      ],
      "execution_count": null,
      "outputs": []
    },
    {
      "cell_type": "code",
      "metadata": {
        "id": "DWXIIRtHiaRD"
      },
      "source": [
        "# Which can be used to obtain a subset of mydf.\n",
        "mydf[mydf$sex == \"M\",]"
      ],
      "execution_count": null,
      "outputs": []
    },
    {
      "cell_type": "markdown",
      "metadata": {
        "id": "HYy-JykcC7si"
      },
      "source": [
        "## Querying Object Attributes"
      ]
    },
    {
      "cell_type": "markdown",
      "metadata": {
        "id": "0iNRTLBU3Uos"
      },
      "source": [
        "There are a few functions in R that help us obtain information about an object."
      ]
    },
    {
      "cell_type": "markdown",
      "metadata": {
        "id": "q4Sohnrh3hVg"
      },
      "source": [
        "We will work with the \"mtcars\" data frame in this section."
      ]
    },
    {
      "cell_type": "code",
      "metadata": {
        "id": "P5dwnwu33dVt"
      },
      "source": [
        "# Get some help information on the data frame.\n",
        "?mtcars"
      ],
      "execution_count": null,
      "outputs": []
    },
    {
      "cell_type": "code",
      "metadata": {
        "id": "Iy6EH-6jQpJ9"
      },
      "source": [
        "# Print the data frame to screen.\n",
        "mtcars"
      ],
      "execution_count": null,
      "outputs": []
    },
    {
      "cell_type": "markdown",
      "metadata": {
        "id": "kcQlMV6T2GNP"
      },
      "source": [
        "We have already seen the **class()** function, which reveals the type of an object."
      ]
    },
    {
      "cell_type": "code",
      "metadata": {
        "id": "cMcVXZ3O2LNm"
      },
      "source": [
        "class(mtcars)"
      ],
      "execution_count": null,
      "outputs": []
    },
    {
      "cell_type": "markdown",
      "metadata": {
        "id": "aAGjyA4G2fVE"
      },
      "source": [
        "The **length()** function shows the length of an object."
      ]
    },
    {
      "cell_type": "code",
      "metadata": {
        "id": "refsgm-J2m18"
      },
      "source": [
        "length(mtcars)"
      ],
      "execution_count": null,
      "outputs": []
    },
    {
      "cell_type": "markdown",
      "metadata": {
        "id": "pQSUwXw67Pe0"
      },
      "source": [
        "The **nrow()** function counts the number of rows in a data frame."
      ]
    },
    {
      "cell_type": "code",
      "metadata": {
        "id": "XwL9Gvf57UfI"
      },
      "source": [
        "nrow(mtcars)"
      ],
      "execution_count": null,
      "outputs": []
    },
    {
      "cell_type": "markdown",
      "metadata": {
        "id": "M9pPtTER2eCj"
      },
      "source": [
        "The **dim()** function reveals the dimension of an object."
      ]
    },
    {
      "cell_type": "code",
      "metadata": {
        "id": "G8UwvD7Y25oH"
      },
      "source": [
        "dim(mtcars)"
      ],
      "execution_count": null,
      "outputs": []
    },
    {
      "cell_type": "markdown",
      "metadata": {
        "id": "7Qfm9mwe3EOc"
      },
      "source": [
        "The **attributes()** function reveals attributes of an object."
      ]
    },
    {
      "cell_type": "code",
      "metadata": {
        "id": "1FSg1jgJ3QXh"
      },
      "source": [
        "attributes(mtcars)"
      ],
      "execution_count": null,
      "outputs": []
    },
    {
      "cell_type": "markdown",
      "metadata": {
        "id": "MAIM2wbHC_Ra"
      },
      "source": [
        "The **str()** function shows the internal strucutre of a R object.\n"
      ]
    },
    {
      "cell_type": "code",
      "metadata": {
        "id": "XaDIpQZy3vAN"
      },
      "source": [
        "str(mtcars)"
      ],
      "execution_count": null,
      "outputs": []
    },
    {
      "cell_type": "markdown",
      "metadata": {
        "id": "Gmt6NO9RGRuU"
      },
      "source": [
        "## Exercise 1"
      ]
    },
    {
      "cell_type": "markdown",
      "metadata": {
        "id": "7KLECRpoMhCi"
      },
      "source": [
        "1. Learn about the **airquality** data frame and answer the following quetions:\n",
        "  * What is the source of the data?\n",
        "  * How many rows and columns are there in the data frame? \n",
        "  * What does each column represent?\n",
        "2. Find the percentage of days when the high tempature measured at La Guardia Airport exceeded 70.\n",
        "3. Find the number of days when the wind speed is between 10 and 20 miles per hour."
      ]
    },
    {
      "cell_type": "code",
      "metadata": {
        "cellView": "form",
        "id": "6aI-39pBSzQh"
      },
      "source": [
        "#@title Hint\n",
        "# Use a logical vector as indices to subset a data frame."
      ],
      "execution_count": null,
      "outputs": []
    },
    {
      "cell_type": "code",
      "metadata": {
        "id": "xvTL9soMkWz3"
      },
      "source": [
        "#@title Solution { display-mode: \"form\" }\n",
        "# question 1\n",
        "?airquality\n",
        "\n",
        "attach(airquality)\n",
        "\n",
        "# question 2\n",
        "nrow(airquality[Temp > 70,])/nrow(airquality)*100\n",
        "\n",
        "# question 3\n",
        "nrow(airquality[Wind > 10 & Wind < 20,])\n",
        "\n",
        "detach(airquality)"
      ],
      "execution_count": null,
      "outputs": []
    },
    {
      "cell_type": "markdown",
      "metadata": {
        "id": "e_zdlnDknXgY"
      },
      "source": [
        "# Data Management"
      ]
    },
    {
      "cell_type": "markdown",
      "metadata": {
        "id": "VPcgF94nm1NQ"
      },
      "source": [
        "In this section, we will cover some of the most frequently used operations during data cleaning and preprocessing."
      ]
    },
    {
      "cell_type": "markdown",
      "metadata": {
        "id": "senZmRS6nx9z"
      },
      "source": [
        "## Adding and removing variables"
      ]
    },
    {
      "cell_type": "markdown",
      "metadata": {
        "id": "8VaP_P4Zkt3V"
      },
      "source": [
        "To add columns/variables to a dataframe, we can simply use the assignment operation."
      ]
    },
    {
      "cell_type": "code",
      "metadata": {
        "id": "pP5Ea1V0kM9F"
      },
      "source": [
        "mydf"
      ],
      "execution_count": null,
      "outputs": []
    },
    {
      "cell_type": "code",
      "metadata": {
        "id": "_hxxey6akVLh"
      },
      "source": [
        "# Add a logical variable \"active\" to the dataframe.\n",
        "mydf$active <- c(T,F,T)\n",
        "mydf"
      ],
      "execution_count": null,
      "outputs": []
    },
    {
      "cell_type": "code",
      "metadata": {
        "id": "vp0FMgR6kmOf"
      },
      "source": [
        "# Add a numeric variable \"ageFirstDose\".\n",
        "mydf$ageFirstDose <- 21\n",
        "mydf"
      ],
      "execution_count": null,
      "outputs": []
    },
    {
      "cell_type": "code",
      "metadata": {
        "id": "I2GtnhfulGZ4"
      },
      "source": [
        "# Add a numeric variable whose values are the differences between \"age\" and \"ageFirstDose\".\n",
        "mydf$ageDiff <- mydf$age - mydf$ageFirstDose\n",
        "mydf"
      ],
      "execution_count": null,
      "outputs": []
    },
    {
      "cell_type": "markdown",
      "metadata": {
        "id": "yX_oNpqYl0Mx"
      },
      "source": [
        "To drop columns, we can either include the ones to keep or exclude the ones to drop."
      ]
    },
    {
      "cell_type": "code",
      "metadata": {
        "id": "ZOZgjH-CltiO"
      },
      "source": [
        "# Drop all columns other than \"age\" and \"sex\".\n",
        "mydf[,c(\"age\",\"sex\")]"
      ],
      "execution_count": null,
      "outputs": []
    },
    {
      "cell_type": "code",
      "metadata": {
        "id": "-2JJ208VmYgi"
      },
      "source": [
        "# Drop the third and fourth columns\n",
        "mydf[,c(-3,-4)]"
      ],
      "execution_count": null,
      "outputs": []
    },
    {
      "cell_type": "code",
      "metadata": {
        "id": "JWsnHJGwmn8E"
      },
      "source": [
        "# We can rearrage the order of columns too.\n",
        "mydf[,c(3:5,1)]"
      ],
      "execution_count": null,
      "outputs": []
    },
    {
      "cell_type": "markdown",
      "metadata": {
        "id": "I6RBRsNcngXL"
      },
      "source": [
        "## Subsetting/slicing"
      ]
    },
    {
      "cell_type": "markdown",
      "metadata": {
        "id": "C8nVeWDEnilJ"
      },
      "source": [
        "We have seen that we can include/exclude certain columns and rows by using either indices or names."
      ]
    },
    {
      "cell_type": "code",
      "metadata": {
        "id": "Thj6O9sfn8L7"
      },
      "source": [
        "# Select row 1,3,5 and column \"mpg\" and \"cyl\" from the mtcars dataframe.\n",
        "mtcars[c(1,3,5),c(\"mpg\",\"cyl\")]"
      ],
      "execution_count": null,
      "outputs": []
    },
    {
      "cell_type": "markdown",
      "metadata": {
        "id": "eiaDDx_QoU0M"
      },
      "source": [
        "We can use a logical vector as the row indices to include/exclude rows. "
      ]
    },
    {
      "cell_type": "code",
      "metadata": {
        "id": "VUym5NNQokv8"
      },
      "source": [
        "mtcars$mpg > 20\n",
        "# Keep only the rows with mpg > 20.\n",
        "mtcars[mtcars$mpg > 20,]"
      ],
      "execution_count": null,
      "outputs": []
    },
    {
      "cell_type": "code",
      "metadata": {
        "id": "qrxNpq8foTLS"
      },
      "source": [
        "# Keep only the rows with mpg > 20 AND hp > 100.\n",
        "mtcars[mtcars$mpg > 20 & mtcars$hp > 100,]"
      ],
      "execution_count": null,
      "outputs": []
    },
    {
      "cell_type": "markdown",
      "metadata": {
        "id": "i1C20jqtrCow"
      },
      "source": [
        "Another way of generating the logical vector is to use the ```%in%``` operator. It takes two vectors as arguments, and, for each element in the first vector, performs a match operation in the second vector. If a match is made, it will return a logical TRUE; if not, a FALSE. "
      ]
    },
    {
      "cell_type": "code",
      "metadata": {
        "id": "2Pxb7vVtrlEj"
      },
      "source": [
        "carmodels <- data.frame(model=c('Toyota Corolla','Toyota Corona','Toyota Camry'),\n",
        "  country=rep('Japan',3))\n",
        "carmodels\n",
        "\n",
        "# The output is a logical vector of the same length with mtcars, \n",
        "# each element of which indicates whether a match is found in the second vector.\n",
        "row.names(mtcars) %in% carmodels$model"
      ],
      "execution_count": null,
      "outputs": []
    },
    {
      "cell_type": "code",
      "metadata": {
        "id": "jI-LGGi2qY9M"
      },
      "source": [
        "# The output can be used to slice the orginal data frame.\n",
        "mtcars[row.names(mtcars) %in% carmodels$model,]"
      ],
      "execution_count": null,
      "outputs": []
    },
    {
      "cell_type": "markdown",
      "metadata": {
        "id": "G-rV_fJfkeCq"
      },
      "source": [
        "The ```match()``` function performs a similar operation, but instead of a logical vector, returns the indices of the matched values in the second vector."
      ]
    },
    {
      "cell_type": "code",
      "metadata": {
        "id": "IDJUQDI6kEIO"
      },
      "source": [
        "match(row.names(mtcars), carmodels$model)"
      ],
      "execution_count": null,
      "outputs": []
    },
    {
      "cell_type": "code",
      "metadata": {
        "id": "1znGPxEmnN8a"
      },
      "source": [
        "# We can use the match() function to perform a \"dictionary lookup\".\n",
        "countryLookup <- carmodels[match(row.names(mtcars), carmodels$model),\"country\"]\n",
        "mtcarsWithCountry <- cbind.data.frame(mtcars,country=countryLookup)\n",
        "mtcarsWithCountry"
      ],
      "execution_count": null,
      "outputs": []
    },
    {
      "cell_type": "markdown",
      "metadata": {
        "id": "WPjMcF7upA0D"
      },
      "source": [
        "Or we can use the ```subset``` function, which makes the code easier to read."
      ]
    },
    {
      "cell_type": "code",
      "metadata": {
        "id": "g_ap2HpFpHyk"
      },
      "source": [
        "# Keep only the rows with mpg > 20 AND hp > 100 AND disp > 100,\n",
        "# and drop all columns excpet mpg,hp,cyl, and disp.\n",
        "subset(mtcars, mpg > 20 & hp > 100 & disp > 100, select = c(mpg,hp,cyl,disp))"
      ],
      "execution_count": null,
      "outputs": []
    },
    {
      "cell_type": "markdown",
      "metadata": {
        "id": "2-Zs1yQgnG0e"
      },
      "source": [
        "## Merging"
      ]
    },
    {
      "cell_type": "markdown",
      "metadata": {
        "id": "nbIL62uOnG0e"
      },
      "source": [
        "We can use the ```merge``` function to merge two dataframes that have common columns, i.e. merge horizontally."
      ]
    },
    {
      "cell_type": "code",
      "metadata": {
        "id": "dXq7OS2mnG0e"
      },
      "source": [
        "mydf1 <- data.frame(state=c(\"Louisiana\",\"Texas\",\"Alabama\"),short=c(\"LA\",\"TX\",\"AL\"))\n",
        "mydf1"
      ],
      "execution_count": null,
      "outputs": []
    },
    {
      "cell_type": "code",
      "metadata": {
        "id": "i0jR3nHjnG0f"
      },
      "source": [
        "mydf2 <- data.frame(state=c(\"Louisiana\",\"Texas\",\"Alabama\"),pop=c(5,29,5))\n",
        "mydf2"
      ],
      "execution_count": null,
      "outputs": []
    },
    {
      "cell_type": "code",
      "metadata": {
        "id": "QfrupknonG0f"
      },
      "source": [
        "# Merge mydf1 and mydf2 with the common column being \"state\".\n",
        "mydf3 <- merge(mydf1,mydf2,by=\"state\")\n",
        "mydf3"
      ],
      "execution_count": null,
      "outputs": []
    },
    {
      "cell_type": "markdown",
      "metadata": {
        "id": "d7NGVQesnG0f"
      },
      "source": [
        "When merging dataframes vertically, i.e., adding rows, use the ```rbind.data.frame``` function. "
      ]
    },
    {
      "cell_type": "code",
      "metadata": {
        "id": "l9B_aGd5nG0f"
      },
      "source": [
        "mydf4 <- data.frame(state=c(\"Arkansas\",\"Florida\"),pop=c(3,22),short=c(\"AR\",\"FL\"))\n",
        "mydf4"
      ],
      "execution_count": null,
      "outputs": []
    },
    {
      "cell_type": "code",
      "metadata": {
        "id": "ezSjPrQpnG0f"
      },
      "source": [
        "rbind.data.frame(mydf3,mydf4)"
      ],
      "execution_count": null,
      "outputs": []
    },
    {
      "cell_type": "markdown",
      "metadata": {
        "id": "CLCShQsBo4zW"
      },
      "source": [
        "## Sorting"
      ]
    },
    {
      "cell_type": "markdown",
      "metadata": {
        "id": "tVPP7jzno4zX"
      },
      "source": [
        "Sort and order elements: `sort()`, `rank()` and `order(`)."
      ]
    },
    {
      "cell_type": "markdown",
      "metadata": {
        "id": "DpKqnmmqo4zX"
      },
      "source": [
        "By default, the **sort()** functions sorts the values in a vector into ascending order."
      ]
    },
    {
      "cell_type": "code",
      "metadata": {
        "id": "Ks6M4PMUo4zX"
      },
      "source": [
        "# This is the original order.\n",
        "mtcars$mpg\n",
        "# This is the sorted order.\n",
        "sort(mtcars$mpg)"
      ],
      "execution_count": null,
      "outputs": []
    },
    {
      "cell_type": "markdown",
      "metadata": {
        "id": "ho5Qdx--o4zX"
      },
      "source": [
        "The ```decreasing=T``` option will sort a vector into descending order."
      ]
    },
    {
      "cell_type": "code",
      "metadata": {
        "id": "Fqy6V92Go4zX"
      },
      "source": [
        "sort(mtcars$mpg, decreasing=T)"
      ],
      "execution_count": null,
      "outputs": []
    },
    {
      "cell_type": "markdown",
      "metadata": {
        "id": "xeboVSBGo4zX"
      },
      "source": [
        "In contrast, the **order()** functions returns the indices in order.\n"
      ]
    },
    {
      "cell_type": "code",
      "metadata": {
        "id": "hfNHsi9Vo4zY"
      },
      "source": [
        "#order(mtcars$mpg)\n",
        "order(mtcars$mpg, decreasing=T)"
      ],
      "execution_count": null,
      "outputs": []
    },
    {
      "cell_type": "markdown",
      "metadata": {
        "id": "VjJkVBr9o4zY"
      },
      "source": [
        "Users can use the indices returned by **order()** to change the order of rows in a data frame."
      ]
    },
    {
      "cell_type": "code",
      "metadata": {
        "id": "9oe0u_u8o4zY"
      },
      "source": [
        "# The data frame in the original order.\n",
        "mtcars"
      ],
      "execution_count": null,
      "outputs": []
    },
    {
      "cell_type": "code",
      "metadata": {
        "id": "lDAaWNomo4zY"
      },
      "source": [
        "# The reorder data fram according the values of the mpg variable.\n",
        "mtcars[order(mtcars$mpg),]"
      ],
      "execution_count": null,
      "outputs": []
    },
    {
      "cell_type": "markdown",
      "metadata": {
        "id": "dS0LCriSdgXx"
      },
      "source": [
        "The **rank()** function returns the ranks of the values in a vector."
      ]
    },
    {
      "cell_type": "code",
      "metadata": {
        "id": "K_NPHxVYpWjb"
      },
      "source": [
        "rank(mtcars$mpg, ties.method = \"min\")"
      ],
      "execution_count": null,
      "outputs": []
    },
    {
      "cell_type": "code",
      "metadata": {
        "id": "hazpzP2hds3m"
      },
      "source": [
        "# The \"ties.method\" option decides how equal values are handled.\n",
        "data.frame(mpg=mtcars$mpg,rank=rank(mtcars$mpg, ties.method = \"min\"))"
      ],
      "execution_count": null,
      "outputs": []
    },
    {
      "cell_type": "markdown",
      "metadata": {
        "id": "BgOc3oJEsSna"
      },
      "source": [
        "## Missing values"
      ]
    },
    {
      "cell_type": "markdown",
      "metadata": {
        "id": "QwbDt5WftTJI"
      },
      "source": [
        "Missing values (missing data) are a common problem in data science. It can have a significant effect on the conclusions that can be drawn from the data. Therefore, R has many functions and packages that deal with the missing value problem.\n",
        "\n",
        "The ```complete.cases``` function will scan a dataframe and return a logical vector where the rows without missing values are TRUE and those with missing values FALSE."
      ]
    },
    {
      "cell_type": "code",
      "metadata": {
        "id": "FfrkRoWQseMX"
      },
      "source": [
        "# In the airquality dataset we have used for Exercise 1, there are some missing values.\n",
        "complete.cases(airquality)"
      ],
      "execution_count": null,
      "outputs": []
    },
    {
      "cell_type": "markdown",
      "metadata": {
        "id": "oWfuOVwnuCqm"
      },
      "source": [
        "The simplest way of dealing with missing values is to drop all rows with missing values (not necessarily the best way!)."
      ]
    },
    {
      "cell_type": "code",
      "metadata": {
        "id": "wEzPOgd6tsGv"
      },
      "source": [
        "airquality[complete.cases(airquality),]"
      ],
      "execution_count": null,
      "outputs": []
    },
    {
      "cell_type": "markdown",
      "metadata": {
        "id": "nWdd7YtBpmt7"
      },
      "source": [
        "## Exercise 2\n",
        "\n",
        "Using the **airquality** data, find the average wind speed for the 10 hottest days on record.\n",
        "\n"
      ]
    },
    {
      "cell_type": "code",
      "metadata": {
        "cellView": "form",
        "id": "iQx-N-D4pmt7"
      },
      "source": [
        "#@title Hint\n",
        "# Use the order() function \n",
        "# to find the indices of the 10 hottest days."
      ],
      "execution_count": null,
      "outputs": []
    },
    {
      "cell_type": "code",
      "metadata": {
        "id": "fU2kHFwXpmt7"
      },
      "source": [
        "#@title Solution { display-mode: \"form\" }\n",
        "mean(airquality[order(airquality$Temp,decreasing=T),\"Wind\"][1:10])"
      ],
      "execution_count": null,
      "outputs": []
    },
    {
      "cell_type": "markdown",
      "metadata": {
        "id": "BJf2dV09qOpi"
      },
      "source": [
        "# Flow Control Structures"
      ]
    },
    {
      "cell_type": "markdown",
      "metadata": {
        "id": "XYdPwSqNqOpq"
      },
      "source": [
        "Flow control structures in R, which allow one to control the flow of execution, are similar to other languages."
      ]
    },
    {
      "cell_type": "markdown",
      "metadata": {
        "id": "-6taaBo0qOpq"
      },
      "source": [
        "## Condition testing"
      ]
    },
    {
      "cell_type": "markdown",
      "metadata": {
        "id": "DLcui3SlqOpq"
      },
      "source": [
        "Test a condition with the **if...else if...else** structure:\n",
        "\n",
        "```\n",
        "if (condition 1 is true) {\n",
        "  do something\n",
        "} else if (condition 2 is true) {\n",
        "  do something else\n",
        "} else {\n",
        "  do something more\n",
        "}\n",
        "```\n",
        "\n"
      ]
    },
    {
      "cell_type": "code",
      "metadata": {
        "id": "R36rTt_uqOpq"
      },
      "source": [
        "if (length(mtcars) > 3) {\n",
        "  print(\"We have more than 3 car models!\")\n",
        "}"
      ],
      "execution_count": null,
      "outputs": []
    },
    {
      "cell_type": "markdown",
      "metadata": {
        "id": "K1efdprdqOpr"
      },
      "source": [
        "## Loops"
      ]
    },
    {
      "cell_type": "markdown",
      "metadata": {
        "id": "DP1zn5tZqOpr"
      },
      "source": [
        "Loops with ```for```:\n",
        "\n",
        "```\n",
        "for (variable in sequence) {\n",
        "  statements\n",
        "}\n",
        "```"
      ]
    },
    {
      "cell_type": "code",
      "metadata": {
        "id": "RnFgurd3qOpr"
      },
      "source": [
        "for (i in 1:10) {\n",
        "  print(i^3)\n",
        "}"
      ],
      "execution_count": null,
      "outputs": []
    },
    {
      "cell_type": "markdown",
      "metadata": {
        "id": "6K_fLx3BqOpr"
      },
      "source": [
        "Compared to other languages, loops are not as frequently used in R because many operations and functions are inherently vectorized. "
      ]
    },
    {
      "cell_type": "markdown",
      "metadata": {
        "id": "2RO8orLEqOps"
      },
      "source": [
        "For instance, This line of code does exactly the same thing as the code block above:"
      ]
    },
    {
      "cell_type": "code",
      "metadata": {
        "id": "ezCLqRXAqOps"
      },
      "source": [
        "(1:10)^3"
      ],
      "execution_count": null,
      "outputs": []
    },
    {
      "cell_type": "markdown",
      "metadata": {
        "id": "lDYELm3jqOps"
      },
      "source": [
        "In addition, the family of **apply()** functions are very useful to perform operation over all elements of a vector/list (more on this later)."
      ]
    },
    {
      "cell_type": "markdown",
      "metadata": {
        "id": "QYHSyiO264Lo"
      },
      "source": [
        "# Useful Functions (1)"
      ]
    },
    {
      "cell_type": "markdown",
      "metadata": {
        "id": "SSHcFWAE8d1O"
      },
      "source": [
        "## Simple Statistic Functions"
      ]
    },
    {
      "cell_type": "markdown",
      "metadata": {
        "id": "JjtMGQ9CWlgd"
      },
      "source": [
        "* **min()**: Minimum value\n",
        "* **max()**: Maximum value\n",
        "* **which.min()**: Location of minimum value\n",
        "* **which.max()**: Location of maximum value\n",
        "* **sum()**: Sum of the elements of a vector\n",
        "* **mean()**: Mean of the elements of a vector\n",
        "* **sd()**: Standard deviation of the elements of a vector\n",
        "* **quantile()**: Show quantiles of a vector\n",
        "* **summary()**: Display descriptive statistics"
      ]
    },
    {
      "cell_type": "code",
      "metadata": {
        "id": "87Rj_9-lWr4U"
      },
      "source": [
        "mean(mtcars$mpg)"
      ],
      "execution_count": null,
      "outputs": []
    },
    {
      "cell_type": "code",
      "metadata": {
        "id": "XZvXBHym9DkW"
      },
      "source": [
        "# The summary function will report a few statistics for each varialbe in the data frame.\n",
        "summary(mtcars)"
      ],
      "execution_count": null,
      "outputs": []
    },
    {
      "cell_type": "markdown",
      "metadata": {
        "id": "3s7c6x5BwU6q"
      },
      "source": [
        "The **table()** function tabulates factors or find the frequency of an object.\n",
        "\n",
        "For instance, in the **mtcars** data frame, we can get the frequency table by the combination of the numbers of cylinders and gears: \n"
      ]
    },
    {
      "cell_type": "code",
      "metadata": {
        "id": "OptkIM5FIZLN"
      },
      "source": [
        "table(mtcars[,c(\"cyl\",\"gear\")])"
      ],
      "execution_count": null,
      "outputs": []
    },
    {
      "cell_type": "markdown",
      "metadata": {
        "id": "Tu3bLnYBmDHt"
      },
      "source": [
        "## Distributions and Random Variables"
      ]
    },
    {
      "cell_type": "markdown",
      "metadata": {
        "id": "buoMxY5DmLdF"
      },
      "source": [
        "For each statistic distribution below, R provides four functions: density (d), cumulative density (p), quantile (q), and random generation (r). \n"
      ]
    },
    {
      "cell_type": "markdown",
      "metadata": {
        "id": "D9gZxNN7mRij"
      },
      "source": [
        "Distrituion | Name in R \n",
        "\n",
        "* Uniform | ```unif``` \n",
        "* Binomial | ```binom```\n",
        "* Poisson | ```pois```\n",
        "* Geometric | ```geom```\n",
        "* Gamma | ```gamma```\n",
        "* Normal | ```norm```\n",
        "* Log Normal | ```lnorm```\n",
        "* Exponential | ```exp```\n",
        "* Student's t | ```t```"
      ]
    },
    {
      "cell_type": "markdown",
      "metadata": {
        "id": "hcrAZzrGNibA"
      },
      "source": [
        "The function name is of the form **[d|p|q|r]\\<name of\n",
        "distribution\\>**. For example,  **qbinom()** gives the quantile of a binomial distribution.\n",
        "\n",
        "To generate a random sample of 10 from the standard normal distribution:"
      ]
    },
    {
      "cell_type": "code",
      "metadata": {
        "id": "hb2F99Jumg4H"
      },
      "source": [
        "# Each time it is run, the sample would be different.\n",
        "rnorm(10,mean=0,sd=1)"
      ],
      "execution_count": null,
      "outputs": []
    },
    {
      "cell_type": "markdown",
      "metadata": {
        "id": "rRgDgUcHJxXQ"
      },
      "source": [
        "The p-value for 1.96 and its inverse function (standard normal distribution):"
      ]
    },
    {
      "cell_type": "code",
      "metadata": {
        "id": "iY-8nNGCmk8C"
      },
      "source": [
        "pnorm(1.96)\n",
        "qnorm(pnorm(1.96))"
      ],
      "execution_count": null,
      "outputs": []
    },
    {
      "cell_type": "markdown",
      "metadata": {
        "id": "FRXeOROPSjqn"
      },
      "source": [
        "When genrating random samples, setting the seed to the same value will generate the same sample."
      ]
    },
    {
      "cell_type": "code",
      "metadata": {
        "id": "nbG3WzhWbqHA"
      },
      "source": [
        "# A \"true\" random sample (varies every time)\n",
        "rnorm(10,mean=0,sd=1)"
      ],
      "execution_count": null,
      "outputs": []
    },
    {
      "cell_type": "code",
      "metadata": {
        "id": "3XAMjgH8tMXh"
      },
      "source": [
        "# A sample with seed \"15\" (mainly for debugging purpose)\n",
        "set.seed(15)\n",
        "rnorm(10,mean=0,sd=1)\n",
        "set.seed(15)\n",
        "rnorm(10,mean=0,sd=1)"
      ],
      "execution_count": null,
      "outputs": []
    },
    {
      "cell_type": "markdown",
      "metadata": {
        "id": "LwClNtWkwou3"
      },
      "source": [
        "## Exercise 3\n",
        "\n",
        "Using the **airquality** data, draw 1000 random samples of 10 from the temperature measurement, and plot the sample means (to show the central tendency).\n",
        "\n",
        "Use the *hist(dataset)* function to create a histogram.\n"
      ]
    },
    {
      "cell_type": "code",
      "metadata": {
        "id": "xLjb_n2pwtc5",
        "cellView": "form"
      },
      "source": [
        "#@title Hint\n",
        "# Use a for loop\n",
        "# Use the runif function to create a random sample of 10"
      ],
      "execution_count": null,
      "outputs": []
    },
    {
      "cell_type": "code",
      "metadata": {
        "id": "cYMcdrFfwxiW"
      },
      "source": [
        "#@title Solution { display-mode: \"form\" }\n",
        "\n",
        "# Create a vector to store the results.\n",
        "nSamples <- 1000\n",
        "sampleMean <- vector(\"numeric\",nSamples)\n",
        "\n",
        "for (i in 1:nSamples) {\n",
        "\n",
        "  # In each iteration, use the runif function to \n",
        "  # generate 10 random numbers between 0 and 1.\n",
        "  # Then use them to get 10 measurements of temperature.\n",
        "  sampleMean[i] <- mean(airquality[ceiling(runif(10)*nrow(airquality)),\"Temp\"])\n",
        "  \n",
        "  # R provides a sample() function that can \n",
        "  # perform the same operation  \n",
        "  #sampleMean[i] <- mean(airquality[sample(1:nrow(airquality),10,replace=F),\"Temp\"])\n",
        "\n",
        "}\n",
        "\n",
        "# Plot the data.\n",
        "hist(sampleMean)"
      ],
      "execution_count": null,
      "outputs": []
    },
    {
      "cell_type": "markdown",
      "metadata": {
        "id": "qcHFmvpRU2px"
      },
      "source": [
        "# Useful Functions (2)"
      ]
    },
    {
      "cell_type": "markdown",
      "metadata": {
        "id": "bIradhn8nAsX"
      },
      "source": [
        "## The Apply family of functions"
      ]
    },
    {
      "cell_type": "markdown",
      "metadata": {
        "id": "R6ffwwyUwjdc"
      },
      "source": [
        "The **apply()** function evaluate a function over\n",
        "the margins of an array\n",
        "* More concise than the ```for``` loops (not necessarily\n",
        "faster)"
      ]
    },
    {
      "cell_type": "markdown",
      "metadata": {
        "id": "sUOJzrFxVODO"
      },
      "source": [
        "Syntax:\n",
        "\n",
        "```\n",
        " apply(data,dimension,function,function parameters)\n",
        " ```"
      ]
    },
    {
      "cell_type": "markdown",
      "metadata": {
        "id": "viRlf7S2UACn"
      },
      "source": [
        "For example, if we want to calculate the mean of each variable in **mtcars**:"
      ]
    },
    {
      "cell_type": "code",
      "metadata": {
        "id": "355S8X8rhrps"
      },
      "source": [
        "# Apply the mean() function to the columns (variables) of mtcars.\n",
        "apply(mtcars,2,mean)\n"
      ],
      "execution_count": null,
      "outputs": []
    },
    {
      "cell_type": "markdown",
      "metadata": {
        "id": "q4scfeRflWul"
      },
      "source": [
        "Which is (almost) equivalent to:"
      ]
    },
    {
      "cell_type": "code",
      "metadata": {
        "id": "bA2PNkcGlXyO"
      },
      "source": [
        "for (i in 1:ncol(mtcars)) {\n",
        "  print(mean(mtcars[,i]))\n",
        "}"
      ],
      "execution_count": null,
      "outputs": []
    },
    {
      "cell_type": "markdown",
      "metadata": {
        "id": "I8rfXbF1VHh_"
      },
      "source": [
        "It can perform multiple calculations in one function call:"
      ]
    },
    {
      "cell_type": "code",
      "metadata": {
        "id": "3sg49uJ9VGDY"
      },
      "source": [
        "# Find the 1st and 3rd quantile of each varialbe in mtcars.\n",
        "apply(mtcars, 2, quantile, probs = c(0.25, 0.5, 0.75))"
      ],
      "execution_count": null,
      "outputs": []
    },
    {
      "cell_type": "markdown",
      "metadata": {
        "id": "eXp5rsoOwkG-"
      },
      "source": [
        "Other member of the **apply()** family include:\n",
        "* **lapply** - Loop over a list (data frame) and evaluate a function on each element\n",
        "* **sapply** - Same as **lapply** but simplifies the result to array \n",
        "* **tapply** - Apply a function over subsets of a vector\n",
        "* **mapply** - Multivariate version of **sapply**"
      ]
    },
    {
      "cell_type": "markdown",
      "metadata": {
        "id": "AzfcYspCY92P"
      },
      "source": [
        "## The ```plyr``` package"
      ]
    },
    {
      "cell_type": "markdown",
      "metadata": {
        "id": "_vTHA1NDZSXt"
      },
      "source": [
        "Suppose that, with the **mtcars** data frame, we want to know the average mileage-per-gallon for cars with 4, 6 and 8 cylinders. How do we do that?\n",
        "\n",
        "We will need to \n",
        "* **split** the data into subsets according to the value of the \"cyl\" column (one for cyl==4, one for cyl==6 and one for cyl==8)\n",
        "* **apply** the mean function to the \"mpg\" column\n",
        "* **combine** the results from each subset"
      ]
    },
    {
      "cell_type": "code",
      "metadata": {
        "id": "3F0MgkBykdSG"
      },
      "source": [
        "# Subset where cyl==4\n",
        "mean(mtcars[mtcars$cyl==4,\"mpg\"])\n",
        "# Subset where cyl==6\n",
        "mean(mtcars[mtcars$cyl==6,\"mpg\"])\n",
        "# Subset where cyl==8\n",
        "mean(mtcars[mtcars$cyl==8,\"mpg\"])"
      ],
      "execution_count": null,
      "outputs": []
    },
    {
      "cell_type": "markdown",
      "metadata": {
        "id": "zUfOsrGUZFk7"
      },
      "source": [
        "The \"split-apply-combine\" pattern is very common in data analysis, where you solve a complex problem by breaking it down into small pieces, doing something to each piece and then combining the results back together again."
      ]
    },
    {
      "cell_type": "markdown",
      "metadata": {
        "id": "SXxY5EOxZmfU"
      },
      "source": [
        "The ```plyr``` packages provide a group of functions that implement this split-apply-combine pattern.\n",
        "\n",
        "For example, the **ddply()** function takes a data frame, split it accorindg to the condition you supply, apply a function to each piece, then combine the result into a new data frame."
      ]
    },
    {
      "cell_type": "code",
      "metadata": {
        "id": "fNnHBd9HZb8O"
      },
      "source": [
        "library(plyr)\n",
        "ddply(mtcars,\"cyl\", summarize, AverageMPG=mean(mpg))"
      ],
      "execution_count": null,
      "outputs": []
    },
    {
      "cell_type": "markdown",
      "metadata": {
        "id": "fMcy_75WaN-c"
      },
      "source": [
        "The \"split\" step can be done according to more than one variable.\n",
        "\n",
        "The command below will tell us the average MPG for each unique combination of \"gear\" and \"cyl\":"
      ]
    },
    {
      "cell_type": "code",
      "metadata": {
        "id": "nDN-HH-DaRNQ"
      },
      "source": [
        "# Find the average mpg for each unique combination of \"gear\" and \"cyl\".\n",
        "ddply(mtcars,c(\"gear\",\"cyl\"), summarize, AverageMPG=mean(mpg))"
      ],
      "execution_count": null,
      "outputs": []
    },
    {
      "cell_type": "markdown",
      "metadata": {
        "id": "n1qNNxzhnFxc"
      },
      "source": [
        "## User-defined functions"
      ]
    },
    {
      "cell_type": "markdown",
      "metadata": {
        "id": "bmYphKDAogk7"
      },
      "source": [
        "* Users can define their own functions in R by using the ```function()``` directives. \n",
        "* The return value is the last expression in the function body to be evaluated.\n",
        "* Functions can be nested.\n",
        "* Functions are R objects and can be passed as an argument to\n",
        "other functions."
      ]
    },
    {
      "cell_type": "markdown",
      "metadata": {
        "id": "qGv2mlFFsksf"
      },
      "source": [
        "Syntax to define a function:\n",
        "\n",
        "\n",
        "```\n",
        "function_name <- function (arguments) {\n",
        "  statements\n",
        "}\n",
        "```\n",
        "\n"
      ]
    },
    {
      "cell_type": "code",
      "metadata": {
        "id": "AorOHxmtsh7F"
      },
      "source": [
        "# Create a function pow(), which takes two arguments.\n",
        "pow <- function(x, y) {\n",
        "  result <- x^y\n",
        "}"
      ],
      "execution_count": null,
      "outputs": []
    },
    {
      "cell_type": "markdown",
      "metadata": {
        "id": "mlwcx99ptasP"
      },
      "source": [
        "Then it can be called like any other function:"
      ]
    },
    {
      "cell_type": "code",
      "metadata": {
        "id": "RZ2SQLz4s5kp"
      },
      "source": [
        "# The result will be 4^2.\n",
        "pow(4,2)"
      ],
      "execution_count": null,
      "outputs": []
    },
    {
      "cell_type": "markdown",
      "metadata": {
        "id": "NydanKGDtfqM"
      },
      "source": [
        "Functions can be used as an argument for other functions."
      ]
    },
    {
      "cell_type": "code",
      "metadata": {
        "id": "rdagOd6WtCWJ"
      },
      "source": [
        "# Define a new function, which takes a function as one of the arguments.\n",
        "myfunc <- function(func,a,b) {\n",
        "  result <- func(a,b) - 1\n",
        "}\n",
        "\n",
        "c <- myfunc(pow,4,2)\n",
        "c\n",
        "\n",
        "c <- myfunc(rep,1:2,5)\n",
        "c"
      ],
      "execution_count": null,
      "outputs": []
    },
    {
      "cell_type": "markdown",
      "metadata": {
        "id": "ndYj2veJO_aI"
      },
      "source": [
        "## Exercise 4\n",
        "\n",
        "Using the **airquality** data, find the average high tempature of each month."
      ]
    },
    {
      "cell_type": "code",
      "metadata": {
        "id": "qtFcgIt0RFrW",
        "cellView": "form"
      },
      "source": [
        "#@title Hint\n",
        "# Use the ddply() function"
      ],
      "execution_count": null,
      "outputs": []
    },
    {
      "cell_type": "code",
      "metadata": {
        "id": "2YqnhxbUhYuX"
      },
      "source": [
        "#@title Solution { display-mode: \"form\" }\n",
        "ddply(airquality,\"Month\",summarize,AvgTemp=mean(Temp))"
      ],
      "execution_count": null,
      "outputs": []
    },
    {
      "cell_type": "markdown",
      "metadata": {
        "id": "C-jdAOYX652m"
      },
      "source": [
        "# Managing R Packages"
      ]
    },
    {
      "cell_type": "markdown",
      "metadata": {
        "id": "CVsBdnMJQ_hO"
      },
      "source": [
        "To load a R package so you can use the functions included in it, use the **library()** or **require()** function:"
      ]
    },
    {
      "cell_type": "code",
      "metadata": {
        "id": "Z1XbChLQRHlq"
      },
      "source": [
        "library(lubridate)\n",
        "require(devtools)"
      ],
      "execution_count": null,
      "outputs": []
    },
    {
      "cell_type": "markdown",
      "metadata": {
        "id": "qZu1TqAb3lgX"
      },
      "source": [
        "The main difference is that, if a package is not installed, **library()** will throw out an error message and the execution will stop, while **require()** throws out a warning and the execution continues."
      ]
    },
    {
      "cell_type": "code",
      "metadata": {
        "id": "v3TEHkDmRHpB"
      },
      "source": [
        "library(reshape)\n",
        "print(\"End of code segment\")"
      ],
      "execution_count": null,
      "outputs": []
    },
    {
      "cell_type": "code",
      "metadata": {
        "id": "90_zQRz238RN"
      },
      "source": [
        "require(reshape)\n",
        "print(\"End of code segment\")"
      ],
      "execution_count": null,
      "outputs": []
    },
    {
      "cell_type": "markdown",
      "metadata": {
        "id": "pQCqbBgMRNn_"
      },
      "source": [
        "If a package is not available, the **install.packages()** function can be used to install it."
      ]
    },
    {
      "cell_type": "code",
      "metadata": {
        "id": "vTPsokxQRYst"
      },
      "source": [
        "install.packages(\"reshape\")\n",
        "library(reshape)"
      ],
      "execution_count": null,
      "outputs": []
    },
    {
      "cell_type": "markdown",
      "metadata": {
        "id": "3TOGsHvIOLFW"
      },
      "source": [
        "Multiple packages can be installed with one call of the **install.packages()** function."
      ]
    },
    {
      "cell_type": "code",
      "metadata": {
        "id": "ksi6rPshOWpS"
      },
      "source": [
        "require(datarium)\n",
        "require(BiocManager)\n",
        "install.packages(c(\"datarium\",\"BiocManager\"))\n",
        "library(datarium)\n",
        "library(BiocManager)"
      ],
      "execution_count": null,
      "outputs": []
    },
    {
      "cell_type": "markdown",
      "metadata": {
        "id": "vYQV6dMfRcFq"
      },
      "source": [
        "Note that double quotation is **NOT** needed when loading packages, but necessary when installing them."
      ]
    },
    {
      "cell_type": "markdown",
      "metadata": {
        "id": "ykBSP1N6TwTt"
      },
      "source": [
        "Use the **remove.packages** function to remove installed packages."
      ]
    },
    {
      "cell_type": "code",
      "metadata": {
        "id": "DTGxWquhN4I-"
      },
      "source": [
        "remove.packages(\"datarium\")\n",
        "library(datarium)"
      ],
      "execution_count": null,
      "outputs": []
    },
    {
      "cell_type": "markdown",
      "metadata": {
        "id": "-iMVow7sTztO"
      },
      "source": [
        "The **update.packages** function updates installed packages."
      ]
    },
    {
      "cell_type": "code",
      "metadata": {
        "id": "4r1GxL5LN0aK"
      },
      "source": [
        "update.packages(\"lubricate\")"
      ],
      "execution_count": null,
      "outputs": []
    },
    {
      "cell_type": "markdown",
      "metadata": {
        "id": "fTdvZYEaT17B"
      },
      "source": [
        "List **installed** packages."
      ]
    },
    {
      "cell_type": "code",
      "metadata": {
        "id": "SjAI5mpBT4et",
        "cellView": "code"
      },
      "source": [
        "installed.packages()"
      ],
      "execution_count": null,
      "outputs": []
    },
    {
      "cell_type": "markdown",
      "metadata": {
        "id": "mCFgcP7W8Rvm"
      },
      "source": [
        "List all **loaded** packages (and attached objects)."
      ]
    },
    {
      "cell_type": "code",
      "metadata": {
        "id": "7I5HIa6C8VLD"
      },
      "source": [
        "search()"
      ],
      "execution_count": null,
      "outputs": []
    },
    {
      "cell_type": "markdown",
      "metadata": {
        "id": "m80UZgL1WfZY"
      },
      "source": [
        "# File And Directory Operations"
      ]
    },
    {
      "cell_type": "markdown",
      "metadata": {
        "id": "_uv7F-KZOPNC"
      },
      "source": [
        "## Query working directory"
      ]
    },
    {
      "cell_type": "markdown",
      "metadata": {
        "id": "eiDBqpIwvxuO"
      },
      "source": [
        "Each R session has a working directory. The **getwd()** function shows the current working directory."
      ]
    },
    {
      "cell_type": "code",
      "metadata": {
        "id": "n95VB47DOSZX"
      },
      "source": [
        "getwd()"
      ],
      "execution_count": null,
      "outputs": []
    },
    {
      "cell_type": "markdown",
      "metadata": {
        "id": "98aFasSSwAyR"
      },
      "source": [
        "The **list.files()** and **list.dirs()** functions list the files and subdirectories."
      ]
    },
    {
      "cell_type": "code",
      "metadata": {
        "id": "dmJ_u7Nav-b9"
      },
      "source": [
        "list.files()\n",
        "list.dirs()"
      ],
      "execution_count": null,
      "outputs": []
    },
    {
      "cell_type": "markdown",
      "metadata": {
        "id": "mBDmpEZbwMEI"
      },
      "source": [
        "To change the working directory, use the **setwd()** functions."
      ]
    },
    {
      "cell_type": "code",
      "metadata": {
        "id": "BqouRHsLwLXd"
      },
      "source": [
        "setwd(\"/content/sample_data\")\n",
        "getwd()"
      ],
      "execution_count": null,
      "outputs": []
    },
    {
      "cell_type": "markdown",
      "metadata": {
        "id": "lx08L6_9WsGt"
      },
      "source": [
        "## Handling files"
      ]
    },
    {
      "cell_type": "markdown",
      "metadata": {
        "id": "8y1Ya7D5dqKS"
      },
      "source": [
        "R has a set of file.\\<opearation> functions."
      ]
    },
    {
      "cell_type": "markdown",
      "metadata": {
        "id": "zpCtVCLrwTIC"
      },
      "source": [
        "Check if a file exists:"
      ]
    },
    {
      "cell_type": "code",
      "metadata": {
        "id": "CfC2sko8jDGA"
      },
      "source": [
        "file.exists(\"testfile\")"
      ],
      "execution_count": null,
      "outputs": []
    },
    {
      "cell_type": "markdown",
      "metadata": {
        "id": "Sur7zWT7wXNS"
      },
      "source": [
        "Create an empty file:"
      ]
    },
    {
      "cell_type": "code",
      "metadata": {
        "id": "nICOYhxZjO-x"
      },
      "source": [
        "file.create(\"testfile\")\n",
        "file.exists(\"testfile\")"
      ],
      "execution_count": null,
      "outputs": []
    },
    {
      "cell_type": "markdown",
      "metadata": {
        "id": "eNVnlzXsxw8I"
      },
      "source": [
        "Copy and delete files:"
      ]
    },
    {
      "cell_type": "code",
      "metadata": {
        "id": "gCpF7gTMiAY3"
      },
      "source": [
        "list.files()"
      ],
      "execution_count": null,
      "outputs": []
    },
    {
      "cell_type": "code",
      "metadata": {
        "id": "2k3z6b6tjZl2"
      },
      "source": [
        "file.copy(\"testfile\",\"anotherfile\")\n",
        "list.files()"
      ],
      "execution_count": null,
      "outputs": []
    },
    {
      "cell_type": "code",
      "metadata": {
        "id": "ttymFaaviE6w"
      },
      "source": [
        "file.remove(\"testfile\",\"anotherfile\")\n",
        "list.files()"
      ],
      "execution_count": null,
      "outputs": []
    },
    {
      "cell_type": "markdown",
      "metadata": {
        "id": "Ln_66oqI681p"
      },
      "source": [
        "# Graphics"
      ]
    },
    {
      "cell_type": "markdown",
      "metadata": {
        "id": "Dn_0FhCwYGh_"
      },
      "source": [
        "There are three plotting systems in R\n",
        "* base\n",
        "  * Convenient, but hard to adjust after the plot is created\n",
        "* lattice\n",
        "  * Good for creating conditioning plot\n",
        "* ggplot2\n",
        "  * Powerful and flexible, many tunable feature, may require some time to master\n"
      ]
    },
    {
      "cell_type": "markdown",
      "metadata": {
        "id": "Z08zo1CzYbrL"
      },
      "source": [
        "Each has its pros and cons, so it is up to the users which one to choose."
      ]
    },
    {
      "cell_type": "markdown",
      "metadata": {
        "id": "_sh0dD7NYkY8"
      },
      "source": [
        "## base"
      ]
    },
    {
      "cell_type": "markdown",
      "metadata": {
        "id": "ERWkZMFVgFy_"
      },
      "source": [
        "A few functions are avaible in the base plot systems\n",
        "* **plot()**: line and scatter plots\n",
        "* **boxplot()**: box plots\n",
        "* **hist()**: histograms"
      ]
    },
    {
      "cell_type": "markdown",
      "metadata": {
        "id": "oYA7Tm66HD6L"
      },
      "source": [
        "A quick scatter plot example with the base plot system."
      ]
    },
    {
      "cell_type": "code",
      "metadata": {
        "id": "GjrJFgsff6uf"
      },
      "source": [
        "# Create the plot with title and axis labels.\n",
        "plot(pressure,type=\"l\",\n",
        "     main=\"Vapor Pressure of Mercury\",\n",
        "     xlab=\"Temperature\", \n",
        "     ylab=\"Vapor Pressure\")\n",
        "# Add points\n",
        "points(pressure,col='red') \n",
        "# Add annotation\n",
        "text(150,700,\"Source: Weast, R. C., ed. (1973) Handbook \\n\n",
        "     of Chemistry and Physics. CRC Press.\")"
      ],
      "execution_count": null,
      "outputs": []
    },
    {
      "cell_type": "markdown",
      "metadata": {
        "id": "MenwnCkuYoQt"
      },
      "source": [
        "## ggplot2"
      ]
    },
    {
      "cell_type": "markdown",
      "metadata": {
        "id": "9uKfPUvZHLsT"
      },
      "source": [
        "The **qplot()** function is the ggplot2 version of **plot()**."
      ]
    },
    {
      "cell_type": "code",
      "metadata": {
        "id": "HFOpWRHxg5RW"
      },
      "source": [
        "qplot(weightLb, heightIn, data=heightweight, geom=\"point\")"
      ],
      "execution_count": null,
      "outputs": []
    },
    {
      "cell_type": "markdown",
      "metadata": {
        "id": "mQ9kl7IZHZOn"
      },
      "source": [
        "The **ggplot()** function is the main function in the ggplot2 package.\n",
        "\n",
        "Here is an example:"
      ]
    },
    {
      "cell_type": "code",
      "metadata": {
        "id": "7wKAPUK7g6lo"
      },
      "source": [
        "ggplot(heightweight, aes(x=weightLb, y=heightIn, color=sex, shape=sex)) + \n",
        "  geom_point(size=3.5) +\n",
        "  ggtitle(\"School Children\\nHeight ~ Weight\") +\n",
        "  labs(y=\"Height (inch)\", x=\"Weight (lbs)\") +\n",
        "  stat_smooth(method=loess, se=T, color=\"black\", fullrange=T) +\n",
        "  annotate(\"text\",x=145,y=75,label=\"Locally weighted polynomial fit with 95% CI\",color=\"Green\",size=6) +\n",
        "  scale_color_brewer(palette = \"Set1\", labels=c(\"Female\", \"Male\")) +\n",
        "  guides(shape=F) +\n",
        "  theme_bw() +\n",
        "  theme(plot.title = element_text(size=20, hjust=0.5), \n",
        "        legend.position = c(0.9,0.2),\n",
        "        axis.title.x = element_text(size=20), axis.title.y = element_text(size=20),\n",
        "        legend.title = element_text(size=15),legend.text = element_text(size=15))"
      ],
      "execution_count": null,
      "outputs": []
    },
    {
      "cell_type": "markdown",
      "metadata": {
        "id": "gRqDF8nIY5qa"
      },
      "source": [
        "If you are interested to learn more, please visit the [Data Visualization in R](http://www.hpc.lsu.edu/training/weekly-materials/2018-Spring/Slides.html#(1)) tutorial from LSU HPC"
      ]
    },
    {
      "cell_type": "markdown",
      "metadata": {
        "id": "-1OjjS0p6_lt"
      },
      "source": [
        "# Parallel Processing"
      ]
    },
    {
      "cell_type": "markdown",
      "metadata": {
        "id": "hkeDSGESZ_J0"
      },
      "source": [
        "Modern computers are equipped with more than one CPU core and are capable of processing workloads in parallel, but base R is single‐threaded, i.e. not parallel.\n",
        "\n",
        "In other words, regardless how many cores are available, R can only \n",
        "use one of them.\n",
        "\n",
        "There are two options to run R in parallel: **implicit** and **explicit**.\n"
      ]
    },
    {
      "cell_type": "markdown",
      "metadata": {
        "id": "1Za3yZbWcIBm"
      },
      "source": [
        "## Implicit parallel processing"
      ]
    },
    {
      "cell_type": "markdown",
      "metadata": {
        "id": "SeE5pNzdcaqt"
      },
      "source": [
        "Some functions in R can call parallel numerical libraries.\n",
        "\n",
        "For instance, on the LONI QB2 cluster most linear algebraic and related functions (e.g. linear regression, matrix decomposition, computing inverse and determinant of a matrix) leverage the multi‐threaded Intel MKL library.\n",
        "\n",
        "In this case, no extra coding is needed to take advange of the multiple CPU cores - those functions will automatically use multiple cores when being called."
      ]
    },
    {
      "cell_type": "markdown",
      "metadata": {
        "id": "KGFBQEzOcMlA"
      },
      "source": [
        "## Explicit parallel processing"
      ]
    },
    {
      "cell_type": "markdown",
      "metadata": {
        "id": "zhE2hltlfSpS"
      },
      "source": [
        "If the implicit option is not available for what you'd like to do, some codes need to be written."
      ]
    },
    {
      "cell_type": "markdown",
      "metadata": {
        "id": "FpyHuV4aBIxK"
      },
      "source": [
        "Here is an example of using the **%dopar%** directive in the **doParallel** package."
      ]
    },
    {
      "cell_type": "markdown",
      "metadata": {
        "id": "bX6HuHivBUxE"
      },
      "source": [
        "The workload is to generate 100 random samples, each with\n",
        "1,000,000 observations from a standard normal distribution, then take a summary for each sample."
      ]
    },
    {
      "cell_type": "code",
      "metadata": {
        "id": "VCru3RBK_fH1"
      },
      "source": [
        "iters <- 100"
      ],
      "execution_count": null,
      "outputs": []
    },
    {
      "cell_type": "markdown",
      "metadata": {
        "id": "KCxfQGZSBoSG"
      },
      "source": [
        "Below is the sequential version with a for loop. The **system.time()** function is used to measure how long it takes to process the workload."
      ]
    },
    {
      "cell_type": "code",
      "metadata": {
        "id": "ViGrf8mZ9z2h"
      },
      "source": [
        "# This code segment shows us how long it takes to run on one core.\n",
        "system.time(\n",
        "for (i in 1:iters) {\n",
        "  to.ls <- rnorm(1e6)\n",
        "  to.ls <- summary(to.ls)\n",
        "}\n",
        ")"
      ],
      "execution_count": null,
      "outputs": []
    },
    {
      "cell_type": "markdown",
      "metadata": {
        "id": "W3HEm1xOB178"
      },
      "source": [
        "This is the parallel example with the **doParallel** package."
      ]
    },
    {
      "cell_type": "code",
      "metadata": {
        "id": "wmk2YWK69l9J"
      },
      "source": [
        "# This code segment shows us how long it takes to run on all available cores.\n",
        "library(doParallel)\n",
        "\n",
        "# Obtain the number of cores available.\n",
        "ncpu <- detectCores()\n",
        "ncpu\n",
        "\n",
        "system.time({\n",
        "  cl <- makeCluster(ncpu)\n",
        "  registerDoParallel(cl)\n",
        "  ls<-foreach(icount(iters)) %dopar% {\n",
        "    to.ls<-rnorm(1e6)\n",
        "    to.ls<-summary(to.ls)\n",
        "  }\n",
        "  stopCluster(cl)\n",
        "})"
      ],
      "execution_count": null,
      "outputs": []
    },
    {
      "cell_type": "markdown",
      "metadata": {
        "id": "vwM8hXRyZccR"
      },
      "source": [
        "If you are interested to learn more, please visit the [Parallel Computing in R](http://www.hpc.lsu.edu/training/weekly-materials/2017-Fall/HPC_Parallel_R_Fall2017.pdf) tutorial from LSU HPC."
      ]
    },
    {
      "cell_type": "markdown",
      "metadata": {
        "id": "vhvDmrUc0LgX"
      },
      "source": [
        "# Exercise 5\n",
        "\n"
      ]
    },
    {
      "cell_type": "markdown",
      "metadata": {
        "id": "asy_ShcA0Tf5"
      },
      "source": [
        "## Introduction\n",
        "\n",
        "The World Happiness Report is a landmark survey of the state of global happiness . The report continues to gain global recognition as governments, organizations and civil society increasingly use happiness indicators to inform their policy-making decisions. Leading experts across fields – economics, psychology, survey analysis, national statistics, health, public policy and more – describe how measurements of well-being can be used effectively to assess the progress of nations. The reports review the state of happiness in the world today and show how the new science of happiness explains personal and national variations in happiness.\n",
        "\n",
        "In each year, six metrics are generated for each country:\n",
        "* Economic production\n",
        "* Social support\n",
        "* Life expectancy\n",
        "* Freedom\n",
        "* Absence of corruption\n",
        "* Generosity\n",
        "\n",
        "\n",
        "\n",
        "[Data source](https://www.kaggle.com/ajaypalsinghlo/world-happiness-report-2021)\n",
        "\n",
        "[World happiness report](https://worldhappiness.report)"
      ]
    },
    {
      "cell_type": "markdown",
      "metadata": {
        "id": "3mKxmz9w0iNT"
      },
      "source": [
        "## Datasets\n",
        "\n",
        "Each dataset contains variables such as country name, year, and the scores for the six metrics.\n",
        "\n",
        "2008-2020:\n",
        "http://www.hpc.lsu.edu/training/weekly-materials/Downloads/world-happiness-report.csv\n",
        "\n",
        "2021:\n",
        "http://www.hpc.lsu.edu/training/weekly-materials/Downloads/world-happiness-report-2021.csv"
      ]
    },
    {
      "cell_type": "markdown",
      "metadata": {
        "id": "eQGHn7Rq0mG3"
      },
      "source": [
        "## Tasks\n",
        "\n",
        "1. Download both datasets and read them into R; \n",
        "2. Inspect the datasets (the data structure, what the columns are, etc.);\n",
        "3. Merge the datasets so the data covers 2008 to 2021;\n",
        "4. Using the merged dataset, answer the following questions:\n",
        "  * In year 2011, what are the top and bottom five countries with the highest freedom to make life choices? \n",
        "  * Among the 50 countries with the highest life expentancy in 2021, how many are in western Europe?\n",
        "  * How has the average generosity over all countries changed from 2008 to 2021? \n",
        "  * From 2011 to 2021, which country's rank of perceptions of corruption rises the most? Which drops the most?\n",
        "\n",
        "Note:\n",
        "\n",
        "You can use the `read.csv()` funtion o read data in a csv file into R. For instance, to read the data in the file \"mydata.csv\" into a dataframe \"mydataframe\":\n",
        "\n",
        "```\n",
        "mydataframe <- read.csv(\"mydata.csv\") \n",
        "```\n",
        "\n",
        "To download a file, use the `download.file(<uri>,<file_name>)` function. For instance, to download the file \"mydata.csv\" to the current work directory:\n",
        "\n",
        "```\n",
        "download.file(\"http://url/to/mydata.csv\",\"mydata.csv\")\n",
        "```"
      ]
    },
    {
      "cell_type": "code",
      "metadata": {
        "id": "Rr-F1MJk2rHR",
        "cellView": "form"
      },
      "source": [
        "#@title Solution\n",
        "\n",
        "###### TASK 1 ######\n",
        "\n",
        "# Download the files.\n",
        "download.file(\"http://www.hpc.lsu.edu/training/weekly-materials/Downloads/world-happiness-report.csv\",\"world-happiness-report.csv\")\n",
        "download.file(\"http://www.hpc.lsu.edu/training/weekly-materials/Downloads/world-happiness-report-2021.csv\",\"world-happiness-2021.csv\")\n",
        "\n",
        "# Read the data into two dataframes.\n",
        "rawdf2020 <- read.csv(\"world-happiness-report.csv\")\n",
        "rawdf2021 <- read.csv(\"world-happiness-2021.csv\")\n",
        "\n",
        "###### TASK 2 ######\n",
        "\n",
        "# After this step, we need to inspect the data.\n",
        "#str(rawdf2020)\n",
        "#str(rawdf2021)\n",
        "\n",
        "###### TASK 3 ######\n",
        "\n",
        "# This is actually the toughest step, \n",
        "# as the columns in the two dataframes\n",
        "# are not aligned. \n",
        "\n",
        "# In the merged data frame, we will need these columns:\n",
        "# Country, region, year\n",
        "# The six happiness metrics\n",
        "\n",
        "df2020 <- rawdf2020[,1:9]\n",
        "df2021 <- rawdf2021[,c(1:3,7:12)]\n",
        "\n",
        "# Need to add the \"year\" column for 2021.\n",
        "df2021$year <- 2021\n",
        "\n",
        "# Match the regional indicator in the 2021\n",
        "# dataset to the country names in the 2020 \n",
        "# dataset.\n",
        "df2020$Regional.indicator <- \n",
        "  df2021[match(df2020$Country.name,df2021[,1]),\"Regional.indicator\"]\n",
        "\n",
        "# Reorder the columns\n",
        "df2020r <- df2020[,c(1,10,2:9)]\n",
        "df2021r <- df2021[,c(1:2,10,3:9)]\n",
        "colnames(df2021r) <- colnames(df2020r)\n",
        "\n",
        "# Rowbind the dataframes.\n",
        "dataFinal <- rbind.data.frame(df2020r,df2021r)\n",
        "\n",
        "# Drop the rows with missing values.\n",
        "dataClean <- dataFinal[complete.cases(dataFinal),]"
      ],
      "execution_count": null,
      "outputs": []
    },
    {
      "cell_type": "code",
      "metadata": {
        "cellView": "form",
        "id": "y4-f35u-B125"
      },
      "source": [
        "#@title Solution 4.1\n",
        "# Question 1\n",
        "happy2011 <- subset(dataClean, year == 2011)\n",
        "cat(\"The top 5 countries are:\\n\")\n",
        "happy2011[order(-happy2011$Freedom.to.make.life.choices),\"Country.name\"][1:5]\n",
        "cat(\"The bottom 5 countries are:\\n\")\n",
        "happy2011[order(happy2011$Freedom.to.make.life.choices),\"Country.name\"][1:5]"
      ],
      "execution_count": null,
      "outputs": []
    },
    {
      "cell_type": "code",
      "metadata": {
        "cellView": "form",
        "id": "2VAEh6UYELVs"
      },
      "source": [
        "#@title Solution 4.2\n",
        "# Question 2\n",
        "happy2021 <- subset(dataClean, year == 2021)\n",
        "table(happy2021[order(-happy2021$Healthy.life.expectancy.at.birth)[1:50],\"Regional.indicator\"])"
      ],
      "execution_count": null,
      "outputs": []
    },
    {
      "cell_type": "code",
      "metadata": {
        "cellView": "form",
        "id": "OXQntDX1Ci7S"
      },
      "source": [
        "#@title Solutoin 4.3\n",
        "# Question 3\n",
        "library(plyr)\n",
        "plot(ddply(dataClean,\"year\",summarize,average=mean(Generosity)))"
      ],
      "execution_count": null,
      "outputs": []
    },
    {
      "cell_type": "code",
      "metadata": {
        "cellView": "form",
        "id": "mLNiWHfmh0qr"
      },
      "source": [
        "#@title Solution 4.4\n",
        "\n",
        "# Store the ranking in a new variable in the 2011 and 2021 data frames.\n",
        "happy2011$rank11 <- rank(happy2011$Perceptions.of.corruption, ties.method = \"min\")\n",
        "happy2021$rank21 <- rank(happy2021$Perceptions.of.corruption, ties.method = \"min\")\n",
        "\n",
        "# Merge the 2011 and 2021 data frames and keep only the country names and rankings.\n",
        "happyRank <- merge(subset(happy2011,select=c(Country.name,rank11)),\n",
        "  subset(happy2021,select=c(Country.name,rank21)),\n",
        "  by = \"Country.name\")\n",
        "\n",
        "# Calcuate the ranking change and find the top 10 and bottom 10.\n",
        "happyRank$diff <- happyRank$rank21 - happyRank$rank11\n",
        "happyRank[order(happyRank$diff),][1:10,]\n",
        "happyRank[order(-happyRank$diff),][1:10,]"
      ],
      "execution_count": null,
      "outputs": []
    }
  ]
}
