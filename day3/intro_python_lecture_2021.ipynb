{
  "nbformat": 4,
  "nbformat_minor": 0,
  "metadata": {
    "colab": {
      "name": "intro_python_lecture_2021.ipynb",
      "provenance": [],
      "collapsed_sections": [
        "_73RPOcBdHFn"
      ]
    },
    "language_info": {
      "codemirror_mode": {
        "name": "ipython",
        "version": 3
      },
      "file_extension": ".py",
      "mimetype": "text/x-python",
      "name": "python",
      "nbconvert_exporter": "python",
      "pygments_lexer": "ipython3",
      "version": "3.5.2"
    },
    "kernelspec": {
      "name": "python3",
      "display_name": "Python 3"
    }
  },
  "cells": [
    {
      "cell_type": "markdown",
      "metadata": {
        "id": "view-in-github"
      },
      "source": [
        "<a href=\"https://colab.research.google.com/github/lsuhpchelp/lbrnloniworkshop2020/blob/master/day1/intro_python_lecture.ipynb\" target=\"_parent\"><img src=\"https://colab.research.google.com/assets/colab-badge.svg\" alt=\"Open In Colab\"/></a>"
      ]
    },
    {
      "cell_type": "markdown",
      "metadata": {
        "id": "u1YDPNtbdHDj"
      },
      "source": [
        "\n",
        " # Introduction to Python\n",
        "## May 31st, 2021 \n",
        "## 4th LBRN-LONI Scientific Computing Bootcamp\n",
        "\n"
      ]
    },
    {
      "cell_type": "markdown",
      "metadata": {
        "id": "VB--CYOSdHDm"
      },
      "source": [
        "# Outline\n",
        " * What is Python\n",
        "    - What is Python?\n",
        "    - Advantages and Disadvantages\n",
        " * Python Programming Basics\n",
        "    - Variables\n",
        "    - Operators\n",
        "    - Built-in Data Types\n",
        " * Control structures and Functions\n",
        "    - \n",
        " * Python modules\n",
        " * Numpy\n",
        " * Plotting\n"
      ]
    },
    {
      "cell_type": "markdown",
      "metadata": {
        "id": "ipgvJSsRdHDn"
      },
      "source": [
        "<a id='intro'></a>\n",
        "## What is Python?\n",
        "\n",
        " * A general-purpose programming language (1980) by Guido van Rossum\n",
        "     * https://gvanrossum.github.io\n",
        " * Intuitive and minimal coding\n",
        " * Objected-Oriented\n",
        " * Interpreted not compiled\n",
        " * Interactive\n",
        " * Dynamically typed, no type declarations, data type is tracked at runtime\n",
        " * Automatic memory management\n",
        " * Spacing defines blocks of code such as control structures and blocks\n",
        "  <br>"
      ]
    },
    {
      "cell_type": "markdown",
      "metadata": {
        "id": "H-fKj1GCvJQW"
      },
      "source": [
        "# Why  Python?\n",
        "\n",
        "## Advantages\n",
        "* Ease of programming\n",
        " * Minimal time to develop and maintain codes\n",
        " * Modular and object-oriented\n",
        " * Large standard and user-contributed libraries\n",
        " * Large user community\n",
        " \n",
        "## Disadvantages\n",
        " * Interpreted and therefore slower than compiled languages\n",
        " * Not great for 3D graphic applications requiring intensive computations\n",
        "  <br>"
      ]
    },
    {
      "cell_type": "markdown",
      "metadata": {
        "id": "Dm_ItPN0dHDo"
      },
      "source": [
        "## What is IPython?\n",
        "\n",
        " IPython: an interactive command shell for Python (2001) by Fernando Perez\n",
        "* Enhanced Read-Eval-Print Loop (REPL) environment\n",
        "* Command tab-completion, color-highlighted error messages..\n",
        "* Basic Linux shell integration (cp, ls, rm…)\n",
        "* Great for plotting!\n",
        "* More information click _[ipython.org](http://ipython.org)_\n"
      ]
    },
    {
      "cell_type": "markdown",
      "metadata": {
        "id": "lWz4EJiZdHDo"
      },
      "source": [
        "## Jupyter Notebook \n",
        "\n",
        "* Web interface to Python, introduced in 2015 \n",
        "* Rich text, improved graphical capabilities\n",
        "* Integrate many existing web libraries for data visualization\n",
        "* Allow to create and share documents that contain live code, equations, visualizations and explanatory text. \n",
        "* Interface with over 40 languages, such as R, Julia and Scala\n",
        "* This colab.research.google.com notebook is a Jupyter notebook\n",
        "[back to top](#top)\n",
        "\n",
        "\n"
      ]
    },
    {
      "cell_type": "markdown",
      "metadata": {
        "id": "krWd44XodHDp"
      },
      "source": [
        "## Variables \n",
        "\n",
        "* Variable type is dynamically determined from the value it is assigned, no data type is declared\n",
        "* Assign meaningful variable names\n",
        "* Some keywords are reserved such as ‘print’, ‘assert’,  ‘while’, ‘lambda’, for, if. \n",
        "* A variable is assigned a value using the ‘=’ operator, example:   x = 3 which is read as \"the variable x is assigned the value of 3\"\n",
        "* Reference of [keywords](https://docs.python.org/2.5/ref/keywords.html)\n"
      ]
    },
    {
      "cell_type": "markdown",
      "metadata": {
        "id": "R7DyZUcJdHDp"
      },
      "source": [
        "## Operators \n",
        "\n",
        "* Arithmetic operators +, -, *, /, // (integer division for  floating point numbers), ’**’ power\n",
        "* Boolean operators and, or and not\n",
        "* Comparison operators >, <, >= (greater or equal), <=\n",
        "* (less or equal), == equality\n",
        "\n"
      ]
    },
    {
      "cell_type": "markdown",
      "metadata": {
        "id": "DqzfTKX_dHDq"
      },
      "source": [
        "**bold text**<a id='data-type'></a>\n",
        "## Built-in Data Types   \n",
        "<font color=blue>\n",
        "* [Number](#numbers)\n",
        "* [String](#string)\n",
        "* [List](#list)\n",
        "* [Tuple](#tuple)\n",
        "* [Dictionary](#dic)\n",
        "* [File](#file)    \n",
        " </font>\n",
        " [top](#top)"
      ]
    },
    {
      "cell_type": "markdown",
      "metadata": {
        "id": "KWM_ojx6dHDq"
      },
      "source": [
        "<a id='numbers'></a>\n",
        "## Numbers"
      ]
    },
    {
      "cell_type": "code",
      "metadata": {
        "id": "_yOMyLthdHDr"
      },
      "source": [
        "x = 3\n",
        "type(x)"
      ],
      "execution_count": null,
      "outputs": []
    },
    {
      "cell_type": "code",
      "metadata": {
        "id": "R_hrkRhMdHDv"
      },
      "source": [
        "y = 3.0\n",
        "type (y)"
      ],
      "execution_count": null,
      "outputs": []
    },
    {
      "cell_type": "code",
      "metadata": {
        "id": "gbdT2LuGdHDx"
      },
      "source": [
        "z='hello'\n",
        "type(z)"
      ],
      "execution_count": null,
      "outputs": []
    },
    {
      "cell_type": "code",
      "metadata": {
        "id": "EnO7Vu1QdHD0"
      },
      "source": [
        "int(3.3)"
      ],
      "execution_count": null,
      "outputs": []
    },
    {
      "cell_type": "code",
      "metadata": {
        "id": "fvDUy7nIdHD3"
      },
      "source": [
        "complex(3)"
      ],
      "execution_count": null,
      "outputs": []
    },
    {
      "cell_type": "code",
      "metadata": {
        "id": "ys2eoOtddHD6"
      },
      "source": [
        "import math"
      ],
      "execution_count": null,
      "outputs": []
    },
    {
      "cell_type": "code",
      "metadata": {
        "id": "EzSyMKwidHD8"
      },
      "source": [
        "abs(-3.3)"
      ],
      "execution_count": null,
      "outputs": []
    },
    {
      "cell_type": "code",
      "metadata": {
        "id": "sqSaUXiwdHD-"
      },
      "source": [
        "math.sin(60)"
      ],
      "execution_count": null,
      "outputs": []
    },
    {
      "cell_type": "code",
      "metadata": {
        "id": "ZAzv0ophdHEA"
      },
      "source": [
        "math.sqrt(25)"
      ],
      "execution_count": null,
      "outputs": []
    },
    {
      "cell_type": "markdown",
      "metadata": {
        "id": "J2umh3-BT_80"
      },
      "source": [
        "\n",
        " [top](#top) \n",
        " "
      ]
    },
    {
      "cell_type": "markdown",
      "metadata": {
        "id": "_XDWU4R-dHED"
      },
      "source": [
        "<a id='string'></a>\n",
        "## Strings"
      ]
    },
    {
      "cell_type": "code",
      "metadata": {
        "id": "lRqQ2KwHdHEE"
      },
      "source": [
        "my_str = 'Hello World'"
      ],
      "execution_count": null,
      "outputs": []
    },
    {
      "cell_type": "code",
      "metadata": {
        "id": "4R7QI39sdHEG"
      },
      "source": [
        "print(my_str); len(my_str)"
      ],
      "execution_count": null,
      "outputs": []
    },
    {
      "cell_type": "code",
      "metadata": {
        "id": "W7x8SIXBdHEK"
      },
      "source": [
        "len(my_str); print(len(my_str))"
      ],
      "execution_count": null,
      "outputs": []
    },
    {
      "cell_type": "code",
      "metadata": {
        "id": "4zQd6w2odHEN"
      },
      "source": [
        "#indexing starting at 0\n",
        "print(my_str[0]); print(my_str[1]); print(my_str[10])"
      ],
      "execution_count": null,
      "outputs": []
    },
    {
      "cell_type": "code",
      "metadata": {
        "id": "sM7y1xrzdHEQ"
      },
      "source": [
        "#string slicing\n",
        "print(my_str[1:4]); print(my_str[:]); print(my_str[1:])"
      ],
      "execution_count": null,
      "outputs": []
    },
    {
      "cell_type": "code",
      "metadata": {
        "id": "jZ3WiHyQdHET"
      },
      "source": [
        "#string split\n",
        "s1, s2 = my_str.split(); print(s1); print(s2)\n",
        "print(s1, s2)"
      ],
      "execution_count": null,
      "outputs": []
    },
    {
      "cell_type": "code",
      "metadata": {
        "id": "TW0WIQredHEX"
      },
      "source": [
        "#multiple line spanning\n",
        "multilines= \"\"\"This is a multi-line\n",
        "block of sample\n",
        " text\"\"\"\n",
        "print(multilines)\n"
      ],
      "execution_count": null,
      "outputs": []
    },
    {
      "cell_type": "code",
      "metadata": {
        "id": "-2c8QnMTdHEb"
      },
      "source": [
        "#string formatting\n",
        "text = \"%d pigs in the barn, I’ll %s and %s\" %(300,'huff','puff')\n",
        "print(text)"
      ],
      "execution_count": null,
      "outputs": []
    },
    {
      "cell_type": "code",
      "metadata": {
        "id": "IhrNjeUHdHEd"
      },
      "source": [
        "total= \"my share = %.5f, tip = %d\" %(24.5, 5.5)\n",
        "print(total)"
      ],
      "execution_count": null,
      "outputs": []
    },
    {
      "cell_type": "code",
      "metadata": {
        "id": "-ys2Eo35dHEf"
      },
      "source": [
        "#more string ops\n",
        "my_str=\"Hello World\"\n",
        "print(my_str.upper())\n",
        "print(my_str.isalpha())\n",
        "print(my_str[0].isalpha())\n",
        "a='12'\n",
        "print(a.isdigit())"
      ],
      "execution_count": null,
      "outputs": []
    },
    {
      "cell_type": "markdown",
      "metadata": {
        "id": "6IIsIj52UFM_"
      },
      "source": [
        "\n",
        " [top](#top) "
      ]
    },
    {
      "cell_type": "markdown",
      "metadata": {
        "id": "sYQs3O-6dHFb"
      },
      "source": [
        "<a id='control'></a>\n",
        "## Control Structures \n",
        "<font color=blue>\n",
        "* if-else\n",
        "* for loops, while loops\n",
        "* break: jump out of the current loop\n",
        "* continue: jump to the top of next cycle within the loop\n",
        "* pass: do nothing \n",
        "</font> \n",
        "[top](#top)"
      ]
    },
    {
      "cell_type": "code",
      "metadata": {
        "id": "827UT2CkdHFb",
        "colab": {
          "base_uri": "https://localhost:8080/"
        },
        "outputId": "f4c6de18-38c5-4b83-dd86-b3c3384e0aa8"
      },
      "source": [
        "x = 500 \n",
        "if ( x >= 5 ):\n",
        "  print(x,\">= 5\")\n",
        "  print(\"Hi, greater than 5\")\n",
        "else:\n",
        "    print(x, \"< 5\")\n",
        "    "
      ],
      "execution_count": null,
      "outputs": [
        {
          "output_type": "stream",
          "text": [
            "500 >= 5\n",
            "Hi, greater than 5\n"
          ],
          "name": "stdout"
        }
      ]
    },
    {
      "cell_type": "code",
      "metadata": {
        "id": "abujcdodh_uP",
        "colab": {
          "base_uri": "https://localhost:8080/"
        },
        "outputId": "3e30db31-cf95-481a-d695-15d884e86f15"
      },
      "source": [
        "\n",
        "for num in range(3):\n",
        "    print(num)"
      ],
      "execution_count": null,
      "outputs": [
        {
          "output_type": "stream",
          "text": [
            "0\n",
            "1\n",
            "2\n"
          ],
          "name": "stdout"
        }
      ]
    },
    {
      "cell_type": "code",
      "metadata": {
        "id": "Lwml52WJiElb",
        "colab": {
          "base_uri": "https://localhost:8080/"
        },
        "outputId": "8b665a01-a267-4755-b633-e113f1bb8e17"
      },
      "source": [
        "index=0\n",
        "while (index < 3):\n",
        "    print(index)\n",
        "    index = index + 2"
      ],
      "execution_count": null,
      "outputs": [
        {
          "output_type": "stream",
          "text": [
            "0\n",
            "2\n"
          ],
          "name": "stdout"
        }
      ]
    },
    {
      "cell_type": "markdown",
      "metadata": {
        "id": "gXpYbFSoiRoT"
      },
      "source": [
        "Tip:\n",
        "Indentation: signifies code blocks"
      ]
    },
    {
      "cell_type": "code",
      "metadata": {
        "id": "RdEFIcNviMd2",
        "colab": {
          "base_uri": "https://localhost:8080/"
        },
        "outputId": "8a523e11-947e-40de-d8f5-f4482cef7dc3"
      },
      "source": [
        "#prime numbers\n",
        "#We will use this in the exercises  -  don't ask why it is this way!\n",
        "n = 2\n",
        "while n < 10:\n",
        "    prime = True\n",
        "    for x in range(2,n):\n",
        "        if n % x == 0:\n",
        "            prime = False\n",
        "            break\n",
        "        if prime:\n",
        "            print(n, 'is a prime #  ')\n",
        "            pass\n",
        "        else:\n",
        "            n= n + 1\n",
        "            continue\n",
        "    n = n + 1"
      ],
      "execution_count": null,
      "outputs": [
        {
          "output_type": "stream",
          "text": [
            "3 is a prime #  \n",
            "5 is a prime #  \n",
            "5 is a prime #  \n",
            "5 is a prime #  \n",
            "7 is a prime #  \n",
            "7 is a prime #  \n",
            "7 is a prime #  \n",
            "7 is a prime #  \n",
            "7 is a prime #  \n",
            "9 is a prime #  \n"
          ],
          "name": "stdout"
        }
      ]
    },
    {
      "cell_type": "code",
      "metadata": {
        "id": "d_vg_-B_bkoP",
        "colab": {
          "base_uri": "https://localhost:8080/"
        },
        "outputId": "231e9334-fa80-4b0b-beca-60898c03f77e"
      },
      "source": [
        "#Loops:  looping through a string\n",
        "# 'for' and 'in' are new keywords\n",
        "for x in \"banana\":\n",
        "  print(x)"
      ],
      "execution_count": null,
      "outputs": [
        {
          "output_type": "stream",
          "text": [
            "b\n",
            "a\n",
            "n\n",
            "a\n",
            "n\n",
            "a\n"
          ],
          "name": "stdout"
        }
      ]
    },
    {
      "cell_type": "code",
      "metadata": {
        "id": "MTMkGQhRcRl9",
        "colab": {
          "base_uri": "https://localhost:8080/"
        },
        "outputId": "a1ac961f-8a3e-4925-d859-6900e449cb5b"
      },
      "source": [
        "for x in range(6):\n",
        "  print(x)"
      ],
      "execution_count": null,
      "outputs": [
        {
          "output_type": "stream",
          "text": [
            "0\n",
            "1\n",
            "2\n",
            "3\n",
            "4\n",
            "5\n"
          ],
          "name": "stdout"
        }
      ]
    },
    {
      "cell_type": "code",
      "metadata": {
        "id": "kYozUKhZchnq",
        "colab": {
          "base_uri": "https://localhost:8080/"
        },
        "outputId": "b6344feb-3e3b-4990-f36d-d2e4ee247c34"
      },
      "source": [
        "#range and increment by 3\n",
        "for x in range(2, 30, 3):\n",
        "  print(x) "
      ],
      "execution_count": null,
      "outputs": [
        {
          "output_type": "stream",
          "text": [
            "2\n",
            "5\n",
            "8\n",
            "11\n",
            "14\n",
            "17\n",
            "20\n",
            "23\n",
            "26\n",
            "29\n"
          ],
          "name": "stdout"
        }
      ]
    },
    {
      "cell_type": "markdown",
      "metadata": {
        "id": "_GSJRSDDdHEj"
      },
      "source": [
        "<a id='list'></a>\n",
        "## Lists\n",
        "* Collection of data [ ]\n",
        "* Often used to store homogeneous values\n",
        "    * e.g., Numbers, names with the same data type\n",
        "* Members are accessed as strings\n",
        "* Mutable: modify in place without creating a new object\n"
      ]
    },
    {
      "cell_type": "code",
      "metadata": {
        "id": "kjuBDd2CdHEj"
      },
      "source": [
        "my_list = [1,2,9,4]\n",
        "print(my_list)\n",
        "#how to find out the data type?\n",
        "type(my_list)"
      ],
      "execution_count": null,
      "outputs": []
    },
    {
      "cell_type": "code",
      "metadata": {
        "id": "5RGeAbwqdHEm"
      },
      "source": [
        "my_list2 = list(range(-4,10, 4))\n",
        "print(my_list2)"
      ],
      "execution_count": null,
      "outputs": []
    },
    {
      "cell_type": "code",
      "metadata": {
        "id": "o_Kpc9EjdHEp"
      },
      "source": [
        "# access list members by index \n",
        "# start at 0, end at n-1\n",
        "print(\"1st element =\", my_list[0])\n",
        "print(\"last element =\", my_list[3])"
      ],
      "execution_count": null,
      "outputs": []
    },
    {
      "cell_type": "code",
      "metadata": {
        "id": "iEmUEwyYdHEr"
      },
      "source": [
        "#Concatenate lists\n",
        "print(my_list + my_list)\n",
        "print(my_list *2)\n",
        "print(my_list *3)"
      ],
      "execution_count": null,
      "outputs": []
    },
    {
      "cell_type": "code",
      "metadata": {
        "id": "on_o62WTdHEt"
      },
      "source": [
        "# iterate list elements\n",
        "animals = ['dog','cat','horse']\n",
        "for name in animals:\n",
        "    print(name)"
      ],
      "execution_count": null,
      "outputs": []
    },
    {
      "cell_type": "code",
      "metadata": {
        "id": "oVQvQrY8eUUp"
      },
      "source": [
        "# enumarate\n",
        "cars = ['Ford','Chevy','Toyota']\n",
        "print(cars)\n",
        "cars2 = enumerate(cars)\n",
        "print(list(cars2))"
      ],
      "execution_count": null,
      "outputs": []
    },
    {
      "cell_type": "code",
      "metadata": {
        "id": "iCKHMWDNdHEv"
      },
      "source": [
        "\n",
        "for index, name in enumerate(cars):\n",
        "    print(index+1, name)"
      ],
      "execution_count": null,
      "outputs": []
    },
    {
      "cell_type": "code",
      "metadata": {
        "id": "FJIrrjo4dHEx"
      },
      "source": [
        "# modify list\n",
        "del my_list[0]; print(my_list)\n",
        "my_list.append(99); print(my_list)\n",
        "my_list.insert(1, 100); print(my_list)"
      ],
      "execution_count": null,
      "outputs": []
    },
    {
      "cell_type": "code",
      "metadata": {
        "id": "Sbs8IVSfdHEy"
      },
      "source": [
        "#some list fun\n",
        "\n",
        "my_list.sort(); print(my_list)\n",
        "my_list.reverse(); print(my_list)"
      ],
      "execution_count": null,
      "outputs": []
    },
    {
      "cell_type": "code",
      "metadata": {
        "id": "NQUYj0__dHE1"
      },
      "source": [
        "#more sorting\n",
        "my_list = ['cats', 'SHEEP','DOGS','horses']\n",
        "print(sorted(my_list, key=len))\n",
        "print(sorted(my_list))\n",
        "print(sorted(my_list, reverse=True))"
      ],
      "execution_count": null,
      "outputs": []
    },
    {
      "cell_type": "code",
      "metadata": {
        "id": "U8d5KvgTdHE5"
      },
      "source": [
        "sorted(my_list, key=len)"
      ],
      "execution_count": null,
      "outputs": []
    },
    {
      "cell_type": "code",
      "metadata": {
        "id": "RzRA23WMdHE7"
      },
      "source": [
        "# sort by lowercase\n",
        "sorted(my_list, key=str.lower)"
      ],
      "execution_count": null,
      "outputs": []
    },
    {
      "cell_type": "code",
      "metadata": {
        "id": "300FFfyxdHE9"
      },
      "source": [
        "#list comprehension [expr for var in list]\n",
        "my_list=[2,5,9,1]\n",
        "square = [x**2 for x in my_list]; print(\"square =\", square)\n",
        "large = [n for n in my_list if n >= 5]; print('large =',large)"
      ],
      "execution_count": null,
      "outputs": []
    },
    {
      "cell_type": "markdown",
      "metadata": {
        "id": "bLOJ_PcVUKPj"
      },
      "source": [
        "\n",
        " [top](#top) \n"
      ]
    },
    {
      "cell_type": "markdown",
      "metadata": {
        "id": "SHQYeFQadHE_"
      },
      "source": [
        "<a id='tuple'></a>\n",
        "## Tuples\n",
        "\n",
        "  * Why Tuple?\n",
        "  * Processed faster than lists\n",
        "  * Sequence of a Tuple is protected\n",
        "  * Sequence unpacking\n",
        "\n",
        "Suprising Trait:\n",
        "\n",
        "Python tuples are immutable, but their values may change. This may happen when a tuple holds a reference to any mutable object, such as a list. ... It's clear that dum and dee refer to objects that are equal, but not to the same object.\n",
        "\n",
        "( [ On immutable but changing tuples](http://radar.oreilly.com/2014/10/python-tuples-immutable-but-potentially-changing.html))\n",
        "\n",
        "[Tutorial just on Python Tuples](https://www.tutorialspoint.com/python/python_tuples.htm)"
      ]
    },
    {
      "cell_type": "code",
      "metadata": {
        "id": "331x350XgbOG"
      },
      "source": [
        "#empty tuples\n",
        "my_tup = ()\n",
        "print(my_tup)"
      ],
      "execution_count": null,
      "outputs": []
    },
    {
      "cell_type": "code",
      "metadata": {
        "id": "PWELXBmJg0LR"
      },
      "source": [
        "# you have to include a comma, even though there is only one value you have to include a comma, even though there is only one value\n",
        "tup1 = (50,);\n",
        "print(tup1)"
      ],
      "execution_count": null,
      "outputs": []
    },
    {
      "cell_type": "code",
      "metadata": {
        "id": "nlgKsOibdHE_"
      },
      "source": [
        "my_tup = (2, 8, 3, 1)\n",
        "print(my_tup)\n",
        "a,b,c,d = my_tup\n",
        "print(a, b, c, d)\n"
      ],
      "execution_count": null,
      "outputs": []
    },
    {
      "cell_type": "code",
      "metadata": {
        "id": "d85nI5mKdHFD"
      },
      "source": [
        "print(my_tup[0])"
      ],
      "execution_count": null,
      "outputs": []
    },
    {
      "cell_type": "code",
      "metadata": {
        "id": "xhYi3QKSh7-Z"
      },
      "source": [
        "#Spoiler:  look for error before running?\n",
        "tup = ('physics', 'chemistry', 1997, 2000);\n",
        "print(tup);\n",
        "del tup;\n",
        "print(\"After deleting tup : \");\n",
        "print(tup);\n"
      ],
      "execution_count": null,
      "outputs": []
    },
    {
      "cell_type": "markdown",
      "metadata": {
        "id": "NyCpkyAXh21a"
      },
      "source": [
        "Immutable?  Not?"
      ]
    },
    {
      "cell_type": "code",
      "metadata": {
        "id": "Iw50ZE55xwG_"
      },
      "source": [
        "dum = ('1861-10-23', ['poetry', 'pretend-fight'])\n",
        "dee = ('1861-10-23', ['poetry', 'pretend-fight'])\n",
        "\n",
        "print(dum == dee)\n",
        "\n",
        "print(dum is dee)\n",
        "\n",
        "id(dum), id(dee)"
      ],
      "execution_count": null,
      "outputs": []
    },
    {
      "cell_type": "code",
      "metadata": {
        "id": "l0RXAHIhyNBX"
      },
      "source": [
        "t_doom = dum\n",
        "print(dum, t_doom)\n",
        "\n",
        "print(t_doom == dum)\n",
        "print(t_doom is dum)\n",
        "id(dum), id(t_doom)"
      ],
      "execution_count": null,
      "outputs": []
    },
    {
      "cell_type": "code",
      "metadata": {
        "id": "TCIJtKzWzEQd"
      },
      "source": [
        "skills = t_doom[1]\n",
        "print(skills)\n",
        "\n",
        "skills.append('rap')\n",
        "print(t_doom)\n",
        "\n",
        "print(dum)\n",
        "\n"
      ],
      "execution_count": null,
      "outputs": []
    },
    {
      "cell_type": "code",
      "metadata": {
        "id": "23NrzRmr0LFf"
      },
      "source": [
        "print(dum == dee)\n"
      ],
      "execution_count": null,
      "outputs": []
    },
    {
      "cell_type": "markdown",
      "metadata": {
        "id": "la3gZrW6UNts"
      },
      "source": [
        "\n",
        " [top](#top) "
      ]
    },
    {
      "cell_type": "markdown",
      "metadata": {
        "id": "7NHEdgtwdHFG"
      },
      "source": [
        "<a id='dic'></a>\n",
        "## Dictionaries\n",
        "* List of key-value pairs { }\n",
        "* Unordered collections of objects, not indexed\n",
        "* Store objects in a random order to provide faster lookup\n",
        "* Data type are heterogeneous, unlike list\n",
        "* Element are accessed by a keyword, not index\n",
        "* Elements are mutable \n",
        "* dict = {\"key1”: value1,  “key2”: value2} \n",
        "\n",
        "[Tutorialspoint.com  on  Dictionaries](https://www.tutorialspoint.com/python/python_dictionary.htm)"
      ]
    },
    {
      "cell_type": "code",
      "metadata": {
        "id": "9gcG6o9NdHFG"
      },
      "source": [
        "my_dict = {'cats': 4, 'dogs':2, 'sheep':3}\n",
        "print(my_dict)"
      ],
      "execution_count": null,
      "outputs": []
    },
    {
      "cell_type": "code",
      "metadata": {
        "id": "ObA5EWGWdHFL"
      },
      "source": [
        "print(my_dict[\"cats\"])"
      ],
      "execution_count": null,
      "outputs": []
    },
    {
      "cell_type": "code",
      "metadata": {
        "id": "VNSCBGHSdHFN"
      },
      "source": [
        "my_dict['horse'] = 3; print(sorted(my_dict))"
      ],
      "execution_count": null,
      "outputs": []
    },
    {
      "cell_type": "code",
      "metadata": {
        "id": "sIfUBr5DdHFR"
      },
      "source": [
        "print(my_dict.keys()); print(my_dict.values())\n",
        "print(sorted(my_dict.values()))\n"
      ],
      "execution_count": null,
      "outputs": []
    },
    {
      "cell_type": "code",
      "metadata": {
        "id": "zsD9iVhudHFT"
      },
      "source": [
        "for key, value in my_dict.items():\n",
        "    print(key, value)"
      ],
      "execution_count": null,
      "outputs": []
    },
    {
      "cell_type": "markdown",
      "metadata": {
        "id": "cQLT2e0XUQ1J"
      },
      "source": [
        "\n",
        " [top](#top) "
      ]
    },
    {
      "cell_type": "markdown",
      "metadata": {
        "id": "Rqz5LcVEdHFX"
      },
      "source": [
        "<a id='file'></a>\n",
        "## Files\n",
        "* file open, close, read, write\n",
        "* file_handle = open(“file_name”, ‘mode’)\n",
        "    * Modes: \n",
        "    * a: append\n",
        "    * r: read only (error if not existing)\n",
        "    * w: write only\n",
        "    * r+: read/write (error if not existing)\n",
        "    * w+: read/write\n",
        "    * b: binary\n",
        "* Python has a built-in garbage collector\n",
        "* Object memory space is auto reclaimed once a file is no longer in use \n",
        "    "
      ]
    },
    {
      "cell_type": "code",
      "metadata": {
        "id": "Vyss2yB8ptAk"
      },
      "source": [
        "if [ ! -f \"data.txt\" ]; then wget 'https:/! /raw.githubusercontent.com/lsuhpchelp/lbrnloniworkshop2018/master/day2_python/data.txt'; else echo 'file exists'; fi;"
      ],
      "execution_count": null,
      "outputs": []
    },
    {
      "cell_type": "code",
      "metadata": {
        "id": "gV_4i_lqdHFX"
      },
      "source": [
        "input = open('data.txt', 'r')\n",
        "content = input.read()\n",
        "input.close()\n",
        "print(content)"
      ],
      "execution_count": null,
      "outputs": []
    },
    {
      "cell_type": "code",
      "metadata": {
        "id": "XhJGF4bRdHFZ"
      },
      "source": [
        "#write to a file\n",
        "output = open('write.txt','w')\n",
        "output.write(\"Writing to a file\")\n",
        "output.close()\n",
        "!ls -l\n",
        "! cat write.txt\n"
      ],
      "execution_count": null,
      "outputs": []
    },
    {
      "cell_type": "markdown",
      "metadata": {
        "id": "cFU44ybwUTuv"
      },
      "source": [
        "\n",
        " [top](#top) "
      ]
    },
    {
      "cell_type": "markdown",
      "metadata": {
        "id": "8sIJ4A57dHFk"
      },
      "source": [
        "<a id='module'> </a>\n",
        "## Functions\n",
        "def func_name(par1, par2,...): \n",
        "> body of code\n",
        "\n",
        "\n",
        " \n",
        "\n",
        "\n",
        "\n",
        " [top](#top)    \n",
        "    "
      ]
    },
    {
      "cell_type": "code",
      "metadata": {
        "id": "B5Hf5RZLdHFk"
      },
      "source": [
        "#addition\n",
        "def my_add(x, y):\n",
        "    return x+y\n",
        "\n",
        "sum=my_add(3, 8); print(sum)"
      ],
      "execution_count": null,
      "outputs": []
    },
    {
      "cell_type": "code",
      "metadata": {
        "id": "5lyjqDO4dHFm"
      },
      "source": [
        "#return multiple values\n",
        "def power(input):\n",
        "    return input**2, input**3\n",
        "\n",
        "square, cube = power(3)\n",
        "print(\"square =\",square, \"cube =\",cube)"
      ],
      "execution_count": null,
      "outputs": []
    },
    {
      "cell_type": "markdown",
      "metadata": {
        "id": "_73RPOcBdHFn"
      },
      "source": [
        "<a id='module'> </a>\n",
        "## Python Module\n",
        "* A python script with python functions and statements\n",
        "* Import a module before having access to all the functions within\n",
        "* Most Python distributions come with plenty of build-in modules \n",
        "***\n"
      ]
    },
    {
      "cell_type": "markdown",
      "metadata": {
        "id": "h9s2tfPcdHFo"
      },
      "source": [
        "\n",
        "## Python Modules\n",
        "* math, sys, os..\n",
        "* NumPy, high performance in vector & matrix using vector computation \n",
        "* SciPy: based on Numpy, including many scientific algorithms.\n",
        "* padas\n",
        "* matplotlib, pyplot, pylab\n",
        "\n",
        "Reference to [Python3.x standard libraries](https://docs.python.org/3/library/) \n"
      ]
    },
    {
      "cell_type": "code",
      "metadata": {
        "id": "H9NB_NcNdHFo",
        "colab": {
          "base_uri": "https://localhost:8080/"
        },
        "outputId": "3d5f58a2-df51-43d8-ab1e-e5c81eeecdad"
      },
      "source": [
        "#import a module\n",
        "import math\n",
        "math.sin(math.pi)"
      ],
      "execution_count": null,
      "outputs": [
        {
          "output_type": "execute_result",
          "data": {
            "text/plain": [
              "1.2246467991473532e-16"
            ]
          },
          "metadata": {
            "tags": []
          },
          "execution_count": 1
        }
      ]
    },
    {
      "cell_type": "code",
      "metadata": {
        "id": "LZkg2iD_dHFq",
        "colab": {
          "base_uri": "https://localhost:8080/"
        },
        "outputId": "0d6e533f-0344-430d-d049-b5d8789ea438"
      },
      "source": [
        "#get information of a module\n",
        "dir(math)"
      ],
      "execution_count": null,
      "outputs": [
        {
          "output_type": "execute_result",
          "data": {
            "text/plain": [
              "['__doc__',\n",
              " '__loader__',\n",
              " '__name__',\n",
              " '__package__',\n",
              " '__spec__',\n",
              " 'acos',\n",
              " 'acosh',\n",
              " 'asin',\n",
              " 'asinh',\n",
              " 'atan',\n",
              " 'atan2',\n",
              " 'atanh',\n",
              " 'ceil',\n",
              " 'copysign',\n",
              " 'cos',\n",
              " 'cosh',\n",
              " 'degrees',\n",
              " 'e',\n",
              " 'erf',\n",
              " 'erfc',\n",
              " 'exp',\n",
              " 'expm1',\n",
              " 'fabs',\n",
              " 'factorial',\n",
              " 'floor',\n",
              " 'fmod',\n",
              " 'frexp',\n",
              " 'fsum',\n",
              " 'gamma',\n",
              " 'gcd',\n",
              " 'hypot',\n",
              " 'inf',\n",
              " 'isclose',\n",
              " 'isfinite',\n",
              " 'isinf',\n",
              " 'isnan',\n",
              " 'ldexp',\n",
              " 'lgamma',\n",
              " 'log',\n",
              " 'log10',\n",
              " 'log1p',\n",
              " 'log2',\n",
              " 'modf',\n",
              " 'nan',\n",
              " 'pi',\n",
              " 'pow',\n",
              " 'radians',\n",
              " 'remainder',\n",
              " 'sin',\n",
              " 'sinh',\n",
              " 'sqrt',\n",
              " 'tan',\n",
              " 'tanh',\n",
              " 'tau',\n",
              " 'trunc']"
            ]
          },
          "metadata": {
            "tags": []
          },
          "execution_count": 2
        }
      ]
    },
    {
      "cell_type": "code",
      "metadata": {
        "id": "m2CnZMlldHFs",
        "colab": {
          "base_uri": "https://localhost:8080/"
        },
        "outputId": "275702c9-4644-4e6e-d3bb-c9b41bfcb2d4"
      },
      "source": [
        "#get information\n",
        "help(math)"
      ],
      "execution_count": null,
      "outputs": [
        {
          "output_type": "stream",
          "text": [
            "Help on built-in module math:\n",
            "\n",
            "NAME\n",
            "    math\n",
            "\n",
            "DESCRIPTION\n",
            "    This module provides access to the mathematical functions\n",
            "    defined by the C standard.\n",
            "\n",
            "FUNCTIONS\n",
            "    acos(x, /)\n",
            "        Return the arc cosine (measured in radians) of x.\n",
            "    \n",
            "    acosh(x, /)\n",
            "        Return the inverse hyperbolic cosine of x.\n",
            "    \n",
            "    asin(x, /)\n",
            "        Return the arc sine (measured in radians) of x.\n",
            "    \n",
            "    asinh(x, /)\n",
            "        Return the inverse hyperbolic sine of x.\n",
            "    \n",
            "    atan(x, /)\n",
            "        Return the arc tangent (measured in radians) of x.\n",
            "    \n",
            "    atan2(y, x, /)\n",
            "        Return the arc tangent (measured in radians) of y/x.\n",
            "        \n",
            "        Unlike atan(y/x), the signs of both x and y are considered.\n",
            "    \n",
            "    atanh(x, /)\n",
            "        Return the inverse hyperbolic tangent of x.\n",
            "    \n",
            "    ceil(x, /)\n",
            "        Return the ceiling of x as an Integral.\n",
            "        \n",
            "        This is the smallest integer >= x.\n",
            "    \n",
            "    copysign(x, y, /)\n",
            "        Return a float with the magnitude (absolute value) of x but the sign of y.\n",
            "        \n",
            "        On platforms that support signed zeros, copysign(1.0, -0.0)\n",
            "        returns -1.0.\n",
            "    \n",
            "    cos(x, /)\n",
            "        Return the cosine of x (measured in radians).\n",
            "    \n",
            "    cosh(x, /)\n",
            "        Return the hyperbolic cosine of x.\n",
            "    \n",
            "    degrees(x, /)\n",
            "        Convert angle x from radians to degrees.\n",
            "    \n",
            "    erf(x, /)\n",
            "        Error function at x.\n",
            "    \n",
            "    erfc(x, /)\n",
            "        Complementary error function at x.\n",
            "    \n",
            "    exp(x, /)\n",
            "        Return e raised to the power of x.\n",
            "    \n",
            "    expm1(x, /)\n",
            "        Return exp(x)-1.\n",
            "        \n",
            "        This function avoids the loss of precision involved in the direct evaluation of exp(x)-1 for small x.\n",
            "    \n",
            "    fabs(x, /)\n",
            "        Return the absolute value of the float x.\n",
            "    \n",
            "    factorial(x, /)\n",
            "        Find x!.\n",
            "        \n",
            "        Raise a ValueError if x is negative or non-integral.\n",
            "    \n",
            "    floor(x, /)\n",
            "        Return the floor of x as an Integral.\n",
            "        \n",
            "        This is the largest integer <= x.\n",
            "    \n",
            "    fmod(x, y, /)\n",
            "        Return fmod(x, y), according to platform C.\n",
            "        \n",
            "        x % y may differ.\n",
            "    \n",
            "    frexp(x, /)\n",
            "        Return the mantissa and exponent of x, as pair (m, e).\n",
            "        \n",
            "        m is a float and e is an int, such that x = m * 2.**e.\n",
            "        If x is 0, m and e are both 0.  Else 0.5 <= abs(m) < 1.0.\n",
            "    \n",
            "    fsum(seq, /)\n",
            "        Return an accurate floating point sum of values in the iterable seq.\n",
            "        \n",
            "        Assumes IEEE-754 floating point arithmetic.\n",
            "    \n",
            "    gamma(x, /)\n",
            "        Gamma function at x.\n",
            "    \n",
            "    gcd(x, y, /)\n",
            "        greatest common divisor of x and y\n",
            "    \n",
            "    hypot(x, y, /)\n",
            "        Return the Euclidean distance, sqrt(x*x + y*y).\n",
            "    \n",
            "    isclose(a, b, *, rel_tol=1e-09, abs_tol=0.0)\n",
            "        Determine whether two floating point numbers are close in value.\n",
            "        \n",
            "          rel_tol\n",
            "            maximum difference for being considered \"close\", relative to the\n",
            "            magnitude of the input values\n",
            "          abs_tol\n",
            "            maximum difference for being considered \"close\", regardless of the\n",
            "            magnitude of the input values\n",
            "        \n",
            "        Return True if a is close in value to b, and False otherwise.\n",
            "        \n",
            "        For the values to be considered close, the difference between them\n",
            "        must be smaller than at least one of the tolerances.\n",
            "        \n",
            "        -inf, inf and NaN behave similarly to the IEEE 754 Standard.  That\n",
            "        is, NaN is not close to anything, even itself.  inf and -inf are\n",
            "        only close to themselves.\n",
            "    \n",
            "    isfinite(x, /)\n",
            "        Return True if x is neither an infinity nor a NaN, and False otherwise.\n",
            "    \n",
            "    isinf(x, /)\n",
            "        Return True if x is a positive or negative infinity, and False otherwise.\n",
            "    \n",
            "    isnan(x, /)\n",
            "        Return True if x is a NaN (not a number), and False otherwise.\n",
            "    \n",
            "    ldexp(x, i, /)\n",
            "        Return x * (2**i).\n",
            "        \n",
            "        This is essentially the inverse of frexp().\n",
            "    \n",
            "    lgamma(x, /)\n",
            "        Natural logarithm of absolute value of Gamma function at x.\n",
            "    \n",
            "    log(...)\n",
            "        log(x, [base=math.e])\n",
            "        Return the logarithm of x to the given base.\n",
            "        \n",
            "        If the base not specified, returns the natural logarithm (base e) of x.\n",
            "    \n",
            "    log10(x, /)\n",
            "        Return the base 10 logarithm of x.\n",
            "    \n",
            "    log1p(x, /)\n",
            "        Return the natural logarithm of 1+x (base e).\n",
            "        \n",
            "        The result is computed in a way which is accurate for x near zero.\n",
            "    \n",
            "    log2(x, /)\n",
            "        Return the base 2 logarithm of x.\n",
            "    \n",
            "    modf(x, /)\n",
            "        Return the fractional and integer parts of x.\n",
            "        \n",
            "        Both results carry the sign of x and are floats.\n",
            "    \n",
            "    pow(x, y, /)\n",
            "        Return x**y (x to the power of y).\n",
            "    \n",
            "    radians(x, /)\n",
            "        Convert angle x from degrees to radians.\n",
            "    \n",
            "    remainder(x, y, /)\n",
            "        Difference between x and the closest integer multiple of y.\n",
            "        \n",
            "        Return x - n*y where n*y is the closest integer multiple of y.\n",
            "        In the case where x is exactly halfway between two multiples of\n",
            "        y, the nearest even value of n is used. The result is always exact.\n",
            "    \n",
            "    sin(x, /)\n",
            "        Return the sine of x (measured in radians).\n",
            "    \n",
            "    sinh(x, /)\n",
            "        Return the hyperbolic sine of x.\n",
            "    \n",
            "    sqrt(x, /)\n",
            "        Return the square root of x.\n",
            "    \n",
            "    tan(x, /)\n",
            "        Return the tangent of x (measured in radians).\n",
            "    \n",
            "    tanh(x, /)\n",
            "        Return the hyperbolic tangent of x.\n",
            "    \n",
            "    trunc(x, /)\n",
            "        Truncates the Real x to the nearest Integral toward 0.\n",
            "        \n",
            "        Uses the __trunc__ magic method.\n",
            "\n",
            "DATA\n",
            "    e = 2.718281828459045\n",
            "    inf = inf\n",
            "    nan = nan\n",
            "    pi = 3.141592653589793\n",
            "    tau = 6.283185307179586\n",
            "\n",
            "FILE\n",
            "    (built-in)\n",
            "\n",
            "\n"
          ],
          "name": "stdout"
        }
      ]
    },
    {
      "cell_type": "code",
      "metadata": {
        "raw_mimetype": "text/x-python",
        "id": "fL7e1I0IdHFt",
        "colab": {
          "base_uri": "https://localhost:8080/"
        },
        "outputId": "13a5ee69-316b-44cf-9d56-2434b8bc6b40"
      },
      "source": [
        "# get information of a module function \n",
        "help(range)"
      ],
      "execution_count": null,
      "outputs": [
        {
          "output_type": "stream",
          "text": [
            "Help on class range in module builtins:\n",
            "\n",
            "class range(object)\n",
            " |  range(stop) -> range object\n",
            " |  range(start, stop[, step]) -> range object\n",
            " |  \n",
            " |  Return an object that produces a sequence of integers from start (inclusive)\n",
            " |  to stop (exclusive) by step.  range(i, j) produces i, i+1, i+2, ..., j-1.\n",
            " |  start defaults to 0, and stop is omitted!  range(4) produces 0, 1, 2, 3.\n",
            " |  These are exactly the valid indices for a list of 4 elements.\n",
            " |  When step is given, it specifies the increment (or decrement).\n",
            " |  \n",
            " |  Methods defined here:\n",
            " |  \n",
            " |  __bool__(self, /)\n",
            " |      self != 0\n",
            " |  \n",
            " |  __contains__(self, key, /)\n",
            " |      Return key in self.\n",
            " |  \n",
            " |  __eq__(self, value, /)\n",
            " |      Return self==value.\n",
            " |  \n",
            " |  __ge__(self, value, /)\n",
            " |      Return self>=value.\n",
            " |  \n",
            " |  __getattribute__(self, name, /)\n",
            " |      Return getattr(self, name).\n",
            " |  \n",
            " |  __getitem__(self, key, /)\n",
            " |      Return self[key].\n",
            " |  \n",
            " |  __gt__(self, value, /)\n",
            " |      Return self>value.\n",
            " |  \n",
            " |  __hash__(self, /)\n",
            " |      Return hash(self).\n",
            " |  \n",
            " |  __iter__(self, /)\n",
            " |      Implement iter(self).\n",
            " |  \n",
            " |  __le__(self, value, /)\n",
            " |      Return self<=value.\n",
            " |  \n",
            " |  __len__(self, /)\n",
            " |      Return len(self).\n",
            " |  \n",
            " |  __lt__(self, value, /)\n",
            " |      Return self<value.\n",
            " |  \n",
            " |  __ne__(self, value, /)\n",
            " |      Return self!=value.\n",
            " |  \n",
            " |  __reduce__(...)\n",
            " |      Helper for pickle.\n",
            " |  \n",
            " |  __repr__(self, /)\n",
            " |      Return repr(self).\n",
            " |  \n",
            " |  __reversed__(...)\n",
            " |      Return a reverse iterator.\n",
            " |  \n",
            " |  count(...)\n",
            " |      rangeobject.count(value) -> integer -- return number of occurrences of value\n",
            " |  \n",
            " |  index(...)\n",
            " |      rangeobject.index(value) -> integer -- return index of value.\n",
            " |      Raise ValueError if the value is not present.\n",
            " |  \n",
            " |  ----------------------------------------------------------------------\n",
            " |  Static methods defined here:\n",
            " |  \n",
            " |  __new__(*args, **kwargs) from builtins.type\n",
            " |      Create and return a new object.  See help(type) for accurate signature.\n",
            " |  \n",
            " |  ----------------------------------------------------------------------\n",
            " |  Data descriptors defined here:\n",
            " |  \n",
            " |  start\n",
            " |  \n",
            " |  step\n",
            " |  \n",
            " |  stop\n",
            "\n"
          ],
          "name": "stdout"
        }
      ]
    },
    {
      "cell_type": "markdown",
      "metadata": {
        "id": "vrDWNnt-dHFv"
      },
      "source": [
        " * Examples using os, commands modules\n",
        " * os: includes many functions interacting with the file system \n"
      ]
    },
    {
      "cell_type": "code",
      "metadata": {
        "id": "Hn34Cqtu3Zku",
        "colab": {
          "base_uri": "https://localhost:8080/"
        },
        "outputId": "cf779a8b-38a6-48d5-abb3-9b517e93d905"
      },
      "source": [
        "import os\n",
        "!ls \n",
        "os.listdir()\n"
      ],
      "execution_count": null,
      "outputs": [
        {
          "output_type": "stream",
          "text": [
            "sample_data\n"
          ],
          "name": "stdout"
        },
        {
          "output_type": "execute_result",
          "data": {
            "text/plain": [
              "['.config', 'sample_data']"
            ]
          },
          "metadata": {
            "tags": []
          },
          "execution_count": 5
        }
      ]
    },
    {
      "cell_type": "code",
      "metadata": {
        "id": "PVaDavH4dHFv",
        "colab": {
          "base_uri": "https://localhost:8080/"
        },
        "outputId": "a7a355d6-5c07-44fd-fccb-9866bff2d87f"
      },
      "source": [
        "\n",
        "def display_dir(dir):\n",
        "      files = os.listdir()\n",
        "      for fname in files:\n",
        "        print(fname)\n",
        "        print(os.path.abspath(os.path.join(dir, fname))) \n",
        "\n",
        "display_dir('/tmp')"
      ],
      "execution_count": null,
      "outputs": [
        {
          "output_type": "stream",
          "text": [
            ".config\n",
            "/tmp/.config\n",
            "sample_data\n",
            "/tmp/sample_data\n"
          ],
          "name": "stdout"
        }
      ]
    },
    {
      "cell_type": "markdown",
      "metadata": {
        "id": "zwaa9zsfUl6e"
      },
      "source": [
        " [top](#top)"
      ]
    },
    {
      "cell_type": "markdown",
      "metadata": {
        "id": "zt4YHVYPdHGR"
      },
      "source": [
        "#### Data processing\n"
      ]
    },
    {
      "cell_type": "code",
      "metadata": {
        "id": "vkXjWnr_dHGZ",
        "colab": {
          "base_uri": "https://localhost:8080/",
          "height": 295
        },
        "outputId": "6450e78a-429a-46c6-b1d5-e54582944ecd"
      },
      "source": [
        "# Plot a bar chart\n",
        "import matplotlib.pyplot as plt\n",
        "\n",
        "\n",
        "xlabeles = ['January','February','March','April']\n",
        "xticks = [i for i in range(len(xlabeles))]\n",
        "y = [ 34, 17, 13, 69]\n",
        "e = [5.2, 10., 1.5, 12.]\n",
        "plt.errorbar(xlabeles, y, yerr=e, fmt='d', capsize=10)\n",
        "plt.bar(xlabeles, y, 0.5, color='red' )\n",
        "plt.title(\"Sale by Month\")\n",
        "plt.xlabel('Month')\n",
        "plt.ylabel('Sale')\n",
        "plt.xticks(xticks, xlabeles)\n",
        "\n",
        "plt.show()"
      ],
      "execution_count": null,
      "outputs": [
        {
          "output_type": "display_data",
          "data": {
            "image/png": "[encoded data removed]",
            "text/plain": [
              "<Figure size 432x288 with 1 Axes>"
            ]
          },
          "metadata": {
            "tags": [],
            "needs_background": "light"
          }
        }
      ]
    },
    {
      "cell_type": "markdown",
      "metadata": {
        "id": "z2hDr0HlUoNI"
      },
      "source": [
        " [top](#top)"
      ]
    },
    {
      "cell_type": "markdown",
      "metadata": {
        "id": "z-YuCy6W7r_f"
      },
      "source": [
        "# Examples:   Please solve the following problems:  (Feel free to ask for help)"
      ]
    },
    {
      "cell_type": "markdown",
      "metadata": {
        "id": "qjp7hzS47u0F"
      },
      "source": [
        "Write a line of code to print the sum of 999 and 1600"
      ]
    },
    {
      "cell_type": "code",
      "metadata": {
        "id": "4ULjgwxwdHGe"
      },
      "source": [
        ""
      ],
      "execution_count": null,
      "outputs": []
    },
    {
      "cell_type": "markdown",
      "metadata": {
        "id": "656RSHJU8A6u"
      },
      "source": [
        "Write a line of code to print out your \"Hello Name\" where Name is your name."
      ]
    },
    {
      "cell_type": "code",
      "metadata": {
        "id": "Jgz-6j7R8Lkl"
      },
      "source": [
        ""
      ],
      "execution_count": null,
      "outputs": []
    },
    {
      "cell_type": "markdown",
      "metadata": {
        "id": "yFuPURle7zqJ"
      },
      "source": [
        "Write a code snippet to calculate the total of the shopping spree on Rodeo Dr. You bought:\n",
        "\n",
        "1 pair of shoes:  2400<br>\n",
        "1𝑝𝑎𝑖𝑟𝑜𝑓𝑠𝑙𝑎𝑐𝑘𝑠: 1500<br>\n",
        "ruby ring: 22000\n",
        "\n",
        "State and local tax is 22%.\n",
        "\n",
        "You want to print out the untaxed total, the amount of tax and the total of tax and goods."
      ]
    },
    {
      "cell_type": "code",
      "metadata": {
        "id": "pYMY_OUd73kz"
      },
      "source": [
        ""
      ],
      "execution_count": null,
      "outputs": []
    },
    {
      "cell_type": "markdown",
      "metadata": {
        "id": "m4IW9ndv74e4"
      },
      "source": [
        "\n",
        "\n",
        "```\n",
        "```\n",
        "\n",
        "Rewrite the code you wrote above make the tax calculation a function block and the shopping total a function block.   Write a complete program and run it."
      ]
    },
    {
      "cell_type": "code",
      "metadata": {
        "id": "N6o9yVbt778T"
      },
      "source": [
        ""
      ],
      "execution_count": null,
      "outputs": []
    },
    {
      "cell_type": "markdown",
      "metadata": {
        "id": "g-O1_Ffa78wV"
      },
      "source": [
        "**Create a leap year finder based on the following algorithm:\n",
        "\n",
        "Leap years occur according to the following formula: a leap year is divisible by four, but not by one hundred, unless it is divisible by four hundred. For example, 1992, 1996, and 2000 are leap years, but 1993 and 1900 are not. The next leap year that falls on a century will be 2400.\n",
        "\n",
        "Use the following list to check and see if your code is correct.  The list of leap years from 1900 to 2400 inclusive is:\n",
        "\n",
        "1904, 1908, 1912, 1916, 1920, 1924, 1928, 1932, 1936, 1940, 1944, 1948, 1952, 1956, 1960, 1964, 1968, 1972, 1976, 1980, 1984, 1988, 1992, 1996, 2000, 2004, 2008, 2012, 2016, 2020"
      ]
    },
    {
      "cell_type": "code",
      "metadata": {
        "id": "h0JhVFbH8g6h"
      },
      "source": [
        "#Find leap years:\n",
        "#\n",
        "#Logic: leap year is exactly divisible by 4 except for century years (years ending with 00). The century year is a leap year only if it is perfectly divisible by 400. \n",
        "\n",
        "# To get year (integer input) from the user\n",
        "# year = int(input)\n",
        "#  Warn user:   print(\"{0} is not a leap year\".format(year))\n"
      ],
      "execution_count": null,
      "outputs": []
    },
    {
      "cell_type": "markdown",
      "metadata": {
        "id": "6W1d-2RS0pp-"
      },
      "source": [
        "Using the code in the prime number example in the Control Structures section fix the code so it only prints out each prime number once."
      ]
    },
    {
      "cell_type": "code",
      "metadata": {
        "id": "laSeZK3R0oHZ"
      },
      "source": [
        ""
      ],
      "execution_count": null,
      "outputs": []
    },
    {
      "cell_type": "markdown",
      "metadata": {
        "id": "ytwnosgAUuz9"
      },
      "source": [
        " [top](#top)"
      ]
    }
  ]
}