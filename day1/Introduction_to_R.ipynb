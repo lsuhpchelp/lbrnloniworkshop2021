{
  "nbformat": 4,
  "nbformat_minor": 0,
  "metadata": {
    "colab": {
      "name": "Introduction_to_R.ipynb",
      "provenance": [],
      "private_outputs": true,
      "collapsed_sections": [
        "lW8M-lb-5Sqm",
        "3xIyLZSX5ZYA",
        "bIradhn8nAsX",
        "Ln_66oqI681p",
        "MenwnCkuYoQt",
        "-1OjjS0p6_lt"
      ]
    },
    "language_info": {
      "codemirror_mode": "r",
      "file_extension": ".r",
      "mimetype": "text/x-r-source",
      "name": "R",
      "pygments_lexer": "r",
      "version": "3.3.1"
    },
    "kernelspec": {
      "display_name": "R",
      "language": "R",
      "name": "ir"
    }
  },
  "cells": [
      {
   "cell_type": "markdown",
   "metadata": {
    "colab_type": "text",
    "id": "view-in-github"
   },
   "source": [
    "<a href=\"https://colab.research.google.com/github/lsuhpchelp/lbrnloniworkshop2020/blob/master/day3/Introduction_to_R.ipynb\" target=\"_parent\"><img src=\"https://colab.research.google.com/assets/colab-badge.svg\" alt=\"Open In Colab\"/></a>"
   ]
  },
    {
      "cell_type": "markdown",
      "metadata": {
        "id": "SWzsE9omeSN1",
        "colab_type": "text"
      },
      "source": [
        "# Introduction to R"
      ]
    },
    {
      "cell_type": "markdown",
      "metadata": {
        "id": "THVk8YtgfLvF",
        "colab_type": "text"
      },
      "source": [
        "**DO NOT CHANGE THE RUNTIME BECAUSE YOU WON'T BE ABLE TO CHANGE IT BACK!**"
      ]
    },
    {
      "cell_type": "code",
      "metadata": {
        "id": "be6urrizhGk9",
        "colab_type": "code",
        "colab": {}
      },
      "source": [
        "#@title Run this segment first { display-mode: \"form\" }\n",
        "install.packages(\"gcookbook\")\n",
        "install.packages(\"doParallel\")\n",
        "install.packages(\"plyr\")\n",
        "library(gcookbook)\n",
        "library(datasets)\n",
        "library(ggplot2)\n",
        "library(lubridate)"
      ],
      "execution_count": 0,
      "outputs": []
    },
    {
      "cell_type": "markdown",
      "metadata": {
        "id": "zQLKMs59rpvi",
        "colab_type": "text"
      },
      "source": [
        "# Outline\n",
        "\n",
        "* Introduction\n",
        "* How to run R codes\n",
        "* Basic syntax\n",
        "* Data classes and objects in R\n",
        "* Flow control structures\n",
        "* Useful functions\n",
        "* Managing R packages\n",
        "* File operations\n",
        "* Graphics\n",
        "* Parallel processing\n",
        "\n"
      ]
    },
    {
      "cell_type": "markdown",
      "metadata": {
        "id": "lW8M-lb-5Sqm",
        "colab_type": "text"
      },
      "source": [
        "# Introduction"
      ]
    },
    {
      "cell_type": "markdown",
      "metadata": {
        "id": "QJGFuLmZsrCT",
        "colab_type": "text"
      },
      "source": [
        "## What is R\n",
        "\n",
        "* R is a programming language for statistical computing\n",
        "  * Importing, storing, exporting and manipulating data\n",
        "  * Conducting statistical analyses\n",
        "  * Displaying the results by tables, graphs, etc.\n",
        "* R is also a software environment for the development and implementation of new algorithms.\n",
        "  * Many graphical user interface to R both free and commercial (e.g. Rstudio and Revolution R (now Microsoft R) ).\n",
        "* R is being used by many disciplines\n",
        "  * [A collection of repositories of R codes categorized by discipline](https://github.com/lsuhpchelp/r_collection)\n"
      ]
    },
    {
      "cell_type": "markdown",
      "metadata": {
        "id": "OIeuD2OxtFph",
        "colab_type": "text"
      },
      "source": [
        "## History of R\n",
        "\n",
        "* R is a dialect of the S language\n",
        "  * S was created in 1976 at the Bell Labs as an internal statistical analysis environment\n",
        "  * Goal of S was “to turn ideas into software, quickly and faithfully\".\n",
        "  * Most well known implementation is S-plus (most recent stable release was in 2010). S-Plus integrates S with a nice GUI interface and full customer support.\n",
        "* R was created by Ross Ihaka and Robert Gentleman at the University of Auckland, New Zealand.\n",
        "* The R core group was formed in 1997, who controls the source code of R (written in C)\n",
        "* The first stable version R 1.0.0 was released in 2000\n",
        "* Latest stable version is 4.0.0 released on Apr 24, 2020"
      ]
    },
    {
      "cell_type": "code",
      "metadata": {
        "id": "vt-DUyoENrHF",
        "colab_type": "code",
        "colab": {}
      },
      "source": [
        "version"
      ],
      "execution_count": 0,
      "outputs": []
    },
    {
      "cell_type": "markdown",
      "metadata": {
        "id": "nOe0m3Gdteds",
        "colab_type": "text"
      },
      "source": [
        "## Features of R\n",
        "\n",
        "* Designed for statistical analysis, with rich data analysis functionalities and sophisticated graphical capabilities\n",
        "* Available on most platform/OS\n",
        "* Active development and (very) active community\n",
        "  * [CRAN](https://cran.r-project.org/): The Comprehensive R Archive Network\n",
        "  * Source code and binaries, user contributed packages and documentation\n",
        "  * More than 15,000 packages available on CRAN (as of May 2020)\n",
        "    * Compared to 6,000 three years ago\n",
        "* Free to use"
      ]
    },
    {
      "cell_type": "markdown",
      "metadata": {
        "id": "3xIyLZSX5ZYA",
        "colab_type": "text"
      },
      "source": [
        "# How to Run R Codes"
      ]
    },
    {
      "cell_type": "markdown",
      "metadata": {
        "id": "v_4TM4yIDHwM",
        "colab_type": "text"
      },
      "source": [
        "There are (at least) three options to run R codes:\n",
        "* Google Colaboratory\n",
        "* Rstudio\n",
        "* HPC clusters"
      ]
    },
    {
      "cell_type": "markdown",
      "metadata": {
        "id": "xYFRMtbvJXIb",
        "colab_type": "text"
      },
      "source": [
        "## Colab\n",
        "\n",
        "This is what we are using right now. It is the most convenient - browser-based and no setup is needed. The only thing you need is a Google account. In the meanwhile, we don't have much control on the environment. For instance, we can't choose which version to use and have very limited control on where the data is stored."
      ]
    },
    {
      "cell_type": "markdown",
      "metadata": {
        "id": "RUe1W-Y-DTE2",
        "colab_type": "text"
      },
      "source": [
        "## Rstudio\n",
        "\n",
        "![Rstudio screen shot](https://support.rstudio.com/hc/article_attachments/115020357707/Screen_Shot_2017-08-24_at_1.22.05_PM.png)\n",
        "\n",
        "Rstudio is an intergrated development environment (IDE) for R.\n",
        "\n",
        "* Free to use: [Rstudio website](https://www.rstudio.com/)\n",
        "* Its user interface is similar to IDEs, dividing the screen into panes\n",
        "  * Source code editor\n",
        "  * Console\n",
        "  * Workspace\n",
        "  * Others (help message, plot etc.)\n",
        "* Rstudio in a desktop environment is better suited for code development and/or a limited number of small jobs.\n",
        "\n",
        "Rstudio also provides a collection of very useful cheat sheets about how to use R [here](https://www.rstudio.com/resources/cheatsheets/)."
      ]
    },
    {
      "cell_type": "markdown",
      "metadata": {
        "id": "30bP-0GhLuwQ",
        "colab_type": "text"
      },
      "source": [
        "## HPC Clusters\n",
        "\n",
        "The HPC clusters are good for resource‐demanding workloads, e.g. resource-intense tasks or many small tasks."
      ]
    },
    {
      "cell_type": "markdown",
      "metadata": {
        "id": "2-a6403H6Pf_",
        "colab_type": "text"
      },
      "source": [
        "# Basic Syntax"
      ]
    },
    {
      "cell_type": "markdown",
      "metadata": {
        "id": "aMZx_TR9Dw2p",
        "colab_type": "text"
      },
      "source": [
        "## Assignment\n",
        "\n",
        "For new users, the biggest difference from other languages is perhaps the assignment operator: **R uses \"<-\" instead of \"=\"**. "
      ]
    },
    {
      "cell_type": "code",
      "metadata": {
        "id": "Eu1cJEhrD_aT",
        "colab_type": "code",
        "cellView": "both",
        "colab": {}
      },
      "source": [
        "x <- 2*4"
      ],
      "execution_count": 0,
      "outputs": []
    },
    {
      "cell_type": "markdown",
      "metadata": {
        "id": "TFi6rURhD4uB",
        "colab_type": "text"
      },
      "source": [
        "The contents of the object \"x\" can be viewed by typing its name at the R prompt."
      ]
    },
    {
      "cell_type": "code",
      "metadata": {
        "id": "toTMccSpEClz",
        "colab_type": "code",
        "colab": {}
      },
      "source": [
        "x"
      ],
      "execution_count": 0,
      "outputs": []
    },
    {
      "cell_type": "code",
      "metadata": {
        "id": "lEFCvCPYPLXU",
        "colab_type": "code",
        "colab": {}
      },
      "source": [
        "# What happens if we run this?\n",
        "y"
      ],
      "execution_count": 0,
      "outputs": []
    },
    {
      "cell_type": "markdown",
      "metadata": {
        "id": "xuOcTBQhY29q",
        "colab_type": "text"
      },
      "source": [
        "Actually, \"=\" works too, but there are some subtle differences, which are explained [here](https://renkun.me/2014/01/28/difference-between-assignment-operators-in-r/). "
      ]
    },
    {
      "cell_type": "code",
      "metadata": {
        "id": "yKI9d3beMFkM",
        "colab_type": "code",
        "colab": {}
      },
      "source": [
        "y = 2 * 4\n",
        "y"
      ],
      "execution_count": 0,
      "outputs": []
    },
    {
      "cell_type": "markdown",
      "metadata": {
        "id": "uiXEWIdZNLcF",
        "colab_type": "text"
      },
      "source": [
        "Again, \"<-\" is the recommended way of assigning a value to a variable."
      ]
    },
    {
      "cell_type": "markdown",
      "metadata": {
        "id": "VmiULzr8sFGu",
        "colab_type": "text"
      },
      "source": [
        "## Comment"
      ]
    },
    {
      "cell_type": "markdown",
      "metadata": {
        "id": "pnhHTCtQsI5z",
        "colab_type": "text"
      },
      "source": [
        "In R, any line staring with \"#\" will be interpreted as a comment."
      ]
    },
    {
      "cell_type": "code",
      "metadata": {
        "id": "oSwNxd-2sO_C",
        "colab_type": "code",
        "colab": {}
      },
      "source": [
        "# z <- 2*4\n",
        "# Nothing will happen."
      ],
      "execution_count": 0,
      "outputs": []
    },
    {
      "cell_type": "markdown",
      "metadata": {
        "id": "aj5qv2UPaTSd",
        "colab_type": "text"
      },
      "source": [
        "## Legal R Names\n",
        "\n",
        "Names for R objects can be any combination of letters, numbers, underscores (_) and periods (.), but must not start with a number or an underscore."
      ]
    },
    {
      "cell_type": "markdown",
      "metadata": {
        "id": "xVbejwVyb1Ol",
        "colab_type": "text"
      },
      "source": [
        "These are legal names:"
      ]
    },
    {
      "cell_type": "code",
      "metadata": {
        "id": "YSN3PuAFVJu1",
        "colab_type": "code",
        "colab": {}
      },
      "source": [
        "num.Cats.2 <- 4\n",
        "num.Cats.2\n",
        "num_Cats <- 5\n",
        "num_Cats"
      ],
      "execution_count": 0,
      "outputs": []
    },
    {
      "cell_type": "markdown",
      "metadata": {
        "id": "sHxhm98ScLSp",
        "colab_type": "text"
      },
      "source": [
        "These are not:"
      ]
    },
    {
      "cell_type": "code",
      "metadata": {
        "id": "kj6l6SZCbF4b",
        "colab_type": "code",
        "colab": {}
      },
      "source": [
        "# Start with \"_\"\n",
        "_num.cats <- 5"
      ],
      "execution_count": 0,
      "outputs": []
    },
    {
      "cell_type": "code",
      "metadata": {
        "id": "0LO-G6EPbVrX",
        "colab_type": "code",
        "colab": {}
      },
      "source": [
        "# \"-\" is not allowed.\n",
        "num-cats <- 5"
      ],
      "execution_count": 0,
      "outputs": []
    },
    {
      "cell_type": "code",
      "metadata": {
        "id": "_zRGup_2bM-o",
        "colab_type": "code",
        "colab": {}
      },
      "source": [
        "# Start with a number.\n",
        "2cats <- 3"
      ],
      "execution_count": 0,
      "outputs": []
    },
    {
      "cell_type": "markdown",
      "metadata": {
        "id": "ss3qglkYVg46",
        "colab_type": "text"
      },
      "source": [
        "R is case sensitive, e.g. X and x are different in R."
      ]
    },
    {
      "cell_type": "code",
      "metadata": {
        "id": "QKKCqeEnaokZ",
        "colab_type": "code",
        "cellView": "code",
        "colab": {}
      },
      "source": [
        "x <- 4\n",
        "cat(\"The value of x is:\",x)\n",
        "cat(\"The value of X is:\",X)"
      ],
      "execution_count": 0,
      "outputs": []
    },
    {
      "cell_type": "markdown",
      "metadata": {
        "id": "wkGt0NWQdUwj",
        "colab_type": "text"
      },
      "source": [
        "## Arithematic operations\n",
        "\n",
        "Basic arithematic operators: +, -, *, /, ^"
      ]
    },
    {
      "cell_type": "code",
      "metadata": {
        "id": "DXcHNQF9dmci",
        "colab_type": "code",
        "colab": {}
      },
      "source": [
        "1 + 2*4^(3/5)"
      ],
      "execution_count": 0,
      "outputs": []
    },
    {
      "cell_type": "markdown",
      "metadata": {
        "id": "88HfwU_QWEJO",
        "colab_type": "text"
      },
      "source": [
        "Scientific notation: 1e-2"
      ]
    },
    {
      "cell_type": "code",
      "metadata": {
        "id": "I_wfRTY7WHUh",
        "colab_type": "code",
        "colab": {}
      },
      "source": [
        "1e2 + 1e-2"
      ],
      "execution_count": 0,
      "outputs": []
    },
    {
      "cell_type": "markdown",
      "metadata": {
        "id": "Um6jDvCUdnLu",
        "colab_type": "text"
      },
      "source": [
        "Special values: Inf (non-finite numeric values), NaN (not a number)"
      ]
    },
    {
      "cell_type": "code",
      "metadata": {
        "id": "DeB4Mt5geDNH",
        "colab_type": "code",
        "colab": {}
      },
      "source": [
        "1 / 0\n",
        "-1 / 0\n",
        "1/0 - 1/0"
      ],
      "execution_count": 0,
      "outputs": []
    },
    {
      "cell_type": "markdown",
      "metadata": {
        "id": "SZd-QycYr8Pu",
        "colab_type": "text"
      },
      "source": [
        "## Comparisons and logical operations"
      ]
    },
    {
      "cell_type": "markdown",
      "metadata": {
        "id": "fqU6sXBLsJi0",
        "colab_type": "text"
      },
      "source": [
        "Comparisons that will return a logical value:\n",
        "* Less than: ```<```\n",
        "* Less than or equal to: <=\n",
        "* Greater than: >\n",
        "* Greater than or equal to: >=\n",
        "* Equal to: ==\n",
        "* Not equal to: ```!=```"
      ]
    },
    {
      "cell_type": "code",
      "metadata": {
        "id": "Axk5EW6KsPRF",
        "colab_type": "code",
        "colab": {}
      },
      "source": [
        "1 > 2"
      ],
      "execution_count": 0,
      "outputs": []
    },
    {
      "cell_type": "code",
      "metadata": {
        "id": "Jczs9X8YsSvH",
        "colab_type": "code",
        "colab": {}
      },
      "source": [
        "1 != 2"
      ],
      "execution_count": 0,
      "outputs": []
    },
    {
      "cell_type": "markdown",
      "metadata": {
        "id": "boUXHSI_sf0N",
        "colab_type": "text"
      },
      "source": [
        "Logical operations:\n",
        "* NOT: !\n",
        "* AND (elementwise): &\n",
        "* OR (element wise): |"
      ]
    },
    {
      "cell_type": "code",
      "metadata": {
        "id": "xEQeIUZpsmrn",
        "colab_type": "code",
        "colab": {}
      },
      "source": [
        "# The negation of 1 < 2\n",
        "! 1 < 2"
      ],
      "execution_count": 0,
      "outputs": []
    },
    {
      "cell_type": "code",
      "metadata": {
        "id": "Ob7o4faBszo3",
        "colab_type": "code",
        "colab": {}
      },
      "source": [
        "# Assign initial values for a and b.\n",
        "a <- 4\n",
        "b <- 5\n",
        "# Logical experessions.\n",
        "cat(\"a < 10 is\", a < 10, \"\\n\")\n",
        "cat(\"b < 3 is\", b < 3, \"\\n\")\n",
        "# Are both expressions TRUE?\n",
        "cat(\"a < 10 & b < 3 is\", a < 10 & b < 3, \"\\n\") \n",
        "# Are one of the expressions TRUE?\n",
        "cat(\"a < 10 | b < 3 is\", a < 10 | b < 3)"
      ],
      "execution_count": 0,
      "outputs": []
    },
    {
      "cell_type": "markdown",
      "metadata": {
        "id": "8Y51nnhBst0y",
        "colab_type": "text"
      },
      "source": [
        "## Getting help"
      ]
    },
    {
      "cell_type": "markdown",
      "metadata": {
        "id": "KlrtggX9dxfA",
        "colab_type": "text"
      },
      "source": [
        "Getting help is straightforward in R. \n",
        "\n",
        "For information about specific functions or objects, use **?\\<name of funciton>**. "
      ]
    },
    {
      "cell_type": "code",
      "metadata": {
        "id": "OowbAimHd1ft",
        "colab_type": "code",
        "colab": {}
      },
      "source": [
        "?class"
      ],
      "execution_count": 0,
      "outputs": []
    },
    {
      "cell_type": "markdown",
      "metadata": {
        "id": "Hdxaxob7s5V2",
        "colab_type": "text"
      },
      "source": [
        "For a keyword search, use **??\\<keyword>**"
      ]
    },
    {
      "cell_type": "code",
      "metadata": {
        "id": "YyQSzEjCs4d1",
        "colab_type": "code",
        "colab": {}
      },
      "source": [
        "??assignment"
      ],
      "execution_count": 0,
      "outputs": []
    },
    {
      "cell_type": "markdown",
      "metadata": {
        "id": "a3ye6Yqt6r_d",
        "colab_type": "text"
      },
      "source": [
        "# Data Classes And Objects"
      ]
    },
    {
      "cell_type": "markdown",
      "metadata": {
        "id": "fA2WGM3oGiae",
        "colab_type": "text"
      },
      "source": [
        "## Atomic Date Types\n",
        "\n",
        "R has five atomic classes:\n",
        "\n"
      ]
    },
    {
      "cell_type": "markdown",
      "metadata": {
        "id": "fd3ruUJvdWuQ",
        "colab_type": "text"
      },
      "source": [
        "* Numeric (double)\n",
        "  * Numbers in R are treated as numeric unless specified otherwise."
      ]
    },
    {
      "cell_type": "code",
      "metadata": {
        "id": "i2elyxrhWhPy",
        "colab_type": "code",
        "colab": {}
      },
      "source": [
        "# The class() function reveals the class of a R object.\n",
        "class(9.3)\n",
        "class(3)"
      ],
      "execution_count": 0,
      "outputs": []
    },
    {
      "cell_type": "markdown",
      "metadata": {
        "id": "McaKmgZMWl51",
        "colab_type": "text"
      },
      "source": [
        "* Integer"
      ]
    },
    {
      "cell_type": "code",
      "metadata": {
        "id": "cvk20CBhWnj-",
        "colab_type": "code",
        "colab": {}
      },
      "source": [
        "# The as.integer() function \"casts\" a variable into integer.\n",
        "class(as.integer(3))"
      ],
      "execution_count": 0,
      "outputs": []
    },
    {
      "cell_type": "markdown",
      "metadata": {
        "id": "yYB1TMMEWrcJ",
        "colab_type": "text"
      },
      "source": [
        "* Complex"
      ]
    },
    {
      "cell_type": "code",
      "metadata": {
        "id": "SAoGwy9MWtM_",
        "colab_type": "code",
        "colab": {}
      },
      "source": [
        "class(3+2i)"
      ],
      "execution_count": 0,
      "outputs": []
    },
    {
      "cell_type": "markdown",
      "metadata": {
        "id": "lKY4G4AnW_8x",
        "colab_type": "text"
      },
      "source": [
        "* Character"
      ]
    },
    {
      "cell_type": "code",
      "metadata": {
        "id": "ZSwPOLdTXCL6",
        "colab_type": "code",
        "colab": {}
      },
      "source": [
        "# Both are categorized as characters.\n",
        "class(\"a\")\n",
        "class(\"a cat\")\n",
        "# What about this?\n",
        "class(a)"
      ],
      "execution_count": 0,
      "outputs": []
    },
    {
      "cell_type": "markdown",
      "metadata": {
        "id": "MTbSNbhBXTL_",
        "colab_type": "text"
      },
      "source": [
        "* Logical (T, TRUE, F, FALSE)\n",
        "  * Note that they must be upper case\n",
        "\n"
      ]
    },
    {
      "cell_type": "code",
      "metadata": {
        "id": "xkfyJst0g9ju",
        "colab_type": "code",
        "colab": {}
      },
      "source": [
        "class(TRUE)\n",
        "class(T)\n",
        "class(True)"
      ],
      "execution_count": 0,
      "outputs": []
    },
    {
      "cell_type": "markdown",
      "metadata": {
        "id": "XXmfAfbU0WrM",
        "colab_type": "text"
      },
      "source": [
        "`NA` is a logical constant R uses to denote a missing value."
      ]
    },
    {
      "cell_type": "code",
      "metadata": {
        "id": "zw4fxljF0j7R",
        "colab_type": "code",
        "colab": {}
      },
      "source": [
        "class(NA)"
      ],
      "execution_count": 0,
      "outputs": []
    },
    {
      "cell_type": "markdown",
      "metadata": {
        "id": "lqirzoNChx7X",
        "colab_type": "text"
      },
      "source": [
        "The **is.\\<type>()** functions, which return logical values, can be used to check for the data classes too. "
      ]
    },
    {
      "cell_type": "code",
      "metadata": {
        "id": "MA3mzcUQnb7Y",
        "colab_type": "code",
        "colab": {}
      },
      "source": [
        "a <- 3\n",
        "# IS a numeric?\n",
        "is.numeric(a)\n",
        "# Is a integer?\n",
        "is.integer(a)"
      ],
      "execution_count": 0,
      "outputs": []
    },
    {
      "cell_type": "markdown",
      "metadata": {
        "id": "HTcdbbaHiDx9",
        "colab_type": "text"
      },
      "source": [
        "## Derivative Data Types\n",
        "\n",
        "There are many derivative data types which are built using the atomic ones. For exmple, the \"Date\" type."
      ]
    },
    {
      "cell_type": "code",
      "metadata": {
        "id": "B0xwwtZKiLCc",
        "colab_type": "code",
        "colab": {}
      },
      "source": [
        "# The function today() returns the data of today.\n",
        "mydate <- today()\n",
        "mydate\n",
        "class(mydate)"
      ],
      "execution_count": 0,
      "outputs": []
    },
    {
      "cell_type": "markdown",
      "metadata": {
        "id": "_HQcqdnMjDM6",
        "colab_type": "text"
      },
      "source": [
        "## Data Objects\n",
        "\n",
        "Now let's look at the data objects in R. They are:\n",
        "\n",
        "* Vector: elements of same class, one dimension\n",
        "* Matrix: elements of same class, two dimensions\n",
        "* Array: elements of same class, 2+ dimensions\n",
        "* Lists: elements can be any objects\n",
        "* Data frames: “datasets” where columns are variables and rows are observations"
      ]
    },
    {
      "cell_type": "markdown",
      "metadata": {
        "id": "f_kFtIRtjW8S",
        "colab_type": "text"
      },
      "source": [
        "### Vectors\n",
        "\n"
      ]
    },
    {
      "cell_type": "markdown",
      "metadata": {
        "id": "GpbKM_HNeirE",
        "colab_type": "text"
      },
      "source": [
        "Vectors contain elements of the **same** data type."
      ]
    },
    {
      "cell_type": "markdown",
      "metadata": {
        "id": "SPX6G_1fcc4J",
        "colab_type": "text"
      },
      "source": [
        "Vectors can be constructed by \n",
        "* The **c()** funtion (concatenate):"
      ]
    },
    {
      "cell_type": "code",
      "metadata": {
        "id": "CUfcZG3CAK9f",
        "colab_type": "code",
        "colab": {}
      },
      "source": [
        "myvec <- c(1,2,3)\n",
        "myvec\n",
        "# myvec is a numeric vector, so class() will report \"numeric\".\n",
        "class(myvec)\n",
        "is.vector(myvec)"
      ],
      "execution_count": 0,
      "outputs": []
    },
    {
      "cell_type": "code",
      "metadata": {
        "id": "s676HbyOAQER",
        "colab_type": "code",
        "colab": {}
      },
      "source": [
        "myvec <- c(\"a\",\"b\",\"c\")\n",
        "myvec\n",
        "class(myvec)\n",
        "is.vector(myvec)"
      ],
      "execution_count": 0,
      "outputs": []
    },
    {
      "cell_type": "markdown",
      "metadata": {
        "id": "2is8Y5wgcsiO",
        "colab_type": "text"
      },
      "source": [
        "* The **vector()** function\n",
        "  * The vector will be initiated to the default values."
      ]
    },
    {
      "cell_type": "code",
      "metadata": {
        "id": "xs233Ouie3MU",
        "colab_type": "code",
        "colab": {}
      },
      "source": [
        "myvec <- vector(\"numeric\", length = 10)\n",
        "myvec"
      ],
      "execution_count": 0,
      "outputs": []
    },
    {
      "cell_type": "markdown",
      "metadata": {
        "id": "fNSEYjM-cybd",
        "colab_type": "text"
      },
      "source": [
        "* The **seq()** and **rep()** functions, or the \":\" operator"
      ]
    },
    {
      "cell_type": "code",
      "metadata": {
        "id": "mLvAqfzaongH",
        "colab_type": "code",
        "colab": {}
      },
      "source": [
        "myvec <- seq(from=2,to=10,by=2)\n",
        "myvec\n",
        "# When calling a function in R, the argument names are optional, so the code below does exactly the same thing.\n",
        "myvec <- seq(2,10,2)\n",
        "myvec"
      ],
      "execution_count": 0,
      "outputs": []
    },
    {
      "cell_type": "code",
      "metadata": {
        "id": "ANI4qAC6oplD",
        "colab_type": "code",
        "colab": {}
      },
      "source": [
        "myvec <- seq(from=2,to=10,length=5)\n",
        "myvec\n",
        "# When calling a function in R, the argument names are optional; without the argument names, the order of arguments is very important!!!\n",
        "myvec <- seq(2,10,5)\n",
        "myvec"
      ],
      "execution_count": 0,
      "outputs": []
    },
    {
      "cell_type": "code",
      "metadata": {
        "id": "fpWDtEAJorFK",
        "colab_type": "code",
        "colab": {}
      },
      "source": [
        "myvec <- rep(5,6)\n",
        "myvec"
      ],
      "execution_count": 0,
      "outputs": []
    },
    {
      "cell_type": "code",
      "metadata": {
        "id": "bQTIhhr-fHbK",
        "colab_type": "code",
        "colab": {}
      },
      "source": [
        "myvec <- 1:15\n",
        "myvec\n",
        "class(myvec)"
      ],
      "execution_count": 0,
      "outputs": []
    },
    {
      "cell_type": "markdown",
      "metadata": {
        "id": "UZ5rhMVif3_l",
        "colab_type": "text"
      },
      "source": [
        "* Or a combination of all of them"
      ]
    },
    {
      "cell_type": "code",
      "metadata": {
        "id": "z5940hpBf84c",
        "colab_type": "code",
        "colab": {}
      },
      "source": [
        "# How many elements would myvec end up with?\n",
        "myvec <- c(1,8:10,rep(2:4,3))\n",
        "myvec"
      ],
      "execution_count": 0,
      "outputs": []
    },
    {
      "cell_type": "markdown",
      "metadata": {
        "id": "699QJqLcgSuA",
        "colab_type": "text"
      },
      "source": [
        "You can convert an object to a different type using the **as.\\<TYPE>()** functions.\n",
        "\n",
        "Note: the output will be an object of the specified type, while the input remains untouched."
      ]
    },
    {
      "cell_type": "code",
      "metadata": {
        "id": "3M78WQu8gfV0",
        "colab_type": "code",
        "colab": {}
      },
      "source": [
        "# myvec is a numeric vector.\n",
        "myvec <- 1:3\n",
        "myvec\n",
        "# The output of as.character(myvec) is a character vector.\n",
        "as.character(myvec)\n",
        "# myvec is still a numeric array.\n",
        "myvec"
      ],
      "execution_count": 0,
      "outputs": []
    },
    {
      "cell_type": "markdown",
      "metadata": {
        "id": "mldhHejUp6vN",
        "colab_type": "text"
      },
      "source": [
        "When converting to logical values, a numeric \"0\" will be FALSE while all non-zeroes will be TRUE."
      ]
    },
    {
      "cell_type": "code",
      "metadata": {
        "id": "1n7dmSZ8qE72",
        "colab_type": "code",
        "colab": {}
      },
      "source": [
        "as.logical(0:3)"
      ],
      "execution_count": 0,
      "outputs": []
    },
    {
      "cell_type": "markdown",
      "metadata": {
        "id": "3sHvzlJcgeMY",
        "colab_type": "text"
      },
      "source": [
        "Coercion will occur when mixed objects are passed to the **c()** function, as if an **as.\\<Type>()** function is explicitly called."
      ]
    },
    {
      "cell_type": "code",
      "metadata": {
        "id": "8t53vPtSAQGd",
        "colab_type": "code",
        "colab": {}
      },
      "source": [
        "# Which data type would mybec be?\n",
        "myvec <- c(1e3,\"a\")\n",
        "class(myvec)"
      ],
      "execution_count": 0,
      "outputs": []
    },
    {
      "cell_type": "markdown",
      "metadata": {
        "id": "fNKo3ZSEphjc",
        "colab_type": "text"
      },
      "source": [
        "How about this one?"
      ]
    },
    {
      "cell_type": "code",
      "metadata": {
        "id": "MvkIhdRNr79q",
        "colab_type": "code",
        "colab": {}
      },
      "source": [
        "c(1.7,\"a\")"
      ],
      "execution_count": 0,
      "outputs": []
    },
    {
      "cell_type": "markdown",
      "metadata": {
        "id": "rpuZSD3MplcP",
        "colab_type": "text"
      },
      "source": [
        "And this one?"
      ]
    },
    {
      "cell_type": "code",
      "metadata": {
        "id": "SdTJOA57rrWH",
        "colab_type": "code",
        "colab": {}
      },
      "source": [
        "c(T,2)"
      ],
      "execution_count": 0,
      "outputs": []
    },
    {
      "cell_type": "markdown",
      "metadata": {
        "id": "Qc7agGbzoIwp",
        "colab_type": "text"
      },
      "source": [
        "Caution: type coercion may happen **without you being aware of it and may have unintended results**."
      ]
    },
    {
      "cell_type": "markdown",
      "metadata": {
        "id": "2eI7whmShOZc",
        "colab_type": "text"
      },
      "source": [
        "One can use the [\\<index>] operator to access individual element in a vector. Note that in R the indices start from 1."
      ]
    },
    {
      "cell_type": "code",
      "metadata": {
        "id": "SMkjHhcIhYZr",
        "colab_type": "code",
        "colab": {}
      },
      "source": [
        "myvec <- 1:10\n",
        "# myvec[4] points to the 4th element in the vector.\n",
        "myvec[4]"
      ],
      "execution_count": 0,
      "outputs": []
    },
    {
      "cell_type": "markdown",
      "metadata": {
        "id": "cjWS9E1_qijG",
        "colab_type": "text"
      },
      "source": [
        "For multiple elements with multiple indices, use the **c()** function (the indices need to be passed as a vector themselves)."
      ]
    },
    {
      "cell_type": "code",
      "metadata": {
        "id": "0Y9hNAIgqh-N",
        "colab_type": "code",
        "colab": {}
      },
      "source": [
        "# This will not work:\n",
        "myvec[1,4]"
      ],
      "execution_count": 0,
      "outputs": []
    },
    {
      "cell_type": "code",
      "metadata": {
        "id": "BV_0w_3204t6",
        "colab_type": "code",
        "colab": {}
      },
      "source": [
        "# But this will:\n",
        "myvec[c(1,4)]"
      ],
      "execution_count": 0,
      "outputs": []
    },
    {
      "cell_type": "markdown",
      "metadata": {
        "id": "1J2tOhUIrNac",
        "colab_type": "text"
      },
      "source": [
        "Logical values can be used to access individual elements too."
      ]
    },
    {
      "cell_type": "code",
      "metadata": {
        "id": "0Oub6edFrUYI",
        "colab_type": "code",
        "colab": {}
      },
      "source": [
        "myvec[c(T,T,F)]"
      ],
      "execution_count": 0,
      "outputs": []
    },
    {
      "cell_type": "markdown",
      "metadata": {
        "id": "RhFb7_QJrWc2",
        "colab_type": "text"
      },
      "source": [
        "Negative indices will drop the corresponding elements from the vector."
      ]
    },
    {
      "cell_type": "code",
      "metadata": {
        "id": "rXhbIOw3rbh-",
        "colab_type": "code",
        "colab": {}
      },
      "source": [
        "myvec[-6:-2]"
      ],
      "execution_count": 0,
      "outputs": []
    },
    {
      "cell_type": "markdown",
      "metadata": {
        "id": "CtYnVRNuBUGA",
        "colab_type": "text"
      },
      "source": [
        "**Important:** Lots of R operations process objects in a vectorized way\n",
        "* More efficient, concise, and easier to read."
      ]
    },
    {
      "cell_type": "code",
      "metadata": {
        "id": "1FAlkls2Ba3G",
        "colab_type": "code",
        "colab": {}
      },
      "source": [
        "# vec1: 1 2 3 4\n",
        "# vec2: 4 3 2 1\n",
        "vec1 <- 1:4\n",
        "vec2 <- 4:1"
      ],
      "execution_count": 0,
      "outputs": []
    },
    {
      "cell_type": "code",
      "metadata": {
        "id": "wRXPJis8ig0R",
        "colab_type": "code",
        "colab": {}
      },
      "source": [
        "# Element-wise addition\n",
        "vec1 + vec2"
      ],
      "execution_count": 0,
      "outputs": []
    },
    {
      "cell_type": "code",
      "metadata": {
        "id": "KTncXEdzipxM",
        "colab_type": "code",
        "colab": {}
      },
      "source": [
        "# Element-wise comparison\n",
        "vec1 > 2"
      ],
      "execution_count": 0,
      "outputs": []
    },
    {
      "cell_type": "code",
      "metadata": {
        "id": "Ox4ry-10irS5",
        "colab_type": "code",
        "colab": {}
      },
      "source": [
        "# Element-wise comparison\n",
        "vec1 > vec2"
      ],
      "execution_count": 0,
      "outputs": []
    },
    {
      "cell_type": "code",
      "metadata": {
        "id": "dBUPBHF7isXg",
        "colab_type": "code",
        "colab": {}
      },
      "source": [
        "# Equivalent to \"show all vec1 elements that are greater than their counterparts in vec2\".\n",
        "vec1[vec1 > vec2]"
      ],
      "execution_count": 0,
      "outputs": []
    },
    {
      "cell_type": "markdown",
      "metadata": {
        "id": "mfNsIgsEWSX_",
        "colab_type": "text"
      },
      "source": [
        "Sometimes R takes it to the extreme."
      ]
    },
    {
      "cell_type": "code",
      "metadata": {
        "id": "TGy8vQDwWR1-",
        "colab_type": "code",
        "colab": {}
      },
      "source": [
        "# vec1: 1 2 3 4 5 \n",
        "# vec2: 4 3 2 1\n",
        "vec1 <- 1:5\n",
        "vec2 <- 4:1\n",
        "# Now vec1 and vec2 are of different length. Would this end up with an error? \n",
        "vec1+vec2"
      ],
      "execution_count": 0,
      "outputs": []
    },
    {
      "cell_type": "markdown",
      "metadata": {
        "id": "VKld5NEAAoih",
        "colab_type": "text"
      },
      "source": [
        "### Matrices\n"
      ]
    },
    {
      "cell_type": "markdown",
      "metadata": {
        "id": "KhSI7T6UCPpk",
        "colab_type": "text"
      },
      "source": [
        "In R, elements in matrices must be of the same type as well. Actually, matrices are merely vectors with a \"dimension\" attribute. \n"
      ]
    },
    {
      "cell_type": "markdown",
      "metadata": {
        "id": "oko-tFFqltHz",
        "colab_type": "text"
      },
      "source": [
        "Assigning an \"dim\" attribute to a vector turns it into a matrix."
      ]
    },
    {
      "cell_type": "code",
      "metadata": {
        "id": "Qme15v9SlyJ2",
        "colab_type": "code",
        "colab": {}
      },
      "source": [
        "# \"mymat\" is a what?\n",
        "mymat <- 1:12\n",
        "mymat\n",
        "dim(mymat)"
      ],
      "execution_count": 0,
      "outputs": []
    },
    {
      "cell_type": "code",
      "metadata": {
        "id": "PIekM5Sssifx",
        "colab_type": "code",
        "colab": {}
      },
      "source": [
        "# Assign a \"dim\" attribut to mymat turns it into a matrix.\n",
        "dim(mymat) <- c(3,4)\n",
        "mymat"
      ],
      "execution_count": 0,
      "outputs": []
    },
    {
      "cell_type": "markdown",
      "metadata": {
        "id": "fvrNbJrMlmV2",
        "colab_type": "text"
      },
      "source": [
        "R matrices can be constructed by using the **matrix()** function as well."
      ]
    },
    {
      "cell_type": "code",
      "metadata": {
        "id": "GkZiv9n5lqA6",
        "colab_type": "code",
        "colab": {}
      },
      "source": [
        "matrix(1:12,nrow=3,ncol=4)"
      ],
      "execution_count": 0,
      "outputs": []
    },
    {
      "cell_type": "markdown",
      "metadata": {
        "id": "1-AqG09RmBmO",
        "colab_type": "text"
      },
      "source": [
        "The **matrix()** fucntion construct matrices column‐wise by default. You can use the \"byrow=T\" option to switch to row-wise.\n"
      ]
    },
    {
      "cell_type": "code",
      "metadata": {
        "id": "XUMg5yZkmFVq",
        "colab_type": "code",
        "colab": {}
      },
      "source": [
        "matrix(1:12,nrow=3,ncol=4,byrow=T)"
      ],
      "execution_count": 0,
      "outputs": []
    },
    {
      "cell_type": "markdown",
      "metadata": {
        "id": "Uvl_J9sSlyVs",
        "colab_type": "text"
      },
      "source": [
        "Or by using the **cbind()** or **rbind()** functions."
      ]
    },
    {
      "cell_type": "code",
      "metadata": {
        "id": "h-iS3R5ZmBa6",
        "colab_type": "code",
        "colab": {}
      },
      "source": [
        "# Treat each argument as a column and bind them should-by-should into a matrix.\n",
        "cbind(1:3,4:6,7:9,10:12)"
      ],
      "execution_count": 0,
      "outputs": []
    },
    {
      "cell_type": "code",
      "metadata": {
        "id": "putr3gbKsvZb",
        "colab_type": "code",
        "colab": {}
      },
      "source": [
        "# Treat each argument as a row and bind them row-by-row into a matrix.\n",
        "rbind(1:3,4:6,7:9,10:12)"
      ],
      "execution_count": 0,
      "outputs": []
    },
    {
      "cell_type": "markdown",
      "metadata": {
        "id": "8EjvH1f7mFkK",
        "colab_type": "text"
      },
      "source": [
        "• One can use [\\<index>,\\<index>] to access individual elements."
      ]
    },
    {
      "cell_type": "code",
      "metadata": {
        "id": "M6stfeDhm5G4",
        "colab_type": "code",
        "colab": {}
      },
      "source": [
        "mymat[3,4]"
      ],
      "execution_count": 0,
      "outputs": []
    },
    {
      "cell_type": "markdown",
      "metadata": {
        "id": "li5JUqAwCYNj",
        "colab_type": "text"
      },
      "source": [
        "### Arrays"
      ]
    },
    {
      "cell_type": "markdown",
      "metadata": {
        "id": "JxDOrW-pCaIq",
        "colab_type": "text"
      },
      "source": [
        "Arrays consist of elements of same class with a number of dimensions. Vectors and matrices are arrays of 1 and 2 dimensions."
      ]
    },
    {
      "cell_type": "code",
      "metadata": {
        "id": "Qzhr0Nw4nH27",
        "colab_type": "code",
        "colab": {}
      },
      "source": [
        "# myarray will be a three-dimensional array\n",
        "myarray <- array(data = 1:12,dim = c(2,2,3))\n",
        "myarray\n",
        "# Access an element using the indices.\n",
        "myarray[1,1,2]\n",
        "# Actually, it's fine to treat it as a one-dimensional vector.\n",
        "myarray[5]"
      ],
      "execution_count": 0,
      "outputs": []
    },
    {
      "cell_type": "code",
      "metadata": {
        "id": "aHTHnrrvth-0",
        "colab_type": "code",
        "colab": {}
      },
      "source": [
        "# Mold myarray into a matrix.\n",
        "dim(myarray) <- c(3,4)\n",
        "# Then you won't be able to access its element using three indices.\n",
        "myarray[1,1,2]"
      ],
      "execution_count": 0,
      "outputs": []
    },
    {
      "cell_type": "markdown",
      "metadata": {
        "id": "vhIuKcVJCi4v",
        "colab_type": "text"
      },
      "source": [
        "### Lists"
      ]
    },
    {
      "cell_type": "markdown",
      "metadata": {
        "id": "OJ0yD7ucClYs",
        "colab_type": "text"
      },
      "source": [
        "Lists are an ordered collection of objects, which can be of **different types or classes**."
      ]
    },
    {
      "cell_type": "markdown",
      "metadata": {
        "id": "HTzfaqMknnJ2",
        "colab_type": "text"
      },
      "source": [
        "Lists can be constructed by using the **list()** function.\n"
      ]
    },
    {
      "cell_type": "code",
      "metadata": {
        "id": "S8Usv5C_nvQX",
        "colab_type": "code",
        "colab": {}
      },
      "source": [
        "# Mixing numeric, logical and character.\n",
        "list(1,F,\"a\")"
      ],
      "execution_count": 0,
      "outputs": []
    },
    {
      "cell_type": "markdown",
      "metadata": {
        "id": "aK6s7l1Mn-AY",
        "colab_type": "text"
      },
      "source": [
        "Members of a list do not have to be of atomic types, i.e. they can be vectors, matrices and even lists."
      ]
    },
    {
      "cell_type": "code",
      "metadata": {
        "id": "2GcZ0WG0n9Vl",
        "colab_type": "code",
        "colab": {}
      },
      "source": [
        "# Mixing numeric, vector (numeric), matrix (numeric), list\n",
        "mylist <- list(1,1:5,matrix(1:6,2,3),list(1,F,\"a\"))\n",
        "mylist"
      ],
      "execution_count": 0,
      "outputs": []
    },
    {
      "cell_type": "markdown",
      "metadata": {
        "id": "rzJ2Bx4UnuIO",
        "colab_type": "text"
      },
      "source": [
        "Lists can be indexed using the `[[ ]]` operator."
      ]
    },
    {
      "cell_type": "code",
      "metadata": {
        "id": "lMXnv97wocWl",
        "colab_type": "code",
        "colab": {}
      },
      "source": [
        "# The second element in mylist.\n",
        "mylist[[2]]"
      ],
      "execution_count": 0,
      "outputs": []
    },
    {
      "cell_type": "markdown",
      "metadata": {
        "id": "p16bwsSL6aOc",
        "colab_type": "text"
      },
      "source": [
        "The indices can be nested."
      ]
    },
    {
      "cell_type": "code",
      "metadata": {
        "id": "zMIyVhqM6Y2v",
        "colab_type": "code",
        "colab": {}
      },
      "source": [
        "# The second element of the fourth element (a list) in my list.\n",
        "mylist[[4]][[2]]\n",
        "# The [1,3] element of the third element (a matrix) in my list.\n",
        "mylist[[3]][1,3]"
      ],
      "execution_count": 0,
      "outputs": []
    },
    {
      "cell_type": "markdown",
      "metadata": {
        "id": "YL7uvFvXo3rR",
        "colab_type": "text"
      },
      "source": [
        "Elements of R objects can have names."
      ]
    },
    {
      "cell_type": "markdown",
      "metadata": {
        "id": "_dDKckUGqxTv",
        "colab_type": "text"
      },
      "source": [
        "Names can be specified when an object is created."
      ]
    },
    {
      "cell_type": "code",
      "metadata": {
        "id": "XerI2_7Mq1N9",
        "colab_type": "code",
        "colab": {}
      },
      "source": [
        "list(inst=\"LSU\",location=\"Baton Rouge\",state=\"LA\")"
      ],
      "execution_count": 0,
      "outputs": []
    },
    {
      "cell_type": "markdown",
      "metadata": {
        "id": "V-mAptaDrGSF",
        "colab_type": "text"
      },
      "source": [
        "Or they can be specified later when the **names()** function."
      ]
    },
    {
      "cell_type": "code",
      "metadata": {
        "id": "VVxgGiDno7kw",
        "colab_type": "code",
        "colab": {}
      },
      "source": [
        "names(mylist) <- c(\"num\",\"vec\",\"mat\",\"lst\")\n",
        "mylist"
      ],
      "execution_count": 0,
      "outputs": []
    },
    {
      "cell_type": "markdown",
      "metadata": {
        "id": "kHj7ByHqpEoM",
        "colab_type": "text"
      },
      "source": [
        "Names can be used to access elements in a data object using the `$` operator. When there are many elements, this could be more convenient than using the index."
      ]
    },
    {
      "cell_type": "code",
      "metadata": {
        "id": "6yRq-skdpes_",
        "colab_type": "code",
        "colab": {}
      },
      "source": [
        "# This is equivalent to mylist[[4]]\n",
        "mylist$lst"
      ],
      "execution_count": 0,
      "outputs": []
    },
    {
      "cell_type": "markdown",
      "metadata": {
        "id": "kNKYP4SbpkJm",
        "colab_type": "text"
      },
      "source": [
        " Indexing operations by names and indices can be nested and mixed."
      ]
    },
    {
      "cell_type": "code",
      "metadata": {
        "id": "HmOCuFmDpEFY",
        "colab_type": "code",
        "colab": {}
      },
      "source": [
        "names(mylist$lst) <- c(\"c1\",\"c2\",\"c3\")\n",
        "# The \"c2\" element of the \"lst\" element in the list \"mylist\".\n",
        "mylist$lst$c2\n",
        "# The same thing.\n",
        "mylist$lst[[2]]\n",
        "# Again, the same thing.\n",
        "mylist[[4]][[2]]"
      ],
      "execution_count": 0,
      "outputs": []
    },
    {
      "cell_type": "markdown",
      "metadata": {
        "id": "iJPzTbBHCsVo",
        "colab_type": "text"
      },
      "source": [
        "### Data frames"
      ]
    },
    {
      "cell_type": "markdown",
      "metadata": {
        "id": "TpXO9HkvCuKv",
        "colab_type": "text"
      },
      "source": [
        "Data frames are used to store tabular data.\n",
        "* They are a special type of **lists**, where each element is a R vector (\"column\" or \"variable\") and has to be of the same length.\n",
        "* The elements (columns) can be of different classes.\n",
        "* Data frames have special attributes such as row.names.\n",
        "* Data frames can be created by reading data files, using functions such as **read.table()** or **read.csv()** (more on this later).\n"
      ]
    },
    {
      "cell_type": "markdown",
      "metadata": {
        "id": "H3ReBPXnJ12R",
        "colab_type": "text"
      },
      "source": [
        "Data frames can be created directly by calling the **data.frame()** function."
      ]
    },
    {
      "cell_type": "code",
      "metadata": {
        "id": "oJNtp7X2J6nu",
        "colab_type": "code",
        "colab": {}
      },
      "source": [
        "mydf <- data.frame(c(31,40,50), c(\"M\",\"F\",\"M\"), stringsAsFactors = F)\n",
        "mydf\n",
        "is.vector(mydf[[2]])"
      ],
      "execution_count": 0,
      "outputs": []
    },
    {
      "cell_type": "markdown",
      "metadata": {
        "id": "21fJg0nOKCQ6",
        "colab_type": "text"
      },
      "source": [
        "We usually name the columns so that it's more meanful."
      ]
    },
    {
      "cell_type": "code",
      "metadata": {
        "id": "17B_Kr9yKBVI",
        "colab_type": "code",
        "colab": {}
      },
      "source": [
        "names(mydf) <- c(\"age\",\"sex\")\n",
        "mydf"
      ],
      "execution_count": 0,
      "outputs": []
    },
    {
      "cell_type": "markdown",
      "metadata": {
        "id": "1yM746_VKccW",
        "colab_type": "text"
      },
      "source": [
        "Row names can be specified as well."
      ]
    },
    {
      "cell_type": "code",
      "metadata": {
        "id": "Xp5vrwERKfEd",
        "colab_type": "code",
        "colab": {}
      },
      "source": [
        "row.names(mydf) <- c(\"obs1\",\"obs2\",\"obs3\")\n",
        "mydf"
      ],
      "execution_count": 0,
      "outputs": []
    },
    {
      "cell_type": "markdown",
      "metadata": {
        "id": "rEbhKOExMal6",
        "colab_type": "text"
      },
      "source": [
        "To access individual elements in a data frame, there are a few options:"
      ]
    },
    {
      "cell_type": "markdown",
      "metadata": {
        "id": "xRgdLN_aKtQ8",
        "colab_type": "text"
      },
      "source": [
        "* Numeric indices"
      ]
    },
    {
      "cell_type": "code",
      "metadata": {
        "id": "4cGXFHP2KwIG",
        "colab_type": "code",
        "colab": {}
      },
      "source": [
        "# First row, second column\n",
        "mydf[1,2]"
      ],
      "execution_count": 0,
      "outputs": []
    },
    {
      "cell_type": "markdown",
      "metadata": {
        "id": "3sWGcKObLA5Y",
        "colab_type": "text"
      },
      "source": [
        "* Row and column names"
      ]
    },
    {
      "cell_type": "code",
      "metadata": {
        "id": "8bHbKVsCLDtj",
        "colab_type": "code",
        "colab": {}
      },
      "source": [
        "# Sex of the observation #1 (same element as above)\n",
        "mydf[\"obs1\",\"sex\"]"
      ],
      "execution_count": 0,
      "outputs": []
    },
    {
      "cell_type": "markdown",
      "metadata": {
        "id": "MeKU0OXBLIjJ",
        "colab_type": "text"
      },
      "source": [
        "* Or a mix of indices and names"
      ]
    },
    {
      "cell_type": "code",
      "metadata": {
        "id": "MstNHSCrLH_o",
        "colab_type": "code",
        "colab": {}
      },
      "source": [
        "mydf[\"obs1\",2]"
      ],
      "execution_count": 0,
      "outputs": []
    },
    {
      "cell_type": "markdown",
      "metadata": {
        "id": "PsXKfQlXLWs2",
        "colab_type": "text"
      },
      "source": [
        "Since data frames are lists, both `[[ ]]` and `$` operators work."
      ]
    },
    {
      "cell_type": "code",
      "metadata": {
        "id": "TfBrE6PeLdf9",
        "colab_type": "code",
        "colab": {}
      },
      "source": [
        "mydf[[2]]"
      ],
      "execution_count": 0,
      "outputs": []
    },
    {
      "cell_type": "code",
      "metadata": {
        "id": "HRI_YmX8LgF9",
        "colab_type": "code",
        "colab": {}
      },
      "source": [
        "mydf$sex"
      ],
      "execution_count": 0,
      "outputs": []
    },
    {
      "cell_type": "markdown",
      "metadata": {
        "id": "NBZf5ysyLkx2",
        "colab_type": "text"
      },
      "source": [
        "You could select rows by leaving the other index blank:"
      ]
    },
    {
      "cell_type": "code",
      "metadata": {
        "id": "4Inl8zwxL6O7",
        "colab_type": "code",
        "colab": {}
      },
      "source": [
        "# The first two rows\n",
        "mydf[1:2,]"
      ],
      "execution_count": 0,
      "outputs": []
    },
    {
      "cell_type": "markdown",
      "metadata": {
        "id": "K6HhjQlJMAjd",
        "colab_type": "text"
      },
      "source": [
        "And vice versa:"
      ]
    },
    {
      "cell_type": "code",
      "metadata": {
        "id": "XiA_kAQ6MB8T",
        "colab_type": "code",
        "colab": {}
      },
      "source": [
        "# The \"sex\" column\n",
        "mydf[,\"sex\"]"
      ],
      "execution_count": 0,
      "outputs": []
    },
    {
      "cell_type": "markdown",
      "metadata": {
        "id": "15tZZUY7MH5N",
        "colab_type": "text"
      },
      "source": [
        "We can subset a data frame like this:"
      ]
    },
    {
      "cell_type": "code",
      "metadata": {
        "id": "GAI5DLeLMHU8",
        "colab_type": "code",
        "colab": {}
      },
      "source": [
        "# Both columns for obs 1 and 3\n",
        "mydf[c(1,3),c(\"age\",\"sex\")]"
      ],
      "execution_count": 0,
      "outputs": []
    },
    {
      "cell_type": "markdown",
      "metadata": {
        "id": "VB0wM1JC51i_",
        "colab_type": "text"
      },
      "source": [
        "Or using a vector of logical values:"
      ]
    },
    {
      "cell_type": "code",
      "metadata": {
        "id": "PnLyzVSr57CH",
        "colab_type": "code",
        "colab": {}
      },
      "source": [
        "# This gives us a logical vector.\n",
        "mydf$sex == \"M\"\n",
        "# Which can be used to obtain a subset of mydf.\n",
        "mydf[mydf$sex == \"M\",]"
      ],
      "execution_count": 0,
      "outputs": []
    },
    {
      "cell_type": "markdown",
      "metadata": {
        "id": "HYy-JykcC7si",
        "colab_type": "text"
      },
      "source": [
        "## Querying Object Attributes"
      ]
    },
    {
      "cell_type": "markdown",
      "metadata": {
        "id": "0iNRTLBU3Uos",
        "colab_type": "text"
      },
      "source": [
        "There are a few functions in R that help us obtain information about an object."
      ]
    },
    {
      "cell_type": "markdown",
      "metadata": {
        "id": "q4Sohnrh3hVg",
        "colab_type": "text"
      },
      "source": [
        "We will work with the \"mtcars\" data frame in this section."
      ]
    },
    {
      "cell_type": "code",
      "metadata": {
        "id": "P5dwnwu33dVt",
        "colab_type": "code",
        "colab": {}
      },
      "source": [
        "?mtcars"
      ],
      "execution_count": 0,
      "outputs": []
    },
    {
      "cell_type": "markdown",
      "metadata": {
        "id": "kcQlMV6T2GNP",
        "colab_type": "text"
      },
      "source": [
        "We have already seen the **class()** function, which reveals the type of an object."
      ]
    },
    {
      "cell_type": "code",
      "metadata": {
        "id": "cMcVXZ3O2LNm",
        "colab_type": "code",
        "colab": {}
      },
      "source": [
        "class(mtcars)"
      ],
      "execution_count": 0,
      "outputs": []
    },
    {
      "cell_type": "markdown",
      "metadata": {
        "id": "aAGjyA4G2fVE",
        "colab_type": "text"
      },
      "source": [
        "The **length()** function shows the length of an object."
      ]
    },
    {
      "cell_type": "code",
      "metadata": {
        "id": "refsgm-J2m18",
        "colab_type": "code",
        "colab": {}
      },
      "source": [
        "length(mtcars)"
      ],
      "execution_count": 0,
      "outputs": []
    },
    {
      "cell_type": "markdown",
      "metadata": {
        "id": "pQSUwXw67Pe0",
        "colab_type": "text"
      },
      "source": [
        "The **nrow()** function counts the number of rows in a data frame."
      ]
    },
    {
      "cell_type": "code",
      "metadata": {
        "id": "XwL9Gvf57UfI",
        "colab_type": "code",
        "colab": {}
      },
      "source": [
        "nrow(mtcars)"
      ],
      "execution_count": 0,
      "outputs": []
    },
    {
      "cell_type": "markdown",
      "metadata": {
        "id": "M9pPtTER2eCj",
        "colab_type": "text"
      },
      "source": [
        "The **dim()** function reveals the dimension of an object."
      ]
    },
    {
      "cell_type": "code",
      "metadata": {
        "id": "G8UwvD7Y25oH",
        "colab_type": "code",
        "colab": {}
      },
      "source": [
        "dim(mtcars)"
      ],
      "execution_count": 0,
      "outputs": []
    },
    {
      "cell_type": "markdown",
      "metadata": {
        "id": "7Qfm9mwe3EOc",
        "colab_type": "text"
      },
      "source": [
        "The **attributes()** function reveals attributes of an object."
      ]
    },
    {
      "cell_type": "code",
      "metadata": {
        "id": "1FSg1jgJ3QXh",
        "colab_type": "code",
        "colab": {}
      },
      "source": [
        "attributes(mtcars)"
      ],
      "execution_count": 0,
      "outputs": []
    },
    {
      "cell_type": "markdown",
      "metadata": {
        "id": "MAIM2wbHC_Ra",
        "colab_type": "text"
      },
      "source": [
        "The **str()** function shows the internal strucutre of a R object.\n"
      ]
    },
    {
      "cell_type": "code",
      "metadata": {
        "id": "XaDIpQZy3vAN",
        "colab_type": "code",
        "colab": {}
      },
      "source": [
        "str(mtcars)"
      ],
      "execution_count": 0,
      "outputs": []
    },
    {
      "cell_type": "markdown",
      "metadata": {
        "id": "Gmt6NO9RGRuU",
        "colab_type": "text"
      },
      "source": [
        "## Exercise 1"
      ]
    },
    {
      "cell_type": "markdown",
      "metadata": {
        "id": "7KLECRpoMhCi",
        "colab_type": "text"
      },
      "source": [
        "1. Learn about the **airquality** data frame and answer the following quetions:\n",
        "  * What is the source of the data?\n",
        "  * How many rows and columns are there in the data frame? \n",
        "  * What does each column represent?\n",
        "2. Find the percentage of days when the high tempature measured at La Guardia Airport exceeded 70.\n",
        "3. Find the number of days when the wind speed is between 10 and 20 miles per hour."
      ]
    },
    {
      "cell_type": "code",
      "metadata": {
        "id": "xvTL9soMkWz3",
        "colab_type": "code",
        "colab": {}
      },
      "source": [
        "#@title Solution { display-mode: \"form\" }\n",
        "# question 1\n",
        "?airquality\n",
        "\n",
        "attach(airquality)\n",
        "\n",
        "# question 2\n",
        "nrow(airquality[Temp > 70,])/nrow(airquality)*100\n",
        "\n",
        "# question 3\n",
        "nrow(airquality[Wind > 10 & Wind < 20,])\n",
        "\n",
        "detach(airquality)"
      ],
      "execution_count": 0,
      "outputs": []
    },
    {
      "cell_type": "markdown",
      "metadata": {
        "id": "3yN1DHTr6xHi",
        "colab_type": "text"
      },
      "source": [
        "# Flow Control Structures"
      ]
    },
    {
      "cell_type": "markdown",
      "metadata": {
        "id": "jyWSGLWCNP2T",
        "colab_type": "text"
      },
      "source": [
        "Flow control structures in R, which allow one to control the flow of execution, are similar to other languages."
      ]
    },
    {
      "cell_type": "markdown",
      "metadata": {
        "id": "5-VsMAtmdUye",
        "colab_type": "text"
      },
      "source": [
        "## Condition testing"
      ]
    },
    {
      "cell_type": "markdown",
      "metadata": {
        "id": "4j0XFnjHcNlM",
        "colab_type": "text"
      },
      "source": [
        "Test a condition with the **if...else if...else** structure:\n",
        "\n",
        "```\n",
        "if (condition 1 is true) {\n",
        "  do something\n",
        "} else if (condition 2 is true) {\n",
        "  do something else\n",
        "} else {\n",
        "  do something more\n",
        "}\n",
        "```\n",
        "\n"
      ]
    },
    {
      "cell_type": "code",
      "metadata": {
        "id": "HWAur64lb4gj",
        "colab_type": "code",
        "colab": {}
      },
      "source": [
        "if (length(mtcars) > 3) {\n",
        "  print(\"We have more than 3 car models!\")\n",
        "}"
      ],
      "execution_count": 0,
      "outputs": []
    },
    {
      "cell_type": "markdown",
      "metadata": {
        "id": "MZDqVv23da8F",
        "colab_type": "text"
      },
      "source": [
        "## Loops"
      ]
    },
    {
      "cell_type": "markdown",
      "metadata": {
        "id": "XDfW1jMEc1Eg",
        "colab_type": "text"
      },
      "source": [
        "Loops with ```for```:\n",
        "\n",
        "```\n",
        "for (variable in sequence) {\n",
        "  statements\n",
        "}\n",
        "```"
      ]
    },
    {
      "cell_type": "code",
      "metadata": {
        "id": "-WRBrRHpejAD",
        "colab_type": "code",
        "colab": {}
      },
      "source": [
        "for (i in 1:10) {\n",
        "  print(i^3)\n",
        "}"
      ],
      "execution_count": 0,
      "outputs": []
    },
    {
      "cell_type": "markdown",
      "metadata": {
        "id": "L_u6GzW2NZPr",
        "colab_type": "text"
      },
      "source": [
        "Compared to other languages, loops are not as frequently used in R because many operations and functions are inherently vectorized. "
      ]
    },
    {
      "cell_type": "markdown",
      "metadata": {
        "id": "k4kYL0Vb2Ql5",
        "colab_type": "text"
      },
      "source": [
        "For instance, This line of code does exactly the same thing as the code block above:"
      ]
    },
    {
      "cell_type": "code",
      "metadata": {
        "id": "jZSW9cgDesDM",
        "colab_type": "code",
        "colab": {}
      },
      "source": [
        "(1:10)^3"
      ],
      "execution_count": 0,
      "outputs": []
    },
    {
      "cell_type": "markdown",
      "metadata": {
        "id": "_X_MN4gY76rb",
        "colab_type": "text"
      },
      "source": [
        "In addition, the family of **apply()** functions are very useful to perform operation over all elements of a vector/list (see next section)."
      ]
    },
    {
      "cell_type": "markdown",
      "metadata": {
        "id": "QYHSyiO264Lo",
        "colab_type": "text"
      },
      "source": [
        "# Useful Functions"
      ]
    },
    {
      "cell_type": "markdown",
      "metadata": {
        "id": "SSHcFWAE8d1O",
        "colab_type": "text"
      },
      "source": [
        "## Simple Statistic Functions"
      ]
    },
    {
      "cell_type": "markdown",
      "metadata": {
        "id": "ANfns3j68jYV",
        "colab_type": "text"
      },
      "source": [
        "* **min()**: Minimum value\n",
        "* **max()**: Maximum value\n",
        "* **which.min()**: Location of minimum value\n",
        "* **which.max()**: Location of maximum value\n",
        "* **sum()**: Sum of the elements of a vector\n",
        "* **mean()**: Mean of the elements of a vector\n",
        "* **sd()**: Standard deviation of the elements of a vector\n",
        "* **quantile()**: Show quantiles of a vector\n",
        "* **summary()**: Display descriptive statistics"
      ]
    },
    {
      "cell_type": "code",
      "metadata": {
        "id": "QDrwC_Ef9IbZ",
        "colab_type": "code",
        "colab": {}
      },
      "source": [
        "mean(mtcars$mpg)"
      ],
      "execution_count": 0,
      "outputs": []
    },
    {
      "cell_type": "code",
      "metadata": {
        "id": "XZvXBHym9DkW",
        "colab_type": "code",
        "colab": {}
      },
      "source": [
        "# The summary function will report a few statistics for each varialbe in the data frame.\n",
        "summary(mtcars)"
      ],
      "execution_count": 0,
      "outputs": []
    },
    {
      "cell_type": "markdown",
      "metadata": {
        "id": "Tu3bLnYBmDHt",
        "colab_type": "text"
      },
      "source": [
        "## Distributions and Random Variables"
      ]
    },
    {
      "cell_type": "markdown",
      "metadata": {
        "id": "buoMxY5DmLdF",
        "colab_type": "text"
      },
      "source": [
        "For each statistic distribution below, R provides four functions: density (d), cumulative density (p), quantile (q), and random generation (r). \n"
      ]
    },
    {
      "cell_type": "markdown",
      "metadata": {
        "id": "D9gZxNN7mRij",
        "colab_type": "text"
      },
      "source": [
        "Distrituion | Name in R \n",
        "\n",
        "* Uniform | ```unif``` \n",
        "* Binomial | ```binom```\n",
        "* Poisson | ```pois```\n",
        "* Geometric | ```geom```\n",
        "* Gamma | ```gamma```\n",
        "* Normal | ```norm```\n",
        "* Log Normal | ```lnorm```\n",
        "* Exponential | ```exp```\n",
        "* Student's t | ```t```"
      ]
    },
    {
      "cell_type": "markdown",
      "metadata": {
        "id": "hcrAZzrGNibA",
        "colab_type": "text"
      },
      "source": [
        "The function name is of the form **[d|p|q|r]\\<name of\n",
        "distribution\\>**. For example,  **qbinom()** gives the quantile of a binomial distribution."
      ]
    },
    {
      "cell_type": "markdown",
      "metadata": {
        "id": "hVGzmYutJpuN",
        "colab_type": "text"
      },
      "source": [
        "Generate a random sample of 10 from the standard normal distribution:"
      ]
    },
    {
      "cell_type": "code",
      "metadata": {
        "id": "hb2F99Jumg4H",
        "colab_type": "code",
        "colab": {}
      },
      "source": [
        "# Each time it is run, the sample would be different.\n",
        "rnorm(10,mean=0,sd=1)"
      ],
      "execution_count": 0,
      "outputs": []
    },
    {
      "cell_type": "markdown",
      "metadata": {
        "id": "rRgDgUcHJxXQ",
        "colab_type": "text"
      },
      "source": [
        "The p-value for 1.96 and its inverse function (standard normal distribution):"
      ]
    },
    {
      "cell_type": "code",
      "metadata": {
        "id": "iY-8nNGCmk8C",
        "colab_type": "code",
        "colab": {}
      },
      "source": [
        "pnorm(1.96)\n",
        "qnorm(pnorm(1.96))"
      ],
      "execution_count": 0,
      "outputs": []
    },
    {
      "cell_type": "markdown",
      "metadata": {
        "id": "FRXeOROPSjqn",
        "colab_type": "text"
      },
      "source": [
        "When genrating random samples, setting the seed to the same value will generate the same sample."
      ]
    },
    {
      "cell_type": "code",
      "metadata": {
        "id": "nbG3WzhWbqHA",
        "colab_type": "code",
        "colab": {}
      },
      "source": [
        "# A \"true\" random sample (varies every time)\n",
        "rnorm(10,mean=0,sd=1)\n",
        "# A sample with seed \"15\" (mainly for debugging purpose)\n",
        "set.seed(15)\n",
        "rnorm(10,mean=0,sd=1)\n",
        "set.seed(15)\n",
        "rnorm(10,mean=0,sd=1)"
      ],
      "execution_count": 0,
      "outputs": []
    },
    {
      "cell_type": "markdown",
      "metadata": {
        "id": "24qZNXo0m0uI",
        "colab_type": "text"
      },
      "source": [
        "## Sorting"
      ]
    },
    {
      "cell_type": "markdown",
      "metadata": {
        "id": "8pWcpOyMwHAJ",
        "colab_type": "text"
      },
      "source": [
        "Sort and order elements: `sort()`, `rank()` and `order(`)."
      ]
    },
    {
      "cell_type": "markdown",
      "metadata": {
        "id": "P_msD9ddQSit",
        "colab_type": "text"
      },
      "source": [
        "By default, the **sort()** functions sorts the values in a vector into ascending order."
      ]
    },
    {
      "cell_type": "code",
      "metadata": {
        "id": "0i-6iE8VQF-J",
        "colab_type": "code",
        "colab": {}
      },
      "source": [
        "# This is the original order.\n",
        "mtcars$mpg\n",
        "# This is the sorted order.\n",
        "sort(mtcars$mpg)"
      ],
      "execution_count": 0,
      "outputs": []
    },
    {
      "cell_type": "markdown",
      "metadata": {
        "id": "Oc0PXkVNQ7pO",
        "colab_type": "text"
      },
      "source": [
        "The ```decreasing=T``` option will sort a vector into descending order."
      ]
    },
    {
      "cell_type": "code",
      "metadata": {
        "id": "ILBz51yeRDYp",
        "colab_type": "code",
        "colab": {}
      },
      "source": [
        "sort(mtcars$mpg, decreasing=T)"
      ],
      "execution_count": 0,
      "outputs": []
    },
    {
      "cell_type": "markdown",
      "metadata": {
        "id": "x5hR2mzowLyt",
        "colab_type": "text"
      },
      "source": [
        "In contrast, the **order()** functions returns the indices in order.\n"
      ]
    },
    {
      "cell_type": "code",
      "metadata": {
        "id": "h_pfkmHRSqkP",
        "colab_type": "code",
        "colab": {}
      },
      "source": [
        "order(mtcars$mpg)\n",
        "order(mtcars$mpg, decreasing=T)"
      ],
      "execution_count": 0,
      "outputs": []
    },
    {
      "cell_type": "markdown",
      "metadata": {
        "id": "qYsP8N_wS1lL",
        "colab_type": "text"
      },
      "source": [
        "Users can use the indices returned by **order()** to change the order of rows in a data frame."
      ]
    },
    {
      "cell_type": "code",
      "metadata": {
        "id": "gIPorrrfTOSk",
        "colab_type": "code",
        "colab": {}
      },
      "source": [
        "# The data frame in the original order.\n",
        "mtcars"
      ],
      "execution_count": 0,
      "outputs": []
    },
    {
      "cell_type": "code",
      "metadata": {
        "id": "s8_7WeLDTSdP",
        "colab_type": "code",
        "colab": {}
      },
      "source": [
        "# The reorder data fram according the values of the mpg variable.\n",
        "mtcars[order(mtcars$mpg),]"
      ],
      "execution_count": 0,
      "outputs": []
    },
    {
      "cell_type": "markdown",
      "metadata": {
        "id": "9ytChwxam-Wt",
        "colab_type": "text"
      },
      "source": [
        "## Table"
      ]
    },
    {
      "cell_type": "markdown",
      "metadata": {
        "id": "3s7c6x5BwU6q",
        "colab_type": "text"
      },
      "source": [
        "The **table()** function tabulates factors or find the frequency of\n",
        "an object.\n"
      ]
    },
    {
      "cell_type": "markdown",
      "metadata": {
        "id": "LWpycIz8wYhN",
        "colab_type": "text"
      },
      "source": [
        "For instance, in the **mtcars** data frame, we can get the frequency table by the combination of the numbers of cylinders and gears: "
      ]
    },
    {
      "cell_type": "code",
      "metadata": {
        "id": "OptkIM5FIZLN",
        "colab_type": "code",
        "colab": {}
      },
      "source": [
        "table(mtcars[,c(\"cyl\",\"gear\")])"
      ],
      "execution_count": 0,
      "outputs": []
    },
    {
      "cell_type": "markdown",
      "metadata": {
        "id": "bIradhn8nAsX",
        "colab_type": "text"
      },
      "source": [
        "## The Apply family of functions"
      ]
    },
    {
      "cell_type": "markdown",
      "metadata": {
        "id": "R6ffwwyUwjdc",
        "colab_type": "text"
      },
      "source": [
        "The **apply()** function evaluate a function over\n",
        "the margins of an array\n",
        "* More concise than the for loops (not necessarily\n",
        "faster)"
      ]
    },
    {
      "cell_type": "markdown",
      "metadata": {
        "id": "sUOJzrFxVODO",
        "colab_type": "text"
      },
      "source": [
        "Syntax:\n",
        "\n",
        "```\n",
        " apply(data,dimension,function,function perimeters)\n",
        " ```"
      ]
    },
    {
      "cell_type": "markdown",
      "metadata": {
        "id": "viRlf7S2UACn",
        "colab_type": "text"
      },
      "source": [
        "For example, if we want to calculate the mean of each variable in **mtcars**:"
      ]
    },
    {
      "cell_type": "code",
      "metadata": {
        "id": "355S8X8rhrps",
        "colab_type": "code",
        "colab": {}
      },
      "source": [
        "# Apply the mean() function to the columns (variables) of mtcars.\n",
        "apply(mtcars,2,mean)\n"
      ],
      "execution_count": 0,
      "outputs": []
    },
    {
      "cell_type": "markdown",
      "metadata": {
        "id": "I8rfXbF1VHh_",
        "colab_type": "text"
      },
      "source": [
        "It can perform multiple calculations in one function call:"
      ]
    },
    {
      "cell_type": "code",
      "metadata": {
        "id": "3sg49uJ9VGDY",
        "colab_type": "code",
        "colab": {}
      },
      "source": [
        "# Find the 1st and 3rd quantile of each varialbe in mtcars.\n",
        "apply(mtcars, 2, quantile, probs = c(0.25, 0.75))"
      ],
      "execution_count": 0,
      "outputs": []
    },
    {
      "cell_type": "markdown",
      "metadata": {
        "id": "eXp5rsoOwkG-",
        "colab_type": "text"
      },
      "source": [
        "Other member of the **apply()** family include:\n",
        "* **lapply** - Loop over a list (data frame) and evaluate a function on each element\n",
        "* **sapply** - Same as **lapply** but simplifies the result to array \n",
        "* **tapply** - Apply a function over subsets of a vector\n",
        "* **mapply** - Multivariate version of **sapply**"
      ]
    },
    {
      "cell_type": "markdown",
      "metadata": {
        "id": "AzfcYspCY92P",
        "colab_type": "text"
      },
      "source": [
        "## The ```plyr``` package"
      ]
    },
    {
      "cell_type": "markdown",
      "metadata": {
        "id": "_vTHA1NDZSXt",
        "colab_type": "text"
      },
      "source": [
        "Suppose that, with the **mtcars** data frame, we want to know the average mileage-per-gallon for cars with 4, 6 and 8 cylinders. How do we do that?\n",
        "\n",
        "We will need to \n",
        "* **split** the data into subsets according to the value of the \"cyl\" column (one for cyl==4, one for cyl==6 and one for cyl==8)\n",
        "* **apply** the mean function to the \"mpg\" column\n",
        "* **combine** the results from each subset"
      ]
    },
    {
      "cell_type": "code",
      "metadata": {
        "id": "3F0MgkBykdSG",
        "colab_type": "code",
        "colab": {}
      },
      "source": [
        "# Subset where cyl==4\n",
        "mean(mtcars[mtcars$cyl==4,\"mpg\"])\n",
        "# Subset where cyl==6\n",
        "mean(mtcars[mtcars$cyl==6,\"mpg\"])\n",
        "# Subset where cyl==8\n",
        "mean(mtcars[mtcars$cyl==8,\"mpg\"])"
      ],
      "execution_count": 0,
      "outputs": []
    },
    {
      "cell_type": "markdown",
      "metadata": {
        "id": "zUfOsrGUZFk7",
        "colab_type": "text"
      },
      "source": [
        "The \"split-apply-combine\" pattern is very common in data analysis, where you solve a complex problem by breaking it down into small pieces, doing something to each piece and then combining the results back together again."
      ]
    },
    {
      "cell_type": "markdown",
      "metadata": {
        "id": "SXxY5EOxZmfU",
        "colab_type": "text"
      },
      "source": [
        "The ```plyr``` packages provide a group of functions that implement this split-apply-combine pattern.\n",
        "\n",
        "For example, the **ddply()** function takes a data frame, split it accorindg to the condition you supply, apply a function to each piece, then combine the result into a new data frame."
      ]
    },
    {
      "cell_type": "code",
      "metadata": {
        "id": "fNnHBd9HZb8O",
        "colab_type": "code",
        "colab": {}
      },
      "source": [
        "library(plyr)\n",
        "ddply(mtcars,\"cyl\", summarize, AverageMPG=mean(mpg))"
      ],
      "execution_count": 0,
      "outputs": []
    },
    {
      "cell_type": "markdown",
      "metadata": {
        "id": "n1qNNxzhnFxc",
        "colab_type": "text"
      },
      "source": [
        "## User-defined functions"
      ]
    },
    {
      "cell_type": "markdown",
      "metadata": {
        "id": "bmYphKDAogk7",
        "colab_type": "text"
      },
      "source": [
        "* Users can define their own functions in R by using the ```function()``` directives. \n",
        "* The return value is the last expression in the function body to be evaluated.\n",
        "* Functions can be nested.\n",
        "* Functions are R objects and can be passed as an argument to\n",
        "other functions."
      ]
    },
    {
      "cell_type": "markdown",
      "metadata": {
        "id": "qGv2mlFFsksf",
        "colab_type": "text"
      },
      "source": [
        "Syntax to define a function:\n",
        "\n",
        "\n",
        "```\n",
        "function_name <- function (arguments) {\n",
        "  statements\n",
        "}\n",
        "```\n",
        "\n"
      ]
    },
    {
      "cell_type": "code",
      "metadata": {
        "id": "AorOHxmtsh7F",
        "colab_type": "code",
        "colab": {}
      },
      "source": [
        "# Create a function pow(), which takes two arguments.\n",
        "pow <- function(x, y) {\n",
        "  result <- x^y\n",
        "}"
      ],
      "execution_count": 0,
      "outputs": []
    },
    {
      "cell_type": "markdown",
      "metadata": {
        "id": "mlwcx99ptasP",
        "colab_type": "text"
      },
      "source": [
        "Then it can be called like any other function:"
      ]
    },
    {
      "cell_type": "code",
      "metadata": {
        "id": "RZ2SQLz4s5kp",
        "colab_type": "code",
        "colab": {}
      },
      "source": [
        "pow(4,2)"
      ],
      "execution_count": 0,
      "outputs": []
    },
    {
      "cell_type": "markdown",
      "metadata": {
        "id": "NydanKGDtfqM",
        "colab_type": "text"
      },
      "source": [
        "Functions can be used as an argument for other functions."
      ]
    },
    {
      "cell_type": "code",
      "metadata": {
        "id": "rdagOd6WtCWJ",
        "colab_type": "code",
        "colab": {}
      },
      "source": [
        "# Define a new function, which takes a function as one of the arguments.\n",
        "myfunc <- function(func,a,b) {\n",
        "  result <- func(a,b) - 1\n",
        "}\n",
        "\n",
        "c <- myfunc(pow,4,2)\n",
        "c\n",
        "\n",
        "c <- myfunc(rep,1:2,5)\n",
        "c"
      ],
      "execution_count": 0,
      "outputs": []
    },
    {
      "cell_type": "markdown",
      "metadata": {
        "id": "QNnbwpbd8LdP",
        "colab_type": "text"
      },
      "source": [
        "## Exercise 2\n",
        "\n",
        "Using the **airquality** data, find the average wind speed for the 10 hottest days.\n",
        "\n"
      ]
    },
    {
      "cell_type": "code",
      "metadata": {
        "id": "YqAT5olqQtjQ",
        "colab_type": "code",
        "cellView": "form",
        "colab": {}
      },
      "source": [
        "#@title Hint\n",
        "# Use the order() function"
      ],
      "execution_count": 0,
      "outputs": []
    },
    {
      "cell_type": "code",
      "metadata": {
        "id": "nybmcy0pbREI",
        "colab_type": "code",
        "colab": {}
      },
      "source": [
        "#@title Solution { display-mode: \"form\" }\n",
        "mean(airquality[order(airquality$Temp,decreasing=T),\"Wind\"][1:10])"
      ],
      "execution_count": 0,
      "outputs": []
    },
    {
      "cell_type": "markdown",
      "metadata": {
        "id": "ndYj2veJO_aI",
        "colab_type": "text"
      },
      "source": [
        "## Exercise 3"
      ]
    },
    {
      "cell_type": "markdown",
      "metadata": {
        "id": "MzUgrKdNPCR3",
        "colab_type": "text"
      },
      "source": [
        "Using the **airquality** data, find the average high tempature of each month."
      ]
    },
    {
      "cell_type": "code",
      "metadata": {
        "id": "qtFcgIt0RFrW",
        "colab_type": "code",
        "cellView": "form",
        "colab": {}
      },
      "source": [
        "#@title Hint\n",
        "# Use the ddply() function"
      ],
      "execution_count": 0,
      "outputs": []
    },
    {
      "cell_type": "code",
      "metadata": {
        "id": "2YqnhxbUhYuX",
        "colab_type": "code",
        "colab": {}
      },
      "source": [
        "#@title Solution { display-mode: \"form\" }\n",
        "ddply(airquality,\"Month\",summarize,AvgTemp=mean(Temp))"
      ],
      "execution_count": 0,
      "outputs": []
    },
    {
      "cell_type": "markdown",
      "metadata": {
        "id": "C-jdAOYX652m",
        "colab_type": "text"
      },
      "source": [
        "# Managing R Packages"
      ]
    },
    {
      "cell_type": "markdown",
      "metadata": {
        "id": "CVsBdnMJQ_hO",
        "colab_type": "text"
      },
      "source": [
        "To load a R package so you can use the functions included in it, use the **library()** or **require()** function:"
      ]
    },
    {
      "cell_type": "code",
      "metadata": {
        "id": "Z1XbChLQRHlq",
        "colab_type": "code",
        "colab": {}
      },
      "source": [
        "library(lubridate)\n",
        "require(devtools)"
      ],
      "execution_count": 0,
      "outputs": []
    },
    {
      "cell_type": "markdown",
      "metadata": {
        "id": "qZu1TqAb3lgX",
        "colab_type": "text"
      },
      "source": [
        "The main difference is that, if a package is not installed, **library()** will throw out an error message and the execution will stop, while **require()** throws out a warning and the execution continues."
      ]
    },
    {
      "cell_type": "code",
      "metadata": {
        "id": "v3TEHkDmRHpB",
        "colab_type": "code",
        "colab": {}
      },
      "source": [
        "library(reshape)\n",
        "print(\"End of code segment\")"
      ],
      "execution_count": 0,
      "outputs": []
    },
    {
      "cell_type": "code",
      "metadata": {
        "id": "90_zQRz238RN",
        "colab_type": "code",
        "colab": {}
      },
      "source": [
        "require(reshape)\n",
        "print(\"End of code segment\")"
      ],
      "execution_count": 0,
      "outputs": []
    },
    {
      "cell_type": "markdown",
      "metadata": {
        "id": "pQCqbBgMRNn_",
        "colab_type": "text"
      },
      "source": [
        "If a package is not available, the **install.packages()** function can be used to install it."
      ]
    },
    {
      "cell_type": "code",
      "metadata": {
        "id": "vTPsokxQRYst",
        "colab_type": "code",
        "colab": {}
      },
      "source": [
        "install.packages(\"reshape\")\n",
        "library(reshape)"
      ],
      "execution_count": 0,
      "outputs": []
    },
    {
      "cell_type": "markdown",
      "metadata": {
        "id": "3TOGsHvIOLFW",
        "colab_type": "text"
      },
      "source": [
        "Multiple packages can be installed with one call of the **install.packages()** function."
      ]
    },
    {
      "cell_type": "code",
      "metadata": {
        "id": "ksi6rPshOWpS",
        "colab_type": "code",
        "colab": {}
      },
      "source": [
        "require(datarium)\n",
        "require(BiocManager)\n",
        "install.packages(c(\"datarium\",\"BiocManager\"))\n",
        "library(datarium)\n",
        "library(BiocManager)"
      ],
      "execution_count": 0,
      "outputs": []
    },
    {
      "cell_type": "markdown",
      "metadata": {
        "id": "vYQV6dMfRcFq",
        "colab_type": "text"
      },
      "source": [
        "Note that double quotation is **NOT** needed when loading packages, but necessary when installing them."
      ]
    },
    {
      "cell_type": "markdown",
      "metadata": {
        "id": "ykBSP1N6TwTt",
        "colab_type": "text"
      },
      "source": [
        "Use the **remove.packages** function to remove installed packages."
      ]
    },
    {
      "cell_type": "code",
      "metadata": {
        "id": "DTGxWquhN4I-",
        "colab_type": "code",
        "colab": {}
      },
      "source": [
        "remove.packages(\"datarium\")\n",
        "library(datarium)"
      ],
      "execution_count": 0,
      "outputs": []
    },
    {
      "cell_type": "markdown",
      "metadata": {
        "id": "-iMVow7sTztO",
        "colab_type": "text"
      },
      "source": [
        "The **update.packages** function updates installed packages."
      ]
    },
    {
      "cell_type": "code",
      "metadata": {
        "id": "4r1GxL5LN0aK",
        "colab_type": "code",
        "colab": {}
      },
      "source": [
        "update.packages(\"lubricate\")"
      ],
      "execution_count": 0,
      "outputs": []
    },
    {
      "cell_type": "markdown",
      "metadata": {
        "id": "fTdvZYEaT17B",
        "colab_type": "text"
      },
      "source": [
        "List **installed** packages."
      ]
    },
    {
      "cell_type": "code",
      "metadata": {
        "id": "SjAI5mpBT4et",
        "colab_type": "code",
        "cellView": "code",
        "colab": {}
      },
      "source": [
        "installed.packages()"
      ],
      "execution_count": 0,
      "outputs": []
    },
    {
      "cell_type": "markdown",
      "metadata": {
        "id": "mCFgcP7W8Rvm",
        "colab_type": "text"
      },
      "source": [
        "List all **loaded** packages (and attached objects)."
      ]
    },
    {
      "cell_type": "code",
      "metadata": {
        "id": "7I5HIa6C8VLD",
        "colab_type": "code",
        "colab": {}
      },
      "source": [
        "search()"
      ],
      "execution_count": 0,
      "outputs": []
    },
    {
      "cell_type": "markdown",
      "metadata": {
        "id": "m80UZgL1WfZY",
        "colab_type": "text"
      },
      "source": [
        "# File And Directory Operations"
      ]
    },
    {
      "cell_type": "markdown",
      "metadata": {
        "id": "_uv7F-KZOPNC",
        "colab_type": "text"
      },
      "source": [
        "## Query working directory"
      ]
    },
    {
      "cell_type": "markdown",
      "metadata": {
        "id": "eiDBqpIwvxuO",
        "colab_type": "text"
      },
      "source": [
        "Each R session has a working directory. The **getwd()** function shows the current working directory."
      ]
    },
    {
      "cell_type": "code",
      "metadata": {
        "id": "n95VB47DOSZX",
        "colab_type": "code",
        "colab": {}
      },
      "source": [
        "getwd()"
      ],
      "execution_count": 0,
      "outputs": []
    },
    {
      "cell_type": "markdown",
      "metadata": {
        "id": "98aFasSSwAyR",
        "colab_type": "text"
      },
      "source": [
        "The **list.files()** and **list.dirs()** functions list the files and subdirectories."
      ]
    },
    {
      "cell_type": "code",
      "metadata": {
        "id": "dmJ_u7Nav-b9",
        "colab_type": "code",
        "colab": {}
      },
      "source": [
        "list.files()\n",
        "list.dirs()"
      ],
      "execution_count": 0,
      "outputs": []
    },
    {
      "cell_type": "markdown",
      "metadata": {
        "id": "mBDmpEZbwMEI",
        "colab_type": "text"
      },
      "source": [
        "To change the working directory, use the **setwd()** functions."
      ]
    },
    {
      "cell_type": "code",
      "metadata": {
        "id": "BqouRHsLwLXd",
        "colab_type": "code",
        "colab": {}
      },
      "source": [
        "setwd(\"/content\")\n",
        "getwd()"
      ],
      "execution_count": 0,
      "outputs": []
    },
    {
      "cell_type": "markdown",
      "metadata": {
        "id": "lx08L6_9WsGt",
        "colab_type": "text"
      },
      "source": [
        "## Handling files"
      ]
    },
    {
      "cell_type": "markdown",
      "metadata": {
        "id": "8y1Ya7D5dqKS",
        "colab_type": "text"
      },
      "source": [
        "R has a set of file.\\<opearation> functions."
      ]
    },
    {
      "cell_type": "markdown",
      "metadata": {
        "id": "zpCtVCLrwTIC",
        "colab_type": "text"
      },
      "source": [
        "Check if a file exists:"
      ]
    },
    {
      "cell_type": "code",
      "metadata": {
        "id": "CfC2sko8jDGA",
        "colab_type": "code",
        "colab": {}
      },
      "source": [
        "file.exists(\"testfile\")"
      ],
      "execution_count": 0,
      "outputs": []
    },
    {
      "cell_type": "markdown",
      "metadata": {
        "id": "Sur7zWT7wXNS",
        "colab_type": "text"
      },
      "source": [
        "Create an empty file:"
      ]
    },
    {
      "cell_type": "code",
      "metadata": {
        "id": "nICOYhxZjO-x",
        "colab_type": "code",
        "colab": {}
      },
      "source": [
        "file.create(\"testfile\")\n",
        "file.exists(\"testfile\")"
      ],
      "execution_count": 0,
      "outputs": []
    },
    {
      "cell_type": "markdown",
      "metadata": {
        "id": "eNVnlzXsxw8I",
        "colab_type": "text"
      },
      "source": [
        "Copy and delete files:"
      ]
    },
    {
      "cell_type": "code",
      "metadata": {
        "id": "2k3z6b6tjZl2",
        "colab_type": "code",
        "colab": {}
      },
      "source": [
        "list.files()\n",
        "file.copy(\"testfile\",\"anotherfile\")\n",
        "list.files()\n",
        "file.remove(\"testfile\",\"anotherfile\")"
      ],
      "execution_count": 0,
      "outputs": []
    },
    {
      "cell_type": "markdown",
      "metadata": {
        "id": "Ln_66oqI681p",
        "colab_type": "text"
      },
      "source": [
        "# Graphics"
      ]
    },
    {
      "cell_type": "markdown",
      "metadata": {
        "id": "Dn_0FhCwYGh_",
        "colab_type": "text"
      },
      "source": [
        "There are three plotting systems in R\n",
        "* base\n",
        "  * Convenient, but hard to adjust after the plot is created\n",
        "* lattice\n",
        "  * Good for creating conditioning plot\n",
        "* ggplot2\n",
        "  * Powerful and flexible, many tunable feature, may require some time to master\n"
      ]
    },
    {
      "cell_type": "markdown",
      "metadata": {
        "id": "Z08zo1CzYbrL",
        "colab_type": "text"
      },
      "source": [
        "Each has its pros and cons, so it is up to the users which one to choose."
      ]
    },
    {
      "cell_type": "markdown",
      "metadata": {
        "id": "_sh0dD7NYkY8",
        "colab_type": "text"
      },
      "source": [
        "## base"
      ]
    },
    {
      "cell_type": "markdown",
      "metadata": {
        "id": "ERWkZMFVgFy_",
        "colab_type": "text"
      },
      "source": [
        "A few functions are avaible in the base plot systems\n",
        "* **plot()**: line and scatter plots\n",
        "* **boxplot()**: box plots\n",
        "* **hist()**: histograms"
      ]
    },
    {
      "cell_type": "markdown",
      "metadata": {
        "id": "oYA7Tm66HD6L",
        "colab_type": "text"
      },
      "source": [
        "A quick scatter plot example with the base plot system."
      ]
    },
    {
      "cell_type": "code",
      "metadata": {
        "id": "GjrJFgsff6uf",
        "colab_type": "code",
        "colab": {}
      },
      "source": [
        "# Create the plot with title and axis labels.\n",
        "plot(pressure,type=\"l\",\n",
        "     main=\"Vapor Pressure of Mercury\",\n",
        "     xlab=\"Temperature\", \n",
        "     ylab=\"Vapor Pressure\")\n",
        "# Add points\n",
        "points(pressure,col='red') \n",
        "# Add annotation\n",
        "text(150,700,\"Source: Weast, R. C., ed. (1973) Handbook \\n\n",
        "     of Chemistry and Physics. CRC Press.\")"
      ],
      "execution_count": 0,
      "outputs": []
    },
    {
      "cell_type": "markdown",
      "metadata": {
        "id": "MenwnCkuYoQt",
        "colab_type": "text"
      },
      "source": [
        "## ggplot2"
      ]
    },
    {
      "cell_type": "markdown",
      "metadata": {
        "id": "9uKfPUvZHLsT",
        "colab_type": "text"
      },
      "source": [
        "The **qplot()** function is the ggplot2 version of **plot()**."
      ]
    },
    {
      "cell_type": "code",
      "metadata": {
        "id": "HFOpWRHxg5RW",
        "colab_type": "code",
        "colab": {}
      },
      "source": [
        "qplot(weightLb, heightIn, data=heightweight, geom=\"point\")"
      ],
      "execution_count": 0,
      "outputs": []
    },
    {
      "cell_type": "markdown",
      "metadata": {
        "id": "mQ9kl7IZHZOn",
        "colab_type": "text"
      },
      "source": [
        "The **ggplot()** function is the main function in the ggplot2 package.\n",
        "\n",
        "Here is an example:"
      ]
    },
    {
      "cell_type": "code",
      "metadata": {
        "id": "7wKAPUK7g6lo",
        "colab_type": "code",
        "colab": {}
      },
      "source": [
        "ggplot(heightweight, aes(x=weightLb, y=heightIn, color=sex, shape=sex)) + \n",
        "  geom_point(size=3.5) +\n",
        "  ggtitle(\"School Children\\nHeight ~ Weight\") +\n",
        "  labs(y=\"Height (inch)\", x=\"Weight (lbs)\") +\n",
        "  stat_smooth(method=loess, se=T, color=\"black\", fullrange=T) +\n",
        "  annotate(\"text\",x=145,y=75,label=\"Locally weighted polynomial fit with 95% CI\",color=\"Green\",size=6) +\n",
        "  scale_color_brewer(palette = \"Set1\", labels=c(\"Female\", \"Male\")) +\n",
        "  guides(shape=F) +\n",
        "  theme_bw() +\n",
        "  theme(plot.title = element_text(size=20, hjust=0.5), \n",
        "        legend.position = c(0.9,0.2),\n",
        "        axis.title.x = element_text(size=20), axis.title.y = element_text(size=20),\n",
        "        legend.title = element_text(size=15),legend.text = element_text(size=15))"
      ],
      "execution_count": 0,
      "outputs": []
    },
    {
      "cell_type": "markdown",
      "metadata": {
        "id": "gRqDF8nIY5qa",
        "colab_type": "text"
      },
      "source": [
        "If you are interested to learn more, please visit the [Data Visualization in R](http://www.hpc.lsu.edu/training/weekly-materials/2018-Spring/Slides.html#(1)) tutorial from LSU HPC"
      ]
    },
    {
      "cell_type": "markdown",
      "metadata": {
        "id": "-1OjjS0p6_lt",
        "colab_type": "text"
      },
      "source": [
        "# Parallel Processing"
      ]
    },
    {
      "cell_type": "markdown",
      "metadata": {
        "id": "hkeDSGESZ_J0",
        "colab_type": "text"
      },
      "source": [
        "Modern computers are equipped with more than one CPU core and are capable of processing workloads in parallel, but base R is single‐threaded, i.e. not parallel.\n",
        "\n",
        "In other words, regardless how many cores are available, R can only \n",
        "use one of them.\n",
        "\n",
        "There are two options to run R in parallel: **implicit** and **explicit**.\n"
      ]
    },
    {
      "cell_type": "markdown",
      "metadata": {
        "id": "1Za3yZbWcIBm",
        "colab_type": "text"
      },
      "source": [
        "## Implicit parallel processing"
      ]
    },
    {
      "cell_type": "markdown",
      "metadata": {
        "id": "SeE5pNzdcaqt",
        "colab_type": "text"
      },
      "source": [
        "Some functions in R can call parallel numerical libraries.\n",
        "\n",
        "For instance, on the LONI QB2 cluster most linear algebraic and related functions (e.g. linear regression, matrix decomposition, computing inverse and determinant of a matrix) leverage the multi‐threaded Intel MKL library.\n",
        "\n",
        "In this case, no extra coding is needed to take advange of the multiple CPU cores - those functions will automatically use multiple cores when being called."
      ]
    },
    {
      "cell_type": "markdown",
      "metadata": {
        "id": "KGFBQEzOcMlA",
        "colab_type": "text"
      },
      "source": [
        "## Explicit parallel processing"
      ]
    },
    {
      "cell_type": "markdown",
      "metadata": {
        "id": "zhE2hltlfSpS",
        "colab_type": "text"
      },
      "source": [
        "If the implicit option is not available for what you'd like to do, some codes need to be written."
      ]
    },
    {
      "cell_type": "markdown",
      "metadata": {
        "id": "FpyHuV4aBIxK",
        "colab_type": "text"
      },
      "source": [
        "Here is an example of using the **%dopar%** directive in the **doParallel** package."
      ]
    },
    {
      "cell_type": "markdown",
      "metadata": {
        "id": "bX6HuHivBUxE",
        "colab_type": "text"
      },
      "source": [
        "The workload is to generate 100 random samples, each with\n",
        "1,000,000 observations from a standard normal distribution, then take a summary for each sample."
      ]
    },
    {
      "cell_type": "code",
      "metadata": {
        "id": "VCru3RBK_fH1",
        "colab_type": "code",
        "colab": {}
      },
      "source": [
        "iters <- 100"
      ],
      "execution_count": 0,
      "outputs": []
    },
    {
      "cell_type": "markdown",
      "metadata": {
        "id": "KCxfQGZSBoSG",
        "colab_type": "text"
      },
      "source": [
        "Below is the sequential version with a for loop. The **system.time()** function is used to measure how long it takes to process the workload."
      ]
    },
    {
      "cell_type": "code",
      "metadata": {
        "id": "ViGrf8mZ9z2h",
        "colab_type": "code",
        "colab": {}
      },
      "source": [
        "# This code segment shows us how long it takes to run on one core.\n",
        "system.time(\n",
        "for (i in 1:iters) {\n",
        "  to.ls <- rnorm(1e6)\n",
        "  to.ls <- summary(to.ls)\n",
        "}\n",
        ")"
      ],
      "execution_count": 0,
      "outputs": []
    },
    {
      "cell_type": "markdown",
      "metadata": {
        "id": "W3HEm1xOB178",
        "colab_type": "text"
      },
      "source": [
        "This is the parallel example with the **doParallel** package."
      ]
    },
    {
      "cell_type": "code",
      "metadata": {
        "id": "wmk2YWK69l9J",
        "colab_type": "code",
        "colab": {}
      },
      "source": [
        "# This code segment shows us how long it takes to run on all available cores.\n",
        "library(doParallel)\n",
        "\n",
        "# Obtain the number of cores available.\n",
        "ncpu <- detectCores()\n",
        "ncpu\n",
        "\n",
        "system.time({\n",
        "  cl <- makeCluster(ncpu)\n",
        "  registerDoParallel(cl)\n",
        "  ls<-foreach(icount(iters)) %dopar% {\n",
        "    to.ls<-rnorm(1e6)\n",
        "    to.ls<-summary(to.ls)\n",
        "  }\n",
        "  stopCluster(cl)\n",
        "})"
      ],
      "execution_count": 0,
      "outputs": []
    },
    {
      "cell_type": "markdown",
      "metadata": {
        "id": "vwM8hXRyZccR",
        "colab_type": "text"
      },
      "source": [
        "If you are interested to learn more, please visit the [Parallel Computing in R](http://www.hpc.lsu.edu/training/weekly-materials/2017-Fall/HPC_Parallel_R_Fall2017.pdf) tutorial from LSU HPC."
      ]
    }
  ]
}
