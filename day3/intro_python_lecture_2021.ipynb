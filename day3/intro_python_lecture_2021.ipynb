{
  "nbformat": 4,
  "nbformat_minor": 0,
  "metadata": {
    "colab": {
      "name": "intro_python_lecture_2021_final_version.ipynb",
      "provenance": [],
      "collapsed_sections": [],
      "include_colab_link": true
    },
    "language_info": {
      "codemirror_mode": {
        "name": "ipython",
        "version": 3
      },
      "file_extension": ".py",
      "mimetype": "text/x-python",
      "name": "python",
      "nbconvert_exporter": "python",
      "pygments_lexer": "ipython3",
      "version": "3.5.2"
    },
    "kernelspec": {
      "name": "python3",
      "display_name": "Python 3"
    }
  },
  "cells": [
    {
      "cell_type": "markdown",
      "metadata": {
        "id": "view-in-github",
        "colab_type": "text"
      },
      "source": [
        "<a href=\"https://colab.research.google.com/github/lsuhpchelp/lbrnloniworkshop2021/blob/main/day3/intro_python_lecture_2021.ipynb\" target=\"_parent\"><img src=\"https://colab.research.google.com/assets/colab-badge.svg\" alt=\"Open In Colab\"/></a>"
      ]
    },
    {
      "cell_type": "markdown",
      "metadata": {
        "id": "u1YDPNtbdHDj"
      },
      "source": [
        "\n",
        " # Introduction to Python\n",
        "## May 31st, 2021 \n",
        "## 4th LBRN-LONI Scientific Computing Bootcamp\n",
        "\n",
        "### Zach Byerly - HPC User Services Specialist\n",
        "### zbyerl1@lsu.edu\n"
      ]
    },
    {
      "cell_type": "markdown",
      "metadata": {
        "id": "VB--CYOSdHDm"
      },
      "source": [
        "Outline\n",
        " * What is Python\n",
        "    - Why Python?\n",
        "    - Advantages and Disadvantages\n",
        "    - Important Differences between 2.x and 3.x\n",
        " * Python Programming Basics\n",
        "    - Variables\n",
        "    - Built-in Data Types\n",
        "    - Operators\n",
        "    - Strings\n",
        " * Control structures\n",
        "    - If Else Statement\n",
        "    - For Loop\n",
        "    - While Loop\n",
        " * Lists, Tuples, Sets, and Dictionaries\n",
        " * Functions\n",
        " * Python Modules\n"
      ]
    },
    {
      "cell_type": "markdown",
      "metadata": {
        "id": "ipgvJSsRdHDn"
      },
      "source": [
        "<a id='intro'></a>\n",
        "## What is Python?\n",
        "\n",
        " * A general-purpose programming language created by Guido van Rossum and released in 1991\n",
        " * Intuitive and minimal coding\n",
        " * Interpreted not compiled\n",
        " * Can be used interactively\n",
        " * Relies on indentation and whitespace to define scope, such as control structures and functions\n",
        " * Relatively portable\n",
        "  <br>"
      ]
    },
    {
      "cell_type": "markdown",
      "metadata": {
        "id": "H-fKj1GCvJQW"
      },
      "source": [
        "## Why  Python?\n",
        "\n",
        "## Advantages\n",
        "* Ease of programming\n",
        " * Minimal time to develop and maintain codes\n",
        " * Modular and object-oriented\n",
        " * Large standard and user-contributed libraries\n",
        " * Large user community\n",
        " \n",
        "## Disadvantages\n",
        " * Interpreted and therefore slower than compiled languages\n",
        " * Dynamically-typed can mean more run-time errors and hard to find bugs in code\n",
        "  <br>"
      ]
    },
    {
      "cell_type": "markdown",
      "metadata": {
        "id": "iA5z2LUsQVG6"
      },
      "source": [
        "## Important Differences Between Python 2.x and 3.x\n",
        "\n",
        "We will be working with Python 3, but there are several important differences between Python 2.x and 3.x that can cause confusion. Here are two of the most likely to cause problems:\n",
        "\n",
        "###Behavior of the Division Operator\n",
        "\n",
        "This difference is the most dangerous, because it doesn't throw any errors. In Python 2.x, dividing two integers produces an integer.  In Python 3.x, the same operation produces a floating point number.\n",
        "\n",
        "For example:\n",
        "\n",
        "**In Python 2.x:**\n",
        "```\n",
        "print 7 / 5\n",
        "print -7 / 5\n",
        "```\n",
        "Output:\n",
        "```\n",
        "1\n",
        "-2\n",
        "```\n",
        "**In Python 3.x:**\n",
        "```\n",
        "print(7/5)\n",
        "print(-7/5)\n",
        "```\n",
        "Output:\n",
        "```\n",
        "1.4\n",
        "-1.4\n",
        "```\n",
        "\n",
        "The best way to deal with this problem is to specifically express at least one of the two integers as floating point numbers before dividing them, that way Python will know that you're expecting a floating point number as the result. \n",
        "\n",
        "**In Python 2.x:**\n",
        "```\n",
        "print 7.0 / 5\n",
        "print -7.0 / 5\n",
        "```\n",
        "Output:\n",
        "```\n",
        "1.4\n",
        "-1.4\n",
        "```\n",
        "\n",
        "###Print Function vs. Keyword\n",
        "\n",
        "Python 2.x uses the print keyword (rather than function) and looks like this:\n",
        "\n",
        "```\n",
        "print 'Hello world!'\n",
        "```\n",
        "\n",
        "\n",
        "This will produce an error in Python 3.x\n",
        "\n",
        "\n",
        "As we will see later on, Python 3.x uses a print function, which looks like this:\n",
        "\n",
        "```\n",
        "print('Hello world!')\n",
        "```\n",
        "\n",
        "Writing a print statement like this will work in **both** Python 2.x and 3.x\n",
        "\n"
      ]
    },
    {
      "cell_type": "markdown",
      "metadata": {
        "id": "Dm_ItPN0dHDo"
      },
      "source": [
        "##Interactive Python environments\n",
        "\n",
        "**IPython**\n",
        "\n",
        "* Interactive command shell for Python (2001) by Fernando Perez\n",
        "* Enhanced Read-Eval-Print Loop (REPL) environment\n",
        "* Command tab-completion, color-highlighted error messages..\n",
        "* Basic Linux shell integration (cp, ls, rm…)\n",
        "\n",
        "**Jupyter Notebook**\n",
        "\n",
        "* Web interface to Python, introduced in 2015 \n",
        "* Rich text, improved graphical capabilities\n",
        "* Integrate many existing web libraries for data visualization\n",
        "* Allow to create and share documents that contain live code, equations, visualizations and explanatory text. \n",
        "* Interface with over 40 languages, such as R, Julia and Scala\n",
        "* This colab.research.google.com notebook is a Jupyter notebook\n",
        "* Jupyter Notebook is also available on LSU's Open OnDemand gateway, so you can run on SuperMike-II (ask me later if you are interested)\n",
        "\n"
      ]
    },
    {
      "cell_type": "markdown",
      "metadata": {
        "id": "fuhbhCWxV6qy"
      },
      "source": [
        "**Questions?**"
      ]
    },
    {
      "cell_type": "markdown",
      "metadata": {
        "id": "NeceJtozkw16"
      },
      "source": [
        "# Python Programming Basics"
      ]
    },
    {
      "cell_type": "markdown",
      "metadata": {
        "id": "UL3MjN4dlYiw"
      },
      "source": [
        "## Comments"
      ]
    },
    {
      "cell_type": "code",
      "metadata": {
        "id": "j-rKgYQSlcH5"
      },
      "source": [
        "# This is a comment"
      ],
      "execution_count": null,
      "outputs": []
    },
    {
      "cell_type": "markdown",
      "metadata": {
        "id": "krWd44XodHDp"
      },
      "source": [
        "## Variables \n",
        "\n",
        "* Variable type is dynamically determined from the value it is assigned, no data type is declared\n",
        "* A variable is assigned a value using the ‘=’ operator"
      ]
    },
    {
      "cell_type": "code",
      "metadata": {
        "id": "uxWqCglglyVK"
      },
      "source": [
        "# Assign the value 3 to the variable age\n",
        "age = 50\n",
        "# Assign the string \"Zach\" to the variable name\n",
        "name = \"Bob\"\n",
        "\n",
        "# use the print command to see what values those variables hold\n",
        "print(age)\n",
        "print(name)\n",
        "\n",
        "# put those variables inside of a sentence\n",
        "print(\"Hi, my name is\", name, \"and I am\", age, \"years old!\")"
      ],
      "execution_count": null,
      "outputs": []
    },
    {
      "cell_type": "markdown",
      "metadata": {
        "id": "DqzfTKX_dHDq"
      },
      "source": [
        "# Built-in Data Types\n",
        "\n",
        "\n",
        "* Number\n",
        "  - int\n",
        "  - float\n",
        "  - complex\n",
        "* String (str)\n",
        "* Sequence\n",
        "  - list\n",
        "  - tuple\n",
        "  - sets\n",
        "  - dictionary\n",
        "* Boolean (bool)\n",
        "\n",
        "And more!"
      ]
    },
    {
      "cell_type": "markdown",
      "metadata": {
        "id": "KWM_ojx6dHDq"
      },
      "source": [
        "## Numerical data types and operations"
      ]
    },
    {
      "cell_type": "markdown",
      "metadata": {
        "id": "RNwc41KhoyV5"
      },
      "source": [
        "**Determining the Type of a Variable**\n"
      ]
    },
    {
      "cell_type": "code",
      "metadata": {
        "id": "_yOMyLthdHDr"
      },
      "source": [
        "x = 3\n",
        "type(x)"
      ],
      "execution_count": null,
      "outputs": []
    },
    {
      "cell_type": "code",
      "metadata": {
        "id": "R_hrkRhMdHDv"
      },
      "source": [
        "y = 3.0\n",
        "type(y)"
      ],
      "execution_count": null,
      "outputs": []
    },
    {
      "cell_type": "code",
      "metadata": {
        "id": "gbdT2LuGdHDx"
      },
      "source": [
        "z='hello'\n",
        "type(z)"
      ],
      "execution_count": null,
      "outputs": []
    },
    {
      "cell_type": "markdown",
      "metadata": {
        "id": "BKjlONTeopKY"
      },
      "source": [
        "**Casting**\n",
        "\n",
        "When we want to assign a variable and specify the variable type"
      ]
    },
    {
      "cell_type": "code",
      "metadata": {
        "id": "EnO7Vu1QdHD0"
      },
      "source": [
        "# This is called \"casting\"\n",
        "x = int(3.3)\n",
        "type(x)\n",
        "print(x)"
      ],
      "execution_count": null,
      "outputs": []
    },
    {
      "cell_type": "markdown",
      "metadata": {
        "id": "R7DyZUcJdHDp"
      },
      "source": [
        "### Arithmetic Operators \n",
        "* Addition +\n",
        "* Subtraction -\n",
        "* Multiplication *\n",
        "* Division /\n",
        "* Modulus %\n",
        "* Exponentiation **\n",
        "\n",
        "\n"
      ]
    },
    {
      "cell_type": "code",
      "metadata": {
        "id": "IQbBzpSQm3ol"
      },
      "source": [
        "# Adding and subtracting numbers\n",
        "a = 11\n",
        "b = 5\n",
        "c = a + b\n",
        "\n",
        "print(c)\n",
        "\n",
        "d = a - b\n",
        "\n",
        "print(d)"
      ],
      "execution_count": null,
      "outputs": []
    },
    {
      "cell_type": "code",
      "metadata": {
        "id": "MFLyZd6mnAqV"
      },
      "source": [
        "# Multiplying and dividing numbers\n",
        "e = a*b\n",
        "print(e)\n",
        "\n",
        "f = int(a/b)\n",
        "print(f)"
      ],
      "execution_count": null,
      "outputs": []
    },
    {
      "cell_type": "code",
      "metadata": {
        "id": "7u3zBZa8UjwH"
      },
      "source": [
        "g = a%b\n",
        "print(g)"
      ],
      "execution_count": null,
      "outputs": []
    },
    {
      "cell_type": "code",
      "metadata": {
        "id": "cMD5xV0eUu_v"
      },
      "source": [
        "a = 2\n",
        "b = 8\n",
        "h = a**b\n",
        "print(h)"
      ],
      "execution_count": null,
      "outputs": []
    },
    {
      "cell_type": "markdown",
      "metadata": {
        "id": "3K83v67zuGHE"
      },
      "source": [
        "### Assignment Operators\n"
      ]
    },
    {
      "cell_type": "code",
      "metadata": {
        "id": "myEKndfXuUOb"
      },
      "source": [
        "x = 10\n",
        "x += 3\n",
        "print(x)\n",
        "\n",
        "y = 10\n",
        "y = y + 3\n",
        "print(y)"
      ],
      "execution_count": null,
      "outputs": []
    },
    {
      "cell_type": "code",
      "metadata": {
        "id": "3yL3gJ-uutLQ"
      },
      "source": [
        "x = 10\n",
        "x -= 3\n",
        "print(x)\n",
        "\n",
        "y = 10\n",
        "y = y - 3\n",
        "print(y)"
      ],
      "execution_count": null,
      "outputs": []
    },
    {
      "cell_type": "code",
      "metadata": {
        "id": "ycjoIGJXuv0u"
      },
      "source": [
        "x = 10\n",
        "x *= 3\n",
        "print(x)\n",
        "\n",
        "y = 10\n",
        "y = y * 3\n",
        "print(y)"
      ],
      "execution_count": null,
      "outputs": []
    },
    {
      "cell_type": "code",
      "metadata": {
        "id": "CUDWehm2u1YC"
      },
      "source": [
        "x = 10\n",
        "x /= 5\n",
        "print(x)\n",
        "\n",
        "y = 10\n",
        "y = y / 5\n",
        "print(y)"
      ],
      "execution_count": null,
      "outputs": []
    },
    {
      "cell_type": "markdown",
      "metadata": {
        "id": "N8J4uCS4vAxn"
      },
      "source": [
        "### Comparison Operators"
      ]
    },
    {
      "cell_type": "code",
      "metadata": {
        "id": "h3qlEU4SvGGx"
      },
      "source": [
        "x = 5\n",
        "y = 5\n",
        "\n",
        "print(x, \"==\", y, x==y)\n",
        "print(x, \"!=\", y, x!=y)\n",
        "print(x, \">\", y, x>y)\n",
        "print(x, \"<\", y, x<y)\n",
        "print(x, \">=\", y, x>=y)\n",
        "print(x, \"<=\", y, x<=y)"
      ],
      "execution_count": null,
      "outputs": []
    },
    {
      "cell_type": "markdown",
      "metadata": {
        "id": "8T4SBOaNv7fv"
      },
      "source": [
        "### Logical Operators"
      ]
    },
    {
      "cell_type": "code",
      "metadata": {
        "id": "8ZOsGfbQv-P9"
      },
      "source": [
        "a = 3\n",
        "b = 2\n",
        "x = 10\n",
        "y = 20\n",
        "print(a < b and x < y)"
      ],
      "execution_count": null,
      "outputs": []
    },
    {
      "cell_type": "code",
      "metadata": {
        "id": "J9zl_SfTwfht"
      },
      "source": [
        "a = 3\n",
        "b = 2\n",
        "x = 30\n",
        "y = 20\n",
        "print(a < b or x < y)"
      ],
      "execution_count": null,
      "outputs": []
    },
    {
      "cell_type": "code",
      "metadata": {
        "id": "oe1dFioBwgSU"
      },
      "source": [
        "a = 3\n",
        "b = 2\n",
        "x = 10\n",
        "y = 20\n",
        "print(not(a < b and x < y))"
      ],
      "execution_count": null,
      "outputs": []
    },
    {
      "cell_type": "markdown",
      "metadata": {
        "id": "_XDWU4R-dHED"
      },
      "source": [
        "<a id='string'></a>\n",
        "## Strings and string operations"
      ]
    },
    {
      "cell_type": "code",
      "metadata": {
        "id": "lRqQ2KwHdHEE"
      },
      "source": [
        "my_str = 'Hello World'"
      ],
      "execution_count": null,
      "outputs": []
    },
    {
      "cell_type": "code",
      "metadata": {
        "id": "4R7QI39sdHEG"
      },
      "source": [
        "print(my_str); len(my_str)"
      ],
      "execution_count": null,
      "outputs": []
    },
    {
      "cell_type": "code",
      "metadata": {
        "id": "4zQd6w2odHEN"
      },
      "source": [
        "#indexing starting at 0\n",
        "print(my_str[0]); print(my_str[1]); print(my_str[len(my_str)-1])"
      ],
      "execution_count": null,
      "outputs": []
    },
    {
      "cell_type": "code",
      "metadata": {
        "id": "sM7y1xrzdHEQ"
      },
      "source": [
        "#string slicing\n",
        "print(my_str[6:11]); print(my_str[:]); print(my_str[:1])"
      ],
      "execution_count": null,
      "outputs": []
    },
    {
      "cell_type": "code",
      "metadata": {
        "id": "jZ3WiHyQdHET"
      },
      "source": [
        "#string split\n",
        "my_str = 'dog,cat'\n",
        "s1, s2= my_str.split(sep=',', maxsplit=2); print(s1); print(s2)\n"
      ],
      "execution_count": null,
      "outputs": []
    },
    {
      "cell_type": "code",
      "metadata": {
        "id": "TW0WIQredHEX"
      },
      "source": [
        "#multiple line spanning\n",
        "multilines= \"\"\"This is a multi-line\n",
        "block of sample\n",
        " text\"\"\"\n",
        "print(multilines)\n"
      ],
      "execution_count": null,
      "outputs": []
    },
    {
      "cell_type": "code",
      "metadata": {
        "id": "-ys2Eo35dHEf"
      },
      "source": [
        "#more string ops\n",
        "my_str=\"Hello World\"\n",
        "print(my_str.upper())\n",
        "print(my_str.isalpha())\n",
        "print(my_str[0].isalpha())\n",
        "a='12'\n",
        "print(a.isdigit())"
      ],
      "execution_count": null,
      "outputs": []
    },
    {
      "cell_type": "markdown",
      "metadata": {
        "id": "sYQs3O-6dHFb"
      },
      "source": [
        "# Control Structures \n"
      ]
    },
    {
      "cell_type": "code",
      "metadata": {
        "id": "827UT2CkdHFb"
      },
      "source": [
        "# if else statement:\n",
        "\n",
        "x = 10\n",
        "if ( x > 5 ):\n",
        "  print(x,\"> 5\")\n",
        "  print(\"Hi, greater than 5\")\n",
        "elif( x == 5 ):\n",
        "  print(\"Hi, equals 5\")\n",
        "elif( x == 3 ):\n",
        "  print(\"Hi, equals 3!\")\n",
        "else:\n",
        "  print(x, \"< 5\")\n",
        "  print(\"Hi, less than 5\")\n",
        "    "
      ],
      "execution_count": null,
      "outputs": []
    },
    {
      "cell_type": "code",
      "metadata": {
        "id": "abujcdodh_uP"
      },
      "source": [
        "# for loop\n",
        "\n",
        "for num in range(10):\n",
        "    print(num)"
      ],
      "execution_count": null,
      "outputs": []
    },
    {
      "cell_type": "code",
      "metadata": {
        "id": "Lwml52WJiElb"
      },
      "source": [
        "# while loop\n",
        "\n",
        "index=1\n",
        "while (index <= 10):\n",
        "    print(index)\n",
        "    index += 3"
      ],
      "execution_count": null,
      "outputs": []
    },
    {
      "cell_type": "code",
      "metadata": {
        "id": "d_vg_-B_bkoP"
      },
      "source": [
        "#Looping through a string:\n",
        "for x in \"banana\":\n",
        "  print(x)"
      ],
      "execution_count": null,
      "outputs": []
    },
    {
      "cell_type": "code",
      "metadata": {
        "id": "MTMkGQhRcRl9"
      },
      "source": [
        "for x in range(6):\n",
        "  print(x)"
      ],
      "execution_count": null,
      "outputs": []
    },
    {
      "cell_type": "code",
      "metadata": {
        "id": "kYozUKhZchnq"
      },
      "source": [
        "#range and increment by 3\n",
        "\n",
        "for x in range(3, 30, 3):\n",
        "  print(x) "
      ],
      "execution_count": null,
      "outputs": []
    },
    {
      "cell_type": "markdown",
      "metadata": {
        "id": "PBSOuzeKVtUJ"
      },
      "source": [
        "**Nesting Control Structures**"
      ]
    },
    {
      "cell_type": "code",
      "metadata": {
        "id": "RdEFIcNviMd2",
        "colab": {
          "base_uri": "https://localhost:8080/"
        },
        "outputId": "1b16103d-20b8-44a1-bdd3-4781609648f0"
      },
      "source": [
        "# prime numbers\n",
        "# We will use this in the exercises  -  don't ask why it is this way!\n",
        "# break: stops the for loop or while loop even when it would usually keep going\n",
        "# pass: placeholder for empty code, does nothing\n",
        "# continue: ends current iteration of the loop\n",
        "n = 2\n",
        "while n < 10:\n",
        "    prime = True\n",
        "    for x in range(2,n):\n",
        "        if n % x == 0:\n",
        "            prime = False\n",
        "            break\n",
        "        if prime:\n",
        "            print(n, 'is a prime #  ')\n",
        "            pass\n",
        "        else:\n",
        "            n = n + 1\n",
        "            continue\n",
        "    n = n + 1"
      ],
      "execution_count": null,
      "outputs": [
        {
          "output_type": "stream",
          "text": [
            "3 is a prime #  \n",
            "5 is a prime #  \n",
            "5 is a prime #  \n",
            "5 is a prime #  \n",
            "7 is a prime #  \n",
            "7 is a prime #  \n",
            "7 is a prime #  \n",
            "7 is a prime #  \n",
            "7 is a prime #  \n",
            "9 is a prime #  \n"
          ],
          "name": "stdout"
        }
      ]
    },
    {
      "cell_type": "markdown",
      "metadata": {
        "id": "53Zh87HJV0dL"
      },
      "source": [
        "**Questions?**"
      ]
    },
    {
      "cell_type": "markdown",
      "metadata": {
        "id": "_GSJRSDDdHEj"
      },
      "source": [
        "# Lists, Tuples, and Dictionaries\n",
        "There are 4 built-in data types used to store collections of data (sets we won't discuss). Each have different qualities and uses.\n",
        "\n",
        "* (Un)Ordered: has (no) defined order\n",
        "* (Un)Changeable: we can (not) change, add, and remove items\n",
        "* (Doesn't) Allows Duplicates: can (not) have multiple items with the same value\n",
        "\n",
        "* Lists:\n",
        "  - Ordered\n",
        "  - Changeable\n",
        "  - Allows Duplicates\n",
        "\n",
        "* Tuples:\n",
        "  - Ordered\n",
        "  - Unchangeable\n",
        "  - Allows Duplicates\n",
        "\n",
        "* Sets\n",
        "  - Unordered\n",
        "  - Unchangeable\n",
        "  - Doesn't Allow Duplicates\n",
        "\n",
        "* Dictionary (stores key:value pairs)\n",
        "  - Ordered (as of Python 3.7, unordered before then)\n",
        "  - Changeable\n",
        "  - Doesn't allow Duplicates\n",
        "\n"
      ]
    },
    {
      "cell_type": "markdown",
      "metadata": {
        "id": "yHKYdkH21g9S"
      },
      "source": [
        "## Lists"
      ]
    },
    {
      "cell_type": "code",
      "metadata": {
        "id": "kjuBDd2CdHEj"
      },
      "source": [
        "my_list = [1,2,9,4]\n",
        "print(my_list)\n",
        "#how to find out the data type?\n",
        "type(my_list)"
      ],
      "execution_count": null,
      "outputs": []
    },
    {
      "cell_type": "code",
      "metadata": {
        "id": "5RGeAbwqdHEm"
      },
      "source": [
        "my_list2 = list(range(2,21,2))\n",
        "print(my_list2)"
      ],
      "execution_count": null,
      "outputs": []
    },
    {
      "cell_type": "code",
      "metadata": {
        "id": "o_Kpc9EjdHEp"
      },
      "source": [
        "# access list members by index \n",
        "# start at 0, end at n-1\n",
        "print(\"1st element =\", my_list[0])\n",
        "print(\"last element =\", my_list[3])"
      ],
      "execution_count": null,
      "outputs": []
    },
    {
      "cell_type": "code",
      "metadata": {
        "id": "iEmUEwyYdHEr"
      },
      "source": [
        "#Concatenate lists\n",
        "print(my_list + my_list)\n",
        "print(my_list *2)\n",
        "print(my_list *3)"
      ],
      "execution_count": null,
      "outputs": []
    },
    {
      "cell_type": "code",
      "metadata": {
        "id": "on_o62WTdHEt"
      },
      "source": [
        "# iterate list elements\n",
        "animals = ['dog','cat','horse','mouse']\n",
        "for name in animals:\n",
        "    print(name)"
      ],
      "execution_count": null,
      "outputs": []
    },
    {
      "cell_type": "code",
      "metadata": {
        "id": "oVQvQrY8eUUp"
      },
      "source": [
        "# enumerate\n",
        "cars = ['Ford','Chevy','Toyota']\n",
        "print(cars)\n",
        "cars2 = enumerate(cars)\n",
        "print(list(cars2))"
      ],
      "execution_count": null,
      "outputs": []
    },
    {
      "cell_type": "code",
      "metadata": {
        "id": "iCKHMWDNdHEv"
      },
      "source": [
        "\n",
        "for index, name in enumerate(cars):\n",
        "    print(index+1, name)"
      ],
      "execution_count": null,
      "outputs": []
    },
    {
      "cell_type": "code",
      "metadata": {
        "id": "FJIrrjo4dHEx"
      },
      "source": [
        "my_list = [1,2,9,4]\n",
        "\n",
        "# modify list\n",
        "del my_list[0]; print(my_list)\n",
        "my_list.append(7); print(my_list)\n",
        "my_list.insert(0, 42); print(my_list)"
      ],
      "execution_count": null,
      "outputs": []
    },
    {
      "cell_type": "code",
      "metadata": {
        "id": "Sbs8IVSfdHEy"
      },
      "source": [
        "#some list fun\n",
        "\n",
        "my_list.sort(); print(my_list)\n",
        "my_list.reverse(); print(my_list)"
      ],
      "execution_count": null,
      "outputs": []
    },
    {
      "cell_type": "code",
      "metadata": {
        "id": "NQUYj0__dHE1"
      },
      "source": [
        "#more sorting\n",
        "my_list = ['cats', 'SHEEP','DOGS','horses']\n",
        "print(sorted(my_list, key=len))\n",
        "print(sorted(my_list))\n",
        "print(sorted(my_list, reverse=True))"
      ],
      "execution_count": null,
      "outputs": []
    },
    {
      "cell_type": "code",
      "metadata": {
        "id": "U8d5KvgTdHE5"
      },
      "source": [
        "sorted(my_list, key=len)"
      ],
      "execution_count": null,
      "outputs": []
    },
    {
      "cell_type": "code",
      "metadata": {
        "id": "RzRA23WMdHE7"
      },
      "source": [
        "# sort by lowercase\n",
        "sorted(my_list, key=str.lower)"
      ],
      "execution_count": null,
      "outputs": []
    },
    {
      "cell_type": "code",
      "metadata": {
        "id": "300FFfyxdHE9"
      },
      "source": [
        "#list comprehension [expr for var in list]\n",
        "my_list=[2,5,9,1]\n",
        "square = [x**2 for x in my_list]; print(\"square =\", square)\n",
        "large = [n for n in my_list if n >= 5]; print('large =',large)\n",
        "\n",
        "my_list = [2,5,9,1]\n",
        "times_two = [x*2 for x in my_list if x%2 == 1]\n",
        "print(times_two)"
      ],
      "execution_count": null,
      "outputs": []
    },
    {
      "cell_type": "markdown",
      "metadata": {
        "id": "SHQYeFQadHE_"
      },
      "source": [
        "## Tuples\n",
        "\n",
        "  * Why Tuple? \n",
        "  * Processed faster than lists\n",
        "  * Sequence of a Tuple is protected\n",
        "  * Most people say \"TOO-pul\", I say \"TUH-pul\".  Both are correct!\n"
      ]
    },
    {
      "cell_type": "code",
      "metadata": {
        "id": "331x350XgbOG"
      },
      "source": [
        "#empty tuples\n",
        "my_tup = ()\n",
        "print(my_tup)"
      ],
      "execution_count": null,
      "outputs": []
    },
    {
      "cell_type": "code",
      "metadata": {
        "id": "PWELXBmJg0LR"
      },
      "source": [
        "# you have to include a comma, even though there is only one value you have to include a comma, even though there is only one value\n",
        "tup1 = (50,);\n",
        "print(tup1)"
      ],
      "execution_count": null,
      "outputs": []
    },
    {
      "cell_type": "code",
      "metadata": {
        "id": "nlgKsOibdHE_"
      },
      "source": [
        "my_tup = (2, 8, 3, 1)\n",
        "print(my_tup)\n",
        "a,b,c,d = my_tup\n",
        "print(a, b, c, d)\n"
      ],
      "execution_count": null,
      "outputs": []
    },
    {
      "cell_type": "code",
      "metadata": {
        "id": "d85nI5mKdHFD"
      },
      "source": [
        "print(my_tup[0])"
      ],
      "execution_count": null,
      "outputs": []
    },
    {
      "cell_type": "markdown",
      "metadata": {
        "id": "7NHEdgtwdHFG"
      },
      "source": [
        "## Dictionaries\n",
        "* List of key-value pairs { }\n",
        "* Unordered collections of objects, not indexed\n",
        "* Store objects in a random order to provide faster lookup\n",
        "* Data type are heterogeneous, unlike list\n",
        "* Element are accessed by a keyword, not index\n",
        "* Elements are changeable\n",
        "* dict = {\"key1”: value1,  “key2”: value2} "
      ]
    },
    {
      "cell_type": "code",
      "metadata": {
        "id": "9gcG6o9NdHFG",
        "colab": {
          "base_uri": "https://localhost:8080/"
        },
        "outputId": "442e1885-d566-4b9a-d04d-15e6a5732fed"
      },
      "source": [
        "my_dict = {'cats': 4, 'dogs':2, 'sheep':3}\n",
        "print(my_dict)"
      ],
      "execution_count": null,
      "outputs": [
        {
          "output_type": "stream",
          "text": [
            "{'cats': 4, 'dogs': 2, 'sheep': 3}\n"
          ],
          "name": "stdout"
        }
      ]
    },
    {
      "cell_type": "code",
      "metadata": {
        "id": "ObA5EWGWdHFL",
        "colab": {
          "base_uri": "https://localhost:8080/"
        },
        "outputId": "b863ee37-cf87-4297-fd3b-0e59560246e7"
      },
      "source": [
        "print(my_dict[\"cats\"])"
      ],
      "execution_count": null,
      "outputs": [
        {
          "output_type": "stream",
          "text": [
            "4\n"
          ],
          "name": "stdout"
        }
      ]
    },
    {
      "cell_type": "code",
      "metadata": {
        "id": "VNSCBGHSdHFN",
        "colab": {
          "base_uri": "https://localhost:8080/"
        },
        "outputId": "da0a0710-5c9d-4b22-dfe5-dd012a037e1a"
      },
      "source": [
        "my_dict['horse'] = 3; print(sorted(my_dict))"
      ],
      "execution_count": null,
      "outputs": [
        {
          "output_type": "stream",
          "text": [
            "['cats', 'dogs', 'horse', 'sheep']\n"
          ],
          "name": "stdout"
        }
      ]
    },
    {
      "cell_type": "code",
      "metadata": {
        "id": "sIfUBr5DdHFR",
        "colab": {
          "base_uri": "https://localhost:8080/"
        },
        "outputId": "9286456a-48f3-44e6-f45f-23e2573bde5d"
      },
      "source": [
        "print(my_dict.keys()); print(my_dict.values())\n",
        "print(sorted(my_dict.values()))\n"
      ],
      "execution_count": null,
      "outputs": [
        {
          "output_type": "stream",
          "text": [
            "dict_keys(['cats', 'dogs', 'sheep', 'horse'])\n",
            "dict_values([4, 2, 3, 3])\n",
            "[2, 3, 3, 4]\n"
          ],
          "name": "stdout"
        }
      ]
    },
    {
      "cell_type": "code",
      "metadata": {
        "id": "zsD9iVhudHFT",
        "colab": {
          "base_uri": "https://localhost:8080/"
        },
        "outputId": "d4a1714b-fb64-4cfa-87ef-5af333fd64f8"
      },
      "source": [
        "for key, value in my_dict.items():\n",
        "    print(key, value)"
      ],
      "execution_count": null,
      "outputs": [
        {
          "output_type": "stream",
          "text": [
            "cats 4\n",
            "dogs 2\n",
            "sheep 3\n",
            "horse 3\n"
          ],
          "name": "stdout"
        }
      ]
    },
    {
      "cell_type": "markdown",
      "metadata": {
        "id": "8sIJ4A57dHFk"
      },
      "source": [
        "# Functions\n",
        "How to define a function:\n",
        "\n",
        "def func_name(arg1, arg2,...): \n",
        "  body of the function\n",
        "  \n",
        "  return return_value\n",
        "    "
      ]
    },
    {
      "cell_type": "code",
      "metadata": {
        "id": "B5Hf5RZLdHFk",
        "colab": {
          "base_uri": "https://localhost:8080/"
        },
        "outputId": "cd458e5a-9745-4f37-b46d-a4f6f9a1da41"
      },
      "source": [
        "#addition\n",
        "def my_add(x, y):\n",
        "    return x+y\n",
        "\n",
        "sum=my_add(3, 8); print(sum)"
      ],
      "execution_count": null,
      "outputs": [
        {
          "output_type": "stream",
          "text": [
            "11\n"
          ],
          "name": "stdout"
        }
      ]
    },
    {
      "cell_type": "code",
      "metadata": {
        "id": "5lyjqDO4dHFm",
        "colab": {
          "base_uri": "https://localhost:8080/"
        },
        "outputId": "db9005cf-ce6a-45ac-ac98-b89a8bf4cc10"
      },
      "source": [
        "#return multiple values\n",
        "def power(input):\n",
        "    return input**2, input**3\n",
        "\n",
        "square, cube = power(3)\n",
        "print(\"square =\",square, \"cube =\",cube)"
      ],
      "execution_count": null,
      "outputs": [
        {
          "output_type": "stream",
          "text": [
            "square = 9 cube = 27\n"
          ],
          "name": "stdout"
        }
      ]
    },
    {
      "cell_type": "markdown",
      "metadata": {
        "id": "h9s2tfPcdHFo"
      },
      "source": [
        "\n",
        "# Python Modules\n",
        "* Import a module before having access to all the functions within\n",
        "* Most Python distributions come with plenty of build-in modules, for example: math, sys, os\n",
        "* Many other very useful python modules:\n",
        " -  NumPy, high performance in vector & matrix using vector computation \n",
        " -  SciPy: based on Numpy, including many scientific algorithms.\n",
        " -  pandas\n",
        " -  matplotlib, pyplot, **pylab**"
      ]
    },
    {
      "cell_type": "code",
      "metadata": {
        "id": "H9NB_NcNdHFo",
        "colab": {
          "base_uri": "https://localhost:8080/"
        },
        "outputId": "7edaff20-ff72-4393-abdf-8bb7e8a7c265"
      },
      "source": [
        "#import a module\n",
        "import math\n",
        "math.sin(math.pi)"
      ],
      "execution_count": null,
      "outputs": [
        {
          "output_type": "execute_result",
          "data": {
            "text/plain": [
              "1.2246467991473532e-16"
            ]
          },
          "metadata": {
            "tags": []
          },
          "execution_count": 9
        }
      ]
    },
    {
      "cell_type": "code",
      "metadata": {
        "id": "LZkg2iD_dHFq",
        "colab": {
          "base_uri": "https://localhost:8080/"
        },
        "outputId": "1ad763a4-60f1-4dbb-b068-45e81f5cf9d1"
      },
      "source": [
        "#get information of a module\n",
        "dir(math)"
      ],
      "execution_count": null,
      "outputs": [
        {
          "output_type": "execute_result",
          "data": {
            "text/plain": [
              "['__doc__',\n",
              " '__loader__',\n",
              " '__name__',\n",
              " '__package__',\n",
              " '__spec__',\n",
              " 'acos',\n",
              " 'acosh',\n",
              " 'asin',\n",
              " 'asinh',\n",
              " 'atan',\n",
              " 'atan2',\n",
              " 'atanh',\n",
              " 'ceil',\n",
              " 'copysign',\n",
              " 'cos',\n",
              " 'cosh',\n",
              " 'degrees',\n",
              " 'e',\n",
              " 'erf',\n",
              " 'erfc',\n",
              " 'exp',\n",
              " 'expm1',\n",
              " 'fabs',\n",
              " 'factorial',\n",
              " 'floor',\n",
              " 'fmod',\n",
              " 'frexp',\n",
              " 'fsum',\n",
              " 'gamma',\n",
              " 'gcd',\n",
              " 'hypot',\n",
              " 'inf',\n",
              " 'isclose',\n",
              " 'isfinite',\n",
              " 'isinf',\n",
              " 'isnan',\n",
              " 'ldexp',\n",
              " 'lgamma',\n",
              " 'log',\n",
              " 'log10',\n",
              " 'log1p',\n",
              " 'log2',\n",
              " 'modf',\n",
              " 'nan',\n",
              " 'pi',\n",
              " 'pow',\n",
              " 'radians',\n",
              " 'remainder',\n",
              " 'sin',\n",
              " 'sinh',\n",
              " 'sqrt',\n",
              " 'tan',\n",
              " 'tanh',\n",
              " 'tau',\n",
              " 'trunc']"
            ]
          },
          "metadata": {
            "tags": []
          },
          "execution_count": 10
        }
      ]
    },
    {
      "cell_type": "code",
      "metadata": {
        "id": "m2CnZMlldHFs",
        "colab": {
          "base_uri": "https://localhost:8080/"
        },
        "outputId": "c10372ce-ac5f-4b4c-d276-9c5c9a11a8cb"
      },
      "source": [
        "#get information\n",
        "help(math)"
      ],
      "execution_count": null,
      "outputs": [
        {
          "output_type": "stream",
          "text": [
            "Help on built-in module math:\n",
            "\n",
            "NAME\n",
            "    math\n",
            "\n",
            "DESCRIPTION\n",
            "    This module provides access to the mathematical functions\n",
            "    defined by the C standard.\n",
            "\n",
            "FUNCTIONS\n",
            "    acos(x, /)\n",
            "        Return the arc cosine (measured in radians) of x.\n",
            "    \n",
            "    acosh(x, /)\n",
            "        Return the inverse hyperbolic cosine of x.\n",
            "    \n",
            "    asin(x, /)\n",
            "        Return the arc sine (measured in radians) of x.\n",
            "    \n",
            "    asinh(x, /)\n",
            "        Return the inverse hyperbolic sine of x.\n",
            "    \n",
            "    atan(x, /)\n",
            "        Return the arc tangent (measured in radians) of x.\n",
            "    \n",
            "    atan2(y, x, /)\n",
            "        Return the arc tangent (measured in radians) of y/x.\n",
            "        \n",
            "        Unlike atan(y/x), the signs of both x and y are considered.\n",
            "    \n",
            "    atanh(x, /)\n",
            "        Return the inverse hyperbolic tangent of x.\n",
            "    \n",
            "    ceil(x, /)\n",
            "        Return the ceiling of x as an Integral.\n",
            "        \n",
            "        This is the smallest integer >= x.\n",
            "    \n",
            "    copysign(x, y, /)\n",
            "        Return a float with the magnitude (absolute value) of x but the sign of y.\n",
            "        \n",
            "        On platforms that support signed zeros, copysign(1.0, -0.0)\n",
            "        returns -1.0.\n",
            "    \n",
            "    cos(x, /)\n",
            "        Return the cosine of x (measured in radians).\n",
            "    \n",
            "    cosh(x, /)\n",
            "        Return the hyperbolic cosine of x.\n",
            "    \n",
            "    degrees(x, /)\n",
            "        Convert angle x from radians to degrees.\n",
            "    \n",
            "    erf(x, /)\n",
            "        Error function at x.\n",
            "    \n",
            "    erfc(x, /)\n",
            "        Complementary error function at x.\n",
            "    \n",
            "    exp(x, /)\n",
            "        Return e raised to the power of x.\n",
            "    \n",
            "    expm1(x, /)\n",
            "        Return exp(x)-1.\n",
            "        \n",
            "        This function avoids the loss of precision involved in the direct evaluation of exp(x)-1 for small x.\n",
            "    \n",
            "    fabs(x, /)\n",
            "        Return the absolute value of the float x.\n",
            "    \n",
            "    factorial(x, /)\n",
            "        Find x!.\n",
            "        \n",
            "        Raise a ValueError if x is negative or non-integral.\n",
            "    \n",
            "    floor(x, /)\n",
            "        Return the floor of x as an Integral.\n",
            "        \n",
            "        This is the largest integer <= x.\n",
            "    \n",
            "    fmod(x, y, /)\n",
            "        Return fmod(x, y), according to platform C.\n",
            "        \n",
            "        x % y may differ.\n",
            "    \n",
            "    frexp(x, /)\n",
            "        Return the mantissa and exponent of x, as pair (m, e).\n",
            "        \n",
            "        m is a float and e is an int, such that x = m * 2.**e.\n",
            "        If x is 0, m and e are both 0.  Else 0.5 <= abs(m) < 1.0.\n",
            "    \n",
            "    fsum(seq, /)\n",
            "        Return an accurate floating point sum of values in the iterable seq.\n",
            "        \n",
            "        Assumes IEEE-754 floating point arithmetic.\n",
            "    \n",
            "    gamma(x, /)\n",
            "        Gamma function at x.\n",
            "    \n",
            "    gcd(x, y, /)\n",
            "        greatest common divisor of x and y\n",
            "    \n",
            "    hypot(x, y, /)\n",
            "        Return the Euclidean distance, sqrt(x*x + y*y).\n",
            "    \n",
            "    isclose(a, b, *, rel_tol=1e-09, abs_tol=0.0)\n",
            "        Determine whether two floating point numbers are close in value.\n",
            "        \n",
            "          rel_tol\n",
            "            maximum difference for being considered \"close\", relative to the\n",
            "            magnitude of the input values\n",
            "          abs_tol\n",
            "            maximum difference for being considered \"close\", regardless of the\n",
            "            magnitude of the input values\n",
            "        \n",
            "        Return True if a is close in value to b, and False otherwise.\n",
            "        \n",
            "        For the values to be considered close, the difference between them\n",
            "        must be smaller than at least one of the tolerances.\n",
            "        \n",
            "        -inf, inf and NaN behave similarly to the IEEE 754 Standard.  That\n",
            "        is, NaN is not close to anything, even itself.  inf and -inf are\n",
            "        only close to themselves.\n",
            "    \n",
            "    isfinite(x, /)\n",
            "        Return True if x is neither an infinity nor a NaN, and False otherwise.\n",
            "    \n",
            "    isinf(x, /)\n",
            "        Return True if x is a positive or negative infinity, and False otherwise.\n",
            "    \n",
            "    isnan(x, /)\n",
            "        Return True if x is a NaN (not a number), and False otherwise.\n",
            "    \n",
            "    ldexp(x, i, /)\n",
            "        Return x * (2**i).\n",
            "        \n",
            "        This is essentially the inverse of frexp().\n",
            "    \n",
            "    lgamma(x, /)\n",
            "        Natural logarithm of absolute value of Gamma function at x.\n",
            "    \n",
            "    log(...)\n",
            "        log(x, [base=math.e])\n",
            "        Return the logarithm of x to the given base.\n",
            "        \n",
            "        If the base not specified, returns the natural logarithm (base e) of x.\n",
            "    \n",
            "    log10(x, /)\n",
            "        Return the base 10 logarithm of x.\n",
            "    \n",
            "    log1p(x, /)\n",
            "        Return the natural logarithm of 1+x (base e).\n",
            "        \n",
            "        The result is computed in a way which is accurate for x near zero.\n",
            "    \n",
            "    log2(x, /)\n",
            "        Return the base 2 logarithm of x.\n",
            "    \n",
            "    modf(x, /)\n",
            "        Return the fractional and integer parts of x.\n",
            "        \n",
            "        Both results carry the sign of x and are floats.\n",
            "    \n",
            "    pow(x, y, /)\n",
            "        Return x**y (x to the power of y).\n",
            "    \n",
            "    radians(x, /)\n",
            "        Convert angle x from degrees to radians.\n",
            "    \n",
            "    remainder(x, y, /)\n",
            "        Difference between x and the closest integer multiple of y.\n",
            "        \n",
            "        Return x - n*y where n*y is the closest integer multiple of y.\n",
            "        In the case where x is exactly halfway between two multiples of\n",
            "        y, the nearest even value of n is used. The result is always exact.\n",
            "    \n",
            "    sin(x, /)\n",
            "        Return the sine of x (measured in radians).\n",
            "    \n",
            "    sinh(x, /)\n",
            "        Return the hyperbolic sine of x.\n",
            "    \n",
            "    sqrt(x, /)\n",
            "        Return the square root of x.\n",
            "    \n",
            "    tan(x, /)\n",
            "        Return the tangent of x (measured in radians).\n",
            "    \n",
            "    tanh(x, /)\n",
            "        Return the hyperbolic tangent of x.\n",
            "    \n",
            "    trunc(x, /)\n",
            "        Truncates the Real x to the nearest Integral toward 0.\n",
            "        \n",
            "        Uses the __trunc__ magic method.\n",
            "\n",
            "DATA\n",
            "    e = 2.718281828459045\n",
            "    inf = inf\n",
            "    nan = nan\n",
            "    pi = 3.141592653589793\n",
            "    tau = 6.283185307179586\n",
            "\n",
            "FILE\n",
            "    (built-in)\n",
            "\n",
            "\n"
          ],
          "name": "stdout"
        }
      ]
    },
    {
      "cell_type": "code",
      "metadata": {
        "raw_mimetype": "text/x-python",
        "id": "fL7e1I0IdHFt",
        "colab": {
          "base_uri": "https://localhost:8080/"
        },
        "outputId": "75536ec9-78f5-4558-9e74-78d51bb8c6a1"
      },
      "source": [
        "# get information of a module function \n",
        "help(range)"
      ],
      "execution_count": null,
      "outputs": [
        {
          "output_type": "stream",
          "text": [
            "Help on class range in module builtins:\n",
            "\n",
            "class range(object)\n",
            " |  range(stop) -> range object\n",
            " |  range(start, stop[, step]) -> range object\n",
            " |  \n",
            " |  Return an object that produces a sequence of integers from start (inclusive)\n",
            " |  to stop (exclusive) by step.  range(i, j) produces i, i+1, i+2, ..., j-1.\n",
            " |  start defaults to 0, and stop is omitted!  range(4) produces 0, 1, 2, 3.\n",
            " |  These are exactly the valid indices for a list of 4 elements.\n",
            " |  When step is given, it specifies the increment (or decrement).\n",
            " |  \n",
            " |  Methods defined here:\n",
            " |  \n",
            " |  __bool__(self, /)\n",
            " |      self != 0\n",
            " |  \n",
            " |  __contains__(self, key, /)\n",
            " |      Return key in self.\n",
            " |  \n",
            " |  __eq__(self, value, /)\n",
            " |      Return self==value.\n",
            " |  \n",
            " |  __ge__(self, value, /)\n",
            " |      Return self>=value.\n",
            " |  \n",
            " |  __getattribute__(self, name, /)\n",
            " |      Return getattr(self, name).\n",
            " |  \n",
            " |  __getitem__(self, key, /)\n",
            " |      Return self[key].\n",
            " |  \n",
            " |  __gt__(self, value, /)\n",
            " |      Return self>value.\n",
            " |  \n",
            " |  __hash__(self, /)\n",
            " |      Return hash(self).\n",
            " |  \n",
            " |  __iter__(self, /)\n",
            " |      Implement iter(self).\n",
            " |  \n",
            " |  __le__(self, value, /)\n",
            " |      Return self<=value.\n",
            " |  \n",
            " |  __len__(self, /)\n",
            " |      Return len(self).\n",
            " |  \n",
            " |  __lt__(self, value, /)\n",
            " |      Return self<value.\n",
            " |  \n",
            " |  __ne__(self, value, /)\n",
            " |      Return self!=value.\n",
            " |  \n",
            " |  __reduce__(...)\n",
            " |      Helper for pickle.\n",
            " |  \n",
            " |  __repr__(self, /)\n",
            " |      Return repr(self).\n",
            " |  \n",
            " |  __reversed__(...)\n",
            " |      Return a reverse iterator.\n",
            " |  \n",
            " |  count(...)\n",
            " |      rangeobject.count(value) -> integer -- return number of occurrences of value\n",
            " |  \n",
            " |  index(...)\n",
            " |      rangeobject.index(value) -> integer -- return index of value.\n",
            " |      Raise ValueError if the value is not present.\n",
            " |  \n",
            " |  ----------------------------------------------------------------------\n",
            " |  Static methods defined here:\n",
            " |  \n",
            " |  __new__(*args, **kwargs) from builtins.type\n",
            " |      Create and return a new object.  See help(type) for accurate signature.\n",
            " |  \n",
            " |  ----------------------------------------------------------------------\n",
            " |  Data descriptors defined here:\n",
            " |  \n",
            " |  start\n",
            " |  \n",
            " |  step\n",
            " |  \n",
            " |  stop\n",
            "\n"
          ],
          "name": "stdout"
        }
      ]
    },
    {
      "cell_type": "markdown",
      "metadata": {
        "id": "vrDWNnt-dHFv"
      },
      "source": [
        " * Examples using os, commands modules\n",
        " * os: includes many functions interacting with the file system \n"
      ]
    },
    {
      "cell_type": "code",
      "metadata": {
        "id": "Hn34Cqtu3Zku",
        "colab": {
          "base_uri": "https://localhost:8080/"
        },
        "outputId": "22527b6d-2896-488a-bac5-f5ff659e7e6c"
      },
      "source": [
        "import os\n",
        "!ls -a\n",
        "os.listdir()\n"
      ],
      "execution_count": null,
      "outputs": [
        {
          "output_type": "stream",
          "text": [
            ".  ..  .config\tsample_data\n"
          ],
          "name": "stdout"
        },
        {
          "output_type": "execute_result",
          "data": {
            "text/plain": [
              "['.config', 'sample_data']"
            ]
          },
          "metadata": {
            "tags": []
          },
          "execution_count": 14
        }
      ]
    },
    {
      "cell_type": "code",
      "metadata": {
        "id": "PVaDavH4dHFv",
        "colab": {
          "base_uri": "https://localhost:8080/"
        },
        "outputId": "c235bc6d-c555-4990-a31e-705cb2aa0a92"
      },
      "source": [
        "\n",
        "def display_dir(dir):\n",
        "      files = os.listdir()\n",
        "      for fname in files:\n",
        "        print(fname)\n",
        "        print(os.path.abspath(os.path.join(dir, fname))) \n",
        "\n",
        "display_dir('/tmp')"
      ],
      "execution_count": null,
      "outputs": [
        {
          "output_type": "stream",
          "text": [
            ".config\n",
            "/tmp/.config\n",
            "sample_data\n",
            "/tmp/sample_data\n"
          ],
          "name": "stdout"
        }
      ]
    },
    {
      "cell_type": "markdown",
      "metadata": {
        "id": "zt4YHVYPdHGR"
      },
      "source": [
        "Plotting using matplotlib\n"
      ]
    },
    {
      "cell_type": "code",
      "metadata": {
        "id": "vkXjWnr_dHGZ",
        "colab": {
          "base_uri": "https://localhost:8080/",
          "height": 295
        },
        "outputId": "0ebd2e86-7dc3-49f5-b9e9-4d4ca75ed8d2"
      },
      "source": [
        "# Plot a bar chart\n",
        "import matplotlib.pyplot as plt\n",
        "\n",
        "\n",
        "xlabeles = ['January','February','March','April']\n",
        "xticks = [i for i in range(len(xlabeles))]\n",
        "y = [ 34, 17, 13, 69]\n",
        "e = [5.2, 10., 1.5, 12.]\n",
        "plt.errorbar(xlabeles, y, yerr=e, fmt='d', capsize=10)\n",
        "plt.bar(xlabeles, y, 0.5, color='red' )\n",
        "plt.title(\"Sale by Month\")\n",
        "plt.xlabel('Month')\n",
        "plt.ylabel('Sale')\n",
        "plt.xticks(xticks, xlabeles)\n",
        "\n",
        "plt.show()"
      ],
      "execution_count": null,
      "outputs": [
        {
          "output_type": "display_data",
          "data": {
            "image/png": "[encoded data removed]",
            "text/plain": [
              "<Figure size 432x288 with 1 Axes>"
            ]
          },
          "metadata": {
            "tags": [],
            "needs_background": "light"
          }
        }
      ]
    },
    {
      "cell_type": "markdown",
      "metadata": {
        "id": "z-YuCy6W7r_f"
      },
      "source": [
        "# Examples:   Please solve the following problems:  (Feel free to ask for help)"
      ]
    },
    {
      "cell_type": "markdown",
      "metadata": {
        "id": "qjp7hzS47u0F"
      },
      "source": [
        "1) Write a line of code to print the sum of 999 and 1600"
      ]
    },
    {
      "cell_type": "code",
      "metadata": {
        "id": "4ULjgwxwdHGe"
      },
      "source": [
        ""
      ],
      "execution_count": null,
      "outputs": []
    },
    {
      "cell_type": "markdown",
      "metadata": {
        "id": "656RSHJU8A6u"
      },
      "source": [
        "2) Write a line of code to print out your \"Hello Name\" where Name is your name."
      ]
    },
    {
      "cell_type": "code",
      "metadata": {
        "id": "Jgz-6j7R8Lkl"
      },
      "source": [
        ""
      ],
      "execution_count": null,
      "outputs": []
    },
    {
      "cell_type": "markdown",
      "metadata": {
        "id": "yFuPURle7zqJ"
      },
      "source": [
        "3) Write a code snippet to calculate the total of a shopping trip. You bought:\n",
        "\n",
        "1 pair of shoes:  $2400\n",
        "\n",
        "1 pair of slacks: $1500\n",
        "\n",
        "1 ruby ring: $22000\n",
        "\n",
        "State and local tax is 22%.\n",
        "\n",
        "You want to print out the untaxed total, the amount of tax and the total of tax and goods."
      ]
    },
    {
      "cell_type": "code",
      "metadata": {
        "id": "pYMY_OUd73kz"
      },
      "source": [
        ""
      ],
      "execution_count": null,
      "outputs": []
    },
    {
      "cell_type": "markdown",
      "metadata": {
        "id": "m4IW9ndv74e4"
      },
      "source": [
        "4) Rewrite the code you wrote above make the tax calculation a function block and the shopping total a function block.   Write a complete program and run it."
      ]
    },
    {
      "cell_type": "code",
      "metadata": {
        "id": "N6o9yVbt778T"
      },
      "source": [
        ""
      ],
      "execution_count": null,
      "outputs": []
    },
    {
      "cell_type": "markdown",
      "metadata": {
        "id": "g-O1_Ffa78wV"
      },
      "source": [
        "5) Create a leap year finder based on the following algorithm:\n",
        "\n",
        "Leap years occur according to the following formula: a leap year is divisible by four, but not by one hundred, unless it is divisible by four hundred. For example, 1992, 1996, and 2000 are leap years, but 1993 and 1900 are not. The next leap year that falls on a century will be 2400.\n",
        "\n",
        "Use the following list to check and see if your code is correct.  The list of leap years from 1900 to 2400 inclusive is:\n",
        "\n",
        "1904, 1908, 1912, 1916, 1920, 1924, 1928, 1932, 1936, 1940, 1944, 1948, 1952, 1956, 1960, 1964, 1968, 1972, 1976, 1980, 1984, 1988, 1992, 1996, 2000, 2004, 2008, 2012, 2016, 2020"
      ]
    },
    {
      "cell_type": "code",
      "metadata": {
        "id": "h0JhVFbH8g6h"
      },
      "source": [
        "#Find leap years:\n",
        "#\n",
        "#Logic: leap year is exactly divisible by 4 except for century years (years ending with 00). The century year is a leap year only if it is perfectly divisible by 400. \n",
        "\n",
        "# To get year (integer input) from the user\n",
        "# year = int(input)\n",
        "#  Warn user:   print(\"{0} is not a leap year\".format(year))\n"
      ],
      "execution_count": null,
      "outputs": []
    }
  ]
}