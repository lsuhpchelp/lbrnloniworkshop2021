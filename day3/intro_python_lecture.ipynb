{
  "nbformat": 4,
  "nbformat_minor": 0,
  "metadata": {
    "colab": {
      "name": "Copy of intro-python-colab.ipynb",
      "provenance": [],
      "collapsed_sections": [
        "sYQs3O-6dHFb",
        "8sIJ4A57dHFk",
        "_73RPOcBdHFn",
        "h9s2tfPcdHFo",
        "zt4YHVYPdHGR"
      ],
      "include_colab_link": true
    },
    "language_info": {
      "codemirror_mode": {
        "name": "ipython",
        "version": 3
      },
      "file_extension": ".py",
      "mimetype": "text/x-python",
      "name": "python",
      "nbconvert_exporter": "python",
      "pygments_lexer": "ipython3",
      "version": "3.5.2"
    },
    "kernelspec": {
      "name": "python3",
      "display_name": "Python 3"
    }
  },
  "cells": [
    {
      "cell_type": "markdown",
      "metadata": {
        "id": "view-in-github",
        "colab_type": "text"
      },
      "source": [
        "<a href=\"https://colab.research.google.com/github/lsuhpchelp/lbrnloniworkshop2020/blob/master/day1/intro_python_lecture.ipynb\" target=\"_parent\"><img src=\"https://colab.research.google.com/assets/colab-badge.svg\" alt=\"Open In Colab\"/></a>"
      ]
    },
    {
      "cell_type": "markdown",
      "metadata": {
        "id": "u1YDPNtbdHDj",
        "colab_type": "text"
      },
      "source": [
        "\n",
        " #  Python Programming\n",
        "##  Summer Workshop 2020\n",
        "\n",
        "## LSU HPC, LBRN & LONI\n",
        "\n",
        "##  Kathy Traxler\n",
        "##   ktraxler@cct.lsu.edu\n",
        "\n",
        "<a id='top'></a>"
      ]
    },
    {
      "cell_type": "markdown",
      "metadata": {
        "id": "VB--CYOSdHDm",
        "colab_type": "text"
      },
      "source": [
        "<a id='overview'></a>\n",
        "# Topics Covered\n",
        "<font color=blue>\n",
        " * [What is Python](#intro)\n",
        " * [Python programming basics](#data-type)\n",
        " * [Control structures and functions](#control)\n",
        " * [Python modules](#module)\n",
        " * [Numpy](#numpy)\n",
        " * [Plotting](#plot)</font>\n",
        "<br>"
      ]
    },
    {
      "cell_type": "markdown",
      "metadata": {
        "id": "ipgvJSsRdHDn",
        "colab_type": "text"
      },
      "source": [
        "<a id='intro'></a>\n",
        "## What is Python?\n",
        "\n",
        " * A general-purpose programming language (1980) by Guido van Rossum\n",
        "     * https://gvanrossum.github.io\n",
        " * Intuitive and minimal coding\n",
        " * Objected-Oriented\n",
        " * Interpreted not compiled\n",
        " * Interactive\n",
        " * Dynamically typed, no type declarations, data type is tracked at runtime\n",
        " * Automatic memory management\n",
        " * Spacing defines blocks of code such as control structures and blocks\n",
        "  <br>"
      ]
    },
    {
      "cell_type": "markdown",
      "metadata": {
        "id": "H-fKj1GCvJQW",
        "colab_type": "text"
      },
      "source": [
        "# Why  Python?\n",
        "\n",
        "## Advantages\n",
        "* Ease of programming\n",
        " * Minimal time to develop and maintain codes\n",
        " * Modular and object-oriented\n",
        " * Large standard and user-contributed libraries\n",
        " * Large user community\n",
        " \n",
        "## Disadvantages\n",
        " * Interpreted and therefore slower than compiled languages\n",
        " * Not great for 3D graphic applications requiring intensive computations\n",
        "  <br>"
      ]
    },
    {
      "cell_type": "markdown",
      "metadata": {
        "id": "Dm_ItPN0dHDo",
        "colab_type": "text"
      },
      "source": [
        "## What is IPython?\n",
        "\n",
        " IPython: an interactive command shell for Python (2001) by Fernando Perez\n",
        "* Enhanced Read-Eval-Print Loop (REPL) environment\n",
        "* Command tab-completion, color-highlighted error messages..\n",
        "* Basic Linux shell integration (cp, ls, rm…)\n",
        "* Great for plotting!\n",
        "* More information click _[ipython.org](http://ipython.org)_\n"
      ]
    },
    {
      "cell_type": "markdown",
      "metadata": {
        "id": "lWz4EJiZdHDo",
        "colab_type": "text"
      },
      "source": [
        "## Jupyter Notebook \n",
        "\n",
        "* Web interface to Python, introduced in 2015 \n",
        "* Rich text, improved graphical capabilities\n",
        "* Integrate many existing web libraries for data visualization\n",
        "* Allow to create and share documents that contain live code, equations, visualizations and explanatory text. \n",
        "* Interface with over 40 languages, such as R, Julia and Scala\n",
        "* This colab.research.google.com notebook is a Jupyter notebook\n",
        "[back to top](#top)\n",
        "\n",
        "\n"
      ]
    },
    {
      "cell_type": "markdown",
      "metadata": {
        "id": "krWd44XodHDp",
        "colab_type": "text"
      },
      "source": [
        "## Variables \n",
        "\n",
        "* Variable type is dynamically determined from the value it is assigned, no data type is declared\n",
        "* Assign meaningful variable names\n",
        "* Some keywords are reserved such as ‘print’, ‘assert’,  ‘while’, ‘lambda’, for, if. \n",
        "* A variable is assigned a value using the ‘=’ operator, example:   x = 3 which is read as \"the variable x is assigned the value of 3\"\n",
        "* Reference of [keywords](https://docs.python.org/2.5/ref/keywords.html)\n"
      ]
    },
    {
      "cell_type": "markdown",
      "metadata": {
        "id": "R7DyZUcJdHDp",
        "colab_type": "text"
      },
      "source": [
        "## Operators \n",
        "\n",
        "* Arithmetic operators +, -, *, /, // (integer division for  floating point numbers), ’**’ power\n",
        "* Boolean operators and, or and not\n",
        "* Comparison operators >, <, >= (greater or equal), <=\n",
        "* (less or equal), == equality\n",
        "\n"
      ]
    },
    {
      "cell_type": "markdown",
      "metadata": {
        "id": "DqzfTKX_dHDq",
        "colab_type": "text"
      },
      "source": [
        "**bold text**<a id='data-type'></a>\n",
        "## Built-in Data Types   \n",
        "<font color=blue>\n",
        "* [Number](#numbers)\n",
        "* [String](#string)\n",
        "* [List](#list)\n",
        "* [Tuple](#tuple)\n",
        "* [Dictionary](#dic)\n",
        "* [File](#file)    \n",
        " </font>\n",
        " [top](#top)"
      ]
    },
    {
      "cell_type": "markdown",
      "metadata": {
        "id": "KWM_ojx6dHDq",
        "colab_type": "text"
      },
      "source": [
        "<a id='numbers'></a>\n",
        "## Numbers"
      ]
    },
    {
      "cell_type": "code",
      "metadata": {
        "id": "_yOMyLthdHDr",
        "colab_type": "code",
        "colab": {}
      },
      "source": [
        "x = 3\n",
        "type(x)"
      ],
      "execution_count": 0,
      "outputs": []
    },
    {
      "cell_type": "code",
      "metadata": {
        "id": "R_hrkRhMdHDv",
        "colab_type": "code",
        "colab": {}
      },
      "source": [
        "y = 3.0\n",
        "type (y)"
      ],
      "execution_count": 0,
      "outputs": []
    },
    {
      "cell_type": "code",
      "metadata": {
        "id": "gbdT2LuGdHDx",
        "colab_type": "code",
        "colab": {}
      },
      "source": [
        "z='hello'\n",
        "type(z)"
      ],
      "execution_count": 0,
      "outputs": []
    },
    {
      "cell_type": "code",
      "metadata": {
        "id": "EnO7Vu1QdHD0",
        "colab_type": "code",
        "colab": {}
      },
      "source": [
        "int(3.3)"
      ],
      "execution_count": 0,
      "outputs": []
    },
    {
      "cell_type": "code",
      "metadata": {
        "id": "fvDUy7nIdHD3",
        "colab_type": "code",
        "colab": {}
      },
      "source": [
        "complex(3)"
      ],
      "execution_count": 0,
      "outputs": []
    },
    {
      "cell_type": "code",
      "metadata": {
        "id": "ys2eoOtddHD6",
        "colab_type": "code",
        "colab": {}
      },
      "source": [
        "import math"
      ],
      "execution_count": 0,
      "outputs": []
    },
    {
      "cell_type": "code",
      "metadata": {
        "id": "EzSyMKwidHD8",
        "colab_type": "code",
        "colab": {}
      },
      "source": [
        "abs(-3.3)"
      ],
      "execution_count": 0,
      "outputs": []
    },
    {
      "cell_type": "code",
      "metadata": {
        "id": "sqSaUXiwdHD-",
        "colab_type": "code",
        "colab": {}
      },
      "source": [
        "math.sin(60)"
      ],
      "execution_count": 0,
      "outputs": []
    },
    {
      "cell_type": "code",
      "metadata": {
        "id": "ZAzv0ophdHEA",
        "colab_type": "code",
        "colab": {}
      },
      "source": [
        "math.sqrt(25)"
      ],
      "execution_count": 0,
      "outputs": []
    },
    {
      "cell_type": "markdown",
      "metadata": {
        "id": "J2umh3-BT_80",
        "colab_type": "text"
      },
      "source": [
        "\n",
        " [top](#top) \n",
        " "
      ]
    },
    {
      "cell_type": "markdown",
      "metadata": {
        "id": "_XDWU4R-dHED",
        "colab_type": "text"
      },
      "source": [
        "<a id='string'></a>\n",
        "## Strings"
      ]
    },
    {
      "cell_type": "code",
      "metadata": {
        "id": "lRqQ2KwHdHEE",
        "colab_type": "code",
        "colab": {}
      },
      "source": [
        "my_str = 'Hello World'"
      ],
      "execution_count": 0,
      "outputs": []
    },
    {
      "cell_type": "code",
      "metadata": {
        "id": "4R7QI39sdHEG",
        "colab_type": "code",
        "colab": {}
      },
      "source": [
        "print(my_str); len(my_str)"
      ],
      "execution_count": 0,
      "outputs": []
    },
    {
      "cell_type": "code",
      "metadata": {
        "id": "W7x8SIXBdHEK",
        "colab_type": "code",
        "colab": {}
      },
      "source": [
        "len(my_str); print(len(my_str))"
      ],
      "execution_count": 0,
      "outputs": []
    },
    {
      "cell_type": "code",
      "metadata": {
        "id": "4zQd6w2odHEN",
        "colab_type": "code",
        "colab": {}
      },
      "source": [
        "#indexing starting at 0\n",
        "print(my_str[0]); print(my_str[1]); print(my_str[10])"
      ],
      "execution_count": 0,
      "outputs": []
    },
    {
      "cell_type": "code",
      "metadata": {
        "id": "sM7y1xrzdHEQ",
        "colab_type": "code",
        "colab": {}
      },
      "source": [
        "#string slicing\n",
        "print(my_str[1:4]); print(my_str[:]); print(my_str[1:])"
      ],
      "execution_count": 0,
      "outputs": []
    },
    {
      "cell_type": "code",
      "metadata": {
        "id": "jZ3WiHyQdHET",
        "colab_type": "code",
        "colab": {}
      },
      "source": [
        "#string split\n",
        "s1, s2 = my_str.split(); print(s1); print(s2)\n",
        "print(s1, s2)"
      ],
      "execution_count": 0,
      "outputs": []
    },
    {
      "cell_type": "code",
      "metadata": {
        "id": "TW0WIQredHEX",
        "colab_type": "code",
        "colab": {}
      },
      "source": [
        "#multiple line spanning\n",
        "multilines= \"\"\"This is a multi-line\n",
        "block of sample\n",
        " text\"\"\"\n",
        "print(multilines)\n"
      ],
      "execution_count": 0,
      "outputs": []
    },
    {
      "cell_type": "code",
      "metadata": {
        "id": "-2c8QnMTdHEb",
        "colab_type": "code",
        "colab": {}
      },
      "source": [
        "#string formatting\n",
        "text = \"%d pigs in the barn, I’ll %s and %s\" %(300,'huff','puff')\n",
        "print(text)"
      ],
      "execution_count": 0,
      "outputs": []
    },
    {
      "cell_type": "code",
      "metadata": {
        "id": "IhrNjeUHdHEd",
        "colab_type": "code",
        "colab": {}
      },
      "source": [
        "total= \"my share = %.5f, tip = %d\" %(24.5, 5.5)\n",
        "print(total)"
      ],
      "execution_count": 0,
      "outputs": []
    },
    {
      "cell_type": "code",
      "metadata": {
        "id": "-ys2Eo35dHEf",
        "colab_type": "code",
        "colab": {}
      },
      "source": [
        "#more string ops\n",
        "my_str=\"Hello World\"\n",
        "print(my_str.upper())\n",
        "print(my_str.isalpha())\n",
        "print(my_str[0].isalpha())\n",
        "a='12'\n",
        "print(a.isdigit())"
      ],
      "execution_count": 0,
      "outputs": []
    },
    {
      "cell_type": "markdown",
      "metadata": {
        "id": "6IIsIj52UFM_",
        "colab_type": "text"
      },
      "source": [
        "\n",
        " [top](#top) "
      ]
    },
    {
      "cell_type": "markdown",
      "metadata": {
        "id": "sYQs3O-6dHFb",
        "colab_type": "text"
      },
      "source": [
        "<a id='control'></a>\n",
        "## Control Structures \n",
        "<font color=blue>\n",
        "* if-else\n",
        "* for loops, while loops\n",
        "* break: jump out of the current loop\n",
        "* continue: jump to the top of next cycle within the loop\n",
        "* pass: do nothing \n",
        "</font> \n",
        "[top](#top)"
      ]
    },
    {
      "cell_type": "code",
      "metadata": {
        "id": "827UT2CkdHFb",
        "colab_type": "code",
        "colab": {}
      },
      "source": [
        "x = 500 \n",
        "if ( x >= 5 ):\n",
        "  print(x,\">= 5\")\n",
        "  print(\"Hi, greater than 5\")\n",
        "else:\n",
        "    print(x, \"< 5\")\n",
        "    "
      ],
      "execution_count": 0,
      "outputs": []
    },
    {
      "cell_type": "code",
      "metadata": {
        "id": "abujcdodh_uP",
        "colab_type": "code",
        "colab": {}
      },
      "source": [
        "\n",
        "for num in range(3):\n",
        "    print(num)"
      ],
      "execution_count": 0,
      "outputs": []
    },
    {
      "cell_type": "code",
      "metadata": {
        "id": "Lwml52WJiElb",
        "colab_type": "code",
        "colab": {}
      },
      "source": [
        "index=0\n",
        "while (index < 3):\n",
        "    print(index)\n",
        "    index = index + 2"
      ],
      "execution_count": 0,
      "outputs": []
    },
    {
      "cell_type": "markdown",
      "metadata": {
        "id": "gXpYbFSoiRoT",
        "colab_type": "text"
      },
      "source": [
        "Tip:\n",
        "Indentation: signifies code blocks"
      ]
    },
    {
      "cell_type": "code",
      "metadata": {
        "id": "RdEFIcNviMd2",
        "colab_type": "code",
        "colab": {}
      },
      "source": [
        "#prime numbers\n",
        "#We will use this in the exercises  -  don't ask why it is this way!\n",
        "n = 2\n",
        "while n < 10:\n",
        "    prime = True\n",
        "    for x in range(2,n):\n",
        "        if n % x == 0:\n",
        "            prime = False\n",
        "            break\n",
        "        if prime:\n",
        "            print(n, 'is a prime #  ')\n",
        "            pass\n",
        "        else:\n",
        "            n= n + 1\n",
        "            continue\n",
        "    n = n + 1"
      ],
      "execution_count": 0,
      "outputs": []
    },
    {
      "cell_type": "code",
      "metadata": {
        "id": "d_vg_-B_bkoP",
        "colab_type": "code",
        "colab": {}
      },
      "source": [
        "#Loops:  looping through a string\n",
        "# 'for' and 'in' are new keywords\n",
        "for x in \"banana\":\n",
        "  print(x)"
      ],
      "execution_count": 0,
      "outputs": []
    },
    {
      "cell_type": "code",
      "metadata": {
        "id": "MTMkGQhRcRl9",
        "colab_type": "code",
        "colab": {}
      },
      "source": [
        "for x in range(6):\n",
        "  print(x)"
      ],
      "execution_count": 0,
      "outputs": []
    },
    {
      "cell_type": "code",
      "metadata": {
        "id": "kYozUKhZchnq",
        "colab_type": "code",
        "colab": {}
      },
      "source": [
        "#range and increment by 3\n",
        "for x in range(2, 30, 3):\n",
        "  print(x) "
      ],
      "execution_count": 0,
      "outputs": []
    },
    {
      "cell_type": "markdown",
      "metadata": {
        "id": "_GSJRSDDdHEj",
        "colab_type": "text"
      },
      "source": [
        "<a id='list'></a>\n",
        "## Lists\n",
        "* Collection of data [ ]\n",
        "* Often used to store homogeneous values\n",
        "    * e.g., Numbers, names with the same data type\n",
        "* Members are accessed as strings\n",
        "* Mutable: modify in place without creating a new object\n"
      ]
    },
    {
      "cell_type": "code",
      "metadata": {
        "id": "kjuBDd2CdHEj",
        "colab_type": "code",
        "colab": {}
      },
      "source": [
        "my_list = [1,2,9,4]\n",
        "print(my_list)\n",
        "#how to find out the data type?\n",
        "type(my_list)"
      ],
      "execution_count": 0,
      "outputs": []
    },
    {
      "cell_type": "code",
      "metadata": {
        "id": "5RGeAbwqdHEm",
        "colab_type": "code",
        "colab": {}
      },
      "source": [
        "my_list2 = list(range(-4,10, 4))\n",
        "print(my_list2)"
      ],
      "execution_count": 0,
      "outputs": []
    },
    {
      "cell_type": "code",
      "metadata": {
        "id": "o_Kpc9EjdHEp",
        "colab_type": "code",
        "colab": {}
      },
      "source": [
        "# access list members by index \n",
        "# start at 0, end at n-1\n",
        "print(\"1st element =\", my_list[0])\n",
        "print(\"last element =\", my_list[3])"
      ],
      "execution_count": 0,
      "outputs": []
    },
    {
      "cell_type": "code",
      "metadata": {
        "id": "iEmUEwyYdHEr",
        "colab_type": "code",
        "colab": {}
      },
      "source": [
        "#Concatenate lists\n",
        "print(my_list + my_list)\n",
        "print(my_list *2)\n",
        "print(my_list *3)"
      ],
      "execution_count": 0,
      "outputs": []
    },
    {
      "cell_type": "code",
      "metadata": {
        "id": "on_o62WTdHEt",
        "colab_type": "code",
        "colab": {}
      },
      "source": [
        "# iterate list elements\n",
        "animals = ['dog','cat','horse']\n",
        "for name in animals:\n",
        "    print(name)"
      ],
      "execution_count": 0,
      "outputs": []
    },
    {
      "cell_type": "code",
      "metadata": {
        "id": "oVQvQrY8eUUp",
        "colab_type": "code",
        "colab": {}
      },
      "source": [
        "# enumarate\n",
        "cars = ['Ford','Chevy','Toyota']\n",
        "print(cars)\n",
        "cars2 = enumerate(cars)\n",
        "print(list(cars2))"
      ],
      "execution_count": 0,
      "outputs": []
    },
    {
      "cell_type": "code",
      "metadata": {
        "id": "iCKHMWDNdHEv",
        "colab_type": "code",
        "colab": {}
      },
      "source": [
        "\n",
        "for index, name in enumerate(cars):\n",
        "    print(index+1, name)"
      ],
      "execution_count": 0,
      "outputs": []
    },
    {
      "cell_type": "code",
      "metadata": {
        "id": "FJIrrjo4dHEx",
        "colab_type": "code",
        "colab": {}
      },
      "source": [
        "# modify list\n",
        "del my_list[0]; print(my_list)\n",
        "my_list.append(99); print(my_list)\n",
        "my_list.insert(1, 100); print(my_list)"
      ],
      "execution_count": 0,
      "outputs": []
    },
    {
      "cell_type": "code",
      "metadata": {
        "id": "Sbs8IVSfdHEy",
        "colab_type": "code",
        "colab": {}
      },
      "source": [
        "#some list fun\n",
        "\n",
        "my_list.sort(); print(my_list)\n",
        "my_list.reverse(); print(my_list)"
      ],
      "execution_count": 0,
      "outputs": []
    },
    {
      "cell_type": "code",
      "metadata": {
        "id": "NQUYj0__dHE1",
        "colab_type": "code",
        "colab": {}
      },
      "source": [
        "#more sorting\n",
        "my_list = ['cats', 'SHEEP','DOGS','horses']\n",
        "print(sorted(my_list, key=len))\n",
        "print(sorted(my_list))\n",
        "print(sorted(my_list, reverse=True))"
      ],
      "execution_count": 0,
      "outputs": []
    },
    {
      "cell_type": "code",
      "metadata": {
        "id": "U8d5KvgTdHE5",
        "colab_type": "code",
        "colab": {}
      },
      "source": [
        "sorted(my_list, key=len)"
      ],
      "execution_count": 0,
      "outputs": []
    },
    {
      "cell_type": "code",
      "metadata": {
        "id": "RzRA23WMdHE7",
        "colab_type": "code",
        "colab": {}
      },
      "source": [
        "# sort by lowercase\n",
        "sorted(my_list, key=str.lower)"
      ],
      "execution_count": 0,
      "outputs": []
    },
    {
      "cell_type": "code",
      "metadata": {
        "id": "300FFfyxdHE9",
        "colab_type": "code",
        "colab": {}
      },
      "source": [
        "#list comprehension [expr for var in list]\n",
        "my_list=[2,5,9,1]\n",
        "square = [x**2 for x in my_list]; print(\"square =\", square)\n",
        "large = [n for n in my_list if n >= 5]; print('large =',large)"
      ],
      "execution_count": 0,
      "outputs": []
    },
    {
      "cell_type": "markdown",
      "metadata": {
        "id": "bLOJ_PcVUKPj",
        "colab_type": "text"
      },
      "source": [
        "\n",
        " [top](#top) \n"
      ]
    },
    {
      "cell_type": "markdown",
      "metadata": {
        "id": "SHQYeFQadHE_",
        "colab_type": "text"
      },
      "source": [
        "<a id='tuple'></a>\n",
        "## Tuples\n",
        "\n",
        "  * Why Tuple?\n",
        "  * Processed faster than lists\n",
        "  * Sequence of a Tuple is protected\n",
        "  * Sequence unpacking\n",
        "\n",
        "Suprising Trait:\n",
        "\n",
        "Python tuples are immutable, but their values may change. This may happen when a tuple holds a reference to any mutable object, such as a list. ... It's clear that dum and dee refer to objects that are equal, but not to the same object.\n",
        "\n",
        "( [ On immutable but changing tuples](http://radar.oreilly.com/2014/10/python-tuples-immutable-but-potentially-changing.html))\n",
        "\n",
        "[Tutorial just on Python Tuples](https://www.tutorialspoint.com/python/python_tuples.htm)"
      ]
    },
    {
      "cell_type": "code",
      "metadata": {
        "id": "331x350XgbOG",
        "colab_type": "code",
        "colab": {}
      },
      "source": [
        "#empty tuples\n",
        "my_tup = ()\n",
        "print(my_tup)"
      ],
      "execution_count": 0,
      "outputs": []
    },
    {
      "cell_type": "code",
      "metadata": {
        "id": "PWELXBmJg0LR",
        "colab_type": "code",
        "colab": {}
      },
      "source": [
        "# you have to include a comma, even though there is only one value you have to include a comma, even though there is only one value\n",
        "tup1 = (50,);\n",
        "print(tup1)"
      ],
      "execution_count": 0,
      "outputs": []
    },
    {
      "cell_type": "code",
      "metadata": {
        "id": "nlgKsOibdHE_",
        "colab_type": "code",
        "colab": {}
      },
      "source": [
        "my_tup = (2, 8, 3, 1)\n",
        "print(my_tup)\n",
        "a,b,c,d = my_tup\n",
        "print(a, b, c, d)\n"
      ],
      "execution_count": 0,
      "outputs": []
    },
    {
      "cell_type": "code",
      "metadata": {
        "id": "d85nI5mKdHFD",
        "colab_type": "code",
        "colab": {}
      },
      "source": [
        "print(my_tup[0])"
      ],
      "execution_count": 0,
      "outputs": []
    },
    {
      "cell_type": "code",
      "metadata": {
        "id": "xhYi3QKSh7-Z",
        "colab_type": "code",
        "colab": {}
      },
      "source": [
        "#Spoiler:  look for error before running?\n",
        "tup = ('physics', 'chemistry', 1997, 2000);\n",
        "print(tup);\n",
        "del tup;\n",
        "print(\"After deleting tup : \");\n",
        "print(tup);\n"
      ],
      "execution_count": 0,
      "outputs": []
    },
    {
      "cell_type": "markdown",
      "metadata": {
        "id": "NyCpkyAXh21a",
        "colab_type": "text"
      },
      "source": [
        "Immutable?  Not?"
      ]
    },
    {
      "cell_type": "code",
      "metadata": {
        "id": "Iw50ZE55xwG_",
        "colab_type": "code",
        "colab": {}
      },
      "source": [
        "dum = ('1861-10-23', ['poetry', 'pretend-fight'])\n",
        "dee = ('1861-10-23', ['poetry', 'pretend-fight'])\n",
        "\n",
        "print(dum == dee)\n",
        "\n",
        "print(dum is dee)\n",
        "\n",
        "id(dum), id(dee)"
      ],
      "execution_count": 0,
      "outputs": []
    },
    {
      "cell_type": "code",
      "metadata": {
        "id": "l0RXAHIhyNBX",
        "colab_type": "code",
        "colab": {}
      },
      "source": [
        "t_doom = dum\n",
        "print(dum, t_doom)\n",
        "\n",
        "print(t_doom == dum)\n",
        "print(t_doom is dum)\n",
        "id(dum), id(t_doom)"
      ],
      "execution_count": 0,
      "outputs": []
    },
    {
      "cell_type": "code",
      "metadata": {
        "id": "TCIJtKzWzEQd",
        "colab_type": "code",
        "colab": {}
      },
      "source": [
        "skills = t_doom[1]\n",
        "print(skills)\n",
        "\n",
        "skills.append('rap')\n",
        "print(t_doom)\n",
        "\n",
        "print(dum)\n",
        "\n"
      ],
      "execution_count": 0,
      "outputs": []
    },
    {
      "cell_type": "code",
      "metadata": {
        "id": "23NrzRmr0LFf",
        "colab_type": "code",
        "colab": {}
      },
      "source": [
        "print(dum == dee)\n"
      ],
      "execution_count": 0,
      "outputs": []
    },
    {
      "cell_type": "markdown",
      "metadata": {
        "id": "la3gZrW6UNts",
        "colab_type": "text"
      },
      "source": [
        "\n",
        " [top](#top) "
      ]
    },
    {
      "cell_type": "markdown",
      "metadata": {
        "id": "7NHEdgtwdHFG",
        "colab_type": "text"
      },
      "source": [
        "<a id='dic'></a>\n",
        "## Dictionaries\n",
        "* List of key-value pairs { }\n",
        "* Unordered collections of objects, not indexed\n",
        "* Store objects in a random order to provide faster lookup\n",
        "* Data type are heterogeneous, unlike list\n",
        "* Element are accessed by a keyword, not index\n",
        "* Elements are mutable \n",
        "* dict = {\"key1”: value1,  “key2”: value2} \n",
        "\n",
        "[Tutorialspoint.com  on  Dictionaries](https://www.tutorialspoint.com/python/python_dictionary.htm)"
      ]
    },
    {
      "cell_type": "code",
      "metadata": {
        "id": "9gcG6o9NdHFG",
        "colab_type": "code",
        "colab": {}
      },
      "source": [
        "my_dict = {'cats': 4, 'dogs':2, 'sheep':3}\n",
        "print(my_dict)"
      ],
      "execution_count": 0,
      "outputs": []
    },
    {
      "cell_type": "code",
      "metadata": {
        "id": "ObA5EWGWdHFL",
        "colab_type": "code",
        "colab": {}
      },
      "source": [
        "print(my_dict[\"cats\"])"
      ],
      "execution_count": 0,
      "outputs": []
    },
    {
      "cell_type": "code",
      "metadata": {
        "id": "VNSCBGHSdHFN",
        "colab_type": "code",
        "colab": {}
      },
      "source": [
        "my_dict['horse'] = 3; print(sorted(my_dict))"
      ],
      "execution_count": 0,
      "outputs": []
    },
    {
      "cell_type": "code",
      "metadata": {
        "id": "sIfUBr5DdHFR",
        "colab_type": "code",
        "colab": {}
      },
      "source": [
        "print(my_dict.keys()); print(my_dict.values())\n",
        "print(sorted(my_dict.values()))\n"
      ],
      "execution_count": 0,
      "outputs": []
    },
    {
      "cell_type": "code",
      "metadata": {
        "id": "zsD9iVhudHFT",
        "colab_type": "code",
        "colab": {}
      },
      "source": [
        "for key, value in my_dict.items():\n",
        "    print(key, value)"
      ],
      "execution_count": 0,
      "outputs": []
    },
    {
      "cell_type": "markdown",
      "metadata": {
        "id": "cQLT2e0XUQ1J",
        "colab_type": "text"
      },
      "source": [
        "\n",
        " [top](#top) "
      ]
    },
    {
      "cell_type": "markdown",
      "metadata": {
        "id": "Rqz5LcVEdHFX",
        "colab_type": "text"
      },
      "source": [
        "<a id='file'></a>\n",
        "## Files\n",
        "* file open, close, read, write\n",
        "* file_handle = open(“file_name”, ‘mode’)\n",
        "    * Modes: \n",
        "    * a: append\n",
        "    * r: read only (error if not existing)\n",
        "    * w: write only\n",
        "    * r+: read/write (error if not existing)\n",
        "    * w+: read/write\n",
        "    * b: binary\n",
        "* Python has a built-in garbage collector\n",
        "* Object memory space is auto reclaimed once a file is no longer in use \n",
        "    "
      ]
    },
    {
      "cell_type": "code",
      "metadata": {
        "id": "Vyss2yB8ptAk",
        "colab_type": "code",
        "colab": {}
      },
      "source": [
        "if [ ! -f \"data.txt\" ]; then wget 'https:/! /raw.githubusercontent.com/lsuhpchelp/lbrnloniworkshop2018/master/day2_python/data.txt'; else echo 'file exists'; fi;"
      ],
      "execution_count": 0,
      "outputs": []
    },
    {
      "cell_type": "code",
      "metadata": {
        "id": "gV_4i_lqdHFX",
        "colab_type": "code",
        "colab": {}
      },
      "source": [
        "input = open('data.txt', 'r')\n",
        "content = input.read()\n",
        "input.close()\n",
        "print(content)"
      ],
      "execution_count": 0,
      "outputs": []
    },
    {
      "cell_type": "code",
      "metadata": {
        "id": "XhJGF4bRdHFZ",
        "colab_type": "code",
        "colab": {}
      },
      "source": [
        "#write to a file\n",
        "output = open('write.txt','w')\n",
        "output.write(\"Writing to a file\")\n",
        "output.close()\n",
        "!ls -l\n",
        "! cat write.txt\n"
      ],
      "execution_count": 0,
      "outputs": []
    },
    {
      "cell_type": "markdown",
      "metadata": {
        "id": "cFU44ybwUTuv",
        "colab_type": "text"
      },
      "source": [
        "\n",
        " [top](#top) "
      ]
    },
    {
      "cell_type": "markdown",
      "metadata": {
        "id": "8sIJ4A57dHFk",
        "colab_type": "text"
      },
      "source": [
        "<a id='module'> </a>\n",
        "## Functions\n",
        "def func_name(par1, par2,...): \n",
        "> body of code\n",
        "\n",
        "\n",
        " \n",
        "\n",
        "\n",
        "\n",
        " [top](#top)    \n",
        "    "
      ]
    },
    {
      "cell_type": "code",
      "metadata": {
        "id": "B5Hf5RZLdHFk",
        "colab_type": "code",
        "colab": {}
      },
      "source": [
        "#addition\n",
        "def my_add(x, y):\n",
        "    return x+y\n",
        "\n",
        "sum=my_add(3, 8); print(sum)"
      ],
      "execution_count": 0,
      "outputs": []
    },
    {
      "cell_type": "code",
      "metadata": {
        "id": "5lyjqDO4dHFm",
        "colab_type": "code",
        "colab": {}
      },
      "source": [
        "#return multiple values\n",
        "def power(input):\n",
        "    return input**2, input**3\n",
        "\n",
        "square, cube = power(3)\n",
        "print(\"square =\",square, \"cube =\",cube)"
      ],
      "execution_count": 0,
      "outputs": []
    },
    {
      "cell_type": "markdown",
      "metadata": {
        "id": "_73RPOcBdHFn",
        "colab_type": "text"
      },
      "source": [
        "<a id='module'> </a>\n",
        "## Python Module\n",
        "* A python script with python functions and statements\n",
        "* Import a module before having access to all the functions within\n",
        "* Most Python distributions come with plenty of build-in modules \n",
        "***\n"
      ]
    },
    {
      "cell_type": "markdown",
      "metadata": {
        "id": "h9s2tfPcdHFo",
        "colab_type": "text"
      },
      "source": [
        "\n",
        "## Python Modules\n",
        "* math, sys, os..\n",
        "* NumPy, high performance in vector & matrix using vector computation \n",
        "* SciPy: based on Numpy, including many scientific algorithms.\n",
        "* padas\n",
        "* matplotlib, pyplot, pylab\n",
        "\n",
        "Reference to [Python3.x standard libraries](https://docs.python.org/3/library/) \n"
      ]
    },
    {
      "cell_type": "code",
      "metadata": {
        "id": "H9NB_NcNdHFo",
        "colab_type": "code",
        "colab": {}
      },
      "source": [
        "#import a module\n",
        "import math\n",
        "math.sin(math.pi)"
      ],
      "execution_count": 0,
      "outputs": []
    },
    {
      "cell_type": "code",
      "metadata": {
        "id": "LZkg2iD_dHFq",
        "colab_type": "code",
        "colab": {}
      },
      "source": [
        "#get information of a module\n",
        "dir(math)"
      ],
      "execution_count": 0,
      "outputs": []
    },
    {
      "cell_type": "code",
      "metadata": {
        "id": "m2CnZMlldHFs",
        "colab_type": "code",
        "colab": {}
      },
      "source": [
        "#get information\n",
        "help(math)"
      ],
      "execution_count": 0,
      "outputs": []
    },
    {
      "cell_type": "code",
      "metadata": {
        "raw_mimetype": "text/x-python",
        "id": "fL7e1I0IdHFt",
        "colab_type": "code",
        "colab": {}
      },
      "source": [
        "# get information of a module function \n",
        "help(range)"
      ],
      "execution_count": 0,
      "outputs": []
    },
    {
      "cell_type": "markdown",
      "metadata": {
        "id": "vrDWNnt-dHFv",
        "colab_type": "text"
      },
      "source": [
        " * Examples using os, commands modules\n",
        " * os: includes many functions interacting with the file system \n"
      ]
    },
    {
      "cell_type": "code",
      "metadata": {
        "id": "Hn34Cqtu3Zku",
        "colab_type": "code",
        "colab": {}
      },
      "source": [
        "import os\n",
        "!ls \n",
        "os.listdir()\n"
      ],
      "execution_count": 0,
      "outputs": []
    },
    {
      "cell_type": "code",
      "metadata": {
        "id": "PVaDavH4dHFv",
        "colab_type": "code",
        "colab": {}
      },
      "source": [
        "\n",
        "def display_dir(dir):\n",
        "      files = os.listdir()\n",
        "      for fname in files:\n",
        "        print(fname)\n",
        "        print(os.path.abspath(os.path.join(dir, fname))) \n",
        "\n",
        "display_dir('/tmp')"
      ],
      "execution_count": 0,
      "outputs": []
    },
    {
      "cell_type": "markdown",
      "metadata": {
        "id": "zwaa9zsfUl6e",
        "colab_type": "text"
      },
      "source": [
        " [top](#top)"
      ]
    },
    {
      "cell_type": "markdown",
      "metadata": {
        "id": "zt4YHVYPdHGR",
        "colab_type": "text"
      },
      "source": [
        "#### Data processing\n"
      ]
    },
    {
      "cell_type": "code",
      "metadata": {
        "id": "vkXjWnr_dHGZ",
        "colab_type": "code",
        "colab": {}
      },
      "source": [
        "# Plot a bar chart\n",
        "import matplotlib.pyplot as plt\n",
        "\n",
        "\n",
        "xlabeles = ['January','February','March','April']\n",
        "xticks = [i for i in range(len(xlabeles))]\n",
        "y = [ 34, 17, 13, 69]\n",
        "e = [5.2, 10., 1.5, 12.]\n",
        "plt.errorbar(xlabeles, y, yerr=e, fmt='d', capsize=10)\n",
        "plt.bar(xlabeles, y, 0.5, color='red' )\n",
        "plt.title(\"Sale by Month\")\n",
        "plt.xlabel('Month')\n",
        "plt.ylabel('Sale')\n",
        "plt.xticks(xticks, xlabeles)\n",
        "\n",
        "plt.show()"
      ],
      "execution_count": 0,
      "outputs": []
    },
    {
      "cell_type": "markdown",
      "metadata": {
        "id": "z2hDr0HlUoNI",
        "colab_type": "text"
      },
      "source": [
        " [top](#top)"
      ]
    },
    {
      "cell_type": "markdown",
      "metadata": {
        "id": "z-YuCy6W7r_f",
        "colab_type": "text"
      },
      "source": [
        "# Examples:   Please solve the following problems:  (Feel free to ask for help)"
      ]
    },
    {
      "cell_type": "markdown",
      "metadata": {
        "id": "qjp7hzS47u0F",
        "colab_type": "text"
      },
      "source": [
        "Write a line of code to print the sum of 999 and 1600"
      ]
    },
    {
      "cell_type": "code",
      "metadata": {
        "id": "4ULjgwxwdHGe",
        "colab_type": "code",
        "colab": {}
      },
      "source": [
        ""
      ],
      "execution_count": 0,
      "outputs": []
    },
    {
      "cell_type": "markdown",
      "metadata": {
        "id": "656RSHJU8A6u",
        "colab_type": "text"
      },
      "source": [
        "Write a line of code to print out your \"Hello Name\" where Name is your name."
      ]
    },
    {
      "cell_type": "code",
      "metadata": {
        "id": "Jgz-6j7R8Lkl",
        "colab_type": "code",
        "colab": {}
      },
      "source": [
        ""
      ],
      "execution_count": 0,
      "outputs": []
    },
    {
      "cell_type": "markdown",
      "metadata": {
        "id": "yFuPURle7zqJ",
        "colab_type": "text"
      },
      "source": [
        "Write a code snippet to calculate the total of the shopping spree on Rodeo Dr. You bought:\n",
        "\n",
        "1 pair of shoes:  2400<br>\n",
        "1𝑝𝑎𝑖𝑟𝑜𝑓𝑠𝑙𝑎𝑐𝑘𝑠: 1500<br>\n",
        "ruby ring: 22000\n",
        "\n",
        "State and local tax is 22%.\n",
        "\n",
        "You want to print out the untaxed total, the amount of tax and the total of tax and goods."
      ]
    },
    {
      "cell_type": "code",
      "metadata": {
        "id": "pYMY_OUd73kz",
        "colab_type": "code",
        "colab": {}
      },
      "source": [
        ""
      ],
      "execution_count": 0,
      "outputs": []
    },
    {
      "cell_type": "markdown",
      "metadata": {
        "id": "m4IW9ndv74e4",
        "colab_type": "text"
      },
      "source": [
        "\n",
        "\n",
        "```\n",
        "```\n",
        "\n",
        "Rewrite the code you wrote above make the tax calculation a function block and the shopping total a function block.   Write a complete program and run it."
      ]
    },
    {
      "cell_type": "code",
      "metadata": {
        "id": "N6o9yVbt778T",
        "colab_type": "code",
        "colab": {}
      },
      "source": [
        ""
      ],
      "execution_count": 0,
      "outputs": []
    },
    {
      "cell_type": "markdown",
      "metadata": {
        "id": "g-O1_Ffa78wV",
        "colab_type": "text"
      },
      "source": [
        "**Create a leap year finder based on the following algorithm:\n",
        "\n",
        "Leap years occur according to the following formula: a leap year is divisible by four, but not by one hundred, unless it is divisible by four hundred. For example, 1992, 1996, and 2000 are leap years, but 1993 and 1900 are not. The next leap year that falls on a century will be 2400.\n",
        "\n",
        "Use the following list to check and see if your code is correct.  The list of leap years from 1900 to 2400 inclusive is:\n",
        "\n",
        "1904, 1908, 1912, 1916, 1920, 1924, 1928, 1932, 1936, 1940, 1944, 1948, 1952, 1956, 1960, 1964, 1968, 1972, 1976, 1980, 1984, 1988, 1992, 1996, 2000, 2004, 2008, 2012, 2016, 2020"
      ]
    },
    {
      "cell_type": "code",
      "metadata": {
        "id": "h0JhVFbH8g6h",
        "colab_type": "code",
        "colab": {}
      },
      "source": [
        "#Find leap years:\n",
        "#\n",
        "#Logic: leap year is exactly divisible by 4 except for century years (years ending with 00). The century year is a leap year only if it is perfectly divisible by 400. \n",
        "\n",
        "# To get year (integer input) from the user\n",
        "# year = int(input)\n",
        "#  Warn user:   print(\"{0} is not a leap year\".format(year))\n"
      ],
      "execution_count": 0,
      "outputs": []
    },
    {
      "cell_type": "markdown",
      "metadata": {
        "id": "6W1d-2RS0pp-",
        "colab_type": "text"
      },
      "source": [
        "Using the code in the prime number example in the Control Structures section fix the code so it only prints out each prime number once."
      ]
    },
    {
      "cell_type": "code",
      "metadata": {
        "id": "laSeZK3R0oHZ",
        "colab_type": "code",
        "colab": {}
      },
      "source": [
        ""
      ],
      "execution_count": 0,
      "outputs": []
    },
    {
      "cell_type": "markdown",
      "metadata": {
        "id": "ytwnosgAUuz9",
        "colab_type": "text"
      },
      "source": [
        " [top](#top)"
      ]
    }
  ]
}