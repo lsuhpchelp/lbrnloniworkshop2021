{
 "cells": [
  {
   "cell_type": "markdown",
   "metadata": {
    "colab_type": "text",
    "id": "view-in-github"
   },
   "source": [
    "<a href=\"https://colab.research.google.com/github/lsuhpchelp/lbrnloniworkshop2021/blob/master/day4/numpy_warmup_exer.ipynb\" target=\"_parent\"><img src=\"https://colab.research.google.com/assets/colab-badge.svg\" alt=\"Open In Colab\"/></a>"
   ]
  },
  {
   "cell_type": "code",
   "execution_count": null,
   "metadata": {
    "colab": {},
    "colab_type": "code",
    "id": "8UqjNabksdrD"
   },
   "outputs": [],
   "source": [
    "from __future__ import print_function\n",
    "import numpy as np"
   ]
  },
  {
   "cell_type": "markdown",
   "metadata": {
    "colab_type": "text",
    "id": "moft_pMusdrL"
   },
   "source": [
    "# Warm-up Exercise for Numpy"
   ]
  },
  {
   "cell_type": "markdown",
   "metadata": {
    "colab_type": "text",
    "id": "PWibTAqRsdrN"
   },
   "source": [
    "#### Create a 1D array of numbers from 0 to 9\n",
    "\n",
    "- Desired output:\n",
    "\n",
    "> `[0 1 2 3 4 5 6 7 8 9]`"
   ]
  },
  {
   "cell_type": "code",
   "execution_count": null,
   "metadata": {
    "colab": {
     "base_uri": "https://localhost:8080/",
     "height": 33
    },
    "colab_type": "code",
    "id": "ARM2TemzsdrO",
    "outputId": "ef92268d-e4c7-4169-b9ad-7f369f699087"
   },
   "outputs": [],
   "source": [
    "\n",
    "print(arr)"
   ]
  },
  {
   "cell_type": "markdown",
   "metadata": {
    "colab_type": "text",
    "id": "N8gynHpPsdrT"
   },
   "source": [
    "#### Convert the above 1D array to a 2D array with 2 rows\n",
    "\n",
    "- Desired output:\n",
    "\n",
    "```\n",
    "> [[0 1 2 3 4]\n",
    "   [5 6 7 8 9]]\n",
    " ```"
   ]
  },
  {
   "cell_type": "code",
   "execution_count": null,
   "metadata": {
    "colab": {
     "base_uri": "https://localhost:8080/",
     "height": 33
    },
    "colab_type": "code",
    "id": "v6gEGTz6sdrU",
    "outputId": "6f0c5239-9e94-48e3-fa96-e7388a77991b"
   },
   "outputs": [],
   "source": [
    "\n",
    "print(arr)"
   ]
  },
  {
   "cell_type": "markdown",
   "metadata": {
    "colab_type": "text",
    "id": "himJOppusdrZ"
   },
   "source": [
    "#### Calculate the square of a 1D vector, then reshape it to a column vector\n",
    "\n",
    "- Desired output:\n",
    "\n",
    "```\n",
    "[0 1 2 3 4]\n",
    "[ 0  1  4  9 16]\n",
    "[[ 0]\n",
    " [ 1]\n",
    " [ 4]\n",
    " [ 9]\n",
    " [16]]\n",
    " ```"
   ]
  },
  {
   "cell_type": "code",
   "execution_count": null,
   "metadata": {
    "colab": {
     "base_uri": "https://localhost:8080/",
     "height": 245
    },
    "colab_type": "code",
    "id": "Q3225D4Ysdrd",
    "outputId": "2bfa723f-3565-4e89-816e-f08b1b215a75"
   },
   "outputs": [],
   "source": [
    "a = np.arange(5)\n",
    "print(a)\n",
    "\n",
    "print(a2)\n",
    "\n",
    "print(a2)"
   ]
  },
  {
   "cell_type": "markdown",
   "metadata": {
    "colab_type": "text",
    "id": "njC4cbl5sdrh"
   },
   "source": [
    "#### Suppose in an experiment, there are two variables x (from 1 to 5) and y (from 2 to 4), using numpy's broadcasting to calculate the matrix of all combinations of `x^2 + y` \n",
    "\n",
    "- Desired output:\n",
    "\n",
    "\n",
    ">\n",
    "```\n",
    "[[ 3  4  5]\n",
    " [ 6  7  8]\n",
    " [11 12 13]\n",
    " [18 19 20]\n",
    " [27 28 29]]\n",
    " ```"
   ]
  },
  {
   "cell_type": "code",
   "execution_count": null,
   "metadata": {
    "colab": {},
    "colab_type": "code",
    "id": "zAdpTu43sdri"
   },
   "outputs": [],
   "source": [
    "x = np.arange(1,6).reshape(-1,1)\n",
    "print(x)\n",
    "y = np.arange(2,5)\n",
    "print(y)\n",
    "\n",
    "print(z)"
   ]
  },
  {
   "cell_type": "markdown",
   "metadata": {
    "colab_type": "text",
    "id": "cje4oMbusdrm"
   },
   "source": [
    "#### Sum the rows and columns of the above matrix using Numpy's aggregation function\n",
    "\n",
    "- Desired output:\n",
    "\n",
    "> \n",
    "```\n",
    "[65 70 75]\n",
    "[12 21 36 57 84]\n",
    "```"
   ]
  },
  {
   "cell_type": "code",
   "execution_count": null,
   "metadata": {
    "colab": {},
    "colab_type": "code",
    "id": "m4lTMcPXsdro"
   },
   "outputs": [],
   "source": [
    "\n",
    "print(row_sum)\n",
    "\n",
    "print(col_sum)"
   ]
  },
  {
   "cell_type": "markdown",
   "metadata": {
    "colab_type": "text",
    "id": "bD6vRpoSsdrt"
   },
   "source": [
    "#### In Numpy, matrix multiplication is done using the dot() function, verify the matrix multiplication result by writing for loops:\n",
    "\n",
    "Hint: (you only need to complete the below equation in the nested for loop)\n",
    "\n",
    "$$cc_{i,j} =\\sum_{k=1}^{nca} a_{i,k}b_{k,j} $$\n",
    "\n",
    "For Matrix multiplication, you can refer to the wiki link to recall the basics:\n",
    "\n",
    "https://en.wikipedia.org/wiki/Matrix_multiplication#Definition\n",
    "\n",
    "\n",
    "- Desired output:\n",
    "\n",
    "```\n",
    "a=\n",
    " [[0 1 2 3 4]\n",
    " [5 6 7 8 9]]\n",
    "b=\n",
    " [[0 1]\n",
    " [2 3]\n",
    " [4 5]\n",
    " [6 7]\n",
    " [8 9]]\n",
    "Using numpy's dot function: c=\n",
    " [[ 60  70]\n",
    " [160 195]]\n",
    "Verified results using for loop: cc=\n",
    " [[ 60  70]\n",
    " [160 195]]\n",
    " ```"
   ]
  },
  {
   "cell_type": "code",
   "execution_count": null,
   "metadata": {
    "colab": {
     "base_uri": "https://localhost:8080/",
     "height": 268
    },
    "colab_type": "code",
    "id": "D32K6zRlsdru",
    "outputId": "7fa0d14e-b0e9-4d47-c53b-d8b12deddc1b"
   },
   "outputs": [],
   "source": [
    "nra = 2\n",
    "nca = 5\n",
    "ncb = 2\n",
    "a = np.arange(nra*nca).reshape(nra,-1)\n",
    "b = np.arange(nra*nca).reshape(-1,ncb)\n",
    "print(\"a=\\n\",a)\n",
    "print(\"b=\\n\",b)\n",
    "c = a.dot(b)\n",
    "print(\"Using numpy's dot function: c=\\n\",c)\n",
    "cc = np.zeros_like(c)\n",
    "\n",
    "# complete the naive for loop below:\n",
    "for i in np.arange(nra):\n",
    "    for j in np.arange(ncb):\n",
    "        cc[i,j] = 0\n",
    "        for k in np.arange(nca):\n",
    "            # TODO: complete this line\n",
    "            pass\n",
    "print(\"Verified results using for loop: cc=\\n\",cc)"
   ]
  },
  {
   "cell_type": "markdown",
   "metadata": {
    "colab_type": "text",
    "id": "MkqonkYTsxMg"
   },
   "source": [
    "#### Calculate the min, max and mean brain weight and body weight of a dataset\n",
    "\n",
    "In the demo notebook, we loaded the data from \"data.txt\" into a numpy array a, The 3 data columns include:\n",
    "1.  the index,\n",
    "1.  the brain weight;\n",
    "1. the body weight.\n",
    "\n",
    "Index 1-5 (row 1-5) are training set, index 6-9 (row 6-9) are test set\n",
    "\n",
    "Calculate \n",
    "\n",
    "1. min, max and mean brain weight for training set \n",
    "\n",
    "2. min, max and mean body weight for test set \n",
    "\n",
    "\n",
    "Note that you should ***not*** use a for loop to complete this."
   ]
  },
  {
   "cell_type": "code",
   "execution_count": null,
   "metadata": {
    "colab": {
     "base_uri": "https://localhost:8080/",
     "height": 669
    },
    "colab_type": "code",
    "id": "JJr22dXfswQS",
    "outputId": "78b40d11-2cf7-477f-c047-6909b1be3cc9"
   },
   "outputs": [],
   "source": [
    "# download the file to local virtual machine\n",
    "! if [ ! -f \"data.txt\" ]; then wget 'https://raw.githubusercontent.com/lsuhpchelp/lbrnloniworkshop2019/master/day2_python/data.txt'; else echo 'file exists'; fi;\n",
    "! cat data.txt # uncomment if you want to take a look at the data\n",
    "txtfile = 'data.txt'\n",
    "a = np.loadtxt(txtfile,skiprows=16,usecols={0,1,2},dtype=None,comments=\"#\")\n",
    "print(\"\\nloaded data:\\n\", a)"
   ]
  },
  {
   "cell_type": "code",
   "execution_count": null,
   "metadata": {
    "colab": {
     "base_uri": "https://localhost:8080/",
     "height": 84
    },
    "colab_type": "code",
    "id": "HRhXNB_Ws7vp",
    "outputId": "d443fa54-3575-4a1c-f66a-a76b3d8ba1bb"
   },
   "outputs": [],
   "source": [
    "train_min_brain_weight = 0 # complete the 3 calcs using numpy's aggregation and slicing\n",
    "train_max_brain_weight = 0\n",
    "train_avg_brain_weight = 0\n",
    "print(\"training set, brain weight statistics:\")\n",
    "print(\"Min=\",train_min_brain_weight)\n",
    "print(\"Max=\",train_max_brain_weight)\n",
    "print(\"Mean={:.2f}\".format(train_avg_brain_weight))"
   ]
  },
  {
   "cell_type": "code",
   "execution_count": null,
   "metadata": {
    "colab": {
     "base_uri": "https://localhost:8080/",
     "height": 84
    },
    "colab_type": "code",
    "id": "W52xp_yYsdrz",
    "outputId": "8a5623e8-5d33-42a2-a507-9cce89f5ff17"
   },
   "outputs": [],
   "source": [
    "test_min_body_weight = 0 # complete the 3 calcs using numpy's aggregation and slicing\n",
    "test_max_body_weight = 0\n",
    "test_avg_body_weight = 0\n",
    "print(\"test set, body weight statistics:\")\n",
    "print(\"Min=\",test_min_body_weight)\n",
    "print(\"Max=\",test_max_body_weight)\n",
    "print(\"Mean={:.2f}\".format(test_avg_body_weight))"
   ]
  },
  {
   "cell_type": "code",
   "execution_count": null,
   "metadata": {
    "colab": {},
    "colab_type": "code",
    "id": "jDwarZyNtVuX"
   },
   "outputs": [],
   "source": []
  }
 ],
 "metadata": {
  "colab": {
   "include_colab_link": true,
   "name": "numpy_warmup_exer.ipynb",
   "provenance": [],
   "version": "0.3.2"
  },
  "kernelspec": {
   "display_name": "Python 3",
   "language": "python",
   "name": "python3"
  },
  "language_info": {
   "codemirror_mode": {
    "name": "ipython",
    "version": 3
   },
   "file_extension": ".py",
   "mimetype": "text/x-python",
   "name": "python",
   "nbconvert_exporter": "python",
   "pygments_lexer": "ipython3",
   "version": "3.6.4"
  }
 },
 "nbformat": 4,
 "nbformat_minor": 1
}
