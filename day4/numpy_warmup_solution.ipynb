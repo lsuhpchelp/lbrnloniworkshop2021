{
 "cells": [
  {
   "cell_type": "markdown",
   "metadata": {
    "colab_type": "text",
    "id": "view-in-github"
   },
   "source": [
    "<a href=\"https://colab.research.google.com/github/lsuhpchelp/lbrnloniworkshop2021/blob/master/day4/numpy_warmup_solution.ipynb\" target=\"_parent\"><img src=\"https://colab.research.google.com/assets/colab-badge.svg\" alt=\"Open In Colab\"/></a>"
   ]
  },
  {
   "cell_type": "code",
   "execution_count": null,
   "metadata": {
    "colab": {},
    "colab_type": "code",
    "id": "TCG-MDuVxUPu"
   },
   "outputs": [],
   "source": [
    "from __future__ import print_function\n",
    "import numpy as np"
   ]
  },
  {
   "cell_type": "markdown",
   "metadata": {
    "colab_type": "text",
    "id": "cN-U2U8SxUP6"
   },
   "source": [
    "# Warm-up Exercise for Numpy (Solution)"
   ]
  },
  {
   "cell_type": "markdown",
   "metadata": {
    "colab_type": "text",
    "id": "wAkJOFkOxUP8"
   },
   "source": [
    "#### Create a 1D array of numbers from 0 to 9\n",
    "\n",
    "- Desired output:\n",
    "\n",
    "> `[0 1 2 3 4 5 6 7 8 9]`"
   ]
  },
  {
   "cell_type": "code",
   "execution_count": null,
   "metadata": {
    "colab": {
     "base_uri": "https://localhost:8080/",
     "height": 33
    },
    "colab_type": "code",
    "id": "0heujcijxUP9",
    "outputId": "0b447ce5-e240-48eb-bff0-3802ea1977a8"
   },
   "outputs": [],
   "source": [
    "arr = np.arange(10)\n",
    "print(arr)"
   ]
  },
  {
   "cell_type": "markdown",
   "metadata": {
    "colab_type": "text",
    "id": "lLmePbtfxUQA"
   },
   "source": [
    "#### Convert the above 1D array to a 2D array with 2 rows\n",
    "\n",
    "- Desired output:\n",
    "\n",
    "```\n",
    "[[0 1 2 3 4]\n",
    " [5 6 7 8 9]]\n",
    " ```"
   ]
  },
  {
   "cell_type": "code",
   "execution_count": null,
   "metadata": {
    "colab": {
     "base_uri": "https://localhost:8080/",
     "height": 50
    },
    "colab_type": "code",
    "id": "3MC6Ij6mxUQB",
    "outputId": "14ac481c-a0e6-42b7-f45e-aec60feb9d3c"
   },
   "outputs": [],
   "source": [
    "arr = arr.reshape(2,-1)\n",
    "print(arr)"
   ]
  },
  {
   "cell_type": "markdown",
   "metadata": {
    "colab_type": "text",
    "id": "h9kPHkr9xUQE"
   },
   "source": [
    "#### Calculate the square of a 1D vector, then reshape it to a column vector\n",
    "\n",
    "- Desired output:\n",
    "\n",
    "```\n",
    "[0 1 2 3 4]\n",
    "[ 0  1  4  9 16]\n",
    "[[ 0]\n",
    " [ 1]\n",
    " [ 4]\n",
    " [ 9]\n",
    " [16]]\n",
    " ```"
   ]
  },
  {
   "cell_type": "code",
   "execution_count": null,
   "metadata": {
    "colab": {
     "base_uri": "https://localhost:8080/",
     "height": 134
    },
    "colab_type": "code",
    "id": "fT2tE-C3xUQG",
    "outputId": "526c6863-582b-4003-8a06-02e8d7a695f2"
   },
   "outputs": [],
   "source": [
    "a = np.arange(5)\n",
    "print(a)\n",
    "a2 = a**2\n",
    "print(a2)\n",
    "a2 = a2.reshape(-1,1)\n",
    "print(a2)"
   ]
  },
  {
   "cell_type": "markdown",
   "metadata": {
    "colab_type": "text",
    "id": "vu2WsDS6xUQO"
   },
   "source": [
    "#### Suppose in an experiment, there are two variables x (from 1 to 5) and y (from 2 to 4), using numpy's broadcasting to calculate the matrix of all combinations of `x^2 + y` \n",
    "\n",
    "- Desired output:\n",
    "\n",
    "```\n",
    "[[ 3  4  5]\n",
    " [ 6  7  8]\n",
    " [11 12 13]\n",
    " [18 19 20]\n",
    " [27 28 29]]\n",
    " ```"
   ]
  },
  {
   "cell_type": "code",
   "execution_count": null,
   "metadata": {
    "colab": {
     "base_uri": "https://localhost:8080/",
     "height": 201
    },
    "colab_type": "code",
    "id": "e_pawOwpxUQP",
    "outputId": "c689964a-29e8-4c4c-e400-41d534da86be"
   },
   "outputs": [],
   "source": [
    "x = np.arange(1,6).reshape(-1,1)\n",
    "print(x)\n",
    "y = np.arange(2,5)\n",
    "print(y)\n",
    "z = x**2 + y\n",
    "print(z)"
   ]
  },
  {
   "cell_type": "markdown",
   "metadata": {
    "colab_type": "text",
    "id": "E6zw95gexUQU"
   },
   "source": [
    "#### Sum the rows and columns of the above matrix using Numpy's aggregation function\n",
    "\n",
    "- Desired output:\n",
    "\n",
    "```\n",
    "[65 70 75]\n",
    "[12 21 36 57 84]\n",
    "```"
   ]
  },
  {
   "cell_type": "code",
   "execution_count": null,
   "metadata": {
    "colab": {
     "base_uri": "https://localhost:8080/",
     "height": 50
    },
    "colab_type": "code",
    "id": "GYnxEi67xUQW",
    "outputId": "59a52106-f158-418d-aaab-beb3aee30ff6"
   },
   "outputs": [],
   "source": [
    "row_sum = z.sum(axis=0)\n",
    "print(row_sum)\n",
    "col_sum = z.sum(axis=1)\n",
    "print(col_sum)"
   ]
  },
  {
   "cell_type": "markdown",
   "metadata": {
    "colab_type": "text",
    "id": "6S3CnJFbxUQe"
   },
   "source": [
    "#### In Numpy, matrix multiplication is done using the dot() function, verify the matrix multiplication result by writing for loops:\n",
    "\n",
    "Hint: (you only need to complete the below equation in the nested for loop)\n",
    "\n",
    "$$cc_{i,j} =\\sum_{k=1}^{nca} a_{i,k}b_{k,j} $$\n",
    "\n",
    "For Matrix multiplication, you can refer to the wiki link to recall the basics:\n",
    "\n",
    "https://en.wikipedia.org/wiki/Matrix_multiplication#Definition\n",
    "\n",
    "- Desired output:\n",
    "\n",
    "```\n",
    "a=\n",
    " [[0 1 2 3 4]\n",
    " [5 6 7 8 9]]\n",
    "b=\n",
    " [[0 1]\n",
    " [2 3]\n",
    " [4 5]\n",
    " [6 7]\n",
    " [8 9]]\n",
    "Using numpy's dot function: c=\n",
    " [[ 60  70]\n",
    " [160 195]]\n",
    "Verified results using for loop: cc=\n",
    " [[ 60  70]\n",
    " [160 195]]\n",
    " ```"
   ]
  },
  {
   "cell_type": "code",
   "execution_count": null,
   "metadata": {
    "colab": {
     "base_uri": "https://localhost:8080/",
     "height": 268
    },
    "colab_type": "code",
    "id": "1tRT3h7mxUQf",
    "outputId": "f5e2a95f-ba12-4d9f-eaf4-a699308975ff"
   },
   "outputs": [],
   "source": [
    "nra = 2\n",
    "nca = 5\n",
    "ncb = 2\n",
    "a = np.arange(nra*nca).reshape(nra,-1)\n",
    "b = np.arange(nra*nca).reshape(-1,ncb)\n",
    "print(\"a=\\n\",a)\n",
    "print(\"b=\\n\",b)\n",
    "c = a.dot(b)\n",
    "print(\"Using numpy's dot function: c=\\n\",c)\n",
    "cc = np.zeros_like(c)\n",
    "\n",
    "# complete the vanilla version of matrix multiplication using for loop below:\n",
    "for i in np.arange(nra):\n",
    "    for j in np.arange(ncb):\n",
    "        cc[i,j] = 0\n",
    "        for k in np.arange(nca):\n",
    "            cc[i,j] += a[i,k]*b[k,j]\n",
    "print(\"Verified results using for loop: cc=\\n\",cc)"
   ]
  },
  {
   "cell_type": "markdown",
   "metadata": {
    "colab_type": "text",
    "id": "ofCipo7ViUMw"
   },
   "source": [
    "#### Calculate the min, max and mean brain weight and body weight of a dataset\n",
    "\n",
    "In the demo notebook, we loaded the data from \"data.txt\" into a numpy array a, The 3 data columns include:\n",
    "1.  the index,\n",
    "1.  the brain weight;\n",
    "1. the body weight.\n",
    "\n",
    "Index 1-5 (row 1-5) are training set, index 6-9 (row 6-9) are test set\n",
    "\n",
    "Calculate \n",
    "\n",
    "1. min, max and mean brain weight for training set \n",
    "\n",
    "2. min, max and mean body weight for test set \n",
    "\n",
    "\n",
    "Note that you should not use a for loop to complete this."
   ]
  },
  {
   "cell_type": "code",
   "execution_count": null,
   "metadata": {
    "colab": {
     "base_uri": "https://localhost:8080/",
     "height": 669
    },
    "colab_type": "code",
    "id": "ZCd0C8KBiS2-",
    "outputId": "5cc766a3-4ad3-4f39-bb89-e4a236455263"
   },
   "outputs": [],
   "source": [
    "# download the file to local virtual machine\n",
    "! if [ ! -f \"data.txt\" ]; then wget 'https://raw.githubusercontent.com/lsuhpchelp/lbrnloniworkshop2019/master/day2_python/data.txt'; else echo 'file exists'; fi;\n",
    "! cat data.txt # uncomment if you want to take a look at the data\n",
    "txtfile = 'data.txt'\n",
    "a = np.loadtxt(txtfile,skiprows=16,usecols={0,1,2},dtype=None,comments=\"#\")\n",
    "print(\"\\nloaded data:\\n\", a)"
   ]
  },
  {
   "cell_type": "code",
   "execution_count": null,
   "metadata": {
    "colab": {
     "base_uri": "https://localhost:8080/",
     "height": 84
    },
    "colab_type": "code",
    "id": "5iad_tztkNMn",
    "outputId": "acf545e7-0bc5-4337-a3b8-8cdd8ab8b535"
   },
   "outputs": [],
   "source": [
    "train_min_brain_weight = np.min(a[0:5,1],axis=0)\n",
    "train_max_brain_weight = np.max(a[0:5,1],axis=0)\n",
    "train_avg_brain_weight = np.mean(a[0:5,1],axis=0)\n",
    "print(\"training set, brain weight statistics:\")\n",
    "print(\"Min=\",train_min_brain_weight)\n",
    "print(\"Max=\",train_max_brain_weight)\n",
    "print(\"Mean={:.2f}\".format(train_avg_brain_weight))"
   ]
  },
  {
   "cell_type": "code",
   "execution_count": null,
   "metadata": {
    "colab": {
     "base_uri": "https://localhost:8080/",
     "height": 84
    },
    "colab_type": "code",
    "id": "jmIP5kisofY_",
    "outputId": "5abcd997-d905-4c62-c421-63976e6ae256"
   },
   "outputs": [],
   "source": [
    "test_min_body_weight = np.min(a[5:9,2],axis=0)\n",
    "test_max_body_weight = np.max(a[5:9,2],axis=0)\n",
    "test_avg_body_weight = np.mean(a[5:9,2],axis=0)\n",
    "print(\"test set, body weight statistics:\")\n",
    "print(\"Min=\",test_min_body_weight)\n",
    "print(\"Max=\",test_max_body_weight)\n",
    "print(\"Mean={:.2f}\".format(test_avg_body_weight))"
   ]
  },
  {
   "cell_type": "code",
   "execution_count": null,
   "metadata": {
    "colab": {},
    "colab_type": "code",
    "id": "pN1VCYNWp7Z0"
   },
   "outputs": [],
   "source": []
  }
 ],
 "metadata": {
  "colab": {
   "collapsed_sections": [],
   "include_colab_link": true,
   "name": "numpy_warmup_solution.ipynb",
   "provenance": [],
   "version": "0.3.2"
  },
  "kernelspec": {
   "display_name": "Python 3",
   "language": "python",
   "name": "python3"
  },
  "language_info": {
   "codemirror_mode": {
    "name": "ipython",
    "version": 3
   },
   "file_extension": ".py",
   "mimetype": "text/x-python",
   "name": "python",
   "nbconvert_exporter": "python",
   "pygments_lexer": "ipython3",
   "version": "3.6.4"
  }
 },
 "nbformat": 4,
 "nbformat_minor": 1
}
